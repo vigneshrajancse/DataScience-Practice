{
 "cells": [
  {
   "cell_type": "code",
   "execution_count": 38,
   "metadata": {},
   "outputs": [],
   "source": [
    "import pandas as pd\n",
    "import matplotlib.pyplot as plt\n",
    "import seaborn as sns\n",
    "import numpy as np"
   ]
  },
  {
   "cell_type": "code",
   "execution_count": 39,
   "metadata": {},
   "outputs": [],
   "source": [
    "df=pd.read_csv('Property_stolen_and_recovered.csv')"
   ]
  },
  {
   "cell_type": "code",
   "execution_count": 40,
   "metadata": {},
   "outputs": [
    {
     "data": {
      "text/html": [
       "<div>\n",
       "<style scoped>\n",
       "    .dataframe tbody tr th:only-of-type {\n",
       "        vertical-align: middle;\n",
       "    }\n",
       "\n",
       "    .dataframe tbody tr th {\n",
       "        vertical-align: top;\n",
       "    }\n",
       "\n",
       "    .dataframe thead th {\n",
       "        text-align: right;\n",
       "    }\n",
       "</style>\n",
       "<table border=\"1\" class=\"dataframe\">\n",
       "  <thead>\n",
       "    <tr style=\"text-align: right;\">\n",
       "      <th></th>\n",
       "      <th>Area_Name</th>\n",
       "      <th>Year</th>\n",
       "      <th>Group_Name</th>\n",
       "      <th>Sub_Group_Name</th>\n",
       "      <th>Cases_Property_Recovered</th>\n",
       "      <th>Cases_Property_Stolen</th>\n",
       "      <th>Value_of_Property_Recovered</th>\n",
       "      <th>Value_of_Property_Stolen</th>\n",
       "    </tr>\n",
       "  </thead>\n",
       "  <tbody>\n",
       "    <tr>\n",
       "      <th>0</th>\n",
       "      <td>Andaman &amp; Nicobar Islands</td>\n",
       "      <td>2001</td>\n",
       "      <td>Burglary - Property</td>\n",
       "      <td>3. Burglary</td>\n",
       "      <td>27</td>\n",
       "      <td>64</td>\n",
       "      <td>755858</td>\n",
       "      <td>1321961</td>\n",
       "    </tr>\n",
       "    <tr>\n",
       "      <th>1</th>\n",
       "      <td>Andhra Pradesh</td>\n",
       "      <td>2001</td>\n",
       "      <td>Burglary - Property</td>\n",
       "      <td>3. Burglary</td>\n",
       "      <td>3321</td>\n",
       "      <td>7134</td>\n",
       "      <td>51483437</td>\n",
       "      <td>147019348</td>\n",
       "    </tr>\n",
       "    <tr>\n",
       "      <th>2</th>\n",
       "      <td>Arunachal Pradesh</td>\n",
       "      <td>2001</td>\n",
       "      <td>Burglary - Property</td>\n",
       "      <td>3. Burglary</td>\n",
       "      <td>66</td>\n",
       "      <td>248</td>\n",
       "      <td>825115</td>\n",
       "      <td>4931904</td>\n",
       "    </tr>\n",
       "    <tr>\n",
       "      <th>3</th>\n",
       "      <td>Assam</td>\n",
       "      <td>2001</td>\n",
       "      <td>Burglary - Property</td>\n",
       "      <td>3. Burglary</td>\n",
       "      <td>539</td>\n",
       "      <td>2423</td>\n",
       "      <td>3722850</td>\n",
       "      <td>21466955</td>\n",
       "    </tr>\n",
       "    <tr>\n",
       "      <th>4</th>\n",
       "      <td>Bihar</td>\n",
       "      <td>2001</td>\n",
       "      <td>Burglary - Property</td>\n",
       "      <td>3. Burglary</td>\n",
       "      <td>367</td>\n",
       "      <td>3231</td>\n",
       "      <td>2327135</td>\n",
       "      <td>17023937</td>\n",
       "    </tr>\n",
       "  </tbody>\n",
       "</table>\n",
       "</div>"
      ],
      "text/plain": [
       "                   Area_Name  Year           Group_Name Sub_Group_Name  \\\n",
       "0  Andaman & Nicobar Islands  2001  Burglary - Property    3. Burglary   \n",
       "1             Andhra Pradesh  2001  Burglary - Property    3. Burglary   \n",
       "2          Arunachal Pradesh  2001  Burglary - Property    3. Burglary   \n",
       "3                      Assam  2001  Burglary - Property    3. Burglary   \n",
       "4                      Bihar  2001  Burglary - Property    3. Burglary   \n",
       "\n",
       "   Cases_Property_Recovered  Cases_Property_Stolen  \\\n",
       "0                        27                     64   \n",
       "1                      3321                   7134   \n",
       "2                        66                    248   \n",
       "3                       539                   2423   \n",
       "4                       367                   3231   \n",
       "\n",
       "   Value_of_Property_Recovered  Value_of_Property_Stolen  \n",
       "0                       755858                   1321961  \n",
       "1                     51483437                 147019348  \n",
       "2                       825115                   4931904  \n",
       "3                      3722850                  21466955  \n",
       "4                      2327135                  17023937  "
      ]
     },
     "execution_count": 40,
     "metadata": {},
     "output_type": "execute_result"
    }
   ],
   "source": [
    "df.head()"
   ]
  },
  {
   "cell_type": "code",
   "execution_count": 41,
   "metadata": {},
   "outputs": [
    {
     "data": {
      "text/plain": [
       "Area_Name                      0\n",
       "Year                           0\n",
       "Group_Name                     0\n",
       "Sub_Group_Name                 0\n",
       "Cases_Property_Recovered       0\n",
       "Cases_Property_Stolen          0\n",
       "Value_of_Property_Recovered    0\n",
       "Value_of_Property_Stolen       0\n",
       "dtype: int64"
      ]
     },
     "execution_count": 41,
     "metadata": {},
     "output_type": "execute_result"
    }
   ],
   "source": [
    "df.isnull().sum()"
   ]
  },
  {
   "cell_type": "code",
   "execution_count": 42,
   "metadata": {},
   "outputs": [
    {
     "data": {
      "text/html": [
       "<div>\n",
       "<style scoped>\n",
       "    .dataframe tbody tr th:only-of-type {\n",
       "        vertical-align: middle;\n",
       "    }\n",
       "\n",
       "    .dataframe tbody tr th {\n",
       "        vertical-align: top;\n",
       "    }\n",
       "\n",
       "    .dataframe thead th {\n",
       "        text-align: right;\n",
       "    }\n",
       "</style>\n",
       "<table border=\"1\" class=\"dataframe\">\n",
       "  <thead>\n",
       "    <tr style=\"text-align: right;\">\n",
       "      <th></th>\n",
       "      <th>Year</th>\n",
       "      <th>Cases_Property_Recovered</th>\n",
       "      <th>Cases_Property_Stolen</th>\n",
       "      <th>Value_of_Property_Recovered</th>\n",
       "      <th>Value_of_Property_Stolen</th>\n",
       "    </tr>\n",
       "  </thead>\n",
       "  <tbody>\n",
       "    <tr>\n",
       "      <th>count</th>\n",
       "      <td>2449.000000</td>\n",
       "      <td>2449.000000</td>\n",
       "      <td>2449.000000</td>\n",
       "      <td>2.449000e+03</td>\n",
       "      <td>2.449000e+03</td>\n",
       "    </tr>\n",
       "    <tr>\n",
       "      <th>mean</th>\n",
       "      <td>2005.499388</td>\n",
       "      <td>1232.892201</td>\n",
       "      <td>3419.420988</td>\n",
       "      <td>5.859924e+07</td>\n",
       "      <td>2.465431e+08</td>\n",
       "    </tr>\n",
       "    <tr>\n",
       "      <th>std</th>\n",
       "      <td>2.873294</td>\n",
       "      <td>3079.573907</td>\n",
       "      <td>8136.256820</td>\n",
       "      <td>2.494403e+08</td>\n",
       "      <td>9.670035e+08</td>\n",
       "    </tr>\n",
       "    <tr>\n",
       "      <th>min</th>\n",
       "      <td>2001.000000</td>\n",
       "      <td>0.000000</td>\n",
       "      <td>0.000000</td>\n",
       "      <td>0.000000e+00</td>\n",
       "      <td>0.000000e+00</td>\n",
       "    </tr>\n",
       "    <tr>\n",
       "      <th>25%</th>\n",
       "      <td>2003.000000</td>\n",
       "      <td>13.000000</td>\n",
       "      <td>45.000000</td>\n",
       "      <td>6.845700e+05</td>\n",
       "      <td>3.649018e+06</td>\n",
       "    </tr>\n",
       "    <tr>\n",
       "      <th>50%</th>\n",
       "      <td>2005.000000</td>\n",
       "      <td>113.000000</td>\n",
       "      <td>358.000000</td>\n",
       "      <td>5.851830e+06</td>\n",
       "      <td>2.701800e+07</td>\n",
       "    </tr>\n",
       "    <tr>\n",
       "      <th>75%</th>\n",
       "      <td>2008.000000</td>\n",
       "      <td>722.000000</td>\n",
       "      <td>1875.000000</td>\n",
       "      <td>3.406395e+07</td>\n",
       "      <td>1.214580e+08</td>\n",
       "    </tr>\n",
       "    <tr>\n",
       "      <th>max</th>\n",
       "      <td>2010.000000</td>\n",
       "      <td>27960.000000</td>\n",
       "      <td>80663.000000</td>\n",
       "      <td>7.470011e+09</td>\n",
       "      <td>2.377625e+10</td>\n",
       "    </tr>\n",
       "  </tbody>\n",
       "</table>\n",
       "</div>"
      ],
      "text/plain": [
       "              Year  Cases_Property_Recovered  Cases_Property_Stolen  \\\n",
       "count  2449.000000               2449.000000            2449.000000   \n",
       "mean   2005.499388               1232.892201            3419.420988   \n",
       "std       2.873294               3079.573907            8136.256820   \n",
       "min    2001.000000                  0.000000               0.000000   \n",
       "25%    2003.000000                 13.000000              45.000000   \n",
       "50%    2005.000000                113.000000             358.000000   \n",
       "75%    2008.000000                722.000000            1875.000000   \n",
       "max    2010.000000              27960.000000           80663.000000   \n",
       "\n",
       "       Value_of_Property_Recovered  Value_of_Property_Stolen  \n",
       "count                 2.449000e+03              2.449000e+03  \n",
       "mean                  5.859924e+07              2.465431e+08  \n",
       "std                   2.494403e+08              9.670035e+08  \n",
       "min                   0.000000e+00              0.000000e+00  \n",
       "25%                   6.845700e+05              3.649018e+06  \n",
       "50%                   5.851830e+06              2.701800e+07  \n",
       "75%                   3.406395e+07              1.214580e+08  \n",
       "max                   7.470011e+09              2.377625e+10  "
      ]
     },
     "execution_count": 42,
     "metadata": {},
     "output_type": "execute_result"
    }
   ],
   "source": [
    "df.describe()"
   ]
  },
  {
   "cell_type": "code",
   "execution_count": 43,
   "metadata": {},
   "outputs": [
    {
     "data": {
      "text/plain": [
       "Area_Name                      0\n",
       "Year                           0\n",
       "Group_Name                     0\n",
       "Sub_Group_Name                 0\n",
       "Cases_Property_Recovered       0\n",
       "Cases_Property_Stolen          0\n",
       "Value_of_Property_Recovered    0\n",
       "Value_of_Property_Stolen       0\n",
       "dtype: int64"
      ]
     },
     "execution_count": 43,
     "metadata": {},
     "output_type": "execute_result"
    }
   ],
   "source": [
    "df.isnull().sum()"
   ]
  },
  {
   "cell_type": "code",
   "execution_count": null,
   "metadata": {},
   "outputs": [],
   "source": []
  },
  {
   "cell_type": "code",
   "execution_count": 44,
   "metadata": {},
   "outputs": [
    {
     "data": {
      "text/plain": [
       "8"
      ]
     },
     "execution_count": 44,
     "metadata": {},
     "output_type": "execute_result"
    }
   ],
   "source": [
    "len(df.columns.values)"
   ]
  },
  {
   "cell_type": "code",
   "execution_count": 45,
   "metadata": {},
   "outputs": [],
   "source": [
    "val=df.columns.values"
   ]
  },
  {
   "cell_type": "code",
   "execution_count": 46,
   "metadata": {},
   "outputs": [
    {
     "data": {
      "text/plain": [
       "array(['Area_Name', 'Year', 'Group_Name', 'Sub_Group_Name',\n",
       "       'Cases_Property_Recovered', 'Cases_Property_Stolen',\n",
       "       'Value_of_Property_Recovered', 'Value_of_Property_Stolen'],\n",
       "      dtype=object)"
      ]
     },
     "execution_count": 46,
     "metadata": {},
     "output_type": "execute_result"
    }
   ],
   "source": [
    "val"
   ]
  },
  {
   "cell_type": "code",
   "execution_count": 47,
   "metadata": {},
   "outputs": [
    {
     "data": {
      "text/plain": [
       "'Group_Name'"
      ]
     },
     "execution_count": 47,
     "metadata": {},
     "output_type": "execute_result"
    }
   ],
   "source": [
    "df.columns[2]"
   ]
  },
  {
   "cell_type": "code",
   "execution_count": 48,
   "metadata": {},
   "outputs": [
    {
     "name": "stdout",
     "output_type": "stream",
     "text": [
      "Jammu & Kashmir              70\n",
      "Kerala                       70\n",
      "West Bengal                  70\n",
      "Chandigarh                   70\n",
      "Gujarat                      70\n",
      "Haryana                      70\n",
      "Dadra & Nagar Haveli         70\n",
      "Madhya Pradesh               70\n",
      "Uttar Pradesh                70\n",
      "Chhattisgarh                 70\n",
      "Manipur                      70\n",
      "Rajasthan                    70\n",
      "Puducherry                   70\n",
      "Bihar                        70\n",
      "Uttarakhand                  70\n",
      "Daman & Diu                  70\n",
      "Maharashtra                  70\n",
      "Odisha                       70\n",
      "Goa                          70\n",
      "Himachal Pradesh             70\n",
      "Punjab                       70\n",
      "Meghalaya                    70\n",
      "Arunachal Pradesh            70\n",
      "Assam                        70\n",
      "Jharkhand                    70\n",
      "Karnataka                    70\n",
      "Delhi                        70\n",
      "Nagaland                     70\n",
      "Andhra Pradesh               70\n",
      "Mizoram                      70\n",
      "Andaman & Nicobar Islands    70\n",
      "Tripura                      70\n",
      "Tamil Nadu                   70\n",
      "Sikkim                       70\n",
      "Lakshadweep                  69\n",
      "Name: Area_Name, dtype: int64\n",
      "----------------------------------\n",
      "-------------------------------\n",
      "2009    245\n",
      "2005    245\n",
      "2003    245\n",
      "2001    245\n",
      "2010    245\n",
      "2008    245\n",
      "2006    245\n",
      "2004    245\n",
      "2002    245\n",
      "2007    244\n",
      "Name: Year, dtype: int64\n",
      "----------------------------------\n",
      "-------------------------------\n",
      "Dacoity -Property                      350\n",
      "Other heads of Property                350\n",
      "Robbery - Property                     350\n",
      "Criminal Breach of Trust - Property    350\n",
      "Burglary - Property                    350\n",
      "Theft - Property                       350\n",
      "Total Property                         349\n",
      "Name: Group_Name, dtype: int64\n",
      "----------------------------------\n",
      "-------------------------------\n",
      "2. Robbery                              350\n",
      "1. Dacoity                              350\n",
      "6. Other Property                       350\n",
      "3. Burglary                             350\n",
      "4. Theft                                350\n",
      "5. Criminal Breach of Trust             350\n",
      "7. Total Property Stolen & Recovered    349\n",
      "Name: Sub_Group_Name, dtype: int64\n",
      "----------------------------------\n",
      "-------------------------------\n",
      "0       193\n",
      "1        85\n",
      "2        65\n",
      "3        41\n",
      "4        38\n",
      "       ... \n",
      "369       1\n",
      "359       1\n",
      "6500      1\n",
      "347       1\n",
      "8133      1\n",
      "Name: Cases_Property_Recovered, Length: 1035, dtype: int64\n",
      "----------------------------------\n",
      "-------------------------------\n",
      "0       108\n",
      "2        40\n",
      "1        33\n",
      "4        32\n",
      "3        30\n",
      "       ... \n",
      "491       1\n",
      "2540      1\n",
      "495       1\n",
      "2544      1\n",
      "4084      1\n",
      "Name: Cases_Property_Stolen, Length: 1351, dtype: int64\n",
      "----------------------------------\n",
      "-------------------------------\n",
      "0           193\n",
      "10000         7\n",
      "2000          4\n",
      "1500          4\n",
      "100000        4\n",
      "           ... \n",
      "2546350       1\n",
      "60080         1\n",
      "385713        1\n",
      "11344562      1\n",
      "1294520       1\n",
      "Name: Value_of_Property_Recovered, Length: 2204, dtype: int64\n",
      "----------------------------------\n",
      "-------------------------------\n",
      "0            112\n",
      "16000          2\n",
      "500000         2\n",
      "4468484        2\n",
      "100000         2\n",
      "            ... \n",
      "34010675       1\n",
      "6259345        1\n",
      "231897742      1\n",
      "353299084      1\n",
      "98711949       1\n",
      "Name: Value_of_Property_Stolen, Length: 2321, dtype: int64\n",
      "----------------------------------\n",
      "-------------------------------\n"
     ]
    }
   ],
   "source": [
    "for i in df.columns:\n",
    "    print(df[i].value_counts())  \n",
    "    print(\"----------------------------------\\n-------------------------------\")"
   ]
  },
  {
   "cell_type": "code",
   "execution_count": null,
   "metadata": {},
   "outputs": [],
   "source": []
  },
  {
   "cell_type": "code",
   "execution_count": 49,
   "metadata": {},
   "outputs": [],
   "source": [
    "df.drop(['Sub_Group_Name'],axis=1,inplace=True)"
   ]
  },
  {
   "cell_type": "code",
   "execution_count": 50,
   "metadata": {},
   "outputs": [
    {
     "data": {
      "text/html": [
       "<div>\n",
       "<style scoped>\n",
       "    .dataframe tbody tr th:only-of-type {\n",
       "        vertical-align: middle;\n",
       "    }\n",
       "\n",
       "    .dataframe tbody tr th {\n",
       "        vertical-align: top;\n",
       "    }\n",
       "\n",
       "    .dataframe thead th {\n",
       "        text-align: right;\n",
       "    }\n",
       "</style>\n",
       "<table border=\"1\" class=\"dataframe\">\n",
       "  <thead>\n",
       "    <tr style=\"text-align: right;\">\n",
       "      <th></th>\n",
       "      <th>Area_Name</th>\n",
       "      <th>Year</th>\n",
       "      <th>Group_Name</th>\n",
       "      <th>Cases_Property_Recovered</th>\n",
       "      <th>Cases_Property_Stolen</th>\n",
       "      <th>Value_of_Property_Recovered</th>\n",
       "      <th>Value_of_Property_Stolen</th>\n",
       "    </tr>\n",
       "  </thead>\n",
       "  <tbody>\n",
       "    <tr>\n",
       "      <th>0</th>\n",
       "      <td>Andaman &amp; Nicobar Islands</td>\n",
       "      <td>2001</td>\n",
       "      <td>Burglary - Property</td>\n",
       "      <td>27</td>\n",
       "      <td>64</td>\n",
       "      <td>755858</td>\n",
       "      <td>1321961</td>\n",
       "    </tr>\n",
       "    <tr>\n",
       "      <th>1</th>\n",
       "      <td>Andhra Pradesh</td>\n",
       "      <td>2001</td>\n",
       "      <td>Burglary - Property</td>\n",
       "      <td>3321</td>\n",
       "      <td>7134</td>\n",
       "      <td>51483437</td>\n",
       "      <td>147019348</td>\n",
       "    </tr>\n",
       "    <tr>\n",
       "      <th>2</th>\n",
       "      <td>Arunachal Pradesh</td>\n",
       "      <td>2001</td>\n",
       "      <td>Burglary - Property</td>\n",
       "      <td>66</td>\n",
       "      <td>248</td>\n",
       "      <td>825115</td>\n",
       "      <td>4931904</td>\n",
       "    </tr>\n",
       "    <tr>\n",
       "      <th>3</th>\n",
       "      <td>Assam</td>\n",
       "      <td>2001</td>\n",
       "      <td>Burglary - Property</td>\n",
       "      <td>539</td>\n",
       "      <td>2423</td>\n",
       "      <td>3722850</td>\n",
       "      <td>21466955</td>\n",
       "    </tr>\n",
       "    <tr>\n",
       "      <th>4</th>\n",
       "      <td>Bihar</td>\n",
       "      <td>2001</td>\n",
       "      <td>Burglary - Property</td>\n",
       "      <td>367</td>\n",
       "      <td>3231</td>\n",
       "      <td>2327135</td>\n",
       "      <td>17023937</td>\n",
       "    </tr>\n",
       "  </tbody>\n",
       "</table>\n",
       "</div>"
      ],
      "text/plain": [
       "                   Area_Name  Year           Group_Name  \\\n",
       "0  Andaman & Nicobar Islands  2001  Burglary - Property   \n",
       "1             Andhra Pradesh  2001  Burglary - Property   \n",
       "2          Arunachal Pradesh  2001  Burglary - Property   \n",
       "3                      Assam  2001  Burglary - Property   \n",
       "4                      Bihar  2001  Burglary - Property   \n",
       "\n",
       "   Cases_Property_Recovered  Cases_Property_Stolen  \\\n",
       "0                        27                     64   \n",
       "1                      3321                   7134   \n",
       "2                        66                    248   \n",
       "3                       539                   2423   \n",
       "4                       367                   3231   \n",
       "\n",
       "   Value_of_Property_Recovered  Value_of_Property_Stolen  \n",
       "0                       755858                   1321961  \n",
       "1                     51483437                 147019348  \n",
       "2                       825115                   4931904  \n",
       "3                      3722850                  21466955  \n",
       "4                      2327135                  17023937  "
      ]
     },
     "execution_count": 50,
     "metadata": {},
     "output_type": "execute_result"
    }
   ],
   "source": [
    "df.head()"
   ]
  },
  {
   "cell_type": "code",
   "execution_count": null,
   "metadata": {},
   "outputs": [],
   "source": []
  },
  {
   "cell_type": "code",
   "execution_count": 51,
   "metadata": {},
   "outputs": [
    {
     "data": {
      "text/html": [
       "<div>\n",
       "<style scoped>\n",
       "    .dataframe tbody tr th:only-of-type {\n",
       "        vertical-align: middle;\n",
       "    }\n",
       "\n",
       "    .dataframe tbody tr th {\n",
       "        vertical-align: top;\n",
       "    }\n",
       "\n",
       "    .dataframe thead th {\n",
       "        text-align: right;\n",
       "    }\n",
       "</style>\n",
       "<table border=\"1\" class=\"dataframe\">\n",
       "  <thead>\n",
       "    <tr style=\"text-align: right;\">\n",
       "      <th></th>\n",
       "      <th>Area_Name</th>\n",
       "      <th>Year</th>\n",
       "      <th>Group_Name</th>\n",
       "      <th>Cases_Property_Recovered</th>\n",
       "      <th>Cases_Property_Stolen</th>\n",
       "      <th>Value_of_Property_Recovered</th>\n",
       "      <th>Value_of_Property_Stolen</th>\n",
       "    </tr>\n",
       "  </thead>\n",
       "  <tbody>\n",
       "    <tr>\n",
       "      <th>0</th>\n",
       "      <td>Andaman &amp; Nicobar Islands</td>\n",
       "      <td>2001</td>\n",
       "      <td>Burglary - Property</td>\n",
       "      <td>27</td>\n",
       "      <td>64</td>\n",
       "      <td>755858</td>\n",
       "      <td>1321961</td>\n",
       "    </tr>\n",
       "    <tr>\n",
       "      <th>1</th>\n",
       "      <td>Andhra Pradesh</td>\n",
       "      <td>2001</td>\n",
       "      <td>Burglary - Property</td>\n",
       "      <td>3321</td>\n",
       "      <td>7134</td>\n",
       "      <td>51483437</td>\n",
       "      <td>147019348</td>\n",
       "    </tr>\n",
       "    <tr>\n",
       "      <th>2</th>\n",
       "      <td>Arunachal Pradesh</td>\n",
       "      <td>2001</td>\n",
       "      <td>Burglary - Property</td>\n",
       "      <td>66</td>\n",
       "      <td>248</td>\n",
       "      <td>825115</td>\n",
       "      <td>4931904</td>\n",
       "    </tr>\n",
       "    <tr>\n",
       "      <th>3</th>\n",
       "      <td>Assam</td>\n",
       "      <td>2001</td>\n",
       "      <td>Burglary - Property</td>\n",
       "      <td>539</td>\n",
       "      <td>2423</td>\n",
       "      <td>3722850</td>\n",
       "      <td>21466955</td>\n",
       "    </tr>\n",
       "    <tr>\n",
       "      <th>4</th>\n",
       "      <td>Bihar</td>\n",
       "      <td>2001</td>\n",
       "      <td>Burglary - Property</td>\n",
       "      <td>367</td>\n",
       "      <td>3231</td>\n",
       "      <td>2327135</td>\n",
       "      <td>17023937</td>\n",
       "    </tr>\n",
       "  </tbody>\n",
       "</table>\n",
       "</div>"
      ],
      "text/plain": [
       "                   Area_Name  Year           Group_Name  \\\n",
       "0  Andaman & Nicobar Islands  2001  Burglary - Property   \n",
       "1             Andhra Pradesh  2001  Burglary - Property   \n",
       "2          Arunachal Pradesh  2001  Burglary - Property   \n",
       "3                      Assam  2001  Burglary - Property   \n",
       "4                      Bihar  2001  Burglary - Property   \n",
       "\n",
       "   Cases_Property_Recovered  Cases_Property_Stolen  \\\n",
       "0                        27                     64   \n",
       "1                      3321                   7134   \n",
       "2                        66                    248   \n",
       "3                       539                   2423   \n",
       "4                       367                   3231   \n",
       "\n",
       "   Value_of_Property_Recovered  Value_of_Property_Stolen  \n",
       "0                       755858                   1321961  \n",
       "1                     51483437                 147019348  \n",
       "2                       825115                   4931904  \n",
       "3                      3722850                  21466955  \n",
       "4                      2327135                  17023937  "
      ]
     },
     "execution_count": 51,
     "metadata": {},
     "output_type": "execute_result"
    }
   ],
   "source": [
    "df.head()"
   ]
  },
  {
   "cell_type": "code",
   "execution_count": 52,
   "metadata": {},
   "outputs": [],
   "source": [
    "sortyear=df.groupby(['Year'],as_index=False).sum()"
   ]
  },
  {
   "cell_type": "code",
   "execution_count": null,
   "metadata": {},
   "outputs": [],
   "source": []
  },
  {
   "cell_type": "code",
   "execution_count": 53,
   "metadata": {},
   "outputs": [
    {
     "data": {
      "text/html": [
       "<div>\n",
       "<style scoped>\n",
       "    .dataframe tbody tr th:only-of-type {\n",
       "        vertical-align: middle;\n",
       "    }\n",
       "\n",
       "    .dataframe tbody tr th {\n",
       "        vertical-align: top;\n",
       "    }\n",
       "\n",
       "    .dataframe thead th {\n",
       "        text-align: right;\n",
       "    }\n",
       "</style>\n",
       "<table border=\"1\" class=\"dataframe\">\n",
       "  <thead>\n",
       "    <tr style=\"text-align: right;\">\n",
       "      <th></th>\n",
       "      <th>Year</th>\n",
       "      <th>Cases_Property_Recovered</th>\n",
       "      <th>Cases_Property_Stolen</th>\n",
       "      <th>Value_of_Property_Recovered</th>\n",
       "      <th>Value_of_Property_Stolen</th>\n",
       "    </tr>\n",
       "  </thead>\n",
       "  <tbody>\n",
       "    <tr>\n",
       "      <th>0</th>\n",
       "      <td>2001</td>\n",
       "      <td>272842</td>\n",
       "      <td>790836</td>\n",
       "      <td>8946523770</td>\n",
       "      <td>30344648510</td>\n",
       "    </tr>\n",
       "    <tr>\n",
       "      <th>1</th>\n",
       "      <td>2002</td>\n",
       "      <td>281302</td>\n",
       "      <td>774302</td>\n",
       "      <td>9548408672</td>\n",
       "      <td>49344611696</td>\n",
       "    </tr>\n",
       "    <tr>\n",
       "      <th>2</th>\n",
       "      <td>2003</td>\n",
       "      <td>279802</td>\n",
       "      <td>755556</td>\n",
       "      <td>8951886540</td>\n",
       "      <td>34700760664</td>\n",
       "    </tr>\n",
       "    <tr>\n",
       "      <th>3</th>\n",
       "      <td>2004</td>\n",
       "      <td>294758</td>\n",
       "      <td>812392</td>\n",
       "      <td>9389393600</td>\n",
       "      <td>47233918984</td>\n",
       "    </tr>\n",
       "    <tr>\n",
       "      <th>4</th>\n",
       "      <td>2005</td>\n",
       "      <td>307632</td>\n",
       "      <td>799578</td>\n",
       "      <td>11519962792</td>\n",
       "      <td>48179988362</td>\n",
       "    </tr>\n",
       "    <tr>\n",
       "      <th>5</th>\n",
       "      <td>2006</td>\n",
       "      <td>306076</td>\n",
       "      <td>813294</td>\n",
       "      <td>12144608296</td>\n",
       "      <td>48078914848</td>\n",
       "    </tr>\n",
       "    <tr>\n",
       "      <th>6</th>\n",
       "      <td>2007</td>\n",
       "      <td>316587</td>\n",
       "      <td>857074</td>\n",
       "      <td>13930899181</td>\n",
       "      <td>53614790385</td>\n",
       "    </tr>\n",
       "    <tr>\n",
       "      <th>7</th>\n",
       "      <td>2008</td>\n",
       "      <td>323048</td>\n",
       "      <td>912990</td>\n",
       "      <td>15362975370</td>\n",
       "      <td>77059122252</td>\n",
       "    </tr>\n",
       "    <tr>\n",
       "      <th>8</th>\n",
       "      <td>2009</td>\n",
       "      <td>310796</td>\n",
       "      <td>911884</td>\n",
       "      <td>17522282464</td>\n",
       "      <td>89900114948</td>\n",
       "    </tr>\n",
       "    <tr>\n",
       "      <th>9</th>\n",
       "      <td>2010</td>\n",
       "      <td>326510</td>\n",
       "      <td>946256</td>\n",
       "      <td>36192599934</td>\n",
       "      <td>125327167512</td>\n",
       "    </tr>\n",
       "  </tbody>\n",
       "</table>\n",
       "</div>"
      ],
      "text/plain": [
       "   Year  Cases_Property_Recovered  Cases_Property_Stolen  \\\n",
       "0  2001                    272842                 790836   \n",
       "1  2002                    281302                 774302   \n",
       "2  2003                    279802                 755556   \n",
       "3  2004                    294758                 812392   \n",
       "4  2005                    307632                 799578   \n",
       "5  2006                    306076                 813294   \n",
       "6  2007                    316587                 857074   \n",
       "7  2008                    323048                 912990   \n",
       "8  2009                    310796                 911884   \n",
       "9  2010                    326510                 946256   \n",
       "\n",
       "   Value_of_Property_Recovered  Value_of_Property_Stolen  \n",
       "0                   8946523770               30344648510  \n",
       "1                   9548408672               49344611696  \n",
       "2                   8951886540               34700760664  \n",
       "3                   9389393600               47233918984  \n",
       "4                  11519962792               48179988362  \n",
       "5                  12144608296               48078914848  \n",
       "6                  13930899181               53614790385  \n",
       "7                  15362975370               77059122252  \n",
       "8                  17522282464               89900114948  \n",
       "9                  36192599934              125327167512  "
      ]
     },
     "execution_count": 53,
     "metadata": {},
     "output_type": "execute_result"
    }
   ],
   "source": [
    "sortyear"
   ]
  },
  {
   "cell_type": "code",
   "execution_count": null,
   "metadata": {},
   "outputs": [],
   "source": []
  },
  {
   "cell_type": "code",
   "execution_count": 54,
   "metadata": {},
   "outputs": [
    {
     "data": {
      "text/plain": [
       "Index(['Area_Name', 'Year', 'Group_Name', 'Cases_Property_Recovered',\n",
       "       'Cases_Property_Stolen', 'Value_of_Property_Recovered',\n",
       "       'Value_of_Property_Stolen'],\n",
       "      dtype='object')"
      ]
     },
     "execution_count": 54,
     "metadata": {},
     "output_type": "execute_result"
    }
   ],
   "source": [
    "df.columns"
   ]
  },
  {
   "cell_type": "code",
   "execution_count": null,
   "metadata": {},
   "outputs": [],
   "source": []
  },
  {
   "cell_type": "code",
   "execution_count": 55,
   "metadata": {},
   "outputs": [
    {
     "data": {
      "text/plain": [
       "<matplotlib.axes._subplots.AxesSubplot at 0x18a40ec2c70>"
      ]
     },
     "execution_count": 55,
     "metadata": {},
     "output_type": "execute_result"
    },
    {
     "data": {
      "image/png": "[encoded data removed]",
      "text/plain": [
       "<Figure size 432x288 with 1 Axes>"
      ]
     },
     "metadata": {
      "needs_background": "light"
     },
     "output_type": "display_data"
    }
   ],
   "source": [
    "sns.barplot(x=sortyear.Year,y=sortyear.Cases_Property_Stolen)"
   ]
  },
  {
   "cell_type": "code",
   "execution_count": 56,
   "metadata": {},
   "outputs": [
    {
     "data": {
      "text/plain": [
       "<matplotlib.axes._subplots.AxesSubplot at 0x18a3f9ae6d0>"
      ]
     },
     "execution_count": 56,
     "metadata": {},
     "output_type": "execute_result"
    },
    {
     "data": {
      "image/png": "[encoded data removed]",
      "text/plain": [
       "<Figure size 432x288 with 1 Axes>"
      ]
     },
     "metadata": {
      "needs_background": "light"
     },
     "output_type": "display_data"
    }
   ],
   "source": [
    "sns.barplot(x=sortyear.Year,y=sortyear.Cases_Property_Recovered)"
   ]
  },
  {
   "cell_type": "code",
   "execution_count": 57,
   "metadata": {},
   "outputs": [
    {
     "data": {
      "image/png": "[encoded data removed]",
      "text/plain": [
       "<Figure size 1080x360 with 1 Axes>"
      ]
     },
     "metadata": {
      "needs_background": "light"
     },
     "output_type": "display_data"
    }
   ],
   "source": [
    "plt.figure(figsize=(15,5))\n",
    "a=sns.barplot(x='Group_Name',y='Cases_Property_Stolen',data=df)\n",
    "plt.setp(a.get_xticklabels(), rotation=45)\n",
    "plt.show()\n"
   ]
  },
  {
   "cell_type": "code",
   "execution_count": 58,
   "metadata": {},
   "outputs": [
    {
     "data": {
      "image/png": "[encoded data removed]",
      "text/plain": [
       "<Figure size 1080x360 with 1 Axes>"
      ]
     },
     "metadata": {
      "needs_background": "light"
     },
     "output_type": "display_data"
    }
   ],
   "source": [
    "plt.figure(figsize=(15,5))\n",
    "a2=sns.barplot(x='Group_Name',y='Cases_Property_Recovered',data=df)\n",
    "plt.setp(a2.get_xticklabels(), rotation=45)\n",
    "plt.show()"
   ]
  },
  {
   "cell_type": "code",
   "execution_count": 59,
   "metadata": {},
   "outputs": [
    {
     "data": {
      "image/png": "[encoded data removed]",
      "text/plain": [
       "<Figure size 1080x360 with 1 Axes>"
      ]
     },
     "metadata": {
      "needs_background": "light"
     },
     "output_type": "display_data"
    }
   ],
   "source": [
    "plt.figure(figsize=(15,5))\n",
    "a3=sns.barplot(x='Group_Name',y='Value_of_Property_Stolen',data=df)\n",
    "plt.setp(a3.get_xticklabels(), rotation=45)\n",
    "plt.show()"
   ]
  },
  {
   "cell_type": "code",
   "execution_count": 60,
   "metadata": {},
   "outputs": [
    {
     "data": {
      "image/png": "[encoded data removed]",
      "text/plain": [
       "<Figure size 1080x360 with 1 Axes>"
      ]
     },
     "metadata": {
      "needs_background": "light"
     },
     "output_type": "display_data"
    }
   ],
   "source": [
    "plt.figure(figsize=(15,5))\n",
    "a4=sns.barplot(x='Group_Name',y='Value_of_Property_Recovered',data=df)\n",
    "plt.setp(a4.get_xticklabels(), rotation=45)\n",
    "plt.show()"
   ]
  },
  {
   "cell_type": "code",
   "execution_count": 61,
   "metadata": {},
   "outputs": [
    {
     "data": {
      "image/png": "[encoded data removed]",
      "text/plain": [
       "<Figure size 1440x720 with 1 Axes>"
      ]
     },
     "metadata": {
      "needs_background": "light"
     },
     "output_type": "display_data"
    }
   ],
   "source": [
    "\n",
    "plt.figure(figsize=(20,10))\n",
    "g=sns.barplot(x='Area_Name',y='Cases_Property_Stolen',data=df)\n",
    "#g.xticks(rotation=45)\n",
    "plt.setp(g.get_xticklabels(), rotation=90)\n",
    "plt.show()"
   ]
  },
  {
   "cell_type": "code",
   "execution_count": 62,
   "metadata": {},
   "outputs": [
    {
     "data": {
      "image/png": "[encoded data removed]",
      "text/plain": [
       "<Figure size 1440x720 with 1 Axes>"
      ]
     },
     "metadata": {
      "needs_background": "light"
     },
     "output_type": "display_data"
    }
   ],
   "source": [
    "plt.figure(figsize=(20,10))\n",
    "g2=sns.barplot(x='Area_Name',y='Cases_Property_Recovered',data=df)\n",
    "#g.xticks(rotation=45)\n",
    "plt.setp(g2.get_xticklabels(), rotation=90)\n",
    "plt.show()"
   ]
  },
  {
   "cell_type": "code",
   "execution_count": 63,
   "metadata": {},
   "outputs": [
    {
     "data": {
      "text/plain": [
       "<matplotlib.axes._subplots.AxesSubplot at 0x18a3f95c940>"
      ]
     },
     "execution_count": 63,
     "metadata": {},
     "output_type": "execute_result"
    },
    {
     "data": {
      "image/png": "[encoded data removed]",
      "text/plain": [
       "<Figure size 432x288 with 1 Axes>"
      ]
     },
     "metadata": {
      "needs_background": "light"
     },
     "output_type": "display_data"
    }
   ],
   "source": [
    "sns.scatterplot(x='Cases_Property_Recovered',y='Cases_Property_Stolen',data=df)"
   ]
  },
  {
   "cell_type": "code",
   "execution_count": 64,
   "metadata": {},
   "outputs": [],
   "source": [
    "df['Case Difference']=df['Cases_Property_Stolen']-df['Cases_Property_Recovered']"
   ]
  },
  {
   "cell_type": "code",
   "execution_count": 65,
   "metadata": {},
   "outputs": [],
   "source": [
    "df['Recovered Percentage']=(df['Cases_Property_Recovered']/df['Cases_Property_Stolen'])*100"
   ]
  },
  {
   "cell_type": "code",
   "execution_count": 66,
   "metadata": {},
   "outputs": [
    {
     "data": {
      "image/png": "[encoded data removed]",
      "text/plain": [
       "<Figure size 1440x720 with 1 Axes>"
      ]
     },
     "metadata": {
      "needs_background": "light"
     },
     "output_type": "display_data"
    }
   ],
   "source": [
    "plt.figure(figsize=(20,10))\n",
    "g=sns.barplot(x='Area_Name',y='Recovered Percentage',data=df)\n",
    "#g.xticks(rotation=45)\n",
    "plt.setp(g.get_xticklabels(), rotation=90)\n",
    "plt.show()"
   ]
  },
  {
   "cell_type": "markdown",
   "metadata": {},
   "source": [
    "Manipur has lowest recovered percentage"
   ]
  },
  {
   "cell_type": "code",
   "execution_count": 67,
   "metadata": {},
   "outputs": [
    {
     "data": {
      "text/html": [
       "<div>\n",
       "<style scoped>\n",
       "    .dataframe tbody tr th:only-of-type {\n",
       "        vertical-align: middle;\n",
       "    }\n",
       "\n",
       "    .dataframe tbody tr th {\n",
       "        vertical-align: top;\n",
       "    }\n",
       "\n",
       "    .dataframe thead th {\n",
       "        text-align: right;\n",
       "    }\n",
       "</style>\n",
       "<table border=\"1\" class=\"dataframe\">\n",
       "  <thead>\n",
       "    <tr style=\"text-align: right;\">\n",
       "      <th></th>\n",
       "      <th>Area_Name</th>\n",
       "      <th>Year</th>\n",
       "      <th>Group_Name</th>\n",
       "      <th>Cases_Property_Recovered</th>\n",
       "      <th>Cases_Property_Stolen</th>\n",
       "      <th>Value_of_Property_Recovered</th>\n",
       "      <th>Value_of_Property_Stolen</th>\n",
       "      <th>Case Difference</th>\n",
       "      <th>Recovered Percentage</th>\n",
       "    </tr>\n",
       "  </thead>\n",
       "  <tbody>\n",
       "    <tr>\n",
       "      <th>0</th>\n",
       "      <td>Andaman &amp; Nicobar Islands</td>\n",
       "      <td>2001</td>\n",
       "      <td>Burglary - Property</td>\n",
       "      <td>27</td>\n",
       "      <td>64</td>\n",
       "      <td>755858</td>\n",
       "      <td>1321961</td>\n",
       "      <td>37</td>\n",
       "      <td>42.187500</td>\n",
       "    </tr>\n",
       "    <tr>\n",
       "      <th>1</th>\n",
       "      <td>Andhra Pradesh</td>\n",
       "      <td>2001</td>\n",
       "      <td>Burglary - Property</td>\n",
       "      <td>3321</td>\n",
       "      <td>7134</td>\n",
       "      <td>51483437</td>\n",
       "      <td>147019348</td>\n",
       "      <td>3813</td>\n",
       "      <td>46.551724</td>\n",
       "    </tr>\n",
       "    <tr>\n",
       "      <th>2</th>\n",
       "      <td>Arunachal Pradesh</td>\n",
       "      <td>2001</td>\n",
       "      <td>Burglary - Property</td>\n",
       "      <td>66</td>\n",
       "      <td>248</td>\n",
       "      <td>825115</td>\n",
       "      <td>4931904</td>\n",
       "      <td>182</td>\n",
       "      <td>26.612903</td>\n",
       "    </tr>\n",
       "    <tr>\n",
       "      <th>3</th>\n",
       "      <td>Assam</td>\n",
       "      <td>2001</td>\n",
       "      <td>Burglary - Property</td>\n",
       "      <td>539</td>\n",
       "      <td>2423</td>\n",
       "      <td>3722850</td>\n",
       "      <td>21466955</td>\n",
       "      <td>1884</td>\n",
       "      <td>22.245151</td>\n",
       "    </tr>\n",
       "    <tr>\n",
       "      <th>4</th>\n",
       "      <td>Bihar</td>\n",
       "      <td>2001</td>\n",
       "      <td>Burglary - Property</td>\n",
       "      <td>367</td>\n",
       "      <td>3231</td>\n",
       "      <td>2327135</td>\n",
       "      <td>17023937</td>\n",
       "      <td>2864</td>\n",
       "      <td>11.358712</td>\n",
       "    </tr>\n",
       "  </tbody>\n",
       "</table>\n",
       "</div>"
      ],
      "text/plain": [
       "                   Area_Name  Year           Group_Name  \\\n",
       "0  Andaman & Nicobar Islands  2001  Burglary - Property   \n",
       "1             Andhra Pradesh  2001  Burglary - Property   \n",
       "2          Arunachal Pradesh  2001  Burglary - Property   \n",
       "3                      Assam  2001  Burglary - Property   \n",
       "4                      Bihar  2001  Burglary - Property   \n",
       "\n",
       "   Cases_Property_Recovered  Cases_Property_Stolen  \\\n",
       "0                        27                     64   \n",
       "1                      3321                   7134   \n",
       "2                        66                    248   \n",
       "3                       539                   2423   \n",
       "4                       367                   3231   \n",
       "\n",
       "   Value_of_Property_Recovered  Value_of_Property_Stolen  Case Difference  \\\n",
       "0                       755858                   1321961               37   \n",
       "1                     51483437                 147019348             3813   \n",
       "2                       825115                   4931904              182   \n",
       "3                      3722850                  21466955             1884   \n",
       "4                      2327135                  17023937             2864   \n",
       "\n",
       "   Recovered Percentage  \n",
       "0             42.187500  \n",
       "1             46.551724  \n",
       "2             26.612903  \n",
       "3             22.245151  \n",
       "4             11.358712  "
      ]
     },
     "execution_count": 67,
     "metadata": {},
     "output_type": "execute_result"
    }
   ],
   "source": [
    "df.head()"
   ]
  },
  {
   "cell_type": "code",
   "execution_count": 68,
   "metadata": {},
   "outputs": [
    {
     "data": {
      "text/html": [
       "<div>\n",
       "<style scoped>\n",
       "    .dataframe tbody tr th:only-of-type {\n",
       "        vertical-align: middle;\n",
       "    }\n",
       "\n",
       "    .dataframe tbody tr th {\n",
       "        vertical-align: top;\n",
       "    }\n",
       "\n",
       "    .dataframe thead th {\n",
       "        text-align: right;\n",
       "    }\n",
       "</style>\n",
       "<table border=\"1\" class=\"dataframe\">\n",
       "  <thead>\n",
       "    <tr style=\"text-align: right;\">\n",
       "      <th></th>\n",
       "      <th>Year</th>\n",
       "      <th>Cases_Property_Recovered</th>\n",
       "      <th>Cases_Property_Stolen</th>\n",
       "      <th>Value_of_Property_Recovered</th>\n",
       "      <th>Value_of_Property_Stolen</th>\n",
       "      <th>Case Difference</th>\n",
       "      <th>Recovered Percentage</th>\n",
       "    </tr>\n",
       "  </thead>\n",
       "  <tbody>\n",
       "    <tr>\n",
       "      <th>count</th>\n",
       "      <td>2449.000000</td>\n",
       "      <td>2449.000000</td>\n",
       "      <td>2449.000000</td>\n",
       "      <td>2.449000e+03</td>\n",
       "      <td>2.449000e+03</td>\n",
       "      <td>2449.000000</td>\n",
       "      <td>2341.000000</td>\n",
       "    </tr>\n",
       "    <tr>\n",
       "      <th>mean</th>\n",
       "      <td>2005.499388</td>\n",
       "      <td>1232.892201</td>\n",
       "      <td>3419.420988</td>\n",
       "      <td>5.859924e+07</td>\n",
       "      <td>2.465431e+08</td>\n",
       "      <td>2186.528787</td>\n",
       "      <td>39.462833</td>\n",
       "    </tr>\n",
       "    <tr>\n",
       "      <th>std</th>\n",
       "      <td>2.873294</td>\n",
       "      <td>3079.573907</td>\n",
       "      <td>8136.256820</td>\n",
       "      <td>2.494403e+08</td>\n",
       "      <td>9.670035e+08</td>\n",
       "      <td>5365.537842</td>\n",
       "      <td>23.454965</td>\n",
       "    </tr>\n",
       "    <tr>\n",
       "      <th>min</th>\n",
       "      <td>2001.000000</td>\n",
       "      <td>0.000000</td>\n",
       "      <td>0.000000</td>\n",
       "      <td>0.000000e+00</td>\n",
       "      <td>0.000000e+00</td>\n",
       "      <td>-96.000000</td>\n",
       "      <td>0.000000</td>\n",
       "    </tr>\n",
       "    <tr>\n",
       "      <th>25%</th>\n",
       "      <td>2003.000000</td>\n",
       "      <td>13.000000</td>\n",
       "      <td>45.000000</td>\n",
       "      <td>6.845700e+05</td>\n",
       "      <td>3.649018e+06</td>\n",
       "      <td>23.000000</td>\n",
       "      <td>22.808442</td>\n",
       "    </tr>\n",
       "    <tr>\n",
       "      <th>50%</th>\n",
       "      <td>2005.000000</td>\n",
       "      <td>113.000000</td>\n",
       "      <td>358.000000</td>\n",
       "      <td>5.851830e+06</td>\n",
       "      <td>2.701800e+07</td>\n",
       "      <td>183.000000</td>\n",
       "      <td>35.231317</td>\n",
       "    </tr>\n",
       "    <tr>\n",
       "      <th>75%</th>\n",
       "      <td>2008.000000</td>\n",
       "      <td>722.000000</td>\n",
       "      <td>1875.000000</td>\n",
       "      <td>3.406395e+07</td>\n",
       "      <td>1.214580e+08</td>\n",
       "      <td>1158.000000</td>\n",
       "      <td>52.727273</td>\n",
       "    </tr>\n",
       "    <tr>\n",
       "      <th>max</th>\n",
       "      <td>2010.000000</td>\n",
       "      <td>27960.000000</td>\n",
       "      <td>80663.000000</td>\n",
       "      <td>7.470011e+09</td>\n",
       "      <td>2.377625e+10</td>\n",
       "      <td>52703.000000</td>\n",
       "      <td>120.100503</td>\n",
       "    </tr>\n",
       "  </tbody>\n",
       "</table>\n",
       "</div>"
      ],
      "text/plain": [
       "              Year  Cases_Property_Recovered  Cases_Property_Stolen  \\\n",
       "count  2449.000000               2449.000000            2449.000000   \n",
       "mean   2005.499388               1232.892201            3419.420988   \n",
       "std       2.873294               3079.573907            8136.256820   \n",
       "min    2001.000000                  0.000000               0.000000   \n",
       "25%    2003.000000                 13.000000              45.000000   \n",
       "50%    2005.000000                113.000000             358.000000   \n",
       "75%    2008.000000                722.000000            1875.000000   \n",
       "max    2010.000000              27960.000000           80663.000000   \n",
       "\n",
       "       Value_of_Property_Recovered  Value_of_Property_Stolen  Case Difference  \\\n",
       "count                 2.449000e+03              2.449000e+03      2449.000000   \n",
       "mean                  5.859924e+07              2.465431e+08      2186.528787   \n",
       "std                   2.494403e+08              9.670035e+08      5365.537842   \n",
       "min                   0.000000e+00              0.000000e+00       -96.000000   \n",
       "25%                   6.845700e+05              3.649018e+06        23.000000   \n",
       "50%                   5.851830e+06              2.701800e+07       183.000000   \n",
       "75%                   3.406395e+07              1.214580e+08      1158.000000   \n",
       "max                   7.470011e+09              2.377625e+10     52703.000000   \n",
       "\n",
       "       Recovered Percentage  \n",
       "count           2341.000000  \n",
       "mean              39.462833  \n",
       "std               23.454965  \n",
       "min                0.000000  \n",
       "25%               22.808442  \n",
       "50%               35.231317  \n",
       "75%               52.727273  \n",
       "max              120.100503  "
      ]
     },
     "execution_count": 68,
     "metadata": {},
     "output_type": "execute_result"
    }
   ],
   "source": [
    "df.describe()"
   ]
  },
  {
   "cell_type": "code",
   "execution_count": null,
   "metadata": {},
   "outputs": [],
   "source": []
  },
  {
   "cell_type": "code",
   "execution_count": 69,
   "metadata": {},
   "outputs": [
    {
     "data": {
      "text/plain": [
       "Area_Name                        0\n",
       "Year                             0\n",
       "Group_Name                       0\n",
       "Cases_Property_Recovered         0\n",
       "Cases_Property_Stolen            0\n",
       "Value_of_Property_Recovered      0\n",
       "Value_of_Property_Stolen         0\n",
       "Case Difference                  0\n",
       "Recovered Percentage           108\n",
       "dtype: int64"
      ]
     },
     "execution_count": 69,
     "metadata": {},
     "output_type": "execute_result"
    }
   ],
   "source": [
    "df.isnull().sum()"
   ]
  },
  {
   "cell_type": "code",
   "execution_count": 70,
   "metadata": {},
   "outputs": [
    {
     "data": {
      "text/html": [
       "<div>\n",
       "<style scoped>\n",
       "    .dataframe tbody tr th:only-of-type {\n",
       "        vertical-align: middle;\n",
       "    }\n",
       "\n",
       "    .dataframe tbody tr th {\n",
       "        vertical-align: top;\n",
       "    }\n",
       "\n",
       "    .dataframe thead th {\n",
       "        text-align: right;\n",
       "    }\n",
       "</style>\n",
       "<table border=\"1\" class=\"dataframe\">\n",
       "  <thead>\n",
       "    <tr style=\"text-align: right;\">\n",
       "      <th></th>\n",
       "      <th>Area_Name</th>\n",
       "      <th>Year</th>\n",
       "      <th>Group_Name</th>\n",
       "      <th>Cases_Property_Recovered</th>\n",
       "      <th>Cases_Property_Stolen</th>\n",
       "      <th>Value_of_Property_Recovered</th>\n",
       "      <th>Value_of_Property_Stolen</th>\n",
       "      <th>Case Difference</th>\n",
       "      <th>Recovered Percentage</th>\n",
       "    </tr>\n",
       "  </thead>\n",
       "  <tbody>\n",
       "    <tr>\n",
       "      <th>403</th>\n",
       "      <td>Lakshadweep</td>\n",
       "      <td>2002</td>\n",
       "      <td>Criminal Breach of Trust - Property</td>\n",
       "      <td>0</td>\n",
       "      <td>0</td>\n",
       "      <td>0</td>\n",
       "      <td>0</td>\n",
       "      <td>0</td>\n",
       "      <td>NaN</td>\n",
       "    </tr>\n",
       "    <tr>\n",
       "      <th>418</th>\n",
       "      <td>Uttarakhand</td>\n",
       "      <td>2002</td>\n",
       "      <td>Criminal Breach of Trust - Property</td>\n",
       "      <td>0</td>\n",
       "      <td>0</td>\n",
       "      <td>0</td>\n",
       "      <td>0</td>\n",
       "      <td>0</td>\n",
       "      <td>NaN</td>\n",
       "    </tr>\n",
       "    <tr>\n",
       "      <th>438</th>\n",
       "      <td>Lakshadweep</td>\n",
       "      <td>2003</td>\n",
       "      <td>Criminal Breach of Trust - Property</td>\n",
       "      <td>0</td>\n",
       "      <td>0</td>\n",
       "      <td>0</td>\n",
       "      <td>0</td>\n",
       "      <td>0</td>\n",
       "      <td>NaN</td>\n",
       "    </tr>\n",
       "    <tr>\n",
       "      <th>453</th>\n",
       "      <td>Uttarakhand</td>\n",
       "      <td>2003</td>\n",
       "      <td>Criminal Breach of Trust - Property</td>\n",
       "      <td>0</td>\n",
       "      <td>0</td>\n",
       "      <td>0</td>\n",
       "      <td>0</td>\n",
       "      <td>0</td>\n",
       "      <td>NaN</td>\n",
       "    </tr>\n",
       "    <tr>\n",
       "      <th>455</th>\n",
       "      <td>Andaman &amp; Nicobar Islands</td>\n",
       "      <td>2004</td>\n",
       "      <td>Criminal Breach of Trust - Property</td>\n",
       "      <td>0</td>\n",
       "      <td>0</td>\n",
       "      <td>0</td>\n",
       "      <td>0</td>\n",
       "      <td>0</td>\n",
       "      <td>NaN</td>\n",
       "    </tr>\n",
       "    <tr>\n",
       "      <th>...</th>\n",
       "      <td>...</td>\n",
       "      <td>...</td>\n",
       "      <td>...</td>\n",
       "      <td>...</td>\n",
       "      <td>...</td>\n",
       "      <td>...</td>\n",
       "      <td>...</td>\n",
       "      <td>...</td>\n",
       "      <td>...</td>\n",
       "    </tr>\n",
       "    <tr>\n",
       "      <th>1652</th>\n",
       "      <td>Dadra &amp; Nagar Haveli</td>\n",
       "      <td>2008</td>\n",
       "      <td>Robbery - Property</td>\n",
       "      <td>0</td>\n",
       "      <td>0</td>\n",
       "      <td>0</td>\n",
       "      <td>0</td>\n",
       "      <td>0</td>\n",
       "      <td>NaN</td>\n",
       "    </tr>\n",
       "    <tr>\n",
       "      <th>1663</th>\n",
       "      <td>Lakshadweep</td>\n",
       "      <td>2008</td>\n",
       "      <td>Robbery - Property</td>\n",
       "      <td>0</td>\n",
       "      <td>0</td>\n",
       "      <td>0</td>\n",
       "      <td>0</td>\n",
       "      <td>0</td>\n",
       "      <td>NaN</td>\n",
       "    </tr>\n",
       "    <tr>\n",
       "      <th>1698</th>\n",
       "      <td>Lakshadweep</td>\n",
       "      <td>2009</td>\n",
       "      <td>Robbery - Property</td>\n",
       "      <td>0</td>\n",
       "      <td>0</td>\n",
       "      <td>0</td>\n",
       "      <td>0</td>\n",
       "      <td>0</td>\n",
       "      <td>NaN</td>\n",
       "    </tr>\n",
       "    <tr>\n",
       "      <th>1723</th>\n",
       "      <td>Daman &amp; Diu</td>\n",
       "      <td>2010</td>\n",
       "      <td>Robbery - Property</td>\n",
       "      <td>0</td>\n",
       "      <td>0</td>\n",
       "      <td>0</td>\n",
       "      <td>0</td>\n",
       "      <td>0</td>\n",
       "      <td>NaN</td>\n",
       "    </tr>\n",
       "    <tr>\n",
       "      <th>1733</th>\n",
       "      <td>Lakshadweep</td>\n",
       "      <td>2010</td>\n",
       "      <td>Robbery - Property</td>\n",
       "      <td>0</td>\n",
       "      <td>0</td>\n",
       "      <td>0</td>\n",
       "      <td>0</td>\n",
       "      <td>0</td>\n",
       "      <td>NaN</td>\n",
       "    </tr>\n",
       "  </tbody>\n",
       "</table>\n",
       "<p>108 rows × 9 columns</p>\n",
       "</div>"
      ],
      "text/plain": [
       "                      Area_Name  Year                           Group_Name  \\\n",
       "403                 Lakshadweep  2002  Criminal Breach of Trust - Property   \n",
       "418                 Uttarakhand  2002  Criminal Breach of Trust - Property   \n",
       "438                 Lakshadweep  2003  Criminal Breach of Trust - Property   \n",
       "453                 Uttarakhand  2003  Criminal Breach of Trust - Property   \n",
       "455   Andaman & Nicobar Islands  2004  Criminal Breach of Trust - Property   \n",
       "...                         ...   ...                                  ...   \n",
       "1652       Dadra & Nagar Haveli  2008                   Robbery - Property   \n",
       "1663                Lakshadweep  2008                   Robbery - Property   \n",
       "1698                Lakshadweep  2009                   Robbery - Property   \n",
       "1723                Daman & Diu  2010                   Robbery - Property   \n",
       "1733                Lakshadweep  2010                   Robbery - Property   \n",
       "\n",
       "      Cases_Property_Recovered  Cases_Property_Stolen  \\\n",
       "403                          0                      0   \n",
       "418                          0                      0   \n",
       "438                          0                      0   \n",
       "453                          0                      0   \n",
       "455                          0                      0   \n",
       "...                        ...                    ...   \n",
       "1652                         0                      0   \n",
       "1663                         0                      0   \n",
       "1698                         0                      0   \n",
       "1723                         0                      0   \n",
       "1733                         0                      0   \n",
       "\n",
       "      Value_of_Property_Recovered  Value_of_Property_Stolen  Case Difference  \\\n",
       "403                             0                         0                0   \n",
       "418                             0                         0                0   \n",
       "438                             0                         0                0   \n",
       "453                             0                         0                0   \n",
       "455                             0                         0                0   \n",
       "...                           ...                       ...              ...   \n",
       "1652                            0                         0                0   \n",
       "1663                            0                         0                0   \n",
       "1698                            0                         0                0   \n",
       "1723                            0                         0                0   \n",
       "1733                            0                         0                0   \n",
       "\n",
       "      Recovered Percentage  \n",
       "403                    NaN  \n",
       "418                    NaN  \n",
       "438                    NaN  \n",
       "453                    NaN  \n",
       "455                    NaN  \n",
       "...                    ...  \n",
       "1652                   NaN  \n",
       "1663                   NaN  \n",
       "1698                   NaN  \n",
       "1723                   NaN  \n",
       "1733                   NaN  \n",
       "\n",
       "[108 rows x 9 columns]"
      ]
     },
     "execution_count": 70,
     "metadata": {},
     "output_type": "execute_result"
    }
   ],
   "source": [
    "df[pd.isnull(df).any(axis = 1)]"
   ]
  },
  {
   "cell_type": "code",
   "execution_count": null,
   "metadata": {},
   "outputs": [],
   "source": []
  },
  {
   "cell_type": "code",
   "execution_count": 71,
   "metadata": {},
   "outputs": [],
   "source": [
    "df['Recovered Percentage'].fillna(0,inplace=True)"
   ]
  },
  {
   "cell_type": "code",
   "execution_count": 80,
   "metadata": {},
   "outputs": [
    {
     "data": {
      "text/plain": [
       "<matplotlib.axes._subplots.AxesSubplot at 0x18a3fde4490>"
      ]
     },
     "execution_count": 80,
     "metadata": {},
     "output_type": "execute_result"
    },
    {
     "data": {
      "image/png": "[encoded data removed]",
      "text/plain": [
       "<Figure size 1440x720 with 1 Axes>"
      ]
     },
     "metadata": {
      "needs_background": "light"
     },
     "output_type": "display_data"
    }
   ],
   "source": [
    "plt.figure(figsize=(20,10))\n",
    "\n",
    "sns.barplot(x='Area_Name',y='Recovered Percentage',data=df.sort_values(by='Recovered Percentage',ascending=False).head(30))"
   ]
  },
  {
   "cell_type": "markdown",
   "metadata": {},
   "source": [
    "From the above insights Uttar Pradesh has high Recovered Percentage."
   ]
  },
  {
   "cell_type": "code",
   "execution_count": null,
   "metadata": {},
   "outputs": [],
   "source": []
  }
 ],
 "metadata": {
  "kernelspec": {
   "display_name": "Python 3",
   "language": "python",
   "name": "python3"
  },
  "language_info": {
   "codemirror_mode": {
    "name": "ipython",
    "version": 3
   },
   "file_extension": ".py",
   "mimetype": "text/x-python",
   "name": "python",
   "nbconvert_exporter": "python",
   "pygments_lexer": "ipython3",
   "version": "3.8.3"
  }
 },
 "nbformat": 4,
 "nbformat_minor": 4
}
