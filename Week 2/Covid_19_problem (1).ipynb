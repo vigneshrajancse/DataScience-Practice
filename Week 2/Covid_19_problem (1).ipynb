{
 "cells": [
  {
   "cell_type": "code",
   "execution_count": 1,
   "metadata": {
    "executionInfo": {
     "elapsed": 2987,
     "status": "ok",
     "timestamp": 1612251656566,
     "user": {
      "displayName": "Vignesh Rajan",
      "photoUrl": "https://lh5.googleusercontent.com/-5Vo5G1cmwmA/AAAAAAAAAAI/AAAAAAAAU2Q/fb2hijKsJVY/s64/photo.jpg",
      "userId": "09845238569818558583"
     },
     "user_tz": -330
    },
    "id": "sur0edTtzFYC"
   },
   "outputs": [],
   "source": [
    "import pandas as pd\n",
    "import matplotlib.pyplot as plt\n",
    "import seaborn as sns\n",
    "import numpy as np"
   ]
  },
  {
   "cell_type": "code",
   "execution_count": null,
   "metadata": {
    "executionInfo": {
     "elapsed": 3345,
     "status": "ok",
     "timestamp": 1612251656937,
     "user": {
      "displayName": "Vignesh Rajan",
      "photoUrl": "https://lh5.googleusercontent.com/-5Vo5G1cmwmA/AAAAAAAAAAI/AAAAAAAAU2Q/fb2hijKsJVY/s64/photo.jpg",
      "userId": "09845238569818558583"
     },
     "user_tz": -330
    },
    "id": "AGON71m5Pf0e"
   },
   "outputs": [],
   "source": []
  },
  {
   "cell_type": "code",
   "execution_count": 2,
   "metadata": {
    "colab": {
     "base_uri": "https://localhost:8080/",
     "height": 1000
    },
    "executionInfo": {
     "elapsed": 4815,
     "status": "ok",
     "timestamp": 1612251658418,
     "user": {
      "displayName": "Vignesh Rajan",
      "photoUrl": "https://lh5.googleusercontent.com/-5Vo5G1cmwmA/AAAAAAAAAAI/AAAAAAAAU2Q/fb2hijKsJVY/s64/photo.jpg",
      "userId": "09845238569818558583"
     },
     "user_tz": -330
    },
    "id": "hRHDxLPfzFYX",
    "outputId": "6008ffe9-713d-457c-a928-3e264b610cd2"
   },
   "outputs": [
    {
     "data": {
      "text/html": [
       "<div>\n",
       "<style scoped>\n",
       "    .dataframe tbody tr th:only-of-type {\n",
       "        vertical-align: middle;\n",
       "    }\n",
       "\n",
       "    .dataframe tbody tr th {\n",
       "        vertical-align: top;\n",
       "    }\n",
       "\n",
       "    .dataframe thead th {\n",
       "        text-align: right;\n",
       "    }\n",
       "</style>\n",
       "<table border=\"1\" class=\"dataframe\">\n",
       "  <thead>\n",
       "    <tr style=\"text-align: right;\">\n",
       "      <th></th>\n",
       "      <th>Date</th>\n",
       "      <th>Country</th>\n",
       "      <th>Confirmed</th>\n",
       "      <th>Recovered</th>\n",
       "      <th>Deaths</th>\n",
       "    </tr>\n",
       "  </thead>\n",
       "  <tbody>\n",
       "    <tr>\n",
       "      <th>0</th>\n",
       "      <td>2020-01-22</td>\n",
       "      <td>Afghanistan</td>\n",
       "      <td>0</td>\n",
       "      <td>0</td>\n",
       "      <td>0</td>\n",
       "    </tr>\n",
       "    <tr>\n",
       "      <th>1</th>\n",
       "      <td>2020-01-22</td>\n",
       "      <td>Albania</td>\n",
       "      <td>0</td>\n",
       "      <td>0</td>\n",
       "      <td>0</td>\n",
       "    </tr>\n",
       "    <tr>\n",
       "      <th>2</th>\n",
       "      <td>2020-01-22</td>\n",
       "      <td>Algeria</td>\n",
       "      <td>0</td>\n",
       "      <td>0</td>\n",
       "      <td>0</td>\n",
       "    </tr>\n",
       "    <tr>\n",
       "      <th>3</th>\n",
       "      <td>2020-01-22</td>\n",
       "      <td>Andorra</td>\n",
       "      <td>0</td>\n",
       "      <td>0</td>\n",
       "      <td>0</td>\n",
       "    </tr>\n",
       "    <tr>\n",
       "      <th>4</th>\n",
       "      <td>2020-01-22</td>\n",
       "      <td>Angola</td>\n",
       "      <td>0</td>\n",
       "      <td>0</td>\n",
       "      <td>0</td>\n",
       "    </tr>\n",
       "    <tr>\n",
       "      <th>5</th>\n",
       "      <td>2020-01-22</td>\n",
       "      <td>Antigua and Barbuda</td>\n",
       "      <td>0</td>\n",
       "      <td>0</td>\n",
       "      <td>0</td>\n",
       "    </tr>\n",
       "    <tr>\n",
       "      <th>6</th>\n",
       "      <td>2020-01-22</td>\n",
       "      <td>Argentina</td>\n",
       "      <td>0</td>\n",
       "      <td>0</td>\n",
       "      <td>0</td>\n",
       "    </tr>\n",
       "    <tr>\n",
       "      <th>7</th>\n",
       "      <td>2020-01-22</td>\n",
       "      <td>Armenia</td>\n",
       "      <td>0</td>\n",
       "      <td>0</td>\n",
       "      <td>0</td>\n",
       "    </tr>\n",
       "    <tr>\n",
       "      <th>8</th>\n",
       "      <td>2020-01-22</td>\n",
       "      <td>Australia</td>\n",
       "      <td>0</td>\n",
       "      <td>0</td>\n",
       "      <td>0</td>\n",
       "    </tr>\n",
       "    <tr>\n",
       "      <th>9</th>\n",
       "      <td>2020-01-22</td>\n",
       "      <td>Austria</td>\n",
       "      <td>0</td>\n",
       "      <td>0</td>\n",
       "      <td>0</td>\n",
       "    </tr>\n",
       "    <tr>\n",
       "      <th>10</th>\n",
       "      <td>2020-01-22</td>\n",
       "      <td>Azerbaijan</td>\n",
       "      <td>0</td>\n",
       "      <td>0</td>\n",
       "      <td>0</td>\n",
       "    </tr>\n",
       "    <tr>\n",
       "      <th>11</th>\n",
       "      <td>2020-01-22</td>\n",
       "      <td>Bahamas</td>\n",
       "      <td>0</td>\n",
       "      <td>0</td>\n",
       "      <td>0</td>\n",
       "    </tr>\n",
       "    <tr>\n",
       "      <th>12</th>\n",
       "      <td>2020-01-22</td>\n",
       "      <td>Bahrain</td>\n",
       "      <td>0</td>\n",
       "      <td>0</td>\n",
       "      <td>0</td>\n",
       "    </tr>\n",
       "    <tr>\n",
       "      <th>13</th>\n",
       "      <td>2020-01-22</td>\n",
       "      <td>Bangladesh</td>\n",
       "      <td>0</td>\n",
       "      <td>0</td>\n",
       "      <td>0</td>\n",
       "    </tr>\n",
       "    <tr>\n",
       "      <th>14</th>\n",
       "      <td>2020-01-22</td>\n",
       "      <td>Barbados</td>\n",
       "      <td>0</td>\n",
       "      <td>0</td>\n",
       "      <td>0</td>\n",
       "    </tr>\n",
       "    <tr>\n",
       "      <th>15</th>\n",
       "      <td>2020-01-22</td>\n",
       "      <td>Belarus</td>\n",
       "      <td>0</td>\n",
       "      <td>0</td>\n",
       "      <td>0</td>\n",
       "    </tr>\n",
       "    <tr>\n",
       "      <th>16</th>\n",
       "      <td>2020-01-22</td>\n",
       "      <td>Belgium</td>\n",
       "      <td>0</td>\n",
       "      <td>0</td>\n",
       "      <td>0</td>\n",
       "    </tr>\n",
       "    <tr>\n",
       "      <th>17</th>\n",
       "      <td>2020-01-22</td>\n",
       "      <td>Belize</td>\n",
       "      <td>0</td>\n",
       "      <td>0</td>\n",
       "      <td>0</td>\n",
       "    </tr>\n",
       "    <tr>\n",
       "      <th>18</th>\n",
       "      <td>2020-01-22</td>\n",
       "      <td>Benin</td>\n",
       "      <td>0</td>\n",
       "      <td>0</td>\n",
       "      <td>0</td>\n",
       "    </tr>\n",
       "    <tr>\n",
       "      <th>19</th>\n",
       "      <td>2020-01-22</td>\n",
       "      <td>Bhutan</td>\n",
       "      <td>0</td>\n",
       "      <td>0</td>\n",
       "      <td>0</td>\n",
       "    </tr>\n",
       "    <tr>\n",
       "      <th>20</th>\n",
       "      <td>2020-01-22</td>\n",
       "      <td>Bolivia</td>\n",
       "      <td>0</td>\n",
       "      <td>0</td>\n",
       "      <td>0</td>\n",
       "    </tr>\n",
       "    <tr>\n",
       "      <th>21</th>\n",
       "      <td>2020-01-22</td>\n",
       "      <td>Bosnia and Herzegovina</td>\n",
       "      <td>0</td>\n",
       "      <td>0</td>\n",
       "      <td>0</td>\n",
       "    </tr>\n",
       "    <tr>\n",
       "      <th>22</th>\n",
       "      <td>2020-01-22</td>\n",
       "      <td>Botswana</td>\n",
       "      <td>0</td>\n",
       "      <td>0</td>\n",
       "      <td>0</td>\n",
       "    </tr>\n",
       "    <tr>\n",
       "      <th>23</th>\n",
       "      <td>2020-01-22</td>\n",
       "      <td>Brazil</td>\n",
       "      <td>0</td>\n",
       "      <td>0</td>\n",
       "      <td>0</td>\n",
       "    </tr>\n",
       "    <tr>\n",
       "      <th>24</th>\n",
       "      <td>2020-01-22</td>\n",
       "      <td>Brunei</td>\n",
       "      <td>0</td>\n",
       "      <td>0</td>\n",
       "      <td>0</td>\n",
       "    </tr>\n",
       "    <tr>\n",
       "      <th>25</th>\n",
       "      <td>2020-01-22</td>\n",
       "      <td>Bulgaria</td>\n",
       "      <td>0</td>\n",
       "      <td>0</td>\n",
       "      <td>0</td>\n",
       "    </tr>\n",
       "    <tr>\n",
       "      <th>26</th>\n",
       "      <td>2020-01-22</td>\n",
       "      <td>Burkina Faso</td>\n",
       "      <td>0</td>\n",
       "      <td>0</td>\n",
       "      <td>0</td>\n",
       "    </tr>\n",
       "    <tr>\n",
       "      <th>27</th>\n",
       "      <td>2020-01-22</td>\n",
       "      <td>Burma</td>\n",
       "      <td>0</td>\n",
       "      <td>0</td>\n",
       "      <td>0</td>\n",
       "    </tr>\n",
       "    <tr>\n",
       "      <th>28</th>\n",
       "      <td>2020-01-22</td>\n",
       "      <td>Burundi</td>\n",
       "      <td>0</td>\n",
       "      <td>0</td>\n",
       "      <td>0</td>\n",
       "    </tr>\n",
       "    <tr>\n",
       "      <th>29</th>\n",
       "      <td>2020-01-22</td>\n",
       "      <td>Cabo Verde</td>\n",
       "      <td>0</td>\n",
       "      <td>0</td>\n",
       "      <td>0</td>\n",
       "    </tr>\n",
       "    <tr>\n",
       "      <th>30</th>\n",
       "      <td>2020-01-22</td>\n",
       "      <td>Cambodia</td>\n",
       "      <td>0</td>\n",
       "      <td>0</td>\n",
       "      <td>0</td>\n",
       "    </tr>\n",
       "    <tr>\n",
       "      <th>31</th>\n",
       "      <td>2020-01-22</td>\n",
       "      <td>Cameroon</td>\n",
       "      <td>0</td>\n",
       "      <td>0</td>\n",
       "      <td>0</td>\n",
       "    </tr>\n",
       "    <tr>\n",
       "      <th>32</th>\n",
       "      <td>2020-01-22</td>\n",
       "      <td>Canada</td>\n",
       "      <td>0</td>\n",
       "      <td>0</td>\n",
       "      <td>0</td>\n",
       "    </tr>\n",
       "    <tr>\n",
       "      <th>33</th>\n",
       "      <td>2020-01-22</td>\n",
       "      <td>Central African Republic</td>\n",
       "      <td>0</td>\n",
       "      <td>0</td>\n",
       "      <td>0</td>\n",
       "    </tr>\n",
       "    <tr>\n",
       "      <th>34</th>\n",
       "      <td>2020-01-22</td>\n",
       "      <td>Chad</td>\n",
       "      <td>0</td>\n",
       "      <td>0</td>\n",
       "      <td>0</td>\n",
       "    </tr>\n",
       "    <tr>\n",
       "      <th>35</th>\n",
       "      <td>2020-01-22</td>\n",
       "      <td>Chile</td>\n",
       "      <td>0</td>\n",
       "      <td>0</td>\n",
       "      <td>0</td>\n",
       "    </tr>\n",
       "    <tr>\n",
       "      <th>36</th>\n",
       "      <td>2020-01-22</td>\n",
       "      <td>China</td>\n",
       "      <td>548</td>\n",
       "      <td>28</td>\n",
       "      <td>17</td>\n",
       "    </tr>\n",
       "    <tr>\n",
       "      <th>37</th>\n",
       "      <td>2020-01-22</td>\n",
       "      <td>Colombia</td>\n",
       "      <td>0</td>\n",
       "      <td>0</td>\n",
       "      <td>0</td>\n",
       "    </tr>\n",
       "    <tr>\n",
       "      <th>38</th>\n",
       "      <td>2020-01-22</td>\n",
       "      <td>Comoros</td>\n",
       "      <td>0</td>\n",
       "      <td>0</td>\n",
       "      <td>0</td>\n",
       "    </tr>\n",
       "    <tr>\n",
       "      <th>39</th>\n",
       "      <td>2020-01-22</td>\n",
       "      <td>Congo (Brazzaville)</td>\n",
       "      <td>0</td>\n",
       "      <td>0</td>\n",
       "      <td>0</td>\n",
       "    </tr>\n",
       "    <tr>\n",
       "      <th>40</th>\n",
       "      <td>2020-01-22</td>\n",
       "      <td>Congo (Kinshasa)</td>\n",
       "      <td>0</td>\n",
       "      <td>0</td>\n",
       "      <td>0</td>\n",
       "    </tr>\n",
       "    <tr>\n",
       "      <th>41</th>\n",
       "      <td>2020-01-22</td>\n",
       "      <td>Costa Rica</td>\n",
       "      <td>0</td>\n",
       "      <td>0</td>\n",
       "      <td>0</td>\n",
       "    </tr>\n",
       "    <tr>\n",
       "      <th>42</th>\n",
       "      <td>2020-01-22</td>\n",
       "      <td>Cote d'Ivoire</td>\n",
       "      <td>0</td>\n",
       "      <td>0</td>\n",
       "      <td>0</td>\n",
       "    </tr>\n",
       "    <tr>\n",
       "      <th>43</th>\n",
       "      <td>2020-01-22</td>\n",
       "      <td>Croatia</td>\n",
       "      <td>0</td>\n",
       "      <td>0</td>\n",
       "      <td>0</td>\n",
       "    </tr>\n",
       "    <tr>\n",
       "      <th>44</th>\n",
       "      <td>2020-01-22</td>\n",
       "      <td>Cuba</td>\n",
       "      <td>0</td>\n",
       "      <td>0</td>\n",
       "      <td>0</td>\n",
       "    </tr>\n",
       "    <tr>\n",
       "      <th>45</th>\n",
       "      <td>2020-01-22</td>\n",
       "      <td>Cyprus</td>\n",
       "      <td>0</td>\n",
       "      <td>0</td>\n",
       "      <td>0</td>\n",
       "    </tr>\n",
       "    <tr>\n",
       "      <th>46</th>\n",
       "      <td>2020-01-22</td>\n",
       "      <td>Czechia</td>\n",
       "      <td>0</td>\n",
       "      <td>0</td>\n",
       "      <td>0</td>\n",
       "    </tr>\n",
       "    <tr>\n",
       "      <th>47</th>\n",
       "      <td>2020-01-22</td>\n",
       "      <td>Denmark</td>\n",
       "      <td>0</td>\n",
       "      <td>0</td>\n",
       "      <td>0</td>\n",
       "    </tr>\n",
       "    <tr>\n",
       "      <th>48</th>\n",
       "      <td>2020-01-22</td>\n",
       "      <td>Diamond Princess</td>\n",
       "      <td>0</td>\n",
       "      <td>0</td>\n",
       "      <td>0</td>\n",
       "    </tr>\n",
       "    <tr>\n",
       "      <th>49</th>\n",
       "      <td>2020-01-22</td>\n",
       "      <td>Djibouti</td>\n",
       "      <td>0</td>\n",
       "      <td>0</td>\n",
       "      <td>0</td>\n",
       "    </tr>\n",
       "  </tbody>\n",
       "</table>\n",
       "</div>"
      ],
      "text/plain": [
       "          Date                   Country  Confirmed  Recovered  Deaths\n",
       "0   2020-01-22               Afghanistan          0          0       0\n",
       "1   2020-01-22                   Albania          0          0       0\n",
       "2   2020-01-22                   Algeria          0          0       0\n",
       "3   2020-01-22                   Andorra          0          0       0\n",
       "4   2020-01-22                    Angola          0          0       0\n",
       "5   2020-01-22       Antigua and Barbuda          0          0       0\n",
       "6   2020-01-22                 Argentina          0          0       0\n",
       "7   2020-01-22                   Armenia          0          0       0\n",
       "8   2020-01-22                 Australia          0          0       0\n",
       "9   2020-01-22                   Austria          0          0       0\n",
       "10  2020-01-22                Azerbaijan          0          0       0\n",
       "11  2020-01-22                   Bahamas          0          0       0\n",
       "12  2020-01-22                   Bahrain          0          0       0\n",
       "13  2020-01-22                Bangladesh          0          0       0\n",
       "14  2020-01-22                  Barbados          0          0       0\n",
       "15  2020-01-22                   Belarus          0          0       0\n",
       "16  2020-01-22                   Belgium          0          0       0\n",
       "17  2020-01-22                    Belize          0          0       0\n",
       "18  2020-01-22                     Benin          0          0       0\n",
       "19  2020-01-22                    Bhutan          0          0       0\n",
       "20  2020-01-22                   Bolivia          0          0       0\n",
       "21  2020-01-22    Bosnia and Herzegovina          0          0       0\n",
       "22  2020-01-22                  Botswana          0          0       0\n",
       "23  2020-01-22                    Brazil          0          0       0\n",
       "24  2020-01-22                    Brunei          0          0       0\n",
       "25  2020-01-22                  Bulgaria          0          0       0\n",
       "26  2020-01-22              Burkina Faso          0          0       0\n",
       "27  2020-01-22                     Burma          0          0       0\n",
       "28  2020-01-22                   Burundi          0          0       0\n",
       "29  2020-01-22                Cabo Verde          0          0       0\n",
       "30  2020-01-22                  Cambodia          0          0       0\n",
       "31  2020-01-22                  Cameroon          0          0       0\n",
       "32  2020-01-22                    Canada          0          0       0\n",
       "33  2020-01-22  Central African Republic          0          0       0\n",
       "34  2020-01-22                      Chad          0          0       0\n",
       "35  2020-01-22                     Chile          0          0       0\n",
       "36  2020-01-22                     China        548         28      17\n",
       "37  2020-01-22                  Colombia          0          0       0\n",
       "38  2020-01-22                   Comoros          0          0       0\n",
       "39  2020-01-22       Congo (Brazzaville)          0          0       0\n",
       "40  2020-01-22          Congo (Kinshasa)          0          0       0\n",
       "41  2020-01-22                Costa Rica          0          0       0\n",
       "42  2020-01-22             Cote d'Ivoire          0          0       0\n",
       "43  2020-01-22                   Croatia          0          0       0\n",
       "44  2020-01-22                      Cuba          0          0       0\n",
       "45  2020-01-22                    Cyprus          0          0       0\n",
       "46  2020-01-22                   Czechia          0          0       0\n",
       "47  2020-01-22                   Denmark          0          0       0\n",
       "48  2020-01-22          Diamond Princess          0          0       0\n",
       "49  2020-01-22                  Djibouti          0          0       0"
      ]
     },
     "execution_count": 2,
     "metadata": {},
     "output_type": "execute_result"
    }
   ],
   "source": [
    "df=pd.read_csv(\"Covid_19.csv\")\n",
    "df.head(50)"
   ]
  },
  {
   "cell_type": "code",
   "execution_count": 3,
   "metadata": {
    "colab": {
     "base_uri": "https://localhost:8080/",
     "height": 297
    },
    "executionInfo": {
     "elapsed": 4795,
     "status": "ok",
     "timestamp": 1612251658421,
     "user": {
      "displayName": "Vignesh Rajan",
      "photoUrl": "https://lh5.googleusercontent.com/-5Vo5G1cmwmA/AAAAAAAAAAI/AAAAAAAAU2Q/fb2hijKsJVY/s64/photo.jpg",
      "userId": "09845238569818558583"
     },
     "user_tz": -330
    },
    "id": "MkKnLT96zFYd",
    "outputId": "a28736b5-af5e-4d92-b0f7-eeb345b82d63"
   },
   "outputs": [
    {
     "data": {
      "text/html": [
       "<div>\n",
       "<style scoped>\n",
       "    .dataframe tbody tr th:only-of-type {\n",
       "        vertical-align: middle;\n",
       "    }\n",
       "\n",
       "    .dataframe tbody tr th {\n",
       "        vertical-align: top;\n",
       "    }\n",
       "\n",
       "    .dataframe thead th {\n",
       "        text-align: right;\n",
       "    }\n",
       "</style>\n",
       "<table border=\"1\" class=\"dataframe\">\n",
       "  <thead>\n",
       "    <tr style=\"text-align: right;\">\n",
       "      <th></th>\n",
       "      <th>Confirmed</th>\n",
       "      <th>Recovered</th>\n",
       "      <th>Deaths</th>\n",
       "    </tr>\n",
       "  </thead>\n",
       "  <tbody>\n",
       "    <tr>\n",
       "      <th>count</th>\n",
       "      <td>2.368800e+04</td>\n",
       "      <td>23688.000000</td>\n",
       "      <td>23688.000000</td>\n",
       "    </tr>\n",
       "    <tr>\n",
       "      <th>mean</th>\n",
       "      <td>7.969368e+03</td>\n",
       "      <td>2581.801714</td>\n",
       "      <td>526.935030</td>\n",
       "    </tr>\n",
       "    <tr>\n",
       "      <th>std</th>\n",
       "      <td>5.842109e+04</td>\n",
       "      <td>15143.101257</td>\n",
       "      <td>3992.815956</td>\n",
       "    </tr>\n",
       "    <tr>\n",
       "      <th>min</th>\n",
       "      <td>0.000000e+00</td>\n",
       "      <td>0.000000</td>\n",
       "      <td>0.000000</td>\n",
       "    </tr>\n",
       "    <tr>\n",
       "      <th>25%</th>\n",
       "      <td>0.000000e+00</td>\n",
       "      <td>0.000000</td>\n",
       "      <td>0.000000</td>\n",
       "    </tr>\n",
       "    <tr>\n",
       "      <th>50%</th>\n",
       "      <td>1.800000e+01</td>\n",
       "      <td>1.000000</td>\n",
       "      <td>0.000000</td>\n",
       "    </tr>\n",
       "    <tr>\n",
       "      <th>75%</th>\n",
       "      <td>7.300000e+02</td>\n",
       "      <td>123.000000</td>\n",
       "      <td>13.000000</td>\n",
       "    </tr>\n",
       "    <tr>\n",
       "      <th>max</th>\n",
       "      <td>1.680913e+06</td>\n",
       "      <td>384902.000000</td>\n",
       "      <td>98913.000000</td>\n",
       "    </tr>\n",
       "  </tbody>\n",
       "</table>\n",
       "</div>"
      ],
      "text/plain": [
       "          Confirmed      Recovered        Deaths\n",
       "count  2.368800e+04   23688.000000  23688.000000\n",
       "mean   7.969368e+03    2581.801714    526.935030\n",
       "std    5.842109e+04   15143.101257   3992.815956\n",
       "min    0.000000e+00       0.000000      0.000000\n",
       "25%    0.000000e+00       0.000000      0.000000\n",
       "50%    1.800000e+01       1.000000      0.000000\n",
       "75%    7.300000e+02     123.000000     13.000000\n",
       "max    1.680913e+06  384902.000000  98913.000000"
      ]
     },
     "execution_count": 3,
     "metadata": {},
     "output_type": "execute_result"
    }
   ],
   "source": [
    "df.describe()"
   ]
  },
  {
   "cell_type": "code",
   "execution_count": 4,
   "metadata": {
    "colab": {
     "base_uri": "https://localhost:8080/",
     "height": 204
    },
    "executionInfo": {
     "elapsed": 4779,
     "status": "ok",
     "timestamp": 1612251658423,
     "user": {
      "displayName": "Vignesh Rajan",
      "photoUrl": "https://lh5.googleusercontent.com/-5Vo5G1cmwmA/AAAAAAAAAAI/AAAAAAAAU2Q/fb2hijKsJVY/s64/photo.jpg",
      "userId": "09845238569818558583"
     },
     "user_tz": -330
    },
    "id": "a8tbkmIbzFYf",
    "outputId": "b8fa5723-dc45-46ff-8adb-4bd631634a8f"
   },
   "outputs": [
    {
     "data": {
      "text/html": [
       "<div>\n",
       "<style scoped>\n",
       "    .dataframe tbody tr th:only-of-type {\n",
       "        vertical-align: middle;\n",
       "    }\n",
       "\n",
       "    .dataframe tbody tr th {\n",
       "        vertical-align: top;\n",
       "    }\n",
       "\n",
       "    .dataframe thead th {\n",
       "        text-align: right;\n",
       "    }\n",
       "</style>\n",
       "<table border=\"1\" class=\"dataframe\">\n",
       "  <thead>\n",
       "    <tr style=\"text-align: right;\">\n",
       "      <th></th>\n",
       "      <th>Date</th>\n",
       "      <th>Country</th>\n",
       "      <th>Confirmed</th>\n",
       "      <th>Recovered</th>\n",
       "      <th>Deaths</th>\n",
       "      <th>Year</th>\n",
       "    </tr>\n",
       "  </thead>\n",
       "  <tbody>\n",
       "    <tr>\n",
       "      <th>0</th>\n",
       "      <td>2020-01-22</td>\n",
       "      <td>Afghanistan</td>\n",
       "      <td>0</td>\n",
       "      <td>0</td>\n",
       "      <td>0</td>\n",
       "      <td>2020</td>\n",
       "    </tr>\n",
       "    <tr>\n",
       "      <th>1</th>\n",
       "      <td>2020-01-22</td>\n",
       "      <td>Albania</td>\n",
       "      <td>0</td>\n",
       "      <td>0</td>\n",
       "      <td>0</td>\n",
       "      <td>2020</td>\n",
       "    </tr>\n",
       "    <tr>\n",
       "      <th>2</th>\n",
       "      <td>2020-01-22</td>\n",
       "      <td>Algeria</td>\n",
       "      <td>0</td>\n",
       "      <td>0</td>\n",
       "      <td>0</td>\n",
       "      <td>2020</td>\n",
       "    </tr>\n",
       "    <tr>\n",
       "      <th>3</th>\n",
       "      <td>2020-01-22</td>\n",
       "      <td>Andorra</td>\n",
       "      <td>0</td>\n",
       "      <td>0</td>\n",
       "      <td>0</td>\n",
       "      <td>2020</td>\n",
       "    </tr>\n",
       "    <tr>\n",
       "      <th>4</th>\n",
       "      <td>2020-01-22</td>\n",
       "      <td>Angola</td>\n",
       "      <td>0</td>\n",
       "      <td>0</td>\n",
       "      <td>0</td>\n",
       "      <td>2020</td>\n",
       "    </tr>\n",
       "  </tbody>\n",
       "</table>\n",
       "</div>"
      ],
      "text/plain": [
       "         Date      Country  Confirmed  Recovered  Deaths  Year\n",
       "0  2020-01-22  Afghanistan          0          0       0  2020\n",
       "1  2020-01-22      Albania          0          0       0  2020\n",
       "2  2020-01-22      Algeria          0          0       0  2020\n",
       "3  2020-01-22      Andorra          0          0       0  2020\n",
       "4  2020-01-22       Angola          0          0       0  2020"
      ]
     },
     "execution_count": 4,
     "metadata": {},
     "output_type": "execute_result"
    }
   ],
   "source": [
    "df['Year'] = pd.DatetimeIndex(df['Date']).year\n",
    "\n",
    "df.head()"
   ]
  },
  {
   "cell_type": "code",
   "execution_count": 5,
   "metadata": {
    "colab": {
     "base_uri": "https://localhost:8080/",
     "height": 204
    },
    "executionInfo": {
     "elapsed": 4760,
     "status": "ok",
     "timestamp": 1612251658425,
     "user": {
      "displayName": "Vignesh Rajan",
      "photoUrl": "https://lh5.googleusercontent.com/-5Vo5G1cmwmA/AAAAAAAAAAI/AAAAAAAAU2Q/fb2hijKsJVY/s64/photo.jpg",
      "userId": "09845238569818558583"
     },
     "user_tz": -330
    },
    "id": "MofQW-0QzFYg",
    "outputId": "0b611d05-c2e1-480e-9f74-1d0e451a06a7"
   },
   "outputs": [
    {
     "data": {
      "text/html": [
       "<div>\n",
       "<style scoped>\n",
       "    .dataframe tbody tr th:only-of-type {\n",
       "        vertical-align: middle;\n",
       "    }\n",
       "\n",
       "    .dataframe tbody tr th {\n",
       "        vertical-align: top;\n",
       "    }\n",
       "\n",
       "    .dataframe thead th {\n",
       "        text-align: right;\n",
       "    }\n",
       "</style>\n",
       "<table border=\"1\" class=\"dataframe\">\n",
       "  <thead>\n",
       "    <tr style=\"text-align: right;\">\n",
       "      <th></th>\n",
       "      <th>Date</th>\n",
       "      <th>Country</th>\n",
       "      <th>Confirmed</th>\n",
       "      <th>Recovered</th>\n",
       "      <th>Deaths</th>\n",
       "      <th>Year</th>\n",
       "      <th>Month</th>\n",
       "      <th>Day</th>\n",
       "    </tr>\n",
       "  </thead>\n",
       "  <tbody>\n",
       "    <tr>\n",
       "      <th>0</th>\n",
       "      <td>2020-01-22</td>\n",
       "      <td>Afghanistan</td>\n",
       "      <td>0</td>\n",
       "      <td>0</td>\n",
       "      <td>0</td>\n",
       "      <td>2020</td>\n",
       "      <td>1</td>\n",
       "      <td>22</td>\n",
       "    </tr>\n",
       "    <tr>\n",
       "      <th>1</th>\n",
       "      <td>2020-01-22</td>\n",
       "      <td>Albania</td>\n",
       "      <td>0</td>\n",
       "      <td>0</td>\n",
       "      <td>0</td>\n",
       "      <td>2020</td>\n",
       "      <td>1</td>\n",
       "      <td>22</td>\n",
       "    </tr>\n",
       "    <tr>\n",
       "      <th>2</th>\n",
       "      <td>2020-01-22</td>\n",
       "      <td>Algeria</td>\n",
       "      <td>0</td>\n",
       "      <td>0</td>\n",
       "      <td>0</td>\n",
       "      <td>2020</td>\n",
       "      <td>1</td>\n",
       "      <td>22</td>\n",
       "    </tr>\n",
       "    <tr>\n",
       "      <th>3</th>\n",
       "      <td>2020-01-22</td>\n",
       "      <td>Andorra</td>\n",
       "      <td>0</td>\n",
       "      <td>0</td>\n",
       "      <td>0</td>\n",
       "      <td>2020</td>\n",
       "      <td>1</td>\n",
       "      <td>22</td>\n",
       "    </tr>\n",
       "    <tr>\n",
       "      <th>4</th>\n",
       "      <td>2020-01-22</td>\n",
       "      <td>Angola</td>\n",
       "      <td>0</td>\n",
       "      <td>0</td>\n",
       "      <td>0</td>\n",
       "      <td>2020</td>\n",
       "      <td>1</td>\n",
       "      <td>22</td>\n",
       "    </tr>\n",
       "  </tbody>\n",
       "</table>\n",
       "</div>"
      ],
      "text/plain": [
       "         Date      Country  Confirmed  Recovered  Deaths  Year  Month  Day\n",
       "0  2020-01-22  Afghanistan          0          0       0  2020      1   22\n",
       "1  2020-01-22      Albania          0          0       0  2020      1   22\n",
       "2  2020-01-22      Algeria          0          0       0  2020      1   22\n",
       "3  2020-01-22      Andorra          0          0       0  2020      1   22\n",
       "4  2020-01-22       Angola          0          0       0  2020      1   22"
      ]
     },
     "execution_count": 5,
     "metadata": {},
     "output_type": "execute_result"
    }
   ],
   "source": [
    "df['Month'] = pd.DatetimeIndex(df['Date']).month\n",
    "df['Day'] = pd.DatetimeIndex(df['Date']).day\n",
    "df.head()"
   ]
  },
  {
   "cell_type": "code",
   "execution_count": 6,
   "metadata": {
    "colab": {
     "base_uri": "https://localhost:8080/",
     "height": 204
    },
    "executionInfo": {
     "elapsed": 4744,
     "status": "ok",
     "timestamp": 1612251658428,
     "user": {
      "displayName": "Vignesh Rajan",
      "photoUrl": "https://lh5.googleusercontent.com/-5Vo5G1cmwmA/AAAAAAAAAAI/AAAAAAAAU2Q/fb2hijKsJVY/s64/photo.jpg",
      "userId": "09845238569818558583"
     },
     "user_tz": -330
    },
    "id": "aBZhoMi3zFYj",
    "outputId": "8515b87a-bbe9-45af-c9b7-bac6a74481bb"
   },
   "outputs": [
    {
     "data": {
      "text/html": [
       "<div>\n",
       "<style scoped>\n",
       "    .dataframe tbody tr th:only-of-type {\n",
       "        vertical-align: middle;\n",
       "    }\n",
       "\n",
       "    .dataframe tbody tr th {\n",
       "        vertical-align: top;\n",
       "    }\n",
       "\n",
       "    .dataframe thead th {\n",
       "        text-align: right;\n",
       "    }\n",
       "</style>\n",
       "<table border=\"1\" class=\"dataframe\">\n",
       "  <thead>\n",
       "    <tr style=\"text-align: right;\">\n",
       "      <th></th>\n",
       "      <th>Country</th>\n",
       "      <th>Confirmed</th>\n",
       "      <th>Recovered</th>\n",
       "      <th>Deaths</th>\n",
       "      <th>Year</th>\n",
       "      <th>Month</th>\n",
       "      <th>Day</th>\n",
       "    </tr>\n",
       "  </thead>\n",
       "  <tbody>\n",
       "    <tr>\n",
       "      <th>0</th>\n",
       "      <td>Afghanistan</td>\n",
       "      <td>0</td>\n",
       "      <td>0</td>\n",
       "      <td>0</td>\n",
       "      <td>2020</td>\n",
       "      <td>1</td>\n",
       "      <td>22</td>\n",
       "    </tr>\n",
       "    <tr>\n",
       "      <th>1</th>\n",
       "      <td>Albania</td>\n",
       "      <td>0</td>\n",
       "      <td>0</td>\n",
       "      <td>0</td>\n",
       "      <td>2020</td>\n",
       "      <td>1</td>\n",
       "      <td>22</td>\n",
       "    </tr>\n",
       "    <tr>\n",
       "      <th>2</th>\n",
       "      <td>Algeria</td>\n",
       "      <td>0</td>\n",
       "      <td>0</td>\n",
       "      <td>0</td>\n",
       "      <td>2020</td>\n",
       "      <td>1</td>\n",
       "      <td>22</td>\n",
       "    </tr>\n",
       "    <tr>\n",
       "      <th>3</th>\n",
       "      <td>Andorra</td>\n",
       "      <td>0</td>\n",
       "      <td>0</td>\n",
       "      <td>0</td>\n",
       "      <td>2020</td>\n",
       "      <td>1</td>\n",
       "      <td>22</td>\n",
       "    </tr>\n",
       "    <tr>\n",
       "      <th>4</th>\n",
       "      <td>Angola</td>\n",
       "      <td>0</td>\n",
       "      <td>0</td>\n",
       "      <td>0</td>\n",
       "      <td>2020</td>\n",
       "      <td>1</td>\n",
       "      <td>22</td>\n",
       "    </tr>\n",
       "  </tbody>\n",
       "</table>\n",
       "</div>"
      ],
      "text/plain": [
       "       Country  Confirmed  Recovered  Deaths  Year  Month  Day\n",
       "0  Afghanistan          0          0       0  2020      1   22\n",
       "1      Albania          0          0       0  2020      1   22\n",
       "2      Algeria          0          0       0  2020      1   22\n",
       "3      Andorra          0          0       0  2020      1   22\n",
       "4       Angola          0          0       0  2020      1   22"
      ]
     },
     "execution_count": 6,
     "metadata": {},
     "output_type": "execute_result"
    }
   ],
   "source": [
    "df.drop(['Date'],axis=1,inplace=True)\n",
    "df.head()"
   ]
  },
  {
   "cell_type": "markdown",
   "metadata": {},
   "source": [
    "# Visualization"
   ]
  },
  {
   "cell_type": "code",
   "execution_count": null,
   "metadata": {},
   "outputs": [],
   "source": []
  },
  {
   "cell_type": "code",
   "execution_count": 7,
   "metadata": {
    "colab": {
     "base_uri": "https://localhost:8080/",
     "height": 623
    },
    "executionInfo": {
     "elapsed": 1316,
     "status": "ok",
     "timestamp": 1612252665128,
     "user": {
      "displayName": "Vignesh Rajan",
      "photoUrl": "https://lh5.googleusercontent.com/-5Vo5G1cmwmA/AAAAAAAAAAI/AAAAAAAAU2Q/fb2hijKsJVY/s64/photo.jpg",
      "userId": "09845238569818558583"
     },
     "user_tz": -330
    },
    "id": "WK1JzYMNDx65",
    "outputId": "6d408141-d702-4e85-c569-d3d909d26844"
   },
   "outputs": [
    {
     "data": {
      "text/plain": [
       "<matplotlib.axes._subplots.AxesSubplot at 0x28d7a27ebe0>"
      ]
     },
     "execution_count": 7,
     "metadata": {},
     "output_type": "execute_result"
    },
    {
     "data": {
      "image/png": "[encoded data removed]",
      "text/plain": [
       "<Figure size 1080x720 with 1 Axes>"
      ]
     },
     "metadata": {
      "needs_background": "light"
     },
     "output_type": "display_data"
    }
   ],
   "source": [
    "plt.figure(figsize=(15,10))\n",
    "sns.barplot(x='Country',y='Deaths',data=df.sort_values(by='Deaths', ascending=False).head(600))"
   ]
  },
  {
   "cell_type": "code",
   "execution_count": 8,
   "metadata": {
    "colab": {
     "base_uri": "https://localhost:8080/",
     "height": 623
    },
    "executionInfo": {
     "elapsed": 1582,
     "status": "ok",
     "timestamp": 1612252709323,
     "user": {
      "displayName": "Vignesh Rajan",
      "photoUrl": "https://lh5.googleusercontent.com/-5Vo5G1cmwmA/AAAAAAAAAAI/AAAAAAAAU2Q/fb2hijKsJVY/s64/photo.jpg",
      "userId": "09845238569818558583"
     },
     "user_tz": -330
    },
    "id": "f_bQH8eYMA1N",
    "outputId": "1fde3792-2673-4a5a-83e7-22cdb7be30c1"
   },
   "outputs": [
    {
     "data": {
      "text/plain": [
       "<matplotlib.axes._subplots.AxesSubplot at 0x28d75498ac0>"
      ]
     },
     "execution_count": 8,
     "metadata": {},
     "output_type": "execute_result"
    },
    {
     "data": {
      "image/png": "[encoded data removed]",
      "text/plain": [
       "<Figure size 1080x720 with 1 Axes>"
      ]
     },
     "metadata": {
      "needs_background": "light"
     },
     "output_type": "display_data"
    }
   ],
   "source": [
    "plt.figure(figsize=(15,10))\n",
    "sns.barplot(x='Month',y='Deaths',data=df)"
   ]
  },
  {
   "cell_type": "code",
   "execution_count": 9,
   "metadata": {},
   "outputs": [
    {
     "data": {
      "text/plain": [
       "<matplotlib.axes._subplots.AxesSubplot at 0x28d754a9820>"
      ]
     },
     "execution_count": 9,
     "metadata": {},
     "output_type": "execute_result"
    },
    {
     "data": {
      "image/png": "[encoded data removed]",
      "text/plain": [
       "<Figure size 1080x720 with 1 Axes>"
      ]
     },
     "metadata": {
      "needs_background": "light"
     },
     "output_type": "display_data"
    }
   ],
   "source": [
    "plt.figure(figsize=(15,10))\n",
    "sns.barplot(x='Country',y='Confirmed',data=df.sort_values(by='Confirmed', ascending=False).head(600))"
   ]
  },
  {
   "cell_type": "code",
   "execution_count": 10,
   "metadata": {},
   "outputs": [
    {
     "data": {
      "text/plain": [
       "<matplotlib.axes._subplots.AxesSubplot at 0x28d7a418d60>"
      ]
     },
     "execution_count": 10,
     "metadata": {},
     "output_type": "execute_result"
    },
    {
     "data": {
      "image/png": "[encoded data removed]",
      "text/plain": [
       "<Figure size 1080x720 with 1 Axes>"
      ]
     },
     "metadata": {
      "needs_background": "light"
     },
     "output_type": "display_data"
    }
   ],
   "source": [
    "plt.figure(figsize=(15,10))\n",
    "sns.barplot(x='Country',y='Recovered',data=df.sort_values(by='Recovered', ascending=False).head(600))"
   ]
  },
  {
   "cell_type": "markdown",
   "metadata": {},
   "source": [
    "# Encoding"
   ]
  },
  {
   "cell_type": "code",
   "execution_count": null,
   "metadata": {},
   "outputs": [],
   "source": []
  },
  {
   "cell_type": "code",
   "execution_count": 13,
   "metadata": {
    "executionInfo": {
     "elapsed": 2287,
     "status": "ok",
     "timestamp": 1612252710058,
     "user": {
      "displayName": "Vignesh Rajan",
      "photoUrl": "https://lh5.googleusercontent.com/-5Vo5G1cmwmA/AAAAAAAAAAI/AAAAAAAAU2Q/fb2hijKsJVY/s64/photo.jpg",
      "userId": "09845238569818558583"
     },
     "user_tz": -330
    },
    "id": "FnCvI0_xzFYk"
   },
   "outputs": [],
   "source": [
    "from sklearn.preprocessing import LabelEncoder\n",
    "\n",
    "encoder=LabelEncoder()\n",
    "\n",
    "df['Country']=encoder.fit_transform(df['Country'])"
   ]
  },
  {
   "cell_type": "code",
   "execution_count": null,
   "metadata": {
    "executionInfo": {
     "elapsed": 2281,
     "status": "ok",
     "timestamp": 1612252710059,
     "user": {
      "displayName": "Vignesh Rajan",
      "photoUrl": "https://lh5.googleusercontent.com/-5Vo5G1cmwmA/AAAAAAAAAAI/AAAAAAAAU2Q/fb2hijKsJVY/s64/photo.jpg",
      "userId": "09845238569818558583"
     },
     "user_tz": -330
    },
    "id": "AveOrjEfDwRK"
   },
   "outputs": [],
   "source": []
  },
  {
   "cell_type": "code",
   "execution_count": 14,
   "metadata": {
    "colab": {
     "base_uri": "https://localhost:8080/",
     "height": 204
    },
    "executionInfo": {
     "elapsed": 2274,
     "status": "ok",
     "timestamp": 1612252710060,
     "user": {
      "displayName": "Vignesh Rajan",
      "photoUrl": "https://lh5.googleusercontent.com/-5Vo5G1cmwmA/AAAAAAAAAAI/AAAAAAAAU2Q/fb2hijKsJVY/s64/photo.jpg",
      "userId": "09845238569818558583"
     },
     "user_tz": -330
    },
    "id": "wfocKtgazFYl",
    "outputId": "0f32d3dc-3fd1-484f-d96f-b86f1d18e4af"
   },
   "outputs": [
    {
     "data": {
      "text/html": [
       "<div>\n",
       "<style scoped>\n",
       "    .dataframe tbody tr th:only-of-type {\n",
       "        vertical-align: middle;\n",
       "    }\n",
       "\n",
       "    .dataframe tbody tr th {\n",
       "        vertical-align: top;\n",
       "    }\n",
       "\n",
       "    .dataframe thead th {\n",
       "        text-align: right;\n",
       "    }\n",
       "</style>\n",
       "<table border=\"1\" class=\"dataframe\">\n",
       "  <thead>\n",
       "    <tr style=\"text-align: right;\">\n",
       "      <th></th>\n",
       "      <th>Country</th>\n",
       "      <th>Confirmed</th>\n",
       "      <th>Recovered</th>\n",
       "      <th>Deaths</th>\n",
       "      <th>Year</th>\n",
       "      <th>Month</th>\n",
       "      <th>Day</th>\n",
       "    </tr>\n",
       "  </thead>\n",
       "  <tbody>\n",
       "    <tr>\n",
       "      <th>0</th>\n",
       "      <td>0</td>\n",
       "      <td>0</td>\n",
       "      <td>0</td>\n",
       "      <td>0</td>\n",
       "      <td>2020</td>\n",
       "      <td>1</td>\n",
       "      <td>22</td>\n",
       "    </tr>\n",
       "    <tr>\n",
       "      <th>1</th>\n",
       "      <td>1</td>\n",
       "      <td>0</td>\n",
       "      <td>0</td>\n",
       "      <td>0</td>\n",
       "      <td>2020</td>\n",
       "      <td>1</td>\n",
       "      <td>22</td>\n",
       "    </tr>\n",
       "    <tr>\n",
       "      <th>2</th>\n",
       "      <td>2</td>\n",
       "      <td>0</td>\n",
       "      <td>0</td>\n",
       "      <td>0</td>\n",
       "      <td>2020</td>\n",
       "      <td>1</td>\n",
       "      <td>22</td>\n",
       "    </tr>\n",
       "    <tr>\n",
       "      <th>3</th>\n",
       "      <td>3</td>\n",
       "      <td>0</td>\n",
       "      <td>0</td>\n",
       "      <td>0</td>\n",
       "      <td>2020</td>\n",
       "      <td>1</td>\n",
       "      <td>22</td>\n",
       "    </tr>\n",
       "    <tr>\n",
       "      <th>4</th>\n",
       "      <td>4</td>\n",
       "      <td>0</td>\n",
       "      <td>0</td>\n",
       "      <td>0</td>\n",
       "      <td>2020</td>\n",
       "      <td>1</td>\n",
       "      <td>22</td>\n",
       "    </tr>\n",
       "  </tbody>\n",
       "</table>\n",
       "</div>"
      ],
      "text/plain": [
       "   Country  Confirmed  Recovered  Deaths  Year  Month  Day\n",
       "0        0          0          0       0  2020      1   22\n",
       "1        1          0          0       0  2020      1   22\n",
       "2        2          0          0       0  2020      1   22\n",
       "3        3          0          0       0  2020      1   22\n",
       "4        4          0          0       0  2020      1   22"
      ]
     },
     "execution_count": 14,
     "metadata": {},
     "output_type": "execute_result"
    }
   ],
   "source": [
    "df.head()"
   ]
  },
  {
   "cell_type": "code",
   "execution_count": 15,
   "metadata": {
    "colab": {
     "base_uri": "https://localhost:8080/"
    },
    "executionInfo": {
     "elapsed": 2269,
     "status": "ok",
     "timestamp": 1612252710062,
     "user": {
      "displayName": "Vignesh Rajan",
      "photoUrl": "https://lh5.googleusercontent.com/-5Vo5G1cmwmA/AAAAAAAAAAI/AAAAAAAAU2Q/fb2hijKsJVY/s64/photo.jpg",
      "userId": "09845238569818558583"
     },
     "user_tz": -330
    },
    "id": "AUGzHhyjzFYm",
    "outputId": "495ec76b-f088-428f-a1eb-f4b21286e8b6"
   },
   "outputs": [
    {
     "data": {
      "text/plain": [
       "(23688, 7)"
      ]
     },
     "execution_count": 15,
     "metadata": {},
     "output_type": "execute_result"
    }
   ],
   "source": [
    "df.shape"
   ]
  },
  {
   "cell_type": "code",
   "execution_count": 16,
   "metadata": {
    "colab": {
     "base_uri": "https://localhost:8080/"
    },
    "executionInfo": {
     "elapsed": 2262,
     "status": "ok",
     "timestamp": 1612252710063,
     "user": {
      "displayName": "Vignesh Rajan",
      "photoUrl": "https://lh5.googleusercontent.com/-5Vo5G1cmwmA/AAAAAAAAAAI/AAAAAAAAU2Q/fb2hijKsJVY/s64/photo.jpg",
      "userId": "09845238569818558583"
     },
     "user_tz": -330
    },
    "id": "EGy6qbD0zFYn",
    "outputId": "15bb2295-f212-443e-c557-6ccea2b49696"
   },
   "outputs": [
    {
     "data": {
      "text/plain": [
       "Index(['Country', 'Confirmed', 'Recovered', 'Deaths', 'Year', 'Month', 'Day'], dtype='object')"
      ]
     },
     "execution_count": 16,
     "metadata": {},
     "output_type": "execute_result"
    }
   ],
   "source": [
    "df.columns"
   ]
  },
  {
   "cell_type": "code",
   "execution_count": 17,
   "metadata": {
    "executionInfo": {
     "elapsed": 2253,
     "status": "ok",
     "timestamp": 1612252710064,
     "user": {
      "displayName": "Vignesh Rajan",
      "photoUrl": "https://lh5.googleusercontent.com/-5Vo5G1cmwmA/AAAAAAAAAAI/AAAAAAAAU2Q/fb2hijKsJVY/s64/photo.jpg",
      "userId": "09845238569818558583"
     },
     "user_tz": -330
    },
    "id": "mqOdmpBnzFYo"
   },
   "outputs": [],
   "source": [
    "df=df[['Country', 'Confirmed', 'Recovered','Day', 'Month','Year', 'Deaths']]"
   ]
  },
  {
   "cell_type": "code",
   "execution_count": 18,
   "metadata": {
    "colab": {
     "base_uri": "https://localhost:8080/",
     "height": 204
    },
    "executionInfo": {
     "elapsed": 2247,
     "status": "ok",
     "timestamp": 1612252710065,
     "user": {
      "displayName": "Vignesh Rajan",
      "photoUrl": "https://lh5.googleusercontent.com/-5Vo5G1cmwmA/AAAAAAAAAAI/AAAAAAAAU2Q/fb2hijKsJVY/s64/photo.jpg",
      "userId": "09845238569818558583"
     },
     "user_tz": -330
    },
    "id": "2i1KLT5bzFYq",
    "outputId": "d811c24f-abee-413d-8b25-f12e3dd168d6"
   },
   "outputs": [
    {
     "data": {
      "text/html": [
       "<div>\n",
       "<style scoped>\n",
       "    .dataframe tbody tr th:only-of-type {\n",
       "        vertical-align: middle;\n",
       "    }\n",
       "\n",
       "    .dataframe tbody tr th {\n",
       "        vertical-align: top;\n",
       "    }\n",
       "\n",
       "    .dataframe thead th {\n",
       "        text-align: right;\n",
       "    }\n",
       "</style>\n",
       "<table border=\"1\" class=\"dataframe\">\n",
       "  <thead>\n",
       "    <tr style=\"text-align: right;\">\n",
       "      <th></th>\n",
       "      <th>Country</th>\n",
       "      <th>Confirmed</th>\n",
       "      <th>Recovered</th>\n",
       "      <th>Day</th>\n",
       "      <th>Month</th>\n",
       "      <th>Year</th>\n",
       "      <th>Deaths</th>\n",
       "    </tr>\n",
       "  </thead>\n",
       "  <tbody>\n",
       "    <tr>\n",
       "      <th>0</th>\n",
       "      <td>0</td>\n",
       "      <td>0</td>\n",
       "      <td>0</td>\n",
       "      <td>22</td>\n",
       "      <td>1</td>\n",
       "      <td>2020</td>\n",
       "      <td>0</td>\n",
       "    </tr>\n",
       "    <tr>\n",
       "      <th>1</th>\n",
       "      <td>1</td>\n",
       "      <td>0</td>\n",
       "      <td>0</td>\n",
       "      <td>22</td>\n",
       "      <td>1</td>\n",
       "      <td>2020</td>\n",
       "      <td>0</td>\n",
       "    </tr>\n",
       "    <tr>\n",
       "      <th>2</th>\n",
       "      <td>2</td>\n",
       "      <td>0</td>\n",
       "      <td>0</td>\n",
       "      <td>22</td>\n",
       "      <td>1</td>\n",
       "      <td>2020</td>\n",
       "      <td>0</td>\n",
       "    </tr>\n",
       "    <tr>\n",
       "      <th>3</th>\n",
       "      <td>3</td>\n",
       "      <td>0</td>\n",
       "      <td>0</td>\n",
       "      <td>22</td>\n",
       "      <td>1</td>\n",
       "      <td>2020</td>\n",
       "      <td>0</td>\n",
       "    </tr>\n",
       "    <tr>\n",
       "      <th>4</th>\n",
       "      <td>4</td>\n",
       "      <td>0</td>\n",
       "      <td>0</td>\n",
       "      <td>22</td>\n",
       "      <td>1</td>\n",
       "      <td>2020</td>\n",
       "      <td>0</td>\n",
       "    </tr>\n",
       "  </tbody>\n",
       "</table>\n",
       "</div>"
      ],
      "text/plain": [
       "   Country  Confirmed  Recovered  Day  Month  Year  Deaths\n",
       "0        0          0          0   22      1  2020       0\n",
       "1        1          0          0   22      1  2020       0\n",
       "2        2          0          0   22      1  2020       0\n",
       "3        3          0          0   22      1  2020       0\n",
       "4        4          0          0   22      1  2020       0"
      ]
     },
     "execution_count": 18,
     "metadata": {},
     "output_type": "execute_result"
    }
   ],
   "source": [
    "df.head()"
   ]
  },
  {
   "cell_type": "code",
   "execution_count": 19,
   "metadata": {
    "executionInfo": {
     "elapsed": 2241,
     "status": "ok",
     "timestamp": 1612252710066,
     "user": {
      "displayName": "Vignesh Rajan",
      "photoUrl": "https://lh5.googleusercontent.com/-5Vo5G1cmwmA/AAAAAAAAAAI/AAAAAAAAU2Q/fb2hijKsJVY/s64/photo.jpg",
      "userId": "09845238569818558583"
     },
     "user_tz": -330
    },
    "id": "ZjuMNtTkzFYs"
   },
   "outputs": [],
   "source": [
    "corr=df.corr()"
   ]
  },
  {
   "cell_type": "code",
   "execution_count": 20,
   "metadata": {
    "colab": {
     "base_uri": "https://localhost:8080/",
     "height": 329
    },
    "executionInfo": {
     "elapsed": 2961,
     "status": "ok",
     "timestamp": 1612252710794,
     "user": {
      "displayName": "Vignesh Rajan",
      "photoUrl": "https://lh5.googleusercontent.com/-5Vo5G1cmwmA/AAAAAAAAAAI/AAAAAAAAU2Q/fb2hijKsJVY/s64/photo.jpg",
      "userId": "09845238569818558583"
     },
     "user_tz": -330
    },
    "id": "IGYJYyhzzFYt",
    "outputId": "45c994b4-052e-4e7a-e417-371b5df93db6"
   },
   "outputs": [
    {
     "data": {
      "image/png": "[encoded data removed]",
      "text/plain": [
       "<Figure size 1080x720 with 2 Axes>"
      ]
     },
     "metadata": {
      "needs_background": "light"
     },
     "output_type": "display_data"
    }
   ],
   "source": [
    "plt.figure(figsize=(15,10))\n",
    "sns.heatmap(corr,annot=True)\n",
    "plt.show()"
   ]
  },
  {
   "cell_type": "markdown",
   "metadata": {
    "id": "-u6C6iG-zFYv"
   },
   "source": [
    "collist=df.columns.values\n",
    "print(collist)\n",
    "ncol=30\n",
    "nrows=14\n",
    "plt.figure(figsize=(ncol,3*ncol))\n",
    "for i in range(0,len(collist)):\n",
    "    plt.subplot(nrows,ncol,i+1)\n",
    "    sns.boxplot(df[collist[i]])\n",
    "    plt.tight_layout"
   ]
  },
  {
   "cell_type": "code",
   "execution_count": 21,
   "metadata": {
    "colab": {
     "base_uri": "https://localhost:8080/",
     "height": 309
    },
    "executionInfo": {
     "elapsed": 2957,
     "status": "ok",
     "timestamp": 1612252710797,
     "user": {
      "displayName": "Vignesh Rajan",
      "photoUrl": "https://lh5.googleusercontent.com/-5Vo5G1cmwmA/AAAAAAAAAAI/AAAAAAAAU2Q/fb2hijKsJVY/s64/photo.jpg",
      "userId": "09845238569818558583"
     },
     "user_tz": -330
    },
    "id": "wIpWmY07zFY6",
    "outputId": "c651de36-4804-4af9-bb74-ab81d7f600fc"
   },
   "outputs": [
    {
     "data": {
      "text/html": [
       "<div>\n",
       "<style scoped>\n",
       "    .dataframe tbody tr th:only-of-type {\n",
       "        vertical-align: middle;\n",
       "    }\n",
       "\n",
       "    .dataframe tbody tr th {\n",
       "        vertical-align: top;\n",
       "    }\n",
       "\n",
       "    .dataframe thead th {\n",
       "        text-align: right;\n",
       "    }\n",
       "</style>\n",
       "<table border=\"1\" class=\"dataframe\">\n",
       "  <thead>\n",
       "    <tr style=\"text-align: right;\">\n",
       "      <th></th>\n",
       "      <th>Country</th>\n",
       "      <th>Confirmed</th>\n",
       "      <th>Recovered</th>\n",
       "      <th>Day</th>\n",
       "      <th>Month</th>\n",
       "      <th>Deaths</th>\n",
       "    </tr>\n",
       "  </thead>\n",
       "  <tbody>\n",
       "    <tr>\n",
       "      <th>0</th>\n",
       "      <td>0</td>\n",
       "      <td>0</td>\n",
       "      <td>0</td>\n",
       "      <td>22</td>\n",
       "      <td>1</td>\n",
       "      <td>0</td>\n",
       "    </tr>\n",
       "    <tr>\n",
       "      <th>1</th>\n",
       "      <td>1</td>\n",
       "      <td>0</td>\n",
       "      <td>0</td>\n",
       "      <td>22</td>\n",
       "      <td>1</td>\n",
       "      <td>0</td>\n",
       "    </tr>\n",
       "    <tr>\n",
       "      <th>2</th>\n",
       "      <td>2</td>\n",
       "      <td>0</td>\n",
       "      <td>0</td>\n",
       "      <td>22</td>\n",
       "      <td>1</td>\n",
       "      <td>0</td>\n",
       "    </tr>\n",
       "    <tr>\n",
       "      <th>3</th>\n",
       "      <td>3</td>\n",
       "      <td>0</td>\n",
       "      <td>0</td>\n",
       "      <td>22</td>\n",
       "      <td>1</td>\n",
       "      <td>0</td>\n",
       "    </tr>\n",
       "    <tr>\n",
       "      <th>4</th>\n",
       "      <td>4</td>\n",
       "      <td>0</td>\n",
       "      <td>0</td>\n",
       "      <td>22</td>\n",
       "      <td>1</td>\n",
       "      <td>0</td>\n",
       "    </tr>\n",
       "  </tbody>\n",
       "</table>\n",
       "</div>"
      ],
      "text/plain": [
       "   Country  Confirmed  Recovered  Day  Month  Deaths\n",
       "0        0          0          0   22      1       0\n",
       "1        1          0          0   22      1       0\n",
       "2        2          0          0   22      1       0\n",
       "3        3          0          0   22      1       0\n",
       "4        4          0          0   22      1       0"
      ]
     },
     "execution_count": 21,
     "metadata": {},
     "output_type": "execute_result"
    }
   ],
   "source": [
    "df.drop('Year',axis=1,inplace=True)\n",
    "df.head()"
   ]
  },
  {
   "cell_type": "code",
   "execution_count": 22,
   "metadata": {
    "colab": {
     "base_uri": "https://localhost:8080/"
    },
    "executionInfo": {
     "elapsed": 2951,
     "status": "ok",
     "timestamp": 1612252710799,
     "user": {
      "displayName": "Vignesh Rajan",
      "photoUrl": "https://lh5.googleusercontent.com/-5Vo5G1cmwmA/AAAAAAAAAAI/AAAAAAAAU2Q/fb2hijKsJVY/s64/photo.jpg",
      "userId": "09845238569818558583"
     },
     "user_tz": -330
    },
    "id": "ULeItj_jlavr",
    "outputId": "e0b2a5fd-fecb-4d55-b5c1-fa153448b699"
   },
   "outputs": [
    {
     "data": {
      "text/plain": [
       "{'divide': 'warn', 'over': 'warn', 'under': 'ignore', 'invalid': 'warn'}"
      ]
     },
     "execution_count": 22,
     "metadata": {},
     "output_type": "execute_result"
    }
   ],
   "source": [
    "import numpy as np\n",
    "np.seterr(divide='ignore', invalid='ignore')"
   ]
  },
  {
   "cell_type": "code",
   "execution_count": 23,
   "metadata": {
    "colab": {
     "base_uri": "https://localhost:8080/",
     "height": 49
    },
    "executionInfo": {
     "elapsed": 2947,
     "status": "ok",
     "timestamp": 1612252710802,
     "user": {
      "displayName": "Vignesh Rajan",
      "photoUrl": "https://lh5.googleusercontent.com/-5Vo5G1cmwmA/AAAAAAAAAAI/AAAAAAAAU2Q/fb2hijKsJVY/s64/photo.jpg",
      "userId": "09845238569818558583"
     },
     "user_tz": -330
    },
    "id": "WY1uivpRltfR",
    "outputId": "fc029a41-c8c5-440d-b37d-0d16ac3ca493"
   },
   "outputs": [
    {
     "data": {
      "text/html": [
       "<div>\n",
       "<style scoped>\n",
       "    .dataframe tbody tr th:only-of-type {\n",
       "        vertical-align: middle;\n",
       "    }\n",
       "\n",
       "    .dataframe tbody tr th {\n",
       "        vertical-align: top;\n",
       "    }\n",
       "\n",
       "    .dataframe thead th {\n",
       "        text-align: right;\n",
       "    }\n",
       "</style>\n",
       "<table border=\"1\" class=\"dataframe\">\n",
       "  <thead>\n",
       "    <tr style=\"text-align: right;\">\n",
       "      <th></th>\n",
       "      <th>Country</th>\n",
       "      <th>Confirmed</th>\n",
       "      <th>Recovered</th>\n",
       "      <th>Day</th>\n",
       "      <th>Month</th>\n",
       "      <th>Deaths</th>\n",
       "    </tr>\n",
       "  </thead>\n",
       "  <tbody>\n",
       "  </tbody>\n",
       "</table>\n",
       "</div>"
      ],
      "text/plain": [
       "Empty DataFrame\n",
       "Columns: [Country, Confirmed, Recovered, Day, Month, Deaths]\n",
       "Index: []"
      ]
     },
     "execution_count": 23,
     "metadata": {},
     "output_type": "execute_result"
    }
   ],
   "source": [
    "df[pd.isnull(df).any(axis = 1)]"
   ]
  },
  {
   "cell_type": "markdown",
   "metadata": {
    "executionInfo": {
     "elapsed": 2942,
     "status": "ok",
     "timestamp": 1612252710804,
     "user": {
      "displayName": "Vignesh Rajan",
      "photoUrl": "https://lh5.googleusercontent.com/-5Vo5G1cmwmA/AAAAAAAAAAI/AAAAAAAAU2Q/fb2hijKsJVY/s64/photo.jpg",
      "userId": "09845238569818558583"
     },
     "user_tz": -330
    },
    "id": "nTJecomUsecc"
   },
   "source": [
    "# Removing Outliers"
   ]
  },
  {
   "cell_type": "code",
   "execution_count": 24,
   "metadata": {
    "colab": {
     "base_uri": "https://localhost:8080/"
    },
    "executionInfo": {
     "elapsed": 2937,
     "status": "ok",
     "timestamp": 1612252710806,
     "user": {
      "displayName": "Vignesh Rajan",
      "photoUrl": "https://lh5.googleusercontent.com/-5Vo5G1cmwmA/AAAAAAAAAAI/AAAAAAAAU2Q/fb2hijKsJVY/s64/photo.jpg",
      "userId": "09845238569818558583"
     },
     "user_tz": -330
    },
    "id": "N0BU1gaFzFY7",
    "outputId": "880eca23-4e22-4968-df74-dcf65cbeb4fb"
   },
   "outputs": [
    {
     "data": {
      "text/plain": [
       "Index(['Country', 'Confirmed', 'Recovered', 'Day', 'Month', 'Deaths'], dtype='object')"
      ]
     },
     "execution_count": 24,
     "metadata": {},
     "output_type": "execute_result"
    }
   ],
   "source": [
    "df.columns"
   ]
  },
  {
   "cell_type": "code",
   "execution_count": 25,
   "metadata": {
    "executionInfo": {
     "elapsed": 2931,
     "status": "ok",
     "timestamp": 1612252710807,
     "user": {
      "displayName": "Vignesh Rajan",
      "photoUrl": "https://lh5.googleusercontent.com/-5Vo5G1cmwmA/AAAAAAAAAAI/AAAAAAAAU2Q/fb2hijKsJVY/s64/photo.jpg",
      "userId": "09845238569818558583"
     },
     "user_tz": -330
    },
    "id": "xEzj6wnRzFY8"
   },
   "outputs": [],
   "source": [
    "from scipy.stats import zscore\n",
    "z=np.abs(zscore(df))\n",
    "threshold=3\n",
    "new_df=df[(z<3).all(axis=1)]"
   ]
  },
  {
   "cell_type": "code",
   "execution_count": null,
   "metadata": {
    "executionInfo": {
     "elapsed": 2925,
     "status": "ok",
     "timestamp": 1612252710809,
     "user": {
      "displayName": "Vignesh Rajan",
      "photoUrl": "https://lh5.googleusercontent.com/-5Vo5G1cmwmA/AAAAAAAAAAI/AAAAAAAAU2Q/fb2hijKsJVY/s64/photo.jpg",
      "userId": "09845238569818558583"
     },
     "user_tz": -330
    },
    "id": "q9RZAjakluCZ"
   },
   "outputs": [],
   "source": []
  },
  {
   "cell_type": "code",
   "execution_count": 26,
   "metadata": {
    "colab": {
     "base_uri": "https://localhost:8080/"
    },
    "executionInfo": {
     "elapsed": 2920,
     "status": "ok",
     "timestamp": 1612252710811,
     "user": {
      "displayName": "Vignesh Rajan",
      "photoUrl": "https://lh5.googleusercontent.com/-5Vo5G1cmwmA/AAAAAAAAAAI/AAAAAAAAU2Q/fb2hijKsJVY/s64/photo.jpg",
      "userId": "09845238569818558583"
     },
     "user_tz": -330
    },
    "id": "JX-qLTjGzFY9",
    "outputId": "6130b7f2-f88c-4ca7-d5fa-feb05b6aea3a"
   },
   "outputs": [
    {
     "data": {
      "text/plain": [
       "Country     -0.005144\n",
       "Confirmed    6.906829\n",
       "Recovered    7.472281\n",
       "Day         -0.068117\n",
       "Month       -0.080529\n",
       "Deaths       9.729360\n",
       "dtype: float64"
      ]
     },
     "execution_count": 26,
     "metadata": {},
     "output_type": "execute_result"
    }
   ],
   "source": [
    "new_df.skew()"
   ]
  },
  {
   "cell_type": "code",
   "execution_count": null,
   "metadata": {
    "executionInfo": {
     "elapsed": 2916,
     "status": "ok",
     "timestamp": 1612252710814,
     "user": {
      "displayName": "Vignesh Rajan",
      "photoUrl": "https://lh5.googleusercontent.com/-5Vo5G1cmwmA/AAAAAAAAAAI/AAAAAAAAU2Q/fb2hijKsJVY/s64/photo.jpg",
      "userId": "09845238569818558583"
     },
     "user_tz": -330
    },
    "id": "sEp0bGnblvvh"
   },
   "outputs": [],
   "source": []
  },
  {
   "cell_type": "code",
   "execution_count": 27,
   "metadata": {
    "executionInfo": {
     "elapsed": 2904,
     "status": "ok",
     "timestamp": 1612252710816,
     "user": {
      "displayName": "Vignesh Rajan",
      "photoUrl": "https://lh5.googleusercontent.com/-5Vo5G1cmwmA/AAAAAAAAAAI/AAAAAAAAU2Q/fb2hijKsJVY/s64/photo.jpg",
      "userId": "09845238569818558583"
     },
     "user_tz": -330
    },
    "id": "oHg6RPdyzFY-"
   },
   "outputs": [],
   "source": [
    "#X=new_df.drop('Deaths',axis=1)\n",
    "x=new_df.iloc[:,:-1]\n",
    "y=new_df.iloc[:,-1]"
   ]
  },
  {
   "cell_type": "code",
   "execution_count": 28,
   "metadata": {
    "colab": {
     "base_uri": "https://localhost:8080/",
     "height": 204
    },
    "executionInfo": {
     "elapsed": 2896,
     "status": "ok",
     "timestamp": 1612252710818,
     "user": {
      "displayName": "Vignesh Rajan",
      "photoUrl": "https://lh5.googleusercontent.com/-5Vo5G1cmwmA/AAAAAAAAAAI/AAAAAAAAU2Q/fb2hijKsJVY/s64/photo.jpg",
      "userId": "09845238569818558583"
     },
     "user_tz": -330
    },
    "id": "qavnR2TMzFY_",
    "outputId": "e4657943-54e8-4513-c949-e2aabd331d6b"
   },
   "outputs": [
    {
     "data": {
      "text/html": [
       "<div>\n",
       "<style scoped>\n",
       "    .dataframe tbody tr th:only-of-type {\n",
       "        vertical-align: middle;\n",
       "    }\n",
       "\n",
       "    .dataframe tbody tr th {\n",
       "        vertical-align: top;\n",
       "    }\n",
       "\n",
       "    .dataframe thead th {\n",
       "        text-align: right;\n",
       "    }\n",
       "</style>\n",
       "<table border=\"1\" class=\"dataframe\">\n",
       "  <thead>\n",
       "    <tr style=\"text-align: right;\">\n",
       "      <th></th>\n",
       "      <th>Country</th>\n",
       "      <th>Confirmed</th>\n",
       "      <th>Recovered</th>\n",
       "      <th>Day</th>\n",
       "      <th>Month</th>\n",
       "    </tr>\n",
       "  </thead>\n",
       "  <tbody>\n",
       "    <tr>\n",
       "      <th>0</th>\n",
       "      <td>0</td>\n",
       "      <td>0</td>\n",
       "      <td>0</td>\n",
       "      <td>22</td>\n",
       "      <td>1</td>\n",
       "    </tr>\n",
       "    <tr>\n",
       "      <th>1</th>\n",
       "      <td>1</td>\n",
       "      <td>0</td>\n",
       "      <td>0</td>\n",
       "      <td>22</td>\n",
       "      <td>1</td>\n",
       "    </tr>\n",
       "    <tr>\n",
       "      <th>2</th>\n",
       "      <td>2</td>\n",
       "      <td>0</td>\n",
       "      <td>0</td>\n",
       "      <td>22</td>\n",
       "      <td>1</td>\n",
       "    </tr>\n",
       "    <tr>\n",
       "      <th>3</th>\n",
       "      <td>3</td>\n",
       "      <td>0</td>\n",
       "      <td>0</td>\n",
       "      <td>22</td>\n",
       "      <td>1</td>\n",
       "    </tr>\n",
       "    <tr>\n",
       "      <th>4</th>\n",
       "      <td>4</td>\n",
       "      <td>0</td>\n",
       "      <td>0</td>\n",
       "      <td>22</td>\n",
       "      <td>1</td>\n",
       "    </tr>\n",
       "  </tbody>\n",
       "</table>\n",
       "</div>"
      ],
      "text/plain": [
       "   Country  Confirmed  Recovered  Day  Month\n",
       "0        0          0          0   22      1\n",
       "1        1          0          0   22      1\n",
       "2        2          0          0   22      1\n",
       "3        3          0          0   22      1\n",
       "4        4          0          0   22      1"
      ]
     },
     "execution_count": 28,
     "metadata": {},
     "output_type": "execute_result"
    }
   ],
   "source": [
    "x.head()"
   ]
  },
  {
   "cell_type": "code",
   "execution_count": 29,
   "metadata": {
    "colab": {
     "base_uri": "https://localhost:8080/"
    },
    "executionInfo": {
     "elapsed": 2889,
     "status": "ok",
     "timestamp": 1612252710820,
     "user": {
      "displayName": "Vignesh Rajan",
      "photoUrl": "https://lh5.googleusercontent.com/-5Vo5G1cmwmA/AAAAAAAAAAI/AAAAAAAAU2Q/fb2hijKsJVY/s64/photo.jpg",
      "userId": "09845238569818558583"
     },
     "user_tz": -330
    },
    "id": "qxM7HnMvzFZA",
    "outputId": "dde591d5-4c45-4b38-fb40-ba575917bc86"
   },
   "outputs": [
    {
     "data": {
      "text/plain": [
       "(23177, 6)"
      ]
     },
     "execution_count": 29,
     "metadata": {},
     "output_type": "execute_result"
    }
   ],
   "source": [
    "new_df.shape"
   ]
  },
  {
   "cell_type": "code",
   "execution_count": 30,
   "metadata": {
    "colab": {
     "base_uri": "https://localhost:8080/"
    },
    "executionInfo": {
     "elapsed": 2884,
     "status": "ok",
     "timestamp": 1612252710822,
     "user": {
      "displayName": "Vignesh Rajan",
      "photoUrl": "https://lh5.googleusercontent.com/-5Vo5G1cmwmA/AAAAAAAAAAI/AAAAAAAAU2Q/fb2hijKsJVY/s64/photo.jpg",
      "userId": "09845238569818558583"
     },
     "user_tz": -330
    },
    "id": "P-gSg7WWzFZB",
    "outputId": "9e078845-686b-4c8d-cd80-11d97766ebcf"
   },
   "outputs": [
    {
     "data": {
      "text/plain": [
       "(23688, 6)"
      ]
     },
     "execution_count": 30,
     "metadata": {},
     "output_type": "execute_result"
    }
   ],
   "source": [
    "df.shape"
   ]
  },
  {
   "cell_type": "code",
   "execution_count": 31,
   "metadata": {
    "colab": {
     "base_uri": "https://localhost:8080/"
    },
    "executionInfo": {
     "elapsed": 2881,
     "status": "ok",
     "timestamp": 1612252710827,
     "user": {
      "displayName": "Vignesh Rajan",
      "photoUrl": "https://lh5.googleusercontent.com/-5Vo5G1cmwmA/AAAAAAAAAAI/AAAAAAAAU2Q/fb2hijKsJVY/s64/photo.jpg",
      "userId": "09845238569818558583"
     },
     "user_tz": -330
    },
    "id": "lN-GMmwyzFZC",
    "outputId": "75b1b3b8-4a5e-479d-fe9c-679e9f1bd075"
   },
   "outputs": [
    {
     "name": "stdout",
     "output_type": "stream",
     "text": [
      "2.157210401891253\n"
     ]
    }
   ],
   "source": [
    "test=(23688-23177)/23688*100\n",
    "print(test)"
   ]
  },
  {
   "cell_type": "code",
   "execution_count": 32,
   "metadata": {
    "colab": {
     "base_uri": "https://localhost:8080/"
    },
    "executionInfo": {
     "elapsed": 2872,
     "status": "ok",
     "timestamp": 1612252710829,
     "user": {
      "displayName": "Vignesh Rajan",
      "photoUrl": "https://lh5.googleusercontent.com/-5Vo5G1cmwmA/AAAAAAAAAAI/AAAAAAAAU2Q/fb2hijKsJVY/s64/photo.jpg",
      "userId": "09845238569818558583"
     },
     "user_tz": -330
    },
    "id": "6d0r6T0kzFZD",
    "outputId": "7323e3ed-d8d2-4f33-cd6f-b8c4ba43dc02"
   },
   "outputs": [
    {
     "data": {
      "text/plain": [
       "(23177,)"
      ]
     },
     "execution_count": 32,
     "metadata": {},
     "output_type": "execute_result"
    }
   ],
   "source": [
    "#Y=new_df['Deaths']\n",
    "y.shape"
   ]
  },
  {
   "cell_type": "code",
   "execution_count": null,
   "metadata": {
    "executionInfo": {
     "elapsed": 2865,
     "status": "ok",
     "timestamp": 1612252710832,
     "user": {
      "displayName": "Vignesh Rajan",
      "photoUrl": "https://lh5.googleusercontent.com/-5Vo5G1cmwmA/AAAAAAAAAAI/AAAAAAAAU2Q/fb2hijKsJVY/s64/photo.jpg",
      "userId": "09845238569818558583"
     },
     "user_tz": -330
    },
    "id": "XwNi-Q0-lA_L"
   },
   "outputs": [],
   "source": []
  },
  {
   "cell_type": "code",
   "execution_count": null,
   "metadata": {
    "executionInfo": {
     "elapsed": 2858,
     "status": "ok",
     "timestamp": 1612252710834,
     "user": {
      "displayName": "Vignesh Rajan",
      "photoUrl": "https://lh5.googleusercontent.com/-5Vo5G1cmwmA/AAAAAAAAAAI/AAAAAAAAU2Q/fb2hijKsJVY/s64/photo.jpg",
      "userId": "09845238569818558583"
     },
     "user_tz": -330
    },
    "id": "bbFGRl4Ck24K"
   },
   "outputs": [],
   "source": []
  },
  {
   "cell_type": "code",
   "execution_count": 33,
   "metadata": {
    "executionInfo": {
     "elapsed": 2852,
     "status": "ok",
     "timestamp": 1612252710836,
     "user": {
      "displayName": "Vignesh Rajan",
      "photoUrl": "https://lh5.googleusercontent.com/-5Vo5G1cmwmA/AAAAAAAAAAI/AAAAAAAAU2Q/fb2hijKsJVY/s64/photo.jpg",
      "userId": "09845238569818558583"
     },
     "user_tz": -330
    },
    "id": "N-EEWRAazFZE"
   },
   "outputs": [],
   "source": [
    "from sklearn.preprocessing import power_transform\n",
    "pt_x=power_transform(x,method='yeo-johnson')"
   ]
  },
  {
   "cell_type": "markdown",
   "metadata": {
    "executionInfo": {
     "elapsed": 3180,
     "status": "ok",
     "timestamp": 1612252711175,
     "user": {
      "displayName": "Vignesh Rajan",
      "photoUrl": "https://lh5.googleusercontent.com/-5Vo5G1cmwmA/AAAAAAAAAAI/AAAAAAAAU2Q/fb2hijKsJVY/s64/photo.jpg",
      "userId": "09845238569818558583"
     },
     "user_tz": -330
    },
    "id": "cs-E9uXyk30R"
   },
   "source": [
    "# Models"
   ]
  },
  {
   "cell_type": "code",
   "execution_count": 34,
   "metadata": {
    "executionInfo": {
     "elapsed": 3174,
     "status": "ok",
     "timestamp": 1612252711176,
     "user": {
      "displayName": "Vignesh Rajan",
      "photoUrl": "https://lh5.googleusercontent.com/-5Vo5G1cmwmA/AAAAAAAAAAI/AAAAAAAAU2Q/fb2hijKsJVY/s64/photo.jpg",
      "userId": "09845238569818558583"
     },
     "user_tz": -330
    },
    "id": "cTXYGOAEzFZG"
   },
   "outputs": [],
   "source": [
    "from sklearn.preprocessing import StandardScaler\n",
    "SC=StandardScaler()\n",
    "ScaledX=SC.fit_transform(x)"
   ]
  },
  {
   "cell_type": "code",
   "execution_count": 35,
   "metadata": {
    "executionInfo": {
     "elapsed": 3167,
     "status": "ok",
     "timestamp": 1612252711177,
     "user": {
      "displayName": "Vignesh Rajan",
      "photoUrl": "https://lh5.googleusercontent.com/-5Vo5G1cmwmA/AAAAAAAAAAI/AAAAAAAAU2Q/fb2hijKsJVY/s64/photo.jpg",
      "userId": "09845238569818558583"
     },
     "user_tz": -330
    },
    "id": "kYc4I3YDzFZI"
   },
   "outputs": [],
   "source": [
    "from sklearn.model_selection import cross_val_score\n",
    "from sklearn.model_selection import train_test_split\n",
    "from sklearn.linear_model import LogisticRegression\n",
    "from sklearn.naive_bayes import GaussianNB\n",
    "from sklearn.svm import SVC\n",
    "from sklearn.tree import DecisionTreeClassifier\n",
    "from sklearn.model_selection import cross_val_score\n",
    "from sklearn.model_selection import train_test_split\n",
    "from sklearn.metrics import accuracy_score,confusion_matrix,classification_report"
   ]
  },
  {
   "cell_type": "code",
   "execution_count": 36,
   "metadata": {
    "colab": {
     "base_uri": "https://localhost:8080/"
    },
    "executionInfo": {
     "elapsed": 3161,
     "status": "ok",
     "timestamp": 1612252711178,
     "user": {
      "displayName": "Vignesh Rajan",
      "photoUrl": "https://lh5.googleusercontent.com/-5Vo5G1cmwmA/AAAAAAAAAAI/AAAAAAAAU2Q/fb2hijKsJVY/s64/photo.jpg",
      "userId": "09845238569818558583"
     },
     "user_tz": -330
    },
    "id": "4wyPAL46zFZK",
    "outputId": "491a1c47-6d39-448b-8c4c-22e105769cc4"
   },
   "outputs": [
    {
     "name": "stdout",
     "output_type": "stream",
     "text": [
      "   Country  Confirmed  Recovered  Day  Month\n",
      "0        0          0          0   22      1\n",
      "1        1          0          0   22      1\n",
      "2        2          0          0   22      1\n",
      "3        3          0          0   22      1\n",
      "4        4          0          0   22      1\n",
      "0    0\n",
      "1    0\n",
      "2    0\n",
      "3    0\n",
      "4    0\n",
      "Name: Deaths, dtype: int64\n"
     ]
    }
   ],
   "source": [
    "print(x.head())\n",
    "print(y.head())"
   ]
  },
  {
   "cell_type": "code",
   "execution_count": 37,
   "metadata": {
    "executionInfo": {
     "elapsed": 3153,
     "status": "ok",
     "timestamp": 1612252711179,
     "user": {
      "displayName": "Vignesh Rajan",
      "photoUrl": "https://lh5.googleusercontent.com/-5Vo5G1cmwmA/AAAAAAAAAAI/AAAAAAAAU2Q/fb2hijKsJVY/s64/photo.jpg",
      "userId": "09845238569818558583"
     },
     "user_tz": -330
    },
    "id": "9-A-9cWNzFZL"
   },
   "outputs": [],
   "source": [
    "x_train,x_test,y_train,y_test=train_test_split(pt_x,y,random_state=42,test_size=0.33)"
   ]
  },
  {
   "cell_type": "code",
   "execution_count": 38,
   "metadata": {
    "executionInfo": {
     "elapsed": 3141,
     "status": "ok",
     "timestamp": 1612252711179,
     "user": {
      "displayName": "Vignesh Rajan",
      "photoUrl": "https://lh5.googleusercontent.com/-5Vo5G1cmwmA/AAAAAAAAAAI/AAAAAAAAU2Q/fb2hijKsJVY/s64/photo.jpg",
      "userId": "09845238569818558583"
     },
     "user_tz": -330
    },
    "id": "z29MwsmRzFZQ"
   },
   "outputs": [],
   "source": [
    "model=[LogisticRegression(max_iter=500),GaussianNB(),SVC(),DecisionTreeClassifier()]"
   ]
  },
  {
   "cell_type": "code",
   "execution_count": null,
   "metadata": {
    "executionInfo": {
     "elapsed": 3133,
     "status": "ok",
     "timestamp": 1612252711180,
     "user": {
      "displayName": "Vignesh Rajan",
      "photoUrl": "https://lh5.googleusercontent.com/-5Vo5G1cmwmA/AAAAAAAAAAI/AAAAAAAAU2Q/fb2hijKsJVY/s64/photo.jpg",
      "userId": "09845238569818558583"
     },
     "user_tz": -330
    },
    "id": "CuV9wK8a0SnX"
   },
   "outputs": [],
   "source": []
  },
  {
   "cell_type": "code",
   "execution_count": 39,
   "metadata": {
    "colab": {
     "base_uri": "https://localhost:8080/"
    },
    "executionInfo": {
     "elapsed": 838568,
     "status": "ok",
     "timestamp": 1612253546623,
     "user": {
      "displayName": "Vignesh Rajan",
      "photoUrl": "https://lh5.googleusercontent.com/-5Vo5G1cmwmA/AAAAAAAAAAI/AAAAAAAAU2Q/fb2hijKsJVY/s64/photo.jpg",
      "userId": "09845238569818558583"
     },
     "user_tz": -330
    },
    "id": "qxmnT88xjgOZ",
    "outputId": "4f6ae4ee-c0cb-4b15-8ffb-84c990c3e8d6"
   },
   "outputs": [
    {
     "name": "stdout",
     "output_type": "stream",
     "text": [
      "Accuracy score of  LogisticRegression(max_iter=500) is\n",
      "0.567917374820238\n",
      "[[4218   22    8 ...    0    0    0]\n",
      " [ 346   35    9 ...    0    0    0]\n",
      " [ 147    7    9 ...    0    0    0]\n",
      " ...\n",
      " [   0    0    0 ...    0    0    0]\n",
      " [   0    0    0 ...    0    0    0]\n",
      " [   0    0    0 ...    0    0    0]]\n",
      "\n",
      "\n",
      "Accuracy score of  GaussianNB() is\n",
      "0.5258203686756439\n",
      "[[3776  344    2 ...    0    0    0]\n",
      " [ 167  137    3 ...    0    0    0]\n",
      " [  62   52    7 ...    0    0    0]\n",
      " ...\n",
      " [   0    0    0 ...    0    0    0]\n",
      " [   0    0    0 ...    0    0    0]\n",
      " [   0    0    0 ...    0    0    0]]\n",
      "\n",
      "\n",
      "Accuracy score of  SVC() is\n",
      "0.5722316642698392\n",
      "[[4253   17    4 ...    0    0    0]\n",
      " [ 362   25    9 ...    0    0    0]\n",
      " [ 158    7   18 ...    0    0    0]\n",
      " ...\n",
      " [   0    0    0 ...    0    0    0]\n",
      " [   0    0    0 ...    0    0    0]\n",
      " [   0    0    0 ...    0    0    0]]\n",
      "\n",
      "\n",
      "Accuracy score of  DecisionTreeClassifier() is\n",
      "0.7314681657733036\n",
      "[[4193   38   11 ...    0    0    0]\n",
      " [  43  312   17 ...    0    0    0]\n",
      " [  11   14  132 ...    0    0    0]\n",
      " ...\n",
      " [   0    0    0 ...    0    0    0]\n",
      " [   0    0    0 ...    0    0    0]\n",
      " [   0    0    0 ...    0    1    0]]\n",
      "\n",
      "\n"
     ]
    }
   ],
   "source": [
    "for m in model:\n",
    "  m.fit(x_train,y_train)\n",
    "  m.score(x_train,y_train)\n",
    "  predm=m.predict(x_test)\n",
    "  print(\"Accuracy score of \",m,'is')\n",
    "  print(accuracy_score(y_test,predm))\n",
    "  print(confusion_matrix(y_test,predm))\n",
    "  #print(classification_report(y_test,predm))\n",
    "  print('\\n')"
   ]
  },
  {
   "cell_type": "code",
   "execution_count": 40,
   "metadata": {
    "executionInfo": {
     "elapsed": 838562,
     "status": "ok",
     "timestamp": 1612253546626,
     "user": {
      "displayName": "Vignesh Rajan",
      "photoUrl": "https://lh5.googleusercontent.com/-5Vo5G1cmwmA/AAAAAAAAAAI/AAAAAAAAU2Q/fb2hijKsJVY/s64/photo.jpg",
      "userId": "09845238569818558583"
     },
     "user_tz": -330
    },
    "id": "qGTH-cS1vHHG"
   },
   "outputs": [],
   "source": [
    "param_dict={\n",
    "    'criterion':['gini','entropy'],\n",
    "    'max_depth':range(1,10),\n",
    "    'min_samples_split':range(1,10),\n",
    "    'min_samples_leaf':range(1,5)\n",
    "}\n",
    "params = {'max_leaf_nodes': list(range(2, 100)), 'min_samples_split': [2, 3, 4]}"
   ]
  },
  {
   "cell_type": "code",
   "execution_count": null,
   "metadata": {
    "executionInfo": {
     "elapsed": 838557,
     "status": "ok",
     "timestamp": 1612253546629,
     "user": {
      "displayName": "Vignesh Rajan",
      "photoUrl": "https://lh5.googleusercontent.com/-5Vo5G1cmwmA/AAAAAAAAAAI/AAAAAAAAU2Q/fb2hijKsJVY/s64/photo.jpg",
      "userId": "09845238569818558583"
     },
     "user_tz": -330
    },
    "id": "4qs18FnBDTke"
   },
   "outputs": [],
   "source": []
  },
  {
   "cell_type": "code",
   "execution_count": 41,
   "metadata": {
    "colab": {
     "base_uri": "https://localhost:8080/"
    },
    "executionInfo": {
     "elapsed": 915262,
     "status": "ok",
     "timestamp": 1612253623340,
     "user": {
      "displayName": "Vignesh Rajan",
      "photoUrl": "https://lh5.googleusercontent.com/-5Vo5G1cmwmA/AAAAAAAAAAI/AAAAAAAAU2Q/fb2hijKsJVY/s64/photo.jpg",
      "userId": "09845238569818558583"
     },
     "user_tz": -330
    },
    "id": "D_nbElGBcA8Y",
    "outputId": "98b39dc3-9e48-45a4-ca2f-dc3f7725f577"
   },
   "outputs": [
    {
     "name": "stdout",
     "output_type": "stream",
     "text": [
      "Fitting 3 folds for each of 294 candidates, totalling 882 fits\n"
     ]
    },
    {
     "name": "stderr",
     "output_type": "stream",
     "text": [
      "C:\\Users\\DELL\\anaconda3\\lib\\site-packages\\sklearn\\model_selection\\_split.py:670: UserWarning: The least populated class in y has only 1 members, which is less than n_splits=3.\n",
      "  warnings.warn((\"The least populated class in y has only %d\"\n",
      "[Parallel(n_jobs=1)]: Using backend SequentialBackend with 1 concurrent workers.\n",
      "[Parallel(n_jobs=1)]: Done 882 out of 882 | elapsed:  1.8min finished\n"
     ]
    },
    {
     "data": {
      "text/plain": [
       "GridSearchCV(cv=3, estimator=DecisionTreeClassifier(random_state=42),\n",
       "             param_grid={'max_leaf_nodes': [2, 3, 4, 5, 6, 7, 8, 9, 10, 11, 12,\n",
       "                                            13, 14, 15, 16, 17, 18, 19, 20, 21,\n",
       "                                            22, 23, 24, 25, 26, 27, 28, 29, 30,\n",
       "                                            31, ...],\n",
       "                         'min_samples_split': [2, 3, 4]},\n",
       "             verbose=1)"
      ]
     },
     "execution_count": 41,
     "metadata": {},
     "output_type": "execute_result"
    }
   ],
   "source": [
    "from sklearn.model_selection import GridSearchCV\n",
    "GCV=GridSearchCV(DecisionTreeClassifier(random_state=42),params,cv=3,verbose=1)\n",
    "GCV.fit(x_train,y_train)"
   ]
  },
  {
   "cell_type": "code",
   "execution_count": 42,
   "metadata": {
    "colab": {
     "base_uri": "https://localhost:8080/"
    },
    "executionInfo": {
     "elapsed": 915237,
     "status": "ok",
     "timestamp": 1612253623348,
     "user": {
      "displayName": "Vignesh Rajan",
      "photoUrl": "https://lh5.googleusercontent.com/-5Vo5G1cmwmA/AAAAAAAAAAI/AAAAAAAAU2Q/fb2hijKsJVY/s64/photo.jpg",
      "userId": "09845238569818558583"
     },
     "user_tz": -330
    },
    "id": "7HNMhKsJZAWk",
    "outputId": "f9f7af07-18de-49d6-b57c-fb65149937bd"
   },
   "outputs": [
    {
     "data": {
      "text/plain": [
       "{'max_leaf_nodes': 99, 'min_samples_split': 2}"
      ]
     },
     "execution_count": 42,
     "metadata": {},
     "output_type": "execute_result"
    }
   ],
   "source": [
    "GCV.best_params_"
   ]
  },
  {
   "cell_type": "code",
   "execution_count": 43,
   "metadata": {
    "colab": {
     "base_uri": "https://localhost:8080/"
    },
    "executionInfo": {
     "elapsed": 915231,
     "status": "ok",
     "timestamp": 1612253623349,
     "user": {
      "displayName": "Vignesh Rajan",
      "photoUrl": "https://lh5.googleusercontent.com/-5Vo5G1cmwmA/AAAAAAAAAAI/AAAAAAAAU2Q/fb2hijKsJVY/s64/photo.jpg",
      "userId": "09845238569818558583"
     },
     "user_tz": -330
    },
    "id": "YXm6WNOaZGub",
    "outputId": "fe8cd321-66f9-4ea2-fe9c-ad445bfcfc24"
   },
   "outputs": [
    {
     "data": {
      "text/plain": [
       "DecisionTreeClassifier(max_leaf_nodes=99, random_state=42)"
      ]
     },
     "execution_count": 43,
     "metadata": {},
     "output_type": "execute_result"
    }
   ],
   "source": [
    "GCV.best_estimator_"
   ]
  },
  {
   "cell_type": "code",
   "execution_count": 44,
   "metadata": {
    "colab": {
     "base_uri": "https://localhost:8080/"
    },
    "executionInfo": {
     "elapsed": 915224,
     "status": "ok",
     "timestamp": 1612253623350,
     "user": {
      "displayName": "Vignesh Rajan",
      "photoUrl": "https://lh5.googleusercontent.com/-5Vo5G1cmwmA/AAAAAAAAAAI/AAAAAAAAU2Q/fb2hijKsJVY/s64/photo.jpg",
      "userId": "09845238569818558583"
     },
     "user_tz": -330
    },
    "id": "qgMo0YmpZM8-",
    "outputId": "4df27f0e-7e38-422b-bb21-e8dda085c47e"
   },
   "outputs": [
    {
     "data": {
      "text/plain": [
       "0.6201700154559505"
      ]
     },
     "execution_count": 44,
     "metadata": {},
     "output_type": "execute_result"
    }
   ],
   "source": [
    "GCV.best_score_"
   ]
  },
  {
   "cell_type": "markdown",
   "metadata": {},
   "source": [
    "Decision Tree Classifier is the best model"
   ]
  },
  {
   "cell_type": "code",
   "execution_count": null,
   "metadata": {},
   "outputs": [],
   "source": []
  }
 ],
 "metadata": {
  "colab": {
   "collapsed_sections": [],
   "name": "Covid_19_problem.ipynb",
   "provenance": []
  },
  "kernelspec": {
   "display_name": "Python 3",
   "language": "python",
   "name": "python3"
  },
  "language_info": {
   "codemirror_mode": {
    "name": "ipython",
    "version": 3
   },
   "file_extension": ".py",
   "mimetype": "text/x-python",
   "name": "python",
   "nbconvert_exporter": "python",
   "pygments_lexer": "ipython3",
   "version": "3.8.3"
  }
 },
 "nbformat": 4,
 "nbformat_minor": 1
}
