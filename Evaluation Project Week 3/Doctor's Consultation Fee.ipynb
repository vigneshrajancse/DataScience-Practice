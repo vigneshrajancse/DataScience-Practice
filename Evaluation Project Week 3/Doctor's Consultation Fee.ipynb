{
 "cells": [
  {
   "cell_type": "markdown",
   "metadata": {},
   "source": [
    "# Doctor's Consultation Fee"
   ]
  },
  {
   "cell_type": "code",
   "execution_count": 1,
   "metadata": {},
   "outputs": [],
   "source": [
    "#Importing important liberaries\n",
    "\n",
    "import pandas as pd\n",
    "import numpy as np \n",
    "import matplotlib.pyplot as plt\n",
    "import seaborn as sns\n",
    "import re\n",
    "import warnings\n",
    "warnings.filterwarnings('ignore')"
   ]
  },
  {
   "cell_type": "code",
   "execution_count": 2,
   "metadata": {},
   "outputs": [],
   "source": [
    "#Importing excel files using pandas\n",
    "train_data = pd.read_excel(\"Final_Train.xlsx\")\n",
    "test_data = pd.read_excel(\"Final_Test.xlsx\")"
   ]
  },
  {
   "cell_type": "code",
   "execution_count": 3,
   "metadata": {},
   "outputs": [
    {
     "data": {
      "text/html": [
       "<div>\n",
       "<style scoped>\n",
       "    .dataframe tbody tr th:only-of-type {\n",
       "        vertical-align: middle;\n",
       "    }\n",
       "\n",
       "    .dataframe tbody tr th {\n",
       "        vertical-align: top;\n",
       "    }\n",
       "\n",
       "    .dataframe thead th {\n",
       "        text-align: right;\n",
       "    }\n",
       "</style>\n",
       "<table border=\"1\" class=\"dataframe\">\n",
       "  <thead>\n",
       "    <tr style=\"text-align: right;\">\n",
       "      <th></th>\n",
       "      <th>Qualification</th>\n",
       "      <th>Experience</th>\n",
       "      <th>Rating</th>\n",
       "      <th>Place</th>\n",
       "      <th>Profile</th>\n",
       "      <th>Miscellaneous_Info</th>\n",
       "      <th>Fees</th>\n",
       "    </tr>\n",
       "  </thead>\n",
       "  <tbody>\n",
       "    <tr>\n",
       "      <th>0</th>\n",
       "      <td>BHMS, MD - Homeopathy</td>\n",
       "      <td>24 years experience</td>\n",
       "      <td>100%</td>\n",
       "      <td>Kakkanad, Ernakulam</td>\n",
       "      <td>Homeopath</td>\n",
       "      <td>100% 16 Feedback Kakkanad, Ernakulam</td>\n",
       "      <td>100</td>\n",
       "    </tr>\n",
       "    <tr>\n",
       "      <th>1</th>\n",
       "      <td>BAMS, MD - Ayurveda Medicine</td>\n",
       "      <td>12 years experience</td>\n",
       "      <td>98%</td>\n",
       "      <td>Whitefield, Bangalore</td>\n",
       "      <td>Ayurveda</td>\n",
       "      <td>98% 76 Feedback Whitefield, Bangalore</td>\n",
       "      <td>350</td>\n",
       "    </tr>\n",
       "    <tr>\n",
       "      <th>2</th>\n",
       "      <td>MBBS, MS - Otorhinolaryngology</td>\n",
       "      <td>9 years experience</td>\n",
       "      <td>NaN</td>\n",
       "      <td>Mathikere - BEL, Bangalore</td>\n",
       "      <td>ENT Specialist</td>\n",
       "      <td>NaN</td>\n",
       "      <td>300</td>\n",
       "    </tr>\n",
       "    <tr>\n",
       "      <th>3</th>\n",
       "      <td>BSc - Zoology, BAMS</td>\n",
       "      <td>12 years experience</td>\n",
       "      <td>NaN</td>\n",
       "      <td>Bannerghatta Road, Bangalore</td>\n",
       "      <td>Ayurveda</td>\n",
       "      <td>Bannerghatta Road, Bangalore ₹250 Available on...</td>\n",
       "      <td>250</td>\n",
       "    </tr>\n",
       "    <tr>\n",
       "      <th>4</th>\n",
       "      <td>BAMS</td>\n",
       "      <td>20 years experience</td>\n",
       "      <td>100%</td>\n",
       "      <td>Keelkattalai, Chennai</td>\n",
       "      <td>Ayurveda</td>\n",
       "      <td>100% 4 Feedback Keelkattalai, Chennai</td>\n",
       "      <td>250</td>\n",
       "    </tr>\n",
       "    <tr>\n",
       "      <th>5</th>\n",
       "      <td>BAMS</td>\n",
       "      <td>8 years experience</td>\n",
       "      <td>NaN</td>\n",
       "      <td>Porur, Chennai</td>\n",
       "      <td>Ayurveda</td>\n",
       "      <td>NaN</td>\n",
       "      <td>100</td>\n",
       "    </tr>\n",
       "    <tr>\n",
       "      <th>6</th>\n",
       "      <td>BHMS</td>\n",
       "      <td>42 years experience</td>\n",
       "      <td>NaN</td>\n",
       "      <td>Karol Bagh, Delhi</td>\n",
       "      <td>Homeopath</td>\n",
       "      <td>NaN</td>\n",
       "      <td>200</td>\n",
       "    </tr>\n",
       "    <tr>\n",
       "      <th>7</th>\n",
       "      <td>BDS</td>\n",
       "      <td>10 years experience</td>\n",
       "      <td>99%</td>\n",
       "      <td>Arekere, Bangalore</td>\n",
       "      <td>Dentist</td>\n",
       "      <td>Dental Fillings Crowns and Bridges Fixing Impa...</td>\n",
       "      <td>200</td>\n",
       "    </tr>\n",
       "    <tr>\n",
       "      <th>8</th>\n",
       "      <td>MBBS, MD - General Medicine</td>\n",
       "      <td>14 years experience</td>\n",
       "      <td>NaN</td>\n",
       "      <td>Old City, Hyderabad</td>\n",
       "      <td>General Medicine</td>\n",
       "      <td>NaN</td>\n",
       "      <td>100</td>\n",
       "    </tr>\n",
       "    <tr>\n",
       "      <th>9</th>\n",
       "      <td>BSc, BDS</td>\n",
       "      <td>23 years experience</td>\n",
       "      <td>NaN</td>\n",
       "      <td>Athani, Ernakulam</td>\n",
       "      <td>Dentist</td>\n",
       "      <td>NaN</td>\n",
       "      <td>100</td>\n",
       "    </tr>\n",
       "  </tbody>\n",
       "</table>\n",
       "</div>"
      ],
      "text/plain": [
       "                    Qualification           Experience Rating  \\\n",
       "0           BHMS, MD - Homeopathy  24 years experience   100%   \n",
       "1    BAMS, MD - Ayurveda Medicine  12 years experience    98%   \n",
       "2  MBBS, MS - Otorhinolaryngology   9 years experience    NaN   \n",
       "3             BSc - Zoology, BAMS  12 years experience    NaN   \n",
       "4                            BAMS  20 years experience   100%   \n",
       "5                            BAMS   8 years experience    NaN   \n",
       "6                            BHMS  42 years experience    NaN   \n",
       "7                             BDS  10 years experience    99%   \n",
       "8     MBBS, MD - General Medicine  14 years experience    NaN   \n",
       "9                        BSc, BDS  23 years experience    NaN   \n",
       "\n",
       "                          Place           Profile  \\\n",
       "0           Kakkanad, Ernakulam         Homeopath   \n",
       "1         Whitefield, Bangalore          Ayurveda   \n",
       "2    Mathikere - BEL, Bangalore    ENT Specialist   \n",
       "3  Bannerghatta Road, Bangalore          Ayurveda   \n",
       "4         Keelkattalai, Chennai          Ayurveda   \n",
       "5                Porur, Chennai          Ayurveda   \n",
       "6             Karol Bagh, Delhi         Homeopath   \n",
       "7            Arekere, Bangalore           Dentist   \n",
       "8           Old City, Hyderabad  General Medicine   \n",
       "9             Athani, Ernakulam           Dentist   \n",
       "\n",
       "                                  Miscellaneous_Info  Fees  \n",
       "0               100% 16 Feedback Kakkanad, Ernakulam   100  \n",
       "1              98% 76 Feedback Whitefield, Bangalore   350  \n",
       "2                                                NaN   300  \n",
       "3  Bannerghatta Road, Bangalore ₹250 Available on...   250  \n",
       "4              100% 4 Feedback Keelkattalai, Chennai   250  \n",
       "5                                                NaN   100  \n",
       "6                                                NaN   200  \n",
       "7  Dental Fillings Crowns and Bridges Fixing Impa...   200  \n",
       "8                                                NaN   100  \n",
       "9                                                NaN   100  "
      ]
     },
     "execution_count": 3,
     "metadata": {},
     "output_type": "execute_result"
    }
   ],
   "source": [
    "train_data.head(10)"
   ]
  },
  {
   "cell_type": "code",
   "execution_count": 4,
   "metadata": {},
   "outputs": [
    {
     "data": {
      "text/html": [
       "<div>\n",
       "<style scoped>\n",
       "    .dataframe tbody tr th:only-of-type {\n",
       "        vertical-align: middle;\n",
       "    }\n",
       "\n",
       "    .dataframe tbody tr th {\n",
       "        vertical-align: top;\n",
       "    }\n",
       "\n",
       "    .dataframe thead th {\n",
       "        text-align: right;\n",
       "    }\n",
       "</style>\n",
       "<table border=\"1\" class=\"dataframe\">\n",
       "  <thead>\n",
       "    <tr style=\"text-align: right;\">\n",
       "      <th></th>\n",
       "      <th>Qualification</th>\n",
       "      <th>Experience</th>\n",
       "      <th>Rating</th>\n",
       "      <th>Place</th>\n",
       "      <th>Profile</th>\n",
       "      <th>Miscellaneous_Info</th>\n",
       "    </tr>\n",
       "  </thead>\n",
       "  <tbody>\n",
       "    <tr>\n",
       "      <th>0</th>\n",
       "      <td>MBBS</td>\n",
       "      <td>35 years experience</td>\n",
       "      <td>NaN</td>\n",
       "      <td>Ghatkopar East, Mumbai</td>\n",
       "      <td>General Medicine</td>\n",
       "      <td>NaN</td>\n",
       "    </tr>\n",
       "    <tr>\n",
       "      <th>1</th>\n",
       "      <td>MBBS, Diploma in Otorhinolaryngology (DLO)</td>\n",
       "      <td>31 years experience</td>\n",
       "      <td>NaN</td>\n",
       "      <td>West Marredpally, Hyderabad</td>\n",
       "      <td>ENT Specialist</td>\n",
       "      <td>NaN</td>\n",
       "    </tr>\n",
       "    <tr>\n",
       "      <th>2</th>\n",
       "      <td>MBBS, DDVL</td>\n",
       "      <td>40 years experience</td>\n",
       "      <td>70%</td>\n",
       "      <td>KK Nagar, Chennai</td>\n",
       "      <td>Dermatologists</td>\n",
       "      <td>70% 4 Feedback KK Nagar, Chennai</td>\n",
       "    </tr>\n",
       "    <tr>\n",
       "      <th>3</th>\n",
       "      <td>BAMS</td>\n",
       "      <td>0 years experience</td>\n",
       "      <td>NaN</td>\n",
       "      <td>New Ashok Nagar, Delhi</td>\n",
       "      <td>Ayurveda</td>\n",
       "      <td>NaN</td>\n",
       "    </tr>\n",
       "    <tr>\n",
       "      <th>4</th>\n",
       "      <td>BDS, MDS - Conservative Dentistry &amp; Endodontics</td>\n",
       "      <td>16 years experience</td>\n",
       "      <td>100%</td>\n",
       "      <td>Kanakpura Road, Bangalore</td>\n",
       "      <td>Dentist</td>\n",
       "      <td>General Dentistry Conservative Dentistry Cosme...</td>\n",
       "    </tr>\n",
       "  </tbody>\n",
       "</table>\n",
       "</div>"
      ],
      "text/plain": [
       "                                     Qualification           Experience  \\\n",
       "0                                             MBBS  35 years experience   \n",
       "1       MBBS, Diploma in Otorhinolaryngology (DLO)  31 years experience   \n",
       "2                                       MBBS, DDVL  40 years experience   \n",
       "3                                             BAMS   0 years experience   \n",
       "4  BDS, MDS - Conservative Dentistry & Endodontics  16 years experience   \n",
       "\n",
       "  Rating                        Place           Profile  \\\n",
       "0    NaN       Ghatkopar East, Mumbai  General Medicine   \n",
       "1    NaN  West Marredpally, Hyderabad    ENT Specialist   \n",
       "2    70%            KK Nagar, Chennai    Dermatologists   \n",
       "3    NaN       New Ashok Nagar, Delhi          Ayurveda   \n",
       "4   100%    Kanakpura Road, Bangalore           Dentist   \n",
       "\n",
       "                                  Miscellaneous_Info  \n",
       "0                                                NaN  \n",
       "1                                                NaN  \n",
       "2                   70% 4 Feedback KK Nagar, Chennai  \n",
       "3                                                NaN  \n",
       "4  General Dentistry Conservative Dentistry Cosme...  "
      ]
     },
     "execution_count": 4,
     "metadata": {},
     "output_type": "execute_result"
    }
   ],
   "source": [
    "test_data.head()"
   ]
  },
  {
   "cell_type": "markdown",
   "metadata": {},
   "source": [
    "Concating two dataframes into one dataframe."
   ]
  },
  {
   "cell_type": "code",
   "execution_count": 5,
   "metadata": {},
   "outputs": [],
   "source": [
    "#Concating train and test data\n",
    "train_data['Source']='train'\n",
    "test_data['Source']='test'\n",
    "df=pd.concat([train_data,test_data], ignore_index=True)"
   ]
  },
  {
   "cell_type": "code",
   "execution_count": 6,
   "metadata": {},
   "outputs": [
    {
     "data": {
      "text/html": [
       "<div>\n",
       "<style scoped>\n",
       "    .dataframe tbody tr th:only-of-type {\n",
       "        vertical-align: middle;\n",
       "    }\n",
       "\n",
       "    .dataframe tbody tr th {\n",
       "        vertical-align: top;\n",
       "    }\n",
       "\n",
       "    .dataframe thead th {\n",
       "        text-align: right;\n",
       "    }\n",
       "</style>\n",
       "<table border=\"1\" class=\"dataframe\">\n",
       "  <thead>\n",
       "    <tr style=\"text-align: right;\">\n",
       "      <th></th>\n",
       "      <th>Qualification</th>\n",
       "      <th>Experience</th>\n",
       "      <th>Rating</th>\n",
       "      <th>Place</th>\n",
       "      <th>Profile</th>\n",
       "      <th>Miscellaneous_Info</th>\n",
       "      <th>Fees</th>\n",
       "      <th>Source</th>\n",
       "    </tr>\n",
       "  </thead>\n",
       "  <tbody>\n",
       "    <tr>\n",
       "      <th>0</th>\n",
       "      <td>BHMS, MD - Homeopathy</td>\n",
       "      <td>24 years experience</td>\n",
       "      <td>100%</td>\n",
       "      <td>Kakkanad, Ernakulam</td>\n",
       "      <td>Homeopath</td>\n",
       "      <td>100% 16 Feedback Kakkanad, Ernakulam</td>\n",
       "      <td>100.0</td>\n",
       "      <td>train</td>\n",
       "    </tr>\n",
       "    <tr>\n",
       "      <th>1</th>\n",
       "      <td>BAMS, MD - Ayurveda Medicine</td>\n",
       "      <td>12 years experience</td>\n",
       "      <td>98%</td>\n",
       "      <td>Whitefield, Bangalore</td>\n",
       "      <td>Ayurveda</td>\n",
       "      <td>98% 76 Feedback Whitefield, Bangalore</td>\n",
       "      <td>350.0</td>\n",
       "      <td>train</td>\n",
       "    </tr>\n",
       "    <tr>\n",
       "      <th>2</th>\n",
       "      <td>MBBS, MS - Otorhinolaryngology</td>\n",
       "      <td>9 years experience</td>\n",
       "      <td>NaN</td>\n",
       "      <td>Mathikere - BEL, Bangalore</td>\n",
       "      <td>ENT Specialist</td>\n",
       "      <td>NaN</td>\n",
       "      <td>300.0</td>\n",
       "      <td>train</td>\n",
       "    </tr>\n",
       "    <tr>\n",
       "      <th>3</th>\n",
       "      <td>BSc - Zoology, BAMS</td>\n",
       "      <td>12 years experience</td>\n",
       "      <td>NaN</td>\n",
       "      <td>Bannerghatta Road, Bangalore</td>\n",
       "      <td>Ayurveda</td>\n",
       "      <td>Bannerghatta Road, Bangalore ₹250 Available on...</td>\n",
       "      <td>250.0</td>\n",
       "      <td>train</td>\n",
       "    </tr>\n",
       "    <tr>\n",
       "      <th>4</th>\n",
       "      <td>BAMS</td>\n",
       "      <td>20 years experience</td>\n",
       "      <td>100%</td>\n",
       "      <td>Keelkattalai, Chennai</td>\n",
       "      <td>Ayurveda</td>\n",
       "      <td>100% 4 Feedback Keelkattalai, Chennai</td>\n",
       "      <td>250.0</td>\n",
       "      <td>train</td>\n",
       "    </tr>\n",
       "  </tbody>\n",
       "</table>\n",
       "</div>"
      ],
      "text/plain": [
       "                    Qualification           Experience Rating  \\\n",
       "0           BHMS, MD - Homeopathy  24 years experience   100%   \n",
       "1    BAMS, MD - Ayurveda Medicine  12 years experience    98%   \n",
       "2  MBBS, MS - Otorhinolaryngology   9 years experience    NaN   \n",
       "3             BSc - Zoology, BAMS  12 years experience    NaN   \n",
       "4                            BAMS  20 years experience   100%   \n",
       "\n",
       "                          Place         Profile  \\\n",
       "0           Kakkanad, Ernakulam       Homeopath   \n",
       "1         Whitefield, Bangalore        Ayurveda   \n",
       "2    Mathikere - BEL, Bangalore  ENT Specialist   \n",
       "3  Bannerghatta Road, Bangalore        Ayurveda   \n",
       "4         Keelkattalai, Chennai        Ayurveda   \n",
       "\n",
       "                                  Miscellaneous_Info   Fees Source  \n",
       "0               100% 16 Feedback Kakkanad, Ernakulam  100.0  train  \n",
       "1              98% 76 Feedback Whitefield, Bangalore  350.0  train  \n",
       "2                                                NaN  300.0  train  \n",
       "3  Bannerghatta Road, Bangalore ₹250 Available on...  250.0  train  \n",
       "4              100% 4 Feedback Keelkattalai, Chennai  250.0  train  "
      ]
     },
     "execution_count": 6,
     "metadata": {},
     "output_type": "execute_result"
    }
   ],
   "source": [
    "df.head()"
   ]
  },
  {
   "cell_type": "code",
   "execution_count": 7,
   "metadata": {},
   "outputs": [
    {
     "name": "stdout",
     "output_type": "stream",
     "text": [
      "<class 'pandas.core.frame.DataFrame'>\n",
      "RangeIndex: 7948 entries, 0 to 7947\n",
      "Data columns (total 8 columns):\n",
      " #   Column              Non-Null Count  Dtype  \n",
      "---  ------              --------------  -----  \n",
      " 0   Qualification       7948 non-null   object \n",
      " 1   Experience          7948 non-null   object \n",
      " 2   Rating              3556 non-null   object \n",
      " 3   Place               7917 non-null   object \n",
      " 4   Profile             7948 non-null   object \n",
      " 5   Miscellaneous_Info  4494 non-null   object \n",
      " 6   Fees                5961 non-null   float64\n",
      " 7   Source              7948 non-null   object \n",
      "dtypes: float64(1), object(7)\n",
      "memory usage: 496.9+ KB\n"
     ]
    }
   ],
   "source": [
    "#Information about dataframe\n",
    "df.info()"
   ]
  },
  {
   "cell_type": "markdown",
   "metadata": {},
   "source": [
    "# Summary Statistics"
   ]
  },
  {
   "cell_type": "code",
   "execution_count": 8,
   "metadata": {},
   "outputs": [
    {
     "data": {
      "text/html": [
       "<div>\n",
       "<style scoped>\n",
       "    .dataframe tbody tr th:only-of-type {\n",
       "        vertical-align: middle;\n",
       "    }\n",
       "\n",
       "    .dataframe tbody tr th {\n",
       "        vertical-align: top;\n",
       "    }\n",
       "\n",
       "    .dataframe thead th {\n",
       "        text-align: right;\n",
       "    }\n",
       "</style>\n",
       "<table border=\"1\" class=\"dataframe\">\n",
       "  <thead>\n",
       "    <tr style=\"text-align: right;\">\n",
       "      <th></th>\n",
       "      <th>Fees</th>\n",
       "    </tr>\n",
       "  </thead>\n",
       "  <tbody>\n",
       "    <tr>\n",
       "      <th>count</th>\n",
       "      <td>5961.000000</td>\n",
       "    </tr>\n",
       "    <tr>\n",
       "      <th>mean</th>\n",
       "      <td>307.944640</td>\n",
       "    </tr>\n",
       "    <tr>\n",
       "      <th>std</th>\n",
       "      <td>190.920373</td>\n",
       "    </tr>\n",
       "    <tr>\n",
       "      <th>min</th>\n",
       "      <td>5.000000</td>\n",
       "    </tr>\n",
       "    <tr>\n",
       "      <th>25%</th>\n",
       "      <td>150.000000</td>\n",
       "    </tr>\n",
       "    <tr>\n",
       "      <th>50%</th>\n",
       "      <td>300.000000</td>\n",
       "    </tr>\n",
       "    <tr>\n",
       "      <th>75%</th>\n",
       "      <td>500.000000</td>\n",
       "    </tr>\n",
       "    <tr>\n",
       "      <th>max</th>\n",
       "      <td>950.000000</td>\n",
       "    </tr>\n",
       "  </tbody>\n",
       "</table>\n",
       "</div>"
      ],
      "text/plain": [
       "              Fees\n",
       "count  5961.000000\n",
       "mean    307.944640\n",
       "std     190.920373\n",
       "min       5.000000\n",
       "25%     150.000000\n",
       "50%     300.000000\n",
       "75%     500.000000\n",
       "max     950.000000"
      ]
     },
     "execution_count": 8,
     "metadata": {},
     "output_type": "execute_result"
    }
   ],
   "source": [
    "df.describe()"
   ]
  },
  {
   "cell_type": "markdown",
   "metadata": {},
   "source": [
    "Observation :"
   ]
  },
  {
   "cell_type": "markdown",
   "metadata": {},
   "source": [
    "Fees is the only column which is float value other than that all columns are object."
   ]
  },
  {
   "cell_type": "code",
   "execution_count": 9,
   "metadata": {},
   "outputs": [
    {
     "data": {
      "text/plain": [
       "Qualification            0\n",
       "Experience               0\n",
       "Rating                4392\n",
       "Place                   31\n",
       "Profile                  0\n",
       "Miscellaneous_Info    3454\n",
       "Fees                  1987\n",
       "Source                   0\n",
       "dtype: int64"
      ]
     },
     "execution_count": 9,
     "metadata": {},
     "output_type": "execute_result"
    }
   ],
   "source": [
    "#Checking null values\n",
    "df.isnull().sum()"
   ]
  },
  {
   "cell_type": "code",
   "execution_count": 10,
   "metadata": {},
   "outputs": [
    {
     "name": "stdout",
     "output_type": "stream",
     "text": [
      "Qualification\n",
      "Unique Values ['BHMS, MD - Homeopathy' 'BAMS, MD - Ayurveda Medicine'\n",
      " 'MBBS, MS - Otorhinolaryngology' ...\n",
      " 'MD - Medicine, Post Graduate Diploma in Diabetology (PGDD), MBBS, FRCP - Internal Medicine'\n",
      " 'MBBS, MS - General Surgery, FAIS, FIAGES'\n",
      " 'MBBS, MD / MS - Obstetrics & Gynaecology']\n",
      "count of unique values 1801\n",
      "---------------------------------------------------------------------\n",
      "Experience\n",
      "Unique Values ['24 years experience' '12 years experience' '9 years experience'\n",
      " '20 years experience' '8 years experience' '42 years experience'\n",
      " '10 years experience' '14 years experience' '23 years experience'\n",
      " '5 years experience' '7 years experience' '21 years experience'\n",
      " '19 years experience' '41 years experience' '31 years experience'\n",
      " '25 years experience' '16 years experience' '15 years experience'\n",
      " '11 years experience' '22 years experience' '38 years experience'\n",
      " '6 years experience' '36 years experience' '13 years experience'\n",
      " '18 years experience' '46 years experience' '40 years experience'\n",
      " '49 years experience' '33 years experience' '0 years experience'\n",
      " '27 years experience' '30 years experience' '52 years experience'\n",
      " '60 years experience' '26 years experience' '35 years experience'\n",
      " '34 years experience' '39 years experience' '32 years experience'\n",
      " '17 years experience' '28 years experience' '58 years experience'\n",
      " '4 years experience' '45 years experience' '44 years experience'\n",
      " '3 years experience' '37 years experience' '50 years experience'\n",
      " '29 years experience' '43 years experience' '54 years experience'\n",
      " '66 years experience' '2 years experience' '51 years experience'\n",
      " '47 years experience' '48 years experience' '53 years experience'\n",
      " '56 years experience' '61 years experience' '59 years experience'\n",
      " '57 years experience' '55 years experience' '65 years experience'\n",
      " '64 years experience']\n",
      "count of unique values 64\n",
      "---------------------------------------------------------------------\n",
      "Rating\n",
      "Unique Values ['100%' '98%' nan '99%' '79%' '95%' '97%' '94%' '88%' '90%' '80%' '93%'\n",
      " '36%' '78%' '87%' '96%' '82%' '89%' '74%' '86%' '92%' '83%' '76%' '85%'\n",
      " '56%' '91%' '68%' '60%' '75%' '69%' '73%' '67%' '77%' '33%' '55%' '71%'\n",
      " '84%' '45%' '63%' '72%' '81%' '62%' '57%' '7%' '48%' '40%' '70%' '64%'\n",
      " '65%' '47%' '58%' '53%' '52%']\n",
      "count of unique values 52\n",
      "---------------------------------------------------------------------\n",
      "Place\n",
      "Unique Values ['Kakkanad, Ernakulam' 'Whitefield, Bangalore'\n",
      " 'Mathikere - BEL, Bangalore' 'Bannerghatta Road, Bangalore'\n",
      " 'Keelkattalai, Chennai' 'Porur, Chennai' 'Karol Bagh, Delhi'\n",
      " 'Arekere, Bangalore' 'Old City, Hyderabad' 'Athani, Ernakulam'\n",
      " 'Thousand Lights, Chennai' 'Somajiguda, Hyderabad'\n",
      " 'Coimbatore Racecourse, Coimbatore' 'Jubilee Hills, Hyderabad'\n",
      " 'Kondli, Delhi' 'Saroor Nagar, Hyderabad' 'Tambaram West, Chennai'\n",
      " 'Purasawakkam, Chennai' 'KPHB, Hyderabad' 'HSR Layout, Bangalore'\n",
      " 'Pollachi, Coimbatore' 'Vasundhra Enclave, Delhi' 'Chembur, Mumbai'\n",
      " 'Thammanam, Ernakulam' 'Andheri, Mumbai' 'Pattom, Thiruvananthapuram'\n",
      " 'Kukatpally, Hyderabad' 'Vadavalli, Coimbatore' 'Defence Colony, Delhi'\n",
      " 'Banjara Hills, Hyderabad' 'Sion West, Mumbai' 'CR Park, Delhi'\n",
      " 'Mogappair East, Chennai' 'IP Extension, Delhi'\n",
      " 'Safdarjung Enclave, Delhi' 'New Friends Colony, Delhi'\n",
      " 'Borivali West, Mumbai' 'Saket, Delhi' 'Malad, Mumbai'\n",
      " 'Hyder Nagar, Hyderabad' 'Dahisar West, Mumbai' 'RT Nagar, Bangalore'\n",
      " 'Powai, Mumbai' 'Basheerbagh, Hyderabad' 'Musheerabad, Hyderabad'\n",
      " 'AS Rao Nagar, Hyderabad' 'Madhapur, Hyderabad' 'Gandhinagar, Hyderabad'\n",
      " 'Chetpet, Chennai' 'Vileparle East, Mumbai'\n",
      " 'Yelahanka New Town, Bangalore' 'Kodambakkam, Chennai'\n",
      " 'Malleswaram, Bangalore' 'Pallikaranai, Chennai' 'Nallakunta, Hyderabad'\n",
      " 'Paschim Vihar, Delhi' 'Meera Bagh, Delhi' 'Chattarpur, Delhi'\n",
      " 'Andheri West, Mumbai' 'Himayat Nagar, Hyderabad' 'Adambakkam, Chennai'\n",
      " 'Punjabi Bagh, Delhi' 'Mahalaxmi, Mumbai' 'Kalina, Mumbai'\n",
      " 'Attapur, Hyderabad' 'Lakdikapul, Hyderabad' 'Ambattur, Chennai'\n",
      " 'Ramnagar, Coimbatore' 'Shalimar Bagh, Delhi' 'Nungambakkam, Chennai'\n",
      " 'Miyapur, Hyderabad' 'Sagarpur, Delhi' 'Girgaon, Mumbai'\n",
      " 'Jayanagar, Bangalore' 'Palayam, Thiruvananthapuram' 'Munirka, Delhi'\n",
      " 'Tuglakabad, Delhi' 'Moosarambagh, Hyderabad' nan\n",
      " 'Anna Nagar East, Chennai' 'Bandra West, Mumbai'\n",
      " 'Kanakpura Road, Bangalore' 'Green Park, Delhi' 'Maduravoyal, Chennai'\n",
      " 'Dahisar East, Mumbai' 'Moosapet, Hyderabad' 'Koramangala, Bangalore'\n",
      " 'TV Medical College, Thiruvananthapuram' 'Kadavanthra, Ernakulam'\n",
      " 'Greams Road, Chennai' 'Bommanahalli, Bangalore' 'T Nagar, Chennai'\n",
      " 'Yelahanka, Bangalore' 'Hazrat Nizamuddin, Delhi'\n",
      " 'Old Rajendra Nagar, Delhi' 'Dadar West, Mumbai' 'Indiranagar, Bangalore'\n",
      " 'Perumbakkam, Chennai' 'Shaikpet, Hyderabad' 'Vyttila, Ernakulam'\n",
      " 'Khar West, Mumbai' 'Goregaon West, Mumbai' 'Bakkarwala, Delhi'\n",
      " 'Nesapakkam, Chennai' 'BTM Layout 2nd Stage, Bangalore'\n",
      " 'Ashok Nagar, Chennai' 'Chandivali, Mumbai' 'Uttam Nagar, Delhi'\n",
      " 'Gujranwala Town, Delhi' 'Greater Kailash Part 1, Delhi'\n",
      " 'Panchsheel Park, Delhi' 'Thoraipakkam, Chennai'\n",
      " 'South Extension 2, Delhi' 'Kandivali East, Mumbai' 'Pitampura, Delhi'\n",
      " 'Banashankari 3rd Stage, Bangalore' 'Kolenchery, Ernakulam'\n",
      " 'Kumaraswamy Layout, Bangalore' 'Vadapalani, Chennai'\n",
      " 'Manikonda, Hyderabad' 'Gandhipuram, Coimbatore'\n",
      " 'Yeshwanthpur, Bangalore' 'Ayanavaram, Chennai'\n",
      " 'Basaveshwaranagar, Bangalore' 'Malad West, Mumbai' 'Vikas Puri, Delhi'\n",
      " 'Kondapur, Hyderabad' 'Andheri East, Mumbai' 'Sulur, Coimbatore'\n",
      " 'Adyar, Chennai' 'Krishna Nagar, Delhi' 'Langer House, Hyderabad'\n",
      " 'Thiruvanmiyur, Chennai' 'Dwarka, Delhi' 'Bhandup West, Mumbai'\n",
      " 'Janak Puri, Delhi' 'Rajajinagar, Bangalore' 'South Extension 1, Delhi'\n",
      " 'Kemps Corner, Mumbai' 'Peelamedu, Coimbatore' 'Kandivali West, Mumbai'\n",
      " 'Thevara, Ernakulam' 'Wilson Garden, Bangalore' 'Wadala, Mumbai'\n",
      " 'Pahar Ganj, Delhi' 'Chanchalguda, Hyderabad' 'Chikkadpally, Hyderabad'\n",
      " 'Pasur-avanashi, Coimbatore' 'Nagarbhavi, Bangalore'\n",
      " 'Lajpat Nagar, Delhi' 'Mayur Vihar Ph-I, Delhi' 'Dilshad Garden, Delhi'\n",
      " 'Vijayanagar, Bangalore' 'Alwarpet, Chennai'\n",
      " 'Pappanamcode, Thiruvananthapuram' 'Aluva, Ernakulam'\n",
      " 'Nariman Point, Mumbai' 'Kilkattalai, Chennai' 'Dilsukhnagar, Hyderabad'\n",
      " 'Kurla West, Mumbai' 'Begumpet, Hyderabad' 'Kaloor, Ernakulam'\n",
      " 'Hitech City, Hyderabad' 'Goregaon East, Mumbai'\n",
      " 'Velandipalayam, Coimbatore' 'Ghatkopar East, Mumbai'\n",
      " 'Mulund West, Mumbai' 'Yousufguda, Hyderabad' 'Ghatkopar West, Mumbai'\n",
      " 'TVM Beach, Thiruvananthapuram' 'Vanagaram, Chennai' 'Worli, Mumbai'\n",
      " 'Koramangala 1 Block, Bangalore' 'Saki Vihar Road, Mumbai'\n",
      " 'Versova, Mumbai' 'CV Raman Nagar, Bangalore' 'Secunderabad, Hyderabad'\n",
      " 'BTM Layout 1st Stage, Bangalore' 'Ramkoti, Hyderabad'\n",
      " 'MRC Nagar, Chennai' 'Malkajgiri, Hyderabad' 'Gachibowli, Hyderabad'\n",
      " 'Mogappair West, Chennai' 'Mayur Vihar Ph-III, Delhi'\n",
      " 'Kurla East, Mumbai' 'Ashok Vihar, Delhi' 'Mahim, Mumbai'\n",
      " 'Villivakkam, Chennai' 'Srinagar Colony, Hyderabad' 'Chromepet, Chennai'\n",
      " 'Pammal, Chennai' 'Banashankari, Bangalore' 'Velachery, Chennai'\n",
      " 'Chanakyapuri, Delhi' 'Kalyan Nagar, Bangalore' 'Oshiwara, Mumbai'\n",
      " 'Karapakkam, Chennai' 'Borivali, Mumbai' 'Mylapore, Chennai'\n",
      " 'Electronics City, Bangalore' 'Perungudi, Chennai'\n",
      " 'Basavanagudi, Bangalore' 'MG Road, Bangalore' 'Thiruvottiyur, Chennai'\n",
      " 'Greater Kailash Part 2, Delhi' 'Bilekahalli, Bangalore'\n",
      " 'Nanganallur, Chennai' 'Rohini, Delhi' 'Thrikkakara, Ernakulam'\n",
      " 'Manapakkam, Chennai' 'Bellandur, Bangalore' 'Ameerpet, Hyderabad'\n",
      " 'Thiruvallom, Thiruvananthapuram' 'R.S. Puram, Coimbatore'\n",
      " 'Kumarapuram, Thiruvananthapuram' 'Palam Colony, Delhi' 'Manali, Chennai'\n",
      " 'Valasaravakkam, Chennai' 'Barkatpura, Hyderabad'\n",
      " 'Singanallur, Coimbatore' 'Mulund, Mumbai' 'Dadar East, Mumbai'\n",
      " 'Borabanda, Hyderabad' 'Model Town 3, Delhi' 'Ulsoor, Bangalore'\n",
      " 'Bhayandar West, Mumbai' 'Hari Nagar, Delhi' 'Horamavu, Bangalore'\n",
      " 'Santacruz East, Mumbai' 'OMR Road, Chennai' 'Kammana Halli, Bangalore'\n",
      " 'Tilak Nagar, Delhi' 'Panathur, Bangalore'\n",
      " 'Rajarajeshwarinagar, Bangalore' 'Paravur, Ernakulam'\n",
      " 'Preet Vihar, Delhi' 'Chembur East, Mumbai' 'Jakkur, Bangalore'\n",
      " 'Vanasthalipuram, Hyderabad' 'Mandaveli, Chennai'\n",
      " 'Kumara Park West, Bangalore' 'Domlur, Bangalore'\n",
      " 'Jeevanbhimanagar, Bangalore' 'Santacruz West, Mumbai'\n",
      " 'Shankar Vihar, Delhi' 'Jogeshwari East, Mumbai'\n",
      " 'Kasavanahalli, Bangalore' 'Ambalamukku, Thiruvananthapuram'\n",
      " 'Jhilmil Colony, Delhi' 'Dwarka Sector 7, Delhi' 'Tatabad, Coimbatore'\n",
      " 'Marine Lines, Mumbai' 'Tolichowki, Hyderabad' 'Sundarapuram, Coimbatore'\n",
      " 'Kothanur, Bangalore' 'Chinmaya Nagar, Chennai' 'Vasant Vihar, Delhi'\n",
      " 'Mehdipatnam, Hyderabad' 'Kadugodi, Bangalore' 'Ganapathy, Coimbatore'\n",
      " 'SR Nagar, Hyderabad' 'Perambur, Chennai' 'Opera House, Mumbai'\n",
      " 'Selvapuram, Coimbatore' 'Karkardooma, Delhi' 'Alwarthirunagar, Chennai'\n",
      " 'KR Puram, Bangalore' 'Ramesh Nagar, Delhi' 'Malakpet, Hyderabad'\n",
      " 'Tondiarpet, Chennai' 'Vikrampuri Colony, Hyderabad'\n",
      " 'Besant Nagar, Chennai' 'Vasant Kunj, Delhi' 'Banaswadi, Bangalore'\n",
      " 'BTM Layout, Bangalore' 'Medavakkam, Chennai' 'Vileparle West, Mumbai'\n",
      " 'Sahakaranagar, Bangalore' 'LB Nagar, Hyderabad' 'Punjagutta, Hyderabad'\n",
      " 'Yamuna Vihar, Delhi' 'Marathahalli, Bangalore'\n",
      " 'JP Nagar 2 Phase, Bangalore' 'Rani Bagh, Delhi' 'Jayamahal, Bangalore'\n",
      " 'Nagpada, Mumbai' 'Kundalahalli, Bangalore' 'Kailash Colony, Delhi'\n",
      " 'Pandav Nagar, Delhi' 'Karkhana, Hyderabad' 'West Mambalam, Chennai'\n",
      " 'Aminjikarai, Chennai' 'Madipakkam, Chennai' 'Charkop, Mumbai'\n",
      " 'Adarsh Nagar, Delhi' 'Dadar, Mumbai' 'Kaggadasapura, Bangalore'\n",
      " 'Matunga, Mumbai' 'Sun city, Hyderabad' 'Mahadevapura, Bangalore'\n",
      " 'Kalady, Ernakulam' 'Anna Nagar West, Chennai' 'Mayur Vihar Ph-II, Delhi'\n",
      " 'Tis Hazari, Delhi' 'Vennala, Ernakulam' 'Mira Road, Mumbai'\n",
      " 'Alwal, Hyderabad' 'Trimulgherry, Hyderabad'\n",
      " 'Raja Annamalai Puram, Chennai' 'JP Nagar 7 Phase, Bangalore'\n",
      " 'Old Bowenpally, Hyderabad' 'Santosh Nagar, Hyderabad'\n",
      " 'Hope College, Coimbatore' 'Mulund East, Mumbai' 'Mount Road, Chennai'\n",
      " 'Patel Nagar West, Delhi' 'Jayanagar 4 Block, Bangalore'\n",
      " 'West Marredpally, Hyderabad' 'Jagriti Enclave, Delhi'\n",
      " 'Sarita Vihar, Delhi' 'Rajendra Nagar, Hyderabad'\n",
      " 'Thudiyalur, Coimbatore' 'Bhayandar East, Mumbai'\n",
      " 'Narayanguda, Hyderabad' 'Kothapet, Hyderabad' 'KK Nagar, Chennai'\n",
      " 'Tripunithura, Ernakulam' 'Model Town, Delhi'\n",
      " 'Suchitra Circle, Hyderabad' 'Pusa Road, Delhi'\n",
      " 'Vijaynagar Colony, Hyderabad' 'Alandur, Chennai' 'Cuffe Parade, Mumbai'\n",
      " 'Kalkaji, Delhi' 'Saibaba Colony, Coimbatore'\n",
      " 'Kattakada, Thiruvananthapuram' 'Jogeshwari West, Mumbai'\n",
      " 'Erragadda, Hyderabad' 'Tilak Nagar, Hyderabad' 'Edapally, Ernakulam'\n",
      " 'Patparganj, Delhi' 'Sainikpuri, Hyderabad' 'Nanjundapuram, Coimbatore'\n",
      " 'Nizampet, Hyderabad' 'Kolathur, Chennai' 'Chamarajpet, Bangalore'\n",
      " 'Kala Ghoda, Mumbai' 'Padmarao Nagar, Hyderabad' 'Uppal, Hyderabad'\n",
      " 'Guduvanchery, Chennai' 'Satya Niketan, Delhi' 'Chanda Nagar, Hyderabad'\n",
      " 'Sowripalayam, Coimbatore' 'Vikhroli West, Mumbai'\n",
      " 'Rajouri Garden, Delhi' 'Alaknanda, Delhi' 'Millers Road, Bangalore'\n",
      " 'Kandanchavadi, Chennai' 'Vigyan Vihar, Delhi' 'Bandra East, Mumbai'\n",
      " 'Vilankurichi, Coimbatore' 'Malad East, Mumbai' 'Prabhadevi, Mumbai'\n",
      " 'Ulloor, Thiruvananthapuram' 'Rajakilpakkam, Chennai'\n",
      " 'Greater Kailash, Delhi' 'Madinaguda, Hyderabad' 'Borivali East, Mumbai'\n",
      " 'Juhu, Mumbai' 'Mugalivakkam, Chennai' 'Hebbal, Bangalore'\n",
      " 'Kirti Nagar, Delhi' 'Balaramapuram, Thiruvananthapuram'\n",
      " 'Bhandup East, Mumbai' 'VV Puram, Bangalore' 'Kilpauk, Chennai'\n",
      " 'Jacob Circle, Mumbai' 'Singasandra, Bangalore' 'Khairatabad, Hyderabad'\n",
      " 'Coimbatore Aerodrome, Coimbatore' 'J.C Nagar, Bangalore'\n",
      " 'Naraina Vihar, Delhi' 'Virugambakkam, Chennai' 'RK Puram, Delhi'\n",
      " 'Banashankari 1st Stage, Bangalore' 'Lajpat Nagar 4, Delhi'\n",
      " 'Jayanagar 5 Block, Bangalore' 'Kalyanpuri, Hyderabad'\n",
      " 'Tambaram, Chennai' 'Laxmi Nagar, Delhi' 'Anand Vihar, Delhi'\n",
      " 'Charni Road, Mumbai' 'Patel Nagar East, Delhi'\n",
      " 'Jayanagar 9 Block, Bangalore' 'Ecil, Hyderabad'\n",
      " 'Ramamurthy Nagar, Bangalore' 'Raj Nagar - 2, Delhi'\n",
      " 'Chunabhatti, Mumbai' 'Vikhroli East, Mumbai' 'Shakarpur, Delhi'\n",
      " 'Shahdara, Delhi' 'Govandi, Mumbai' 'Mira Bhayandar, Mumbai'\n",
      " 'Doddanekundi, Bangalore' 'Madhu Vihar, Delhi' 'Guindy, Chennai'\n",
      " 'Palarivattom, Ernakulam' 'Charminar, Hyderabad'\n",
      " 'Old Airport Road, Bangalore' 'Sarjapur Road, Bangalore' 'Okhla, Delhi'\n",
      " 'Baghlingampally, Hyderabad' 'Trombay, Mumbai' 'HRBR Layout, Bangalore'\n",
      " 'Fort, Mumbai' 'Shastri Nagar, Delhi' 'Red Hills, Chennai'\n",
      " 'New BEL Road, Bangalore' 'Park Town, Chennai' 'Frazer Town, Bangalore'\n",
      " 'Falaknuma, Hyderabad' 'Rohini Sector 7, Delhi' 'East Of Kailash, Delhi'\n",
      " 'Chintadripet, Chennai' 'Tagore Garden, Delhi' 'Tri Nagar, Delhi'\n",
      " 'Muttada, Thiruvananthapuram' 'Munnekollal, Bangalore'\n",
      " 'TV Museum, Thiruvananthapuram' 'Shivalik, Delhi' 'Neb Sarai, Delhi'\n",
      " 'Mahalakshmi Layout, Bangalore' 'Mankhurd, Mumbai' 'Kamla Nagar, Delhi'\n",
      " 'Saravanampatti, Coimbatore' 'Selaiyur, Chennai' 'Saligramam, Chennai'\n",
      " 'Thirumullaivoyal, Chennai' 'Teynampet, Chennai' 'Kochi, Ernakulam'\n",
      " 'Vidyaranyapura, Bangalore' 'Mogappair, Chennai' 'Mazgaon, Mumbai'\n",
      " 'Shivaji Nagar, Bangalore' 'Jangpura, Delhi'\n",
      " 'Kaudiar Square, Thiruvananthapuram' 'Arumbakkam, Chennai'\n",
      " 'Cherai, Ernakulam' 'Mira-Bhayandar Road, Mumbai' 'Ram Nagar, Delhi'\n",
      " 'Parel, Mumbai' 'Thanisandra, Bangalore' 'Pragathi Nagar, Hyderabad'\n",
      " 'Karamana, Thiruvananthapuram' 'AECS Layout, Bangalore'\n",
      " 'Nizamuddin East, Delhi' 'Ramanathapuram, Coimbatore'\n",
      " 'Anna Nagar, Chennai' 'Shenoy Nagar, Chennai' 'Siddhapudur, Coimbatore'\n",
      " 'Keshav Puram, Delhi' 'Edakochi, Ernakulam' 'Nagawara, Bangalore'\n",
      " 'Chintal, Hyderabad' 'Malviya Nagar, Delhi' 'Karwan, Hyderabad'\n",
      " 'Vazhakulam, Ernakulam' 'PMG Jn, Thiruvananthapuram'\n",
      " 'Dwarka Sector 6, Delhi' 'Viveknagar, Bangalore' 'Balapur, Hyderabad'\n",
      " 'Banashankari 2nd Stage, Bangalore' 'Azadpur, Delhi' 'Moti Nagar, Delhi'\n",
      " 'Sakinaka, Mumbai' 'Thoppumpady, Ernakulam' 'Sanath Nagar, Hyderabad'\n",
      " 'Royapettah, Chennai' 'Koramangala 5 Block, Bangalore'\n",
      " 'Kanjurmarg, Mumbai' 'Ernakulam College, Ernakulam' 'Urapakkam, Chennai'\n",
      " 'Coimbatore Ukkadam, Coimbatore' 'Sreekaryam, Thiruvananthapuram'\n",
      " 'Ernakulam North, Ernakulam' 'Sultanpur, Delhi' 'Banerji Road, Ernakulam'\n",
      " 'Balkampet, Hyderabad' 'Kavundampalayam, Coimbatore'\n",
      " 'Kanchanbagh, Hyderabad' 'Patel Nagar, Delhi' 'Kilokri, Delhi'\n",
      " 'Hoodi, Bangalore' 'New Seemapuri, Delhi' 'Seshadripuram, Bangalore'\n",
      " 'Vijaynagar, Delhi' 'Bowenpally, Hyderabad' 'Ondipudur, Coimbatore'\n",
      " 'Triplicane, Chennai' 'Richmond Town, Bangalore'\n",
      " 'New Rajendra Nagar, Delhi' 'Jahangirpuri, Delhi' 'Vivek Vihar, Delhi'\n",
      " 'Malleshpalya, Bangalore' 'Pezhakkappilly, Ernakulam'\n",
      " 'Lingampally, Hyderabad' 'Jamia Nagar, Delhi' 'Begum Bazar, Hyderabad'\n",
      " 'Lower Parel, Mumbai' 'ECR Road, Chennai' 'Nangloi, Delhi'\n",
      " 'Chintalmet, Hyderabad' 'West Of Chord Road, Bangalore' 'SV Road, Mumbai'\n",
      " 'JP Nagar 5 Phase, Bangalore' 'Sanjay Nagar, Bangalore'\n",
      " 'Panampilly Nagar, Ernakulam' 'Dharavi, Mumbai' 'Abbigere, Bangalore'\n",
      " 'Manacaud, Thiruvananthapuram' 'Poonamalle, Chennai' 'Najafgarh, Delhi'\n",
      " 'Uttarahalli, Bangalore' 'Sembakkam, Chennai' 'Tarnaka, Hyderabad'\n",
      " 'Nandanam, Chennai' 'Saidapet, Chennai' 'Choolaimedu, Chennai'\n",
      " 'Perungalathur, Chennai' 'Gulabi Bagh, Delhi' 'Jasola, Delhi'\n",
      " 'JP Nagar 3 Phase, Bangalore' 'Uppilipalayam, Coimbatore'\n",
      " 'Sadashivanagar, Bangalore' 'Rohini Sector 24, Delhi'\n",
      " 'Muvattupuzha, Ernakulam' 'Khan Market, Delhi' 'Abids, Hyderabad'\n",
      " 'Geeta Colony, Delhi' 'Madandapuram, Chennai' 'Dwarka Sector 22, Delhi'\n",
      " 'Grant Road, Mumbai' 'Jeedimetla, Hyderabad' 'Tambaram East, Chennai'\n",
      " 'Kothaguda, Hyderabad' 'Hauz Khas, Delhi' 'Habsiguda, Hyderabad'\n",
      " 'Breach Candy, Mumbai' 'Vidyanagar, Bangalore' 'Begur, Bangalore'\n",
      " 'Dahisar, Mumbai' 'Pachalam, Ernakulam' 'Perumbavoor, Ernakulam'\n",
      " 'Avadi, Chennai' 'Coimbatore Central, Coimbatore' 'Lokhandwala, Mumbai'\n",
      " 'Tiruvottiyur, Chennai' 'Ullal Upanagara, Bangalore'\n",
      " 'Perurkada, Thiruvananthapuram' 'Ashok Vihar Phase 3, Delhi'\n",
      " 'Walkeshwar, Mumbai' 'Saidabad, Hyderabad'\n",
      " 'Koramangala 6 Block, Bangalore' 'New Ashok Nagar, Delhi'\n",
      " 'Peddar Road, Mumbai' 'Aya Nagar, Delhi' 'JP Nagar, Bangalore'\n",
      " 'Sasthamangalam, Thiruvananthapuram' 'Yakutpura, Hyderabad'\n",
      " 'Sampangiramnagar, Bangalore' 'Kasturi nagar, Bangalore'\n",
      " 'Pallavaram, Chennai' 'Moti Bagh, Delhi' 'Mukherjee Nagar, Delhi'\n",
      " 'Byculla, Mumbai' 'Peeragarhi, Delhi' 'Amberpet, Hyderabad'\n",
      " 'JP Nagar 6 Phase, Bangalore' 'Sholinganallur, Chennai'\n",
      " 'Langford Road, Bangalore' 'Cumballa Hill, Mumbai' 'Colaba, Mumbai'\n",
      " 'Qutab Institutional Area, Delhi' 'Dommasandra, Bangalore'\n",
      " 'Malabar Hill, Mumbai' 'Koramangala 8 Block, Bangalore'\n",
      " 'Rohini Sector 22, Delhi' 'Lothkunta, Hyderabad'\n",
      " 'HAL 2nd Stage, Bangalore' 'Jayanagar 7 Block, Bangalore'\n",
      " 'Vadasserikonam, Thiruvananthapuram' 'East Marredpally, Hyderabad'\n",
      " 'Kelambakkam, Chennai' 'Chinchpokli, Mumbai' 'Delhi Cantt, Delhi'\n",
      " 'Padmanabhanagar, Bangalore' 'Sheikh Sarai, Delhi'\n",
      " 'Washermenpet, Chennai' 'Konanakunte, Bangalore'\n",
      " 'Ashok Vihar Phase 1, Delhi' 'Thirumala, Thiruvananthapuram'\n",
      " 'Sarjapura, Bangalore' 'JP Nagar 1 Phase, Bangalore' 'JB Nagar, Mumbai'\n",
      " 'Paruthippara, Thiruvananthapuram' 'Vikhroli, Mumbai'\n",
      " 'JP Nagar 8 Phase, Bangalore' 'GTB Nagar, Delhi' 'Vidyanagar, Hyderabad'\n",
      " 'Masab Tank, Hyderabad' 'Hafeezpet, Hyderabad' 'Jeevan Park, Delhi'\n",
      " 'Dwarka Sector 5, Delhi' 'Civil Lines, Delhi' 'Anand Niketan, Delhi'\n",
      " 'Pappanaickenpalayam, Coimbatore' 'Koovappady, Ernakulam'\n",
      " 'Dwarka, Sector 5, Delhi' 'Srirampuram, Bangalore' 'Korattur, Chennai'\n",
      " 'Pappanaickenpudur, Coimbatore' 'Gandhi Nagar, Delhi'\n",
      " 'Vignan Nagar, Bangalore' 'Ganganagar, Bangalore' 'Elamakkara, Ernakulam'\n",
      " 'Boduppal, Hyderabad' 'Tilak Nagar, Mumbai' 'Khetwadi, Mumbai'\n",
      " 'Kengeri, Bangalore' 'Sion East, Mumbai' 'Rohini Sector 6, Delhi'\n",
      " 'Kazhakuttam, Thiruvananthapuram' 'Goregaon, Mumbai'\n",
      " 'Peroor, Thiruvananthapuram' 'New Thippasandra, Bangalore'\n",
      " 'Jalahalli, Bangalore' 'King Koti, Hyderabad'\n",
      " 'Kallambalam, Thiruvananthapuram' 'Dwarka Sector 13, Delhi'\n",
      " 'Residency Road, Bangalore' 'Radhakrishnan Salai, Chennai'\n",
      " 'Hulimavu, Bangalore' 'Dasarahalli, Bangalore' 'Vileparle, Mumbai'\n",
      " 'Delhi, Delhi' 'Kachiguda, Hyderabad' 'Venkitapuram, Coimbatore'\n",
      " 'Kuniamuthur, Coimbatore' 'TV Chalai, Thiruvananthapuram'\n",
      " 'Serilingampally, Hyderabad' 'RMV 2nd Stage, Bangalore'\n",
      " 'Champapet, Hyderabad' 'Surya Niketan, Delhi' 'Kovilpalayam, Coimbatore'\n",
      " 'Nampally, Hyderabad' 'Siddapura, Bangalore' 'Neredmet, Hyderabad'\n",
      " 'Vellakinar, Coimbatore' 'Egmore, Chennai' 'Katwaria Sarai, Delhi'\n",
      " 'Navalur, Chennai' 'Mehrauli, Delhi' 'HBR Layout, Bangalore'\n",
      " 'Subhash Nagar, Delhi' 'Mallepally, Hyderabad' 'Eroor South, Ernakulam'\n",
      " 'Lajpat Nagar III, Delhi' 'Kodungaiyur, Chennai'\n",
      " 'Kuppakonanpudur, Coimbatore' 'Paradise, Hyderabad'\n",
      " 'Rohini Sector 4, Delhi' 'Koramangala 4 Block, Bangalore'\n",
      " 'Dwarka Sector 3, Delhi' 'Durga Puri, Delhi' 'Kalamassery, Ernakulam'\n",
      " 'Gulmohar Park, Delhi' 'Adugodi, Bangalore' 'Moti Nagar, Hyderabad'\n",
      " 'Nallagandla, Hyderabad' 'Gowrivakkam, Chennai' 'Periyar Nagar, Chennai'\n",
      " 'Austin Town, Bangalore' 'Afzalgunj, Hyderabad'\n",
      " 'Cotton Hill, Thiruvananthapuram' 'Goldwins, Coimbatore'\n",
      " 'Kuravankonam, Thiruvananthapuram' 'Rohini Sector 3, Delhi'\n",
      " 'Lado Sarai, Delhi' 'Koramangala 2 Block, Bangalore' 'Madangir, Delhi'\n",
      " 'Marine Drive, Mumbai' 'Marine Drive, Ernakulam' 'Angamaly, Ernakulam'\n",
      " 'Neelankarai, Chennai' 'Churchgate, Mumbai' 'Kalapatti, Coimbatore'\n",
      " 'Nand Nagri, Delhi' 'Kandivali, Mumbai' 'Madanpura, Mumbai'\n",
      " 'Hegde Nagar, Bangalore' 'Domalguda, Hyderabad' 'Mumbai Central, Mumbai'\n",
      " 'Vasanthnagar, Bangalore' 'Kapashera, Delhi' 'August Kranti Marg, Delhi'\n",
      " 'Krishna Nagar, Hyderabad' 'Lal baug, Mumbai'\n",
      " 'Perumathura, Thiruvananthapuram' 'Molarband, Delhi' 'Piravom, Ernakulam'\n",
      " 'Neeti Bagh, Delhi' 'Kishanbagh, Hyderabad' 'Shantinagar, Bangalore'\n",
      " 'Poojapura, Thiruvananthapuram' 'Rathinapuri, Coimbatore'\n",
      " 'Model Town 1, Delhi' 'Koothattukulam, Ernakulam' 'Anand Lok, Delhi'\n",
      " 'Pappanaickenpalayam West, Coimbatore' 'Subzi Mandi, Delhi'\n",
      " 'Sion, Mumbai' 'Nagole, Hyderabad' 'TVM Pettah, Thiruvananthapuram'\n",
      " 'Changampuzha Nagar, Ernakulam' 'Puzhal, Chennai'\n",
      " 'Vanchiyur, Thiruvananthapuram' 'Sukh Vihar, Delhi'\n",
      " 'Kovalam, Thiruvananthapuram' 'Swasthya Vihar, Delhi' 'Tardeo, Mumbai'\n",
      " 'Vishnu Garden, Delhi' 'Jayanagar 1 Block, Bangalore'\n",
      " 'Sion Koliwada, Mumbai' 'Marol, Mumbai' 'Kalkere, Bangalore'\n",
      " 'Sindhi Colony, Hyderabad' 'Silampur, Delhi' 'Varthur, Bangalore'\n",
      " 'Model Town 2, Delhi' 'Surajmal Vihar, Delhi' 'Chandni Chowk, Delhi'\n",
      " 'Veerakeralam, Coimbatore' 'T Dasarahalli, Bangalore'\n",
      " 'Kaggalipura, Bangalore' 'Thonnakkal, Thiruvananthapuram'\n",
      " 'Manjapra, Ernakulam' 'Yellareddyguda, Hyderabad'\n",
      " 'Kovilambakkam, Chennai' 'Broadway, Chennai' 'Podanur, Coimbatore'\n",
      " 'Kompally, Hyderabad' 'Kottivakkam, Chennai' 'Mansarover Garden, Delhi'\n",
      " 'Mandapeshwar, Mumbai' 'Rohini Sector 15, Delhi' 'Vaduthala, Ernakulam'\n",
      " 'Hebbal Kempapura, Bangalore' 'Sithalapakkam, Chennai'\n",
      " 'MKB Nagar, Chennai' 'MG Road, Hyderabad' 'Darya Ganj, Delhi'\n",
      " 'Venjaramoodu, Thiruvananthapuram' 'Kotturpuram, Chennai'\n",
      " 'Ramapuram, Chennai' 'Karmanghat, Hyderabad' 'Moula Ali, Hyderabad'\n",
      " 'Netaji Nagar, Delhi' 'Chandra Layout, Bangalore'\n",
      " 'Akshaya nagar, Bangalore' 'Nirman Vihar, Delhi' 'Vasant Enclave, Delhi'\n",
      " 'St Thomas Mount, Chennai' 'Royapuram, Chennai' 'Abhiramapuram, Chennai'\n",
      " 'Inder Puri, Delhi' 'Edayarpalayam, Coimbatore' 'Deoli, Delhi'\n",
      " 'Mulanthuruthy, Ernakulam' 'Sukhdev Vihar, Delhi' 'e'\n",
      " 'Kothamangalam, Ernakulam' 'Harlur, Bangalore' 'Bolarum, Hyderabad'\n",
      " 'Richards Town, Bangalore' 'Narela, Delhi' 'Nehru Place, Delhi'\n",
      " 'Ramanthapur, Hyderabad' 'Bali Nagar, Delhi' 'Palavakkam, Chennai'\n",
      " 'Balanagar, Hyderabad' 'Hyderguda, Hyderabad' 'Cherannagar, Coimbatore'\n",
      " 'Rohini Sector 11, Delhi' 'Dwarka Sector 4, Delhi'\n",
      " 'Palluruthy, Ernakulam' 'Vizhinjam, Thiruvananthapuram'\n",
      " 'Santacruz, Mumbai' 'Ganesh Nagar, Delhi' 'Vengal Rao Nagar, Hyderabad'\n",
      " 'Deonar, Mumbai' 'Edapally North, Ernakulam' 'Red Hills, Hyderabad'\n",
      " 'IDA Jeedimetla, Hyderabad' 'Mettupalayam, Coimbatore'\n",
      " 'Hayathnagar, Hyderabad' 'Kakkanad West, Ernakulam'\n",
      " 'Khajaguda, Hyderabad' 'Rohini Sector 5, Delhi' 'Saraswati Vihar, Delhi'\n",
      " 'Kingsway Camp, Delhi' 'Ramamangalam, Ernakulam' 'Indirapuram, Delhi'\n",
      " 'Parassala, Thiruvananthapuram' 'Connaught Place, Delhi'\n",
      " 'Gottigerre, Bangalore' 'Shivrampally, Hyderabad' 'Vyasarpadi, Chennai'\n",
      " 'Kovaipudur, Coimbatore' 'Vallakkadavoo, Thiruvananthapuram'\n",
      " 'Kattupakkam, Chennai' 'Nellimoodu, Thiruvananthapuram'\n",
      " 'Pondy Bazaar, Chennai' 'Prashant Vihar, Delhi' 'Chullickal, Ernakulam'\n",
      " 'Murugeshpalya, Bangalore' 'Khanpur, Delhi' 'Madiwala, Bangalore'\n",
      " 'Dwarka Sector 23, Delhi' 'Badarpur, Delhi' 'Peyad, Thiruvananthapuram'\n",
      " 'Gandhi Nagar, Chennai' 'Uday Park, Delhi' 'Bandlaguda, Hyderabad'\n",
      " 'Karukappilli, Ernakulam' 'Rana Pratap Bagh, Delhi'\n",
      " 'Kochi M.G.Road, Ernakulam' 'Gopalapuram, Chennai'\n",
      " 'Puthenvelikkara, Ernakulam' 'Sowcarpet, Chennai' 'Chitlapakkam, Chennai'\n",
      " 'Malumichampatti, Coimbatore' 'Rohini Sector 8, Delhi'\n",
      " 'Rohini Sector 2, Delhi' 'Ram Nagar, Hyderabad' 'Dwarka Sector 10, Delhi'\n",
      " 'Agaram, Chennai' 'Poovachal, Thiruvananthapuram' 'Shanti Niketan, Delhi'\n",
      " 'Pothencode, Thiruvananthapuram' 'Dickenson Road, Bangalore'\n",
      " 'RTC X Road, Hyderabad' 'Film Nagar, Hyderabad' 'Lodhi Colony, Delhi'\n",
      " 'SG Palya (Kormangla), Bangalore' 'Palkulangara, Thiruvananthapuram'\n",
      " 'Mahalingapuram, Chennai' 'Matunga West, Mumbai' 'Nettoor, Ernakulam'\n",
      " 'Rani Khera, Delhi' 'Beeramguda, Hyderabad' 'Ramachandrapuram, Hyderabad'\n",
      " 'Neyyattinkara Town, Thiruvananthapuram' 'Gorai, Mumbai'\n",
      " 'Jayanagar 3 Block, Bangalore' 'Shakti Nagar, Delhi'\n",
      " 'Sangam Vihar, Delhi' 'Shakurpur, Delhi' 'Chaitanyapuri, Hyderabad'\n",
      " 'TVM Fort, Thiruvananthapuram' 'JP Nagar 4 Phase, Bangalore'\n",
      " 'Nayandahalli, Bangalore' 'Valiathura, Thiruvananthapuram'\n",
      " 'Kowdiar, Thiruvananthapuram' 'Cunningham Road, Bangalore'\n",
      " 'Hennur, Bangalore' 'Peenya, Bangalore' 'Pattimattam, Ernakulam'\n",
      " 'HAL, Bangalore' 'Madhavaram, Chennai' 'Ramakrishna Puram, Hyderabad'\n",
      " 'Vikas Nagar, Delhi' 'Chandrayangutta, Hyderabad' 'Ernakulam, Ernakulam'\n",
      " 'Aroor, Ernakulam' 'Rohini West, Delhi' 'Warasiguda, Hyderabad'\n",
      " 'Vishwas Nagar, Delhi' 'Bhandup, Mumbai' 'Chickpet, Bangalore'\n",
      " 'Madambakkam, Chennai' 'Kaudiar, Thiruvananthapuram' 'Khar East, Mumbai'\n",
      " 'Tavarekere, Bangalore' 'Kurla, Mumbai' 'Mahavir Enclave, Delhi'\n",
      " 'Jayanagar 2 Block, Bangalore' 'Nacharam, Hyderabad'\n",
      " 'Cheranalloor, Ernakulam' 'Ayanambakkam, Chennai' 'Dindarpur, Delhi'\n",
      " 'Iyyappanthangal, Chennai' 'Sarvapriya Vihar, Delhi'\n",
      " 'Pattabiram, Chennai' 'Kudlu, Bangalore' 'Kadubeesanahalli, Bangalore'\n",
      " 'Nemom, Thiruvananthapuram' 'Alipur, Delhi' 'Kanjoor, Ernakulam'\n",
      " 'Nedumbassery, Ernakulam' 'Safilguda, Hyderabad' 'Hastsal, Delhi'\n",
      " 'Tv Thampanoor, Thiruvananthapuram' 'Mahipalpur, Delhi'\n",
      " 'Outer Ring Road, Bangalore' 'Bhogal, Delhi'\n",
      " 'Nedumangad, Thiruvananthapuram' 'Lingarajapuram, Bangalore'\n",
      " 'Burari, Delhi' 'Seeranaickenpalayam, Coimbatore'\n",
      " 'JP Nagar 9 Phase, Bangalore' 'Bachupally, Hyderabad'\n",
      " 'Jafferkhanpet, Chennai' 'Nandambakkam, Chennai'\n",
      " 'Rohini Sector 20, Delhi' 'Sriniwaspuri, Delhi' 'Palghar, Mumbai'\n",
      " 'Kapra, Hyderabad' 'Sagar Road, Hyderabad' 'Gamdevi, Mumbai'\n",
      " 'Poothotta, Ernakulam' 'Koramangala 7 Block, Bangalore'\n",
      " 'KH Road, Bangalore' 'Delhi Cantonment, Delhi' 'Hasthinapuram, Chennai'\n",
      " 'Periyanaickenpalayam, Coimbatore' 'Manchavilakom, Thiruvananthapuram'\n",
      " 'Yemalur, Bangalore' 'Meerpet, Hyderabad' 'Sewri, Mumbai' 'Padi, Chennai'\n",
      " 'Ayyappankavu, Ernakulam' 'Kalu Sarai, Delhi' 'Pratap Nagar, Delhi'\n",
      " 'Shadipur, Delhi' 'Hongasandra, Bangalore' 'Dwarka Sector 12, Delhi'\n",
      " 'BHEL, Hyderabad' 'Hosur Road, Bangalore' 'Choolai, Chennai']\n",
      "count of unique values 948\n",
      "---------------------------------------------------------------------\n",
      "Profile\n",
      "Unique Values ['Homeopath' 'Ayurveda' 'ENT Specialist' 'Dentist' 'General Medicine'\n",
      " 'Dermatologists']\n",
      "count of unique values 6\n",
      "---------------------------------------------------------------------\n",
      "Miscellaneous_Info\n",
      "Unique Values ['100% 16 Feedback Kakkanad, Ernakulam'\n",
      " '98% 76 Feedback Whitefield, Bangalore' nan ...\n",
      " 'General Dentistry Dental Fillings RCT - Single Sitting'\n",
      " '98% 240 Feedback Velachery, Chennai'\n",
      " 'RCT - Root Canal Treatment Root Canal Treatment - Rotary Pyorrhoea Treatment']\n",
      "count of unique values 3980\n",
      "---------------------------------------------------------------------\n",
      "Source\n",
      "Unique Values ['train' 'test']\n",
      "count of unique values 2\n",
      "---------------------------------------------------------------------\n"
     ]
    }
   ],
   "source": [
    "#Checking unique values\n",
    "for uni_col in df.columns:\n",
    "    if df[uni_col].dtypes=='object':\n",
    "        print(uni_col)\n",
    "        #print(df[uni_col].value_counts())\n",
    "        print(\"Unique Values\",df[uni_col].unique())\n",
    "        print(\"count of unique values\",df[uni_col].nunique())\n",
    "        print('---------------------------------------------------------------------')"
   ]
  },
  {
   "cell_type": "code",
   "execution_count": 11,
   "metadata": {},
   "outputs": [],
   "source": [
    "#Extracting number from Experience object\n",
    "#Example 24 years => 24\n",
    "df['Experience (Yrs)'] = df['Experience'].str.extract('(\\d+)').astype(int)"
   ]
  },
  {
   "cell_type": "code",
   "execution_count": 12,
   "metadata": {},
   "outputs": [],
   "source": [
    "#Dropping Experience column\n",
    "df.drop(['Experience'], axis = 1, inplace = True)"
   ]
  },
  {
   "cell_type": "code",
   "execution_count": 13,
   "metadata": {},
   "outputs": [
    {
     "name": "stdout",
     "output_type": "stream",
     "text": [
      "<class 'pandas.core.frame.DataFrame'>\n",
      "RangeIndex: 7948 entries, 0 to 7947\n",
      "Data columns (total 8 columns):\n",
      " #   Column              Non-Null Count  Dtype  \n",
      "---  ------              --------------  -----  \n",
      " 0   Qualification       7948 non-null   object \n",
      " 1   Rating              3556 non-null   object \n",
      " 2   Place               7917 non-null   object \n",
      " 3   Profile             7948 non-null   object \n",
      " 4   Miscellaneous_Info  4494 non-null   object \n",
      " 5   Fees                5961 non-null   float64\n",
      " 6   Source              7948 non-null   object \n",
      " 7   Experience (Yrs)    7948 non-null   int32  \n",
      "dtypes: float64(1), int32(1), object(6)\n",
      "memory usage: 465.8+ KB\n"
     ]
    }
   ],
   "source": [
    "#Information about Dataframe\n",
    "df.info()"
   ]
  },
  {
   "cell_type": "code",
   "execution_count": 14,
   "metadata": {},
   "outputs": [
    {
     "data": {
      "text/html": [
       "<div>\n",
       "<style scoped>\n",
       "    .dataframe tbody tr th:only-of-type {\n",
       "        vertical-align: middle;\n",
       "    }\n",
       "\n",
       "    .dataframe tbody tr th {\n",
       "        vertical-align: top;\n",
       "    }\n",
       "\n",
       "    .dataframe thead th {\n",
       "        text-align: right;\n",
       "    }\n",
       "</style>\n",
       "<table border=\"1\" class=\"dataframe\">\n",
       "  <thead>\n",
       "    <tr style=\"text-align: right;\">\n",
       "      <th></th>\n",
       "      <th>Qualification</th>\n",
       "      <th>Rating</th>\n",
       "      <th>Place</th>\n",
       "      <th>Profile</th>\n",
       "      <th>Miscellaneous_Info</th>\n",
       "      <th>Fees</th>\n",
       "      <th>Source</th>\n",
       "      <th>Experience (Yrs)</th>\n",
       "    </tr>\n",
       "  </thead>\n",
       "  <tbody>\n",
       "    <tr>\n",
       "      <th>0</th>\n",
       "      <td>BHMS, MD - Homeopathy</td>\n",
       "      <td>100%</td>\n",
       "      <td>Kakkanad, Ernakulam</td>\n",
       "      <td>Homeopath</td>\n",
       "      <td>100% 16 Feedback Kakkanad, Ernakulam</td>\n",
       "      <td>100.0</td>\n",
       "      <td>train</td>\n",
       "      <td>24</td>\n",
       "    </tr>\n",
       "    <tr>\n",
       "      <th>1</th>\n",
       "      <td>BAMS, MD - Ayurveda Medicine</td>\n",
       "      <td>98%</td>\n",
       "      <td>Whitefield, Bangalore</td>\n",
       "      <td>Ayurveda</td>\n",
       "      <td>98% 76 Feedback Whitefield, Bangalore</td>\n",
       "      <td>350.0</td>\n",
       "      <td>train</td>\n",
       "      <td>12</td>\n",
       "    </tr>\n",
       "    <tr>\n",
       "      <th>2</th>\n",
       "      <td>MBBS, MS - Otorhinolaryngology</td>\n",
       "      <td>NaN</td>\n",
       "      <td>Mathikere - BEL, Bangalore</td>\n",
       "      <td>ENT Specialist</td>\n",
       "      <td>NaN</td>\n",
       "      <td>300.0</td>\n",
       "      <td>train</td>\n",
       "      <td>9</td>\n",
       "    </tr>\n",
       "    <tr>\n",
       "      <th>3</th>\n",
       "      <td>BSc - Zoology, BAMS</td>\n",
       "      <td>NaN</td>\n",
       "      <td>Bannerghatta Road, Bangalore</td>\n",
       "      <td>Ayurveda</td>\n",
       "      <td>Bannerghatta Road, Bangalore ₹250 Available on...</td>\n",
       "      <td>250.0</td>\n",
       "      <td>train</td>\n",
       "      <td>12</td>\n",
       "    </tr>\n",
       "    <tr>\n",
       "      <th>4</th>\n",
       "      <td>BAMS</td>\n",
       "      <td>100%</td>\n",
       "      <td>Keelkattalai, Chennai</td>\n",
       "      <td>Ayurveda</td>\n",
       "      <td>100% 4 Feedback Keelkattalai, Chennai</td>\n",
       "      <td>250.0</td>\n",
       "      <td>train</td>\n",
       "      <td>20</td>\n",
       "    </tr>\n",
       "  </tbody>\n",
       "</table>\n",
       "</div>"
      ],
      "text/plain": [
       "                    Qualification Rating                         Place  \\\n",
       "0           BHMS, MD - Homeopathy   100%           Kakkanad, Ernakulam   \n",
       "1    BAMS, MD - Ayurveda Medicine    98%         Whitefield, Bangalore   \n",
       "2  MBBS, MS - Otorhinolaryngology    NaN    Mathikere - BEL, Bangalore   \n",
       "3             BSc - Zoology, BAMS    NaN  Bannerghatta Road, Bangalore   \n",
       "4                            BAMS   100%         Keelkattalai, Chennai   \n",
       "\n",
       "          Profile                                 Miscellaneous_Info   Fees  \\\n",
       "0       Homeopath               100% 16 Feedback Kakkanad, Ernakulam  100.0   \n",
       "1        Ayurveda              98% 76 Feedback Whitefield, Bangalore  350.0   \n",
       "2  ENT Specialist                                                NaN  300.0   \n",
       "3        Ayurveda  Bannerghatta Road, Bangalore ₹250 Available on...  250.0   \n",
       "4        Ayurveda              100% 4 Feedback Keelkattalai, Chennai  250.0   \n",
       "\n",
       "  Source  Experience (Yrs)  \n",
       "0  train                24  \n",
       "1  train                12  \n",
       "2  train                 9  \n",
       "3  train                12  \n",
       "4  train                20  "
      ]
     },
     "execution_count": 14,
     "metadata": {},
     "output_type": "execute_result"
    }
   ],
   "source": [
    "df.head()"
   ]
  },
  {
   "cell_type": "code",
   "execution_count": 15,
   "metadata": {},
   "outputs": [
    {
     "data": {
      "text/plain": [
       "Qualification            0\n",
       "Rating                4392\n",
       "Place                   31\n",
       "Profile                  0\n",
       "Miscellaneous_Info    3454\n",
       "Fees                  1987\n",
       "Source                   0\n",
       "Experience (Yrs)         0\n",
       "dtype: int64"
      ]
     },
     "execution_count": 15,
     "metadata": {},
     "output_type": "execute_result"
    }
   ],
   "source": [
    "#Checking null values\n",
    "df.isnull().sum()"
   ]
  },
  {
   "cell_type": "code",
   "execution_count": 16,
   "metadata": {},
   "outputs": [],
   "source": [
    "# Seperate Ratings into bins\n",
    "df[\"Rating\"].fillna(\"-99%\",inplace=True)\n",
    "df[\"Rating\"] = df[\"Rating\"].str[:-1].astype(\"int\")\n",
    "\n",
    "bins = [-99,0,10,20,30,40,50,60,70,80,90,100]\n",
    "labels = [i for i in range(11)]\n",
    "df[\"Rating\"] = pd.cut(df[\"Rating\"],bins=bins,labels=labels,include_lowest=True)"
   ]
  },
  {
   "cell_type": "markdown",
   "metadata": {},
   "source": [
    "Changing rating values from 1 to 10."
   ]
  },
  {
   "cell_type": "markdown",
   "metadata": {},
   "source": [
    "Example : values between 90 to 100 new rating is 10."
   ]
  },
  {
   "cell_type": "code",
   "execution_count": 17,
   "metadata": {},
   "outputs": [
    {
     "data": {
      "text/html": [
       "<div>\n",
       "<style scoped>\n",
       "    .dataframe tbody tr th:only-of-type {\n",
       "        vertical-align: middle;\n",
       "    }\n",
       "\n",
       "    .dataframe tbody tr th {\n",
       "        vertical-align: top;\n",
       "    }\n",
       "\n",
       "    .dataframe thead th {\n",
       "        text-align: right;\n",
       "    }\n",
       "</style>\n",
       "<table border=\"1\" class=\"dataframe\">\n",
       "  <thead>\n",
       "    <tr style=\"text-align: right;\">\n",
       "      <th></th>\n",
       "      <th>Qualification</th>\n",
       "      <th>Rating</th>\n",
       "      <th>Place</th>\n",
       "      <th>Profile</th>\n",
       "      <th>Miscellaneous_Info</th>\n",
       "      <th>Fees</th>\n",
       "      <th>Source</th>\n",
       "      <th>Experience (Yrs)</th>\n",
       "    </tr>\n",
       "  </thead>\n",
       "  <tbody>\n",
       "    <tr>\n",
       "      <th>0</th>\n",
       "      <td>BHMS, MD - Homeopathy</td>\n",
       "      <td>10</td>\n",
       "      <td>Kakkanad, Ernakulam</td>\n",
       "      <td>Homeopath</td>\n",
       "      <td>100% 16 Feedback Kakkanad, Ernakulam</td>\n",
       "      <td>100.0</td>\n",
       "      <td>train</td>\n",
       "      <td>24</td>\n",
       "    </tr>\n",
       "    <tr>\n",
       "      <th>1</th>\n",
       "      <td>BAMS, MD - Ayurveda Medicine</td>\n",
       "      <td>10</td>\n",
       "      <td>Whitefield, Bangalore</td>\n",
       "      <td>Ayurveda</td>\n",
       "      <td>98% 76 Feedback Whitefield, Bangalore</td>\n",
       "      <td>350.0</td>\n",
       "      <td>train</td>\n",
       "      <td>12</td>\n",
       "    </tr>\n",
       "    <tr>\n",
       "      <th>2</th>\n",
       "      <td>MBBS, MS - Otorhinolaryngology</td>\n",
       "      <td>0</td>\n",
       "      <td>Mathikere - BEL, Bangalore</td>\n",
       "      <td>ENT Specialist</td>\n",
       "      <td>NaN</td>\n",
       "      <td>300.0</td>\n",
       "      <td>train</td>\n",
       "      <td>9</td>\n",
       "    </tr>\n",
       "    <tr>\n",
       "      <th>3</th>\n",
       "      <td>BSc - Zoology, BAMS</td>\n",
       "      <td>0</td>\n",
       "      <td>Bannerghatta Road, Bangalore</td>\n",
       "      <td>Ayurveda</td>\n",
       "      <td>Bannerghatta Road, Bangalore ₹250 Available on...</td>\n",
       "      <td>250.0</td>\n",
       "      <td>train</td>\n",
       "      <td>12</td>\n",
       "    </tr>\n",
       "    <tr>\n",
       "      <th>4</th>\n",
       "      <td>BAMS</td>\n",
       "      <td>10</td>\n",
       "      <td>Keelkattalai, Chennai</td>\n",
       "      <td>Ayurveda</td>\n",
       "      <td>100% 4 Feedback Keelkattalai, Chennai</td>\n",
       "      <td>250.0</td>\n",
       "      <td>train</td>\n",
       "      <td>20</td>\n",
       "    </tr>\n",
       "  </tbody>\n",
       "</table>\n",
       "</div>"
      ],
      "text/plain": [
       "                    Qualification Rating                         Place  \\\n",
       "0           BHMS, MD - Homeopathy     10           Kakkanad, Ernakulam   \n",
       "1    BAMS, MD - Ayurveda Medicine     10         Whitefield, Bangalore   \n",
       "2  MBBS, MS - Otorhinolaryngology      0    Mathikere - BEL, Bangalore   \n",
       "3             BSc - Zoology, BAMS      0  Bannerghatta Road, Bangalore   \n",
       "4                            BAMS     10         Keelkattalai, Chennai   \n",
       "\n",
       "          Profile                                 Miscellaneous_Info   Fees  \\\n",
       "0       Homeopath               100% 16 Feedback Kakkanad, Ernakulam  100.0   \n",
       "1        Ayurveda              98% 76 Feedback Whitefield, Bangalore  350.0   \n",
       "2  ENT Specialist                                                NaN  300.0   \n",
       "3        Ayurveda  Bannerghatta Road, Bangalore ₹250 Available on...  250.0   \n",
       "4        Ayurveda              100% 4 Feedback Keelkattalai, Chennai  250.0   \n",
       "\n",
       "  Source  Experience (Yrs)  \n",
       "0  train                24  \n",
       "1  train                12  \n",
       "2  train                 9  \n",
       "3  train                12  \n",
       "4  train                20  "
      ]
     },
     "execution_count": 17,
     "metadata": {},
     "output_type": "execute_result"
    }
   ],
   "source": [
    "df.head()"
   ]
  },
  {
   "cell_type": "code",
   "execution_count": 18,
   "metadata": {},
   "outputs": [],
   "source": [
    "#Filling NaN values with unknown for missing places.\n",
    "df['Place'].fillna('Unknown, Unknown', inplace=True)"
   ]
  },
  {
   "cell_type": "code",
   "execution_count": 19,
   "metadata": {},
   "outputs": [],
   "source": [
    "#Splitting place into two columns \n",
    "df['Place']=df['Place'].str.split(',')\n",
    "df['Locality']=df['Place'].str[0]\n",
    "df['City']=df['Place'].str[-1]"
   ]
  },
  {
   "cell_type": "code",
   "execution_count": 20,
   "metadata": {},
   "outputs": [
    {
     "data": {
      "text/html": [
       "<div>\n",
       "<style scoped>\n",
       "    .dataframe tbody tr th:only-of-type {\n",
       "        vertical-align: middle;\n",
       "    }\n",
       "\n",
       "    .dataframe tbody tr th {\n",
       "        vertical-align: top;\n",
       "    }\n",
       "\n",
       "    .dataframe thead th {\n",
       "        text-align: right;\n",
       "    }\n",
       "</style>\n",
       "<table border=\"1\" class=\"dataframe\">\n",
       "  <thead>\n",
       "    <tr style=\"text-align: right;\">\n",
       "      <th></th>\n",
       "      <th>Qualification</th>\n",
       "      <th>Rating</th>\n",
       "      <th>Place</th>\n",
       "      <th>Profile</th>\n",
       "      <th>Miscellaneous_Info</th>\n",
       "      <th>Fees</th>\n",
       "      <th>Source</th>\n",
       "      <th>Experience (Yrs)</th>\n",
       "      <th>Locality</th>\n",
       "      <th>City</th>\n",
       "    </tr>\n",
       "  </thead>\n",
       "  <tbody>\n",
       "    <tr>\n",
       "      <th>0</th>\n",
       "      <td>BHMS, MD - Homeopathy</td>\n",
       "      <td>10</td>\n",
       "      <td>[Kakkanad,  Ernakulam]</td>\n",
       "      <td>Homeopath</td>\n",
       "      <td>100% 16 Feedback Kakkanad, Ernakulam</td>\n",
       "      <td>100.0</td>\n",
       "      <td>train</td>\n",
       "      <td>24</td>\n",
       "      <td>Kakkanad</td>\n",
       "      <td>Ernakulam</td>\n",
       "    </tr>\n",
       "    <tr>\n",
       "      <th>1</th>\n",
       "      <td>BAMS, MD - Ayurveda Medicine</td>\n",
       "      <td>10</td>\n",
       "      <td>[Whitefield,  Bangalore]</td>\n",
       "      <td>Ayurveda</td>\n",
       "      <td>98% 76 Feedback Whitefield, Bangalore</td>\n",
       "      <td>350.0</td>\n",
       "      <td>train</td>\n",
       "      <td>12</td>\n",
       "      <td>Whitefield</td>\n",
       "      <td>Bangalore</td>\n",
       "    </tr>\n",
       "    <tr>\n",
       "      <th>2</th>\n",
       "      <td>MBBS, MS - Otorhinolaryngology</td>\n",
       "      <td>0</td>\n",
       "      <td>[Mathikere - BEL,  Bangalore]</td>\n",
       "      <td>ENT Specialist</td>\n",
       "      <td>NaN</td>\n",
       "      <td>300.0</td>\n",
       "      <td>train</td>\n",
       "      <td>9</td>\n",
       "      <td>Mathikere - BEL</td>\n",
       "      <td>Bangalore</td>\n",
       "    </tr>\n",
       "    <tr>\n",
       "      <th>3</th>\n",
       "      <td>BSc - Zoology, BAMS</td>\n",
       "      <td>0</td>\n",
       "      <td>[Bannerghatta Road,  Bangalore]</td>\n",
       "      <td>Ayurveda</td>\n",
       "      <td>Bannerghatta Road, Bangalore ₹250 Available on...</td>\n",
       "      <td>250.0</td>\n",
       "      <td>train</td>\n",
       "      <td>12</td>\n",
       "      <td>Bannerghatta Road</td>\n",
       "      <td>Bangalore</td>\n",
       "    </tr>\n",
       "    <tr>\n",
       "      <th>4</th>\n",
       "      <td>BAMS</td>\n",
       "      <td>10</td>\n",
       "      <td>[Keelkattalai,  Chennai]</td>\n",
       "      <td>Ayurveda</td>\n",
       "      <td>100% 4 Feedback Keelkattalai, Chennai</td>\n",
       "      <td>250.0</td>\n",
       "      <td>train</td>\n",
       "      <td>20</td>\n",
       "      <td>Keelkattalai</td>\n",
       "      <td>Chennai</td>\n",
       "    </tr>\n",
       "  </tbody>\n",
       "</table>\n",
       "</div>"
      ],
      "text/plain": [
       "                    Qualification Rating                            Place  \\\n",
       "0           BHMS, MD - Homeopathy     10           [Kakkanad,  Ernakulam]   \n",
       "1    BAMS, MD - Ayurveda Medicine     10         [Whitefield,  Bangalore]   \n",
       "2  MBBS, MS - Otorhinolaryngology      0    [Mathikere - BEL,  Bangalore]   \n",
       "3             BSc - Zoology, BAMS      0  [Bannerghatta Road,  Bangalore]   \n",
       "4                            BAMS     10         [Keelkattalai,  Chennai]   \n",
       "\n",
       "          Profile                                 Miscellaneous_Info   Fees  \\\n",
       "0       Homeopath               100% 16 Feedback Kakkanad, Ernakulam  100.0   \n",
       "1        Ayurveda              98% 76 Feedback Whitefield, Bangalore  350.0   \n",
       "2  ENT Specialist                                                NaN  300.0   \n",
       "3        Ayurveda  Bannerghatta Road, Bangalore ₹250 Available on...  250.0   \n",
       "4        Ayurveda              100% 4 Feedback Keelkattalai, Chennai  250.0   \n",
       "\n",
       "  Source  Experience (Yrs)           Locality        City  \n",
       "0  train                24           Kakkanad   Ernakulam  \n",
       "1  train                12         Whitefield   Bangalore  \n",
       "2  train                 9    Mathikere - BEL   Bangalore  \n",
       "3  train                12  Bannerghatta Road   Bangalore  \n",
       "4  train                20       Keelkattalai     Chennai  "
      ]
     },
     "execution_count": 20,
     "metadata": {},
     "output_type": "execute_result"
    }
   ],
   "source": [
    "df.head()"
   ]
  },
  {
   "cell_type": "code",
   "execution_count": 21,
   "metadata": {},
   "outputs": [
    {
     "data": {
      "text/plain": [
       "array(['Kakkanad', 'Whitefield', 'Mathikere - BEL', 'Bannerghatta Road',\n",
       "       'Keelkattalai', 'Porur', 'Karol Bagh', 'Arekere', 'Old City',\n",
       "       'Athani', 'Thousand Lights', 'Somajiguda', 'Coimbatore Racecourse',\n",
       "       'Jubilee Hills', 'Kondli', 'Saroor Nagar', 'Tambaram West',\n",
       "       'Purasawakkam', 'KPHB', 'HSR Layout', 'Pollachi',\n",
       "       'Vasundhra Enclave', 'Chembur', 'Thammanam', 'Andheri', 'Pattom',\n",
       "       'Kukatpally', 'Vadavalli', 'Defence Colony', 'Banjara Hills',\n",
       "       'Sion West', 'CR Park', 'Mogappair East', 'IP Extension',\n",
       "       'Safdarjung Enclave', 'New Friends Colony', 'Borivali West',\n",
       "       'Saket', 'Malad', 'Hyder Nagar', 'Dahisar West', 'RT Nagar',\n",
       "       'Powai', 'Basheerbagh', 'Musheerabad', 'AS Rao Nagar', 'Madhapur',\n",
       "       'Gandhinagar', 'Chetpet', 'Vileparle East', 'Yelahanka New Town',\n",
       "       'Kodambakkam', 'Malleswaram', 'Pallikaranai', 'Nallakunta',\n",
       "       'Paschim Vihar', 'Meera Bagh', 'Chattarpur', 'Andheri West',\n",
       "       'Himayat Nagar', 'Adambakkam', 'Punjabi Bagh', 'Mahalaxmi',\n",
       "       'Kalina', 'Attapur', 'Lakdikapul', 'Ambattur', 'Ramnagar',\n",
       "       'Shalimar Bagh', 'Nungambakkam', 'Miyapur', 'Sagarpur', 'Girgaon',\n",
       "       'Jayanagar', 'Palayam', 'Munirka', 'Tuglakabad', 'Moosarambagh',\n",
       "       'Unknown', 'Anna Nagar East', 'Bandra West', 'Kanakpura Road',\n",
       "       'Green Park', 'Maduravoyal', 'Dahisar East', 'Moosapet',\n",
       "       'Koramangala', 'TV Medical College', 'Kadavanthra', 'Greams Road',\n",
       "       'Bommanahalli', 'T Nagar', 'Yelahanka', 'Hazrat Nizamuddin',\n",
       "       'Old Rajendra Nagar', 'Dadar West', 'Indiranagar', 'Perumbakkam',\n",
       "       'Shaikpet', 'Vyttila', 'Khar West', 'Goregaon West', 'Bakkarwala',\n",
       "       'Nesapakkam', 'BTM Layout 2nd Stage', 'Ashok Nagar', 'Chandivali',\n",
       "       'Uttam Nagar', 'Gujranwala Town', 'Greater Kailash Part 1',\n",
       "       'Panchsheel Park', 'Thoraipakkam', 'South Extension 2',\n",
       "       'Kandivali East', 'Pitampura', 'Banashankari 3rd Stage',\n",
       "       'Kolenchery', 'Kumaraswamy Layout', 'Vadapalani', 'Manikonda',\n",
       "       'Gandhipuram', 'Yeshwanthpur', 'Ayanavaram', 'Basaveshwaranagar',\n",
       "       'Malad West', 'Vikas Puri', 'Kondapur', 'Andheri East', 'Sulur',\n",
       "       'Adyar', 'Krishna Nagar', 'Langer House', 'Thiruvanmiyur',\n",
       "       'Dwarka', 'Bhandup West', 'Janak Puri', 'Rajajinagar',\n",
       "       'South Extension 1', 'Kemps Corner', 'Peelamedu', 'Kandivali West',\n",
       "       'Thevara', 'Wilson Garden', 'Wadala', 'Pahar Ganj', 'Chanchalguda',\n",
       "       'Chikkadpally', 'Pasur-avanashi', 'Nagarbhavi', 'Lajpat Nagar',\n",
       "       'Mayur Vihar Ph-I', 'Dilshad Garden', 'Vijayanagar', 'Alwarpet',\n",
       "       'Pappanamcode', 'Aluva', 'Nariman Point', 'Kilkattalai',\n",
       "       'Dilsukhnagar', 'Kurla West', 'Begumpet', 'Kaloor', 'Hitech City',\n",
       "       'Goregaon East', 'Velandipalayam', 'Ghatkopar East', 'Mulund West',\n",
       "       'Yousufguda', 'Ghatkopar West', 'TVM Beach', 'Vanagaram', 'Worli',\n",
       "       'Koramangala 1 Block', 'Saki Vihar Road', 'Versova',\n",
       "       'CV Raman Nagar', 'Secunderabad', 'BTM Layout 1st Stage',\n",
       "       'Ramkoti', 'MRC Nagar', 'Malkajgiri', 'Gachibowli',\n",
       "       'Mogappair West', 'Mayur Vihar Ph-III', 'Kurla East',\n",
       "       'Ashok Vihar', 'Mahim', 'Villivakkam', 'Srinagar Colony',\n",
       "       'Chromepet', 'Pammal', 'Banashankari', 'Velachery', 'Chanakyapuri',\n",
       "       'Kalyan Nagar', 'Oshiwara', 'Karapakkam', 'Borivali', 'Mylapore',\n",
       "       'Electronics City', 'Perungudi', 'Basavanagudi', 'MG Road',\n",
       "       'Thiruvottiyur', 'Greater Kailash Part 2', 'Bilekahalli',\n",
       "       'Nanganallur', 'Rohini', 'Thrikkakara', 'Manapakkam', 'Bellandur',\n",
       "       'Ameerpet', 'Thiruvallom', 'R.S. Puram', 'Kumarapuram',\n",
       "       'Palam Colony', 'Manali', 'Valasaravakkam', 'Barkatpura',\n",
       "       'Singanallur', 'Mulund', 'Dadar East', 'Borabanda', 'Model Town 3',\n",
       "       'Ulsoor', 'Bhayandar West', 'Hari Nagar', 'Horamavu',\n",
       "       'Santacruz East', 'OMR Road', 'Kammana Halli', 'Tilak Nagar',\n",
       "       'Panathur', 'Rajarajeshwarinagar', 'Paravur', 'Preet Vihar',\n",
       "       'Chembur East', 'Jakkur', 'Vanasthalipuram', 'Mandaveli',\n",
       "       'Kumara Park West', 'Domlur', 'Jeevanbhimanagar', 'Santacruz West',\n",
       "       'Shankar Vihar', 'Jogeshwari East', 'Kasavanahalli', 'Ambalamukku',\n",
       "       'Jhilmil Colony', 'Dwarka Sector 7', 'Tatabad', 'Marine Lines',\n",
       "       'Tolichowki', 'Sundarapuram', 'Kothanur', 'Chinmaya Nagar',\n",
       "       'Vasant Vihar', 'Mehdipatnam', 'Kadugodi', 'Ganapathy', 'SR Nagar',\n",
       "       'Perambur', 'Opera House', 'Selvapuram', 'Karkardooma',\n",
       "       'Alwarthirunagar', 'KR Puram', 'Ramesh Nagar', 'Malakpet',\n",
       "       'Tondiarpet', 'Vikrampuri Colony', 'Besant Nagar', 'Vasant Kunj',\n",
       "       'Banaswadi', 'BTM Layout', 'Medavakkam', 'Vileparle West',\n",
       "       'Sahakaranagar', 'LB Nagar', 'Punjagutta', 'Yamuna Vihar',\n",
       "       'Marathahalli', 'JP Nagar 2 Phase', 'Rani Bagh', 'Jayamahal',\n",
       "       'Nagpada', 'Kundalahalli', 'Kailash Colony', 'Pandav Nagar',\n",
       "       'Karkhana', 'West Mambalam', 'Aminjikarai', 'Madipakkam',\n",
       "       'Charkop', 'Adarsh Nagar', 'Dadar', 'Kaggadasapura', 'Matunga',\n",
       "       'Sun city', 'Mahadevapura', 'Kalady', 'Anna Nagar West',\n",
       "       'Mayur Vihar Ph-II', 'Tis Hazari', 'Vennala', 'Mira Road', 'Alwal',\n",
       "       'Trimulgherry', 'Raja Annamalai Puram', 'JP Nagar 7 Phase',\n",
       "       'Old Bowenpally', 'Santosh Nagar', 'Hope College', 'Mulund East',\n",
       "       'Mount Road', 'Patel Nagar West', 'Jayanagar 4 Block',\n",
       "       'West Marredpally', 'Jagriti Enclave', 'Sarita Vihar',\n",
       "       'Rajendra Nagar', 'Thudiyalur', 'Bhayandar East', 'Narayanguda',\n",
       "       'Kothapet', 'KK Nagar', 'Tripunithura', 'Model Town',\n",
       "       'Suchitra Circle', 'Pusa Road', 'Vijaynagar Colony', 'Alandur',\n",
       "       'Cuffe Parade', 'Kalkaji', 'Saibaba Colony', 'Kattakada',\n",
       "       'Jogeshwari West', 'Erragadda', 'Edapally', 'Patparganj',\n",
       "       'Sainikpuri', 'Nanjundapuram', 'Nizampet', 'Kolathur',\n",
       "       'Chamarajpet', 'Kala Ghoda', 'Padmarao Nagar', 'Uppal',\n",
       "       'Guduvanchery', 'Satya Niketan', 'Chanda Nagar', 'Sowripalayam',\n",
       "       'Vikhroli West', 'Rajouri Garden', 'Alaknanda', 'Millers Road',\n",
       "       'Kandanchavadi', 'Vigyan Vihar', 'Bandra East', 'Vilankurichi',\n",
       "       'Malad East', 'Prabhadevi', 'Ulloor', 'Rajakilpakkam',\n",
       "       'Greater Kailash', 'Madinaguda', 'Borivali East', 'Juhu',\n",
       "       'Mugalivakkam', 'Hebbal', 'Kirti Nagar', 'Balaramapuram',\n",
       "       'Bhandup East', 'VV Puram', 'Kilpauk', 'Jacob Circle',\n",
       "       'Singasandra', 'Khairatabad', 'Coimbatore Aerodrome', 'J.C Nagar',\n",
       "       'Naraina Vihar', 'Virugambakkam', 'RK Puram',\n",
       "       'Banashankari 1st Stage', 'Lajpat Nagar 4', 'Jayanagar 5 Block',\n",
       "       'Kalyanpuri', 'Tambaram', 'Laxmi Nagar', 'Anand Vihar',\n",
       "       'Charni Road', 'Patel Nagar East', 'Jayanagar 9 Block', 'Ecil',\n",
       "       'Ramamurthy Nagar', 'Raj Nagar - 2', 'Chunabhatti',\n",
       "       'Vikhroli East', 'Shakarpur', 'Shahdara', 'Govandi',\n",
       "       'Mira Bhayandar', 'Doddanekundi', 'Madhu Vihar', 'Guindy',\n",
       "       'Palarivattom', 'Charminar', 'Old Airport Road', 'Sarjapur Road',\n",
       "       'Okhla', 'Baghlingampally', 'Trombay', 'HRBR Layout', 'Fort',\n",
       "       'Shastri Nagar', 'Red Hills', 'New BEL Road', 'Park Town',\n",
       "       'Frazer Town', 'Falaknuma', 'Rohini Sector 7', 'East Of Kailash',\n",
       "       'Chintadripet', 'Tagore Garden', 'Tri Nagar', 'Muttada',\n",
       "       'Munnekollal', 'TV Museum', 'Shivalik', 'Neb Sarai',\n",
       "       'Mahalakshmi Layout', 'Mankhurd', 'Kamla Nagar', 'Saravanampatti',\n",
       "       'Selaiyur', 'Saligramam', 'Thirumullaivoyal', 'Teynampet', 'Kochi',\n",
       "       'Vidyaranyapura', 'Mogappair', 'Mazgaon', 'Shivaji Nagar',\n",
       "       'Jangpura', 'Kaudiar Square', 'Arumbakkam', 'Cherai',\n",
       "       'Mira-Bhayandar Road', 'Ram Nagar', 'Parel', 'Thanisandra',\n",
       "       'Pragathi Nagar', 'Karamana', 'AECS Layout', 'Nizamuddin East',\n",
       "       'Ramanathapuram', 'Anna Nagar', 'Shenoy Nagar', 'Siddhapudur',\n",
       "       'Keshav Puram', 'Edakochi', 'Nagawara', 'Chintal', 'Malviya Nagar',\n",
       "       'Karwan', 'Vazhakulam', 'PMG Jn', 'Dwarka Sector 6', 'Viveknagar',\n",
       "       'Balapur', 'Banashankari 2nd Stage', 'Azadpur', 'Moti Nagar',\n",
       "       'Sakinaka', 'Thoppumpady', 'Sanath Nagar', 'Royapettah',\n",
       "       'Koramangala 5 Block', 'Kanjurmarg', 'Ernakulam College',\n",
       "       'Urapakkam', 'Coimbatore Ukkadam', 'Sreekaryam', 'Ernakulam North',\n",
       "       'Sultanpur', 'Banerji Road', 'Balkampet', 'Kavundampalayam',\n",
       "       'Kanchanbagh', 'Patel Nagar', 'Kilokri', 'Hoodi', 'New Seemapuri',\n",
       "       'Seshadripuram', 'Vijaynagar', 'Bowenpally', 'Ondipudur',\n",
       "       'Triplicane', 'Richmond Town', 'New Rajendra Nagar',\n",
       "       'Jahangirpuri', 'Vivek Vihar', 'Malleshpalya', 'Pezhakkappilly',\n",
       "       'Lingampally', 'Jamia Nagar', 'Begum Bazar', 'Lower Parel',\n",
       "       'ECR Road', 'Nangloi', 'Chintalmet', 'West Of Chord Road',\n",
       "       'SV Road', 'JP Nagar 5 Phase', 'Sanjay Nagar', 'Panampilly Nagar',\n",
       "       'Dharavi', 'Abbigere', 'Manacaud', 'Poonamalle', 'Najafgarh',\n",
       "       'Uttarahalli', 'Sembakkam', 'Tarnaka', 'Nandanam', 'Saidapet',\n",
       "       'Choolaimedu', 'Perungalathur', 'Gulabi Bagh', 'Jasola',\n",
       "       'JP Nagar 3 Phase', 'Uppilipalayam', 'Sadashivanagar',\n",
       "       'Rohini Sector 24', 'Muvattupuzha', 'Khan Market', 'Abids',\n",
       "       'Geeta Colony', 'Madandapuram', 'Dwarka Sector 22', 'Grant Road',\n",
       "       'Jeedimetla', 'Tambaram East', 'Kothaguda', 'Hauz Khas',\n",
       "       'Habsiguda', 'Breach Candy', 'Vidyanagar', 'Begur', 'Dahisar',\n",
       "       'Pachalam', 'Perumbavoor', 'Avadi', 'Coimbatore Central',\n",
       "       'Lokhandwala', 'Tiruvottiyur', 'Ullal Upanagara', 'Perurkada',\n",
       "       'Ashok Vihar Phase 3', 'Walkeshwar', 'Saidabad',\n",
       "       'Koramangala 6 Block', 'New Ashok Nagar', 'Peddar Road',\n",
       "       'Aya Nagar', 'JP Nagar', 'Sasthamangalam', 'Yakutpura',\n",
       "       'Sampangiramnagar', 'Kasturi nagar', 'Pallavaram', 'Moti Bagh',\n",
       "       'Mukherjee Nagar', 'Byculla', 'Peeragarhi', 'Amberpet',\n",
       "       'JP Nagar 6 Phase', 'Sholinganallur', 'Langford Road',\n",
       "       'Cumballa Hill', 'Colaba', 'Qutab Institutional Area',\n",
       "       'Dommasandra', 'Malabar Hill', 'Koramangala 8 Block',\n",
       "       'Rohini Sector 22', 'Lothkunta', 'HAL 2nd Stage',\n",
       "       'Jayanagar 7 Block', 'Vadasserikonam', 'East Marredpally',\n",
       "       'Kelambakkam', 'Chinchpokli', 'Delhi Cantt', 'Padmanabhanagar',\n",
       "       'Sheikh Sarai', 'Washermenpet', 'Konanakunte',\n",
       "       'Ashok Vihar Phase 1', 'Thirumala', 'Sarjapura',\n",
       "       'JP Nagar 1 Phase', 'JB Nagar', 'Paruthippara', 'Vikhroli',\n",
       "       'JP Nagar 8 Phase', 'GTB Nagar', 'Masab Tank', 'Hafeezpet',\n",
       "       'Jeevan Park', 'Dwarka Sector 5', 'Civil Lines', 'Anand Niketan',\n",
       "       'Pappanaickenpalayam', 'Koovappady', 'Srirampuram', 'Korattur',\n",
       "       'Pappanaickenpudur', 'Gandhi Nagar', 'Vignan Nagar', 'Ganganagar',\n",
       "       'Elamakkara', 'Boduppal', 'Khetwadi', 'Kengeri', 'Sion East',\n",
       "       'Rohini Sector 6', 'Kazhakuttam', 'Goregaon', 'Peroor',\n",
       "       'New Thippasandra', 'Jalahalli', 'King Koti', 'Kallambalam',\n",
       "       'Dwarka Sector 13', 'Residency Road', 'Radhakrishnan Salai',\n",
       "       'Hulimavu', 'Dasarahalli', 'Vileparle', 'Delhi', 'Kachiguda',\n",
       "       'Venkitapuram', 'Kuniamuthur', 'TV Chalai', 'Serilingampally',\n",
       "       'RMV 2nd Stage', 'Champapet', 'Surya Niketan', 'Kovilpalayam',\n",
       "       'Nampally', 'Siddapura', 'Neredmet', 'Vellakinar', 'Egmore',\n",
       "       'Katwaria Sarai', 'Navalur', 'Mehrauli', 'HBR Layout',\n",
       "       'Subhash Nagar', 'Mallepally', 'Eroor South', 'Lajpat Nagar III',\n",
       "       'Kodungaiyur', 'Kuppakonanpudur', 'Paradise', 'Rohini Sector 4',\n",
       "       'Koramangala 4 Block', 'Dwarka Sector 3', 'Durga Puri',\n",
       "       'Kalamassery', 'Gulmohar Park', 'Adugodi', 'Nallagandla',\n",
       "       'Gowrivakkam', 'Periyar Nagar', 'Austin Town', 'Afzalgunj',\n",
       "       'Cotton Hill', 'Goldwins', 'Kuravankonam', 'Rohini Sector 3',\n",
       "       'Lado Sarai', 'Koramangala 2 Block', 'Madangir', 'Marine Drive',\n",
       "       'Angamaly', 'Neelankarai', 'Churchgate', 'Kalapatti', 'Nand Nagri',\n",
       "       'Kandivali', 'Madanpura', 'Hegde Nagar', 'Domalguda',\n",
       "       'Mumbai Central', 'Vasanthnagar', 'Kapashera',\n",
       "       'August Kranti Marg', 'Lal baug', 'Perumathura', 'Molarband',\n",
       "       'Piravom', 'Neeti Bagh', 'Kishanbagh', 'Shantinagar', 'Poojapura',\n",
       "       'Rathinapuri', 'Model Town 1', 'Koothattukulam', 'Anand Lok',\n",
       "       'Pappanaickenpalayam West', 'Subzi Mandi', 'Sion', 'Nagole',\n",
       "       'TVM Pettah', 'Changampuzha Nagar', 'Puzhal', 'Vanchiyur',\n",
       "       'Sukh Vihar', 'Kovalam', 'Swasthya Vihar', 'Tardeo',\n",
       "       'Vishnu Garden', 'Jayanagar 1 Block', 'Sion Koliwada', 'Marol',\n",
       "       'Kalkere', 'Sindhi Colony', 'Silampur', 'Varthur', 'Model Town 2',\n",
       "       'Surajmal Vihar', 'Chandni Chowk', 'Veerakeralam', 'T Dasarahalli',\n",
       "       'Kaggalipura', 'Thonnakkal', 'Manjapra', 'Yellareddyguda',\n",
       "       'Kovilambakkam', 'Broadway', 'Podanur', 'Kompally', 'Kottivakkam',\n",
       "       'Mansarover Garden', 'Mandapeshwar', 'Rohini Sector 15',\n",
       "       'Vaduthala', 'Hebbal Kempapura', 'Sithalapakkam', 'MKB Nagar',\n",
       "       'Darya Ganj', 'Venjaramoodu', 'Kotturpuram', 'Ramapuram',\n",
       "       'Karmanghat', 'Moula Ali', 'Netaji Nagar', 'Chandra Layout',\n",
       "       'Akshaya nagar', 'Nirman Vihar', 'Vasant Enclave',\n",
       "       'St Thomas Mount', 'Royapuram', 'Abhiramapuram', 'Inder Puri',\n",
       "       'Edayarpalayam', 'Deoli', 'Mulanthuruthy', 'Sukhdev Vihar', 'e',\n",
       "       'Kothamangalam', 'Harlur', 'Bolarum', 'Richards Town', 'Narela',\n",
       "       'Nehru Place', 'Ramanthapur', 'Bali Nagar', 'Palavakkam',\n",
       "       'Balanagar', 'Hyderguda', 'Cherannagar', 'Rohini Sector 11',\n",
       "       'Dwarka Sector 4', 'Palluruthy', 'Vizhinjam', 'Santacruz',\n",
       "       'Ganesh Nagar', 'Vengal Rao Nagar', 'Deonar', 'Edapally North',\n",
       "       'IDA Jeedimetla', 'Mettupalayam', 'Hayathnagar', 'Kakkanad West',\n",
       "       'Khajaguda', 'Rohini Sector 5', 'Saraswati Vihar', 'Kingsway Camp',\n",
       "       'Ramamangalam', 'Indirapuram', 'Parassala', 'Connaught Place',\n",
       "       'Gottigerre', 'Shivrampally', 'Vyasarpadi', 'Kovaipudur',\n",
       "       'Vallakkadavoo', 'Kattupakkam', 'Nellimoodu', 'Pondy Bazaar',\n",
       "       'Prashant Vihar', 'Chullickal', 'Murugeshpalya', 'Khanpur',\n",
       "       'Madiwala', 'Dwarka Sector 23', 'Badarpur', 'Peyad', 'Uday Park',\n",
       "       'Bandlaguda', 'Karukappilli', 'Rana Pratap Bagh', 'Kochi M.G.Road',\n",
       "       'Gopalapuram', 'Puthenvelikkara', 'Sowcarpet', 'Chitlapakkam',\n",
       "       'Malumichampatti', 'Rohini Sector 8', 'Rohini Sector 2',\n",
       "       'Dwarka Sector 10', 'Agaram', 'Poovachal', 'Shanti Niketan',\n",
       "       'Pothencode', 'Dickenson Road', 'RTC X Road', 'Film Nagar',\n",
       "       'Lodhi Colony', 'SG Palya (Kormangla)', 'Palkulangara',\n",
       "       'Mahalingapuram', 'Matunga West', 'Nettoor', 'Rani Khera',\n",
       "       'Beeramguda', 'Ramachandrapuram', 'Neyyattinkara Town', 'Gorai',\n",
       "       'Jayanagar 3 Block', 'Shakti Nagar', 'Sangam Vihar', 'Shakurpur',\n",
       "       'Chaitanyapuri', 'TVM Fort', 'JP Nagar 4 Phase', 'Nayandahalli',\n",
       "       'Valiathura', 'Kowdiar', 'Cunningham Road', 'Hennur', 'Peenya',\n",
       "       'Pattimattam', 'HAL', 'Madhavaram', 'Ramakrishna Puram',\n",
       "       'Vikas Nagar', 'Chandrayangutta', 'Ernakulam', 'Aroor',\n",
       "       'Rohini West', 'Warasiguda', 'Vishwas Nagar', 'Bhandup',\n",
       "       'Chickpet', 'Madambakkam', 'Kaudiar', 'Khar East', 'Tavarekere',\n",
       "       'Kurla', 'Mahavir Enclave', 'Jayanagar 2 Block', 'Nacharam',\n",
       "       'Cheranalloor', 'Ayanambakkam', 'Dindarpur', 'Iyyappanthangal',\n",
       "       'Sarvapriya Vihar', 'Pattabiram', 'Kudlu', 'Kadubeesanahalli',\n",
       "       'Nemom', 'Alipur', 'Kanjoor', 'Nedumbassery', 'Safilguda',\n",
       "       'Hastsal', 'Tv Thampanoor', 'Mahipalpur', 'Outer Ring Road',\n",
       "       'Bhogal', 'Nedumangad', 'Lingarajapuram', 'Burari',\n",
       "       'Seeranaickenpalayam', 'JP Nagar 9 Phase', 'Bachupally',\n",
       "       'Jafferkhanpet', 'Nandambakkam', 'Rohini Sector 20',\n",
       "       'Sriniwaspuri', 'Palghar', 'Kapra', 'Sagar Road', 'Gamdevi',\n",
       "       'Poothotta', 'Koramangala 7 Block', 'KH Road', 'Delhi Cantonment',\n",
       "       'Hasthinapuram', 'Periyanaickenpalayam', 'Manchavilakom',\n",
       "       'Yemalur', 'Meerpet', 'Sewri', 'Padi', 'Ayyappankavu',\n",
       "       'Kalu Sarai', 'Pratap Nagar', 'Shadipur', 'Hongasandra',\n",
       "       'Dwarka Sector 12', 'BHEL', 'Hosur Road', 'Choolai'], dtype=object)"
      ]
     },
     "execution_count": 21,
     "metadata": {},
     "output_type": "execute_result"
    }
   ],
   "source": [
    "#Unique Values of Locality\n",
    "df['Locality'].unique()"
   ]
  },
  {
   "cell_type": "code",
   "execution_count": 22,
   "metadata": {},
   "outputs": [
    {
     "data": {
      "text/plain": [
       "array([' Ernakulam', ' Bangalore', ' Chennai', ' Delhi', ' Hyderabad',\n",
       "       ' Coimbatore', ' Mumbai', ' Thiruvananthapuram', ' Unknown', 'e'],\n",
       "      dtype=object)"
      ]
     },
     "execution_count": 22,
     "metadata": {},
     "output_type": "execute_result"
    }
   ],
   "source": [
    "#Unique Values of City\n",
    "df['City'].unique()"
   ]
  },
  {
   "cell_type": "markdown",
   "metadata": {},
   "source": [
    "Observation :"
   ]
  },
  {
   "cell_type": "markdown",
   "metadata": {},
   "source": [
    "In above unique values there is a unique value 'e' which is irrelevant data."
   ]
  },
  {
   "cell_type": "markdown",
   "metadata": {},
   "source": [
    "So changing 'e' to 'Unknown'"
   ]
  },
  {
   "cell_type": "code",
   "execution_count": 23,
   "metadata": {},
   "outputs": [
    {
     "data": {
      "text/html": [
       "<div>\n",
       "<style scoped>\n",
       "    .dataframe tbody tr th:only-of-type {\n",
       "        vertical-align: middle;\n",
       "    }\n",
       "\n",
       "    .dataframe tbody tr th {\n",
       "        vertical-align: top;\n",
       "    }\n",
       "\n",
       "    .dataframe thead th {\n",
       "        text-align: right;\n",
       "    }\n",
       "</style>\n",
       "<table border=\"1\" class=\"dataframe\">\n",
       "  <thead>\n",
       "    <tr style=\"text-align: right;\">\n",
       "      <th></th>\n",
       "      <th>Qualification</th>\n",
       "      <th>Rating</th>\n",
       "      <th>Place</th>\n",
       "      <th>Profile</th>\n",
       "      <th>Miscellaneous_Info</th>\n",
       "      <th>Fees</th>\n",
       "      <th>Source</th>\n",
       "      <th>Experience (Yrs)</th>\n",
       "      <th>Locality</th>\n",
       "      <th>City</th>\n",
       "    </tr>\n",
       "  </thead>\n",
       "  <tbody>\n",
       "    <tr>\n",
       "      <th>3980</th>\n",
       "      <td>BDS</td>\n",
       "      <td>0</td>\n",
       "      <td>[e]</td>\n",
       "      <td>Dentist</td>\n",
       "      <td>NaN</td>\n",
       "      <td>250.0</td>\n",
       "      <td>train</td>\n",
       "      <td>23</td>\n",
       "      <td>e</td>\n",
       "      <td>e</td>\n",
       "    </tr>\n",
       "  </tbody>\n",
       "</table>\n",
       "</div>"
      ],
      "text/plain": [
       "     Qualification Rating Place  Profile Miscellaneous_Info   Fees Source  \\\n",
       "3980           BDS      0   [e]  Dentist                NaN  250.0  train   \n",
       "\n",
       "      Experience (Yrs) Locality City  \n",
       "3980                23        e    e  "
      ]
     },
     "execution_count": 23,
     "metadata": {},
     "output_type": "execute_result"
    }
   ],
   "source": [
    "#Finding index of e Locality and City\n",
    "df[df['City']=='e']"
   ]
  },
  {
   "cell_type": "code",
   "execution_count": 24,
   "metadata": {},
   "outputs": [],
   "source": [
    "#Changing index 3980 Locality and City value to Unknown\n",
    "df['Locality'][3980]=' Unknown'\n",
    "df['City'][3980]=' Unknown'"
   ]
  },
  {
   "cell_type": "code",
   "execution_count": 25,
   "metadata": {},
   "outputs": [],
   "source": [
    "#Dropping place column\n",
    "df.drop(['Place'], axis=1, inplace=True)"
   ]
  },
  {
   "cell_type": "code",
   "execution_count": 26,
   "metadata": {},
   "outputs": [
    {
     "data": {
      "text/plain": [
       "array(['100% 16 Feedback Kakkanad, Ernakulam',\n",
       "       '98% 76 Feedback Whitefield, Bangalore', nan, ...,\n",
       "       'General Dentistry Dental Fillings RCT - Single Sitting',\n",
       "       '98% 240 Feedback Velachery, Chennai',\n",
       "       'RCT - Root Canal Treatment Root Canal Treatment - Rotary Pyorrhoea Treatment'],\n",
       "      dtype=object)"
      ]
     },
     "execution_count": 26,
     "metadata": {},
     "output_type": "execute_result"
    }
   ],
   "source": [
    "#Checking Miscellaneous_Info unique values\n",
    "df['Miscellaneous_Info'].unique()"
   ]
  },
  {
   "cell_type": "code",
   "execution_count": 27,
   "metadata": {},
   "outputs": [],
   "source": [
    "#Taking feedback count from Miscellaneous_Info\n",
    "def feedback_count(fc):\n",
    "    final = re.search(r' (.*?) Feedback',fc)\n",
    "    if final:\n",
    "        return int(final.group(1))\n",
    "    else:\n",
    "        return 0\n",
    "df['Feedback']=df['Miscellaneous_Info'].apply(lambda f:feedback_count(f) if '%' in str(f) else 0)"
   ]
  },
  {
   "cell_type": "code",
   "execution_count": 28,
   "metadata": {},
   "outputs": [
    {
     "data": {
      "text/html": [
       "<div>\n",
       "<style scoped>\n",
       "    .dataframe tbody tr th:only-of-type {\n",
       "        vertical-align: middle;\n",
       "    }\n",
       "\n",
       "    .dataframe tbody tr th {\n",
       "        vertical-align: top;\n",
       "    }\n",
       "\n",
       "    .dataframe thead th {\n",
       "        text-align: right;\n",
       "    }\n",
       "</style>\n",
       "<table border=\"1\" class=\"dataframe\">\n",
       "  <thead>\n",
       "    <tr style=\"text-align: right;\">\n",
       "      <th></th>\n",
       "      <th>Qualification</th>\n",
       "      <th>Rating</th>\n",
       "      <th>Profile</th>\n",
       "      <th>Miscellaneous_Info</th>\n",
       "      <th>Fees</th>\n",
       "      <th>Source</th>\n",
       "      <th>Experience (Yrs)</th>\n",
       "      <th>Locality</th>\n",
       "      <th>City</th>\n",
       "      <th>Feedback</th>\n",
       "    </tr>\n",
       "  </thead>\n",
       "  <tbody>\n",
       "    <tr>\n",
       "      <th>0</th>\n",
       "      <td>BHMS, MD - Homeopathy</td>\n",
       "      <td>10</td>\n",
       "      <td>Homeopath</td>\n",
       "      <td>100% 16 Feedback Kakkanad, Ernakulam</td>\n",
       "      <td>100.0</td>\n",
       "      <td>train</td>\n",
       "      <td>24</td>\n",
       "      <td>Kakkanad</td>\n",
       "      <td>Ernakulam</td>\n",
       "      <td>16</td>\n",
       "    </tr>\n",
       "    <tr>\n",
       "      <th>1</th>\n",
       "      <td>BAMS, MD - Ayurveda Medicine</td>\n",
       "      <td>10</td>\n",
       "      <td>Ayurveda</td>\n",
       "      <td>98% 76 Feedback Whitefield, Bangalore</td>\n",
       "      <td>350.0</td>\n",
       "      <td>train</td>\n",
       "      <td>12</td>\n",
       "      <td>Whitefield</td>\n",
       "      <td>Bangalore</td>\n",
       "      <td>76</td>\n",
       "    </tr>\n",
       "    <tr>\n",
       "      <th>2</th>\n",
       "      <td>MBBS, MS - Otorhinolaryngology</td>\n",
       "      <td>0</td>\n",
       "      <td>ENT Specialist</td>\n",
       "      <td>NaN</td>\n",
       "      <td>300.0</td>\n",
       "      <td>train</td>\n",
       "      <td>9</td>\n",
       "      <td>Mathikere - BEL</td>\n",
       "      <td>Bangalore</td>\n",
       "      <td>0</td>\n",
       "    </tr>\n",
       "    <tr>\n",
       "      <th>3</th>\n",
       "      <td>BSc - Zoology, BAMS</td>\n",
       "      <td>0</td>\n",
       "      <td>Ayurveda</td>\n",
       "      <td>Bannerghatta Road, Bangalore ₹250 Available on...</td>\n",
       "      <td>250.0</td>\n",
       "      <td>train</td>\n",
       "      <td>12</td>\n",
       "      <td>Bannerghatta Road</td>\n",
       "      <td>Bangalore</td>\n",
       "      <td>0</td>\n",
       "    </tr>\n",
       "    <tr>\n",
       "      <th>4</th>\n",
       "      <td>BAMS</td>\n",
       "      <td>10</td>\n",
       "      <td>Ayurveda</td>\n",
       "      <td>100% 4 Feedback Keelkattalai, Chennai</td>\n",
       "      <td>250.0</td>\n",
       "      <td>train</td>\n",
       "      <td>20</td>\n",
       "      <td>Keelkattalai</td>\n",
       "      <td>Chennai</td>\n",
       "      <td>4</td>\n",
       "    </tr>\n",
       "  </tbody>\n",
       "</table>\n",
       "</div>"
      ],
      "text/plain": [
       "                    Qualification Rating         Profile  \\\n",
       "0           BHMS, MD - Homeopathy     10       Homeopath   \n",
       "1    BAMS, MD - Ayurveda Medicine     10        Ayurveda   \n",
       "2  MBBS, MS - Otorhinolaryngology      0  ENT Specialist   \n",
       "3             BSc - Zoology, BAMS      0        Ayurveda   \n",
       "4                            BAMS     10        Ayurveda   \n",
       "\n",
       "                                  Miscellaneous_Info   Fees Source  \\\n",
       "0               100% 16 Feedback Kakkanad, Ernakulam  100.0  train   \n",
       "1              98% 76 Feedback Whitefield, Bangalore  350.0  train   \n",
       "2                                                NaN  300.0  train   \n",
       "3  Bannerghatta Road, Bangalore ₹250 Available on...  250.0  train   \n",
       "4              100% 4 Feedback Keelkattalai, Chennai  250.0  train   \n",
       "\n",
       "   Experience (Yrs)           Locality        City  Feedback  \n",
       "0                24           Kakkanad   Ernakulam        16  \n",
       "1                12         Whitefield   Bangalore        76  \n",
       "2                 9    Mathikere - BEL   Bangalore         0  \n",
       "3                12  Bannerghatta Road   Bangalore         0  \n",
       "4                20       Keelkattalai     Chennai         4  "
      ]
     },
     "execution_count": 28,
     "metadata": {},
     "output_type": "execute_result"
    }
   ],
   "source": [
    "df.head()"
   ]
  },
  {
   "cell_type": "code",
   "execution_count": 29,
   "metadata": {},
   "outputs": [],
   "source": [
    "#Dropping Miscellaneous_Info column because other than feedback value we don't need anything in that column.\n",
    "df.drop(['Miscellaneous_Info'], axis=1,inplace=True)"
   ]
  },
  {
   "cell_type": "code",
   "execution_count": 30,
   "metadata": {},
   "outputs": [],
   "source": [
    "#Relevant Qualification\n",
    "\n",
    "#Splitting qualification by removing comma\n",
    "df[\"Qualification\"]=df[\"Qualification\"].str.split(\",\")\n",
    "Qualification ={}\n",
    "for x in df[\"Qualification\"].values:\n",
    "    for each in x:\n",
    "#Removing space in qualification value\n",
    "        each = each.strip()\n",
    "        if each in Qualification:\n",
    "            Qualification[each]+=1\n",
    "        else:\n",
    "            Qualification[each]=1"
   ]
  },
  {
   "cell_type": "code",
   "execution_count": 31,
   "metadata": {},
   "outputs": [
    {
     "name": "stdout",
     "output_type": "stream",
     "text": [
      "{'BHMS': 998, 'MD - Homeopathy': 243, 'BAMS': 1007, 'MD - Ayurveda Medicine': 180, 'MBBS': 3788, 'MS - Otorhinolaryngology': 145, 'BSc - Zoology': 4, 'BDS': 1791, 'MD - General Medicine': 384, 'BSc': 6, 'MS': 2, 'DNB - ENT': 150, 'MDS': 103, 'MDS - Oral & Maxillofacial Surgery': 136, 'Diploma in Otorhinolaryngology (DLO)': 335, 'MF- Homeopathy': 6, 'MS - ENT': 539, 'DNB': 77, 'Fellowship of College of General Practice (FCGP)': 15, 'DDVL': 228, 'IBCLC (USA)': 1, 'Post Graduate Diploma in Diabetology (PGDD)': 78, 'Diploma in Dermatology': 86, 'Fellowship in Aesthetic Medicine': 28, 'DM - Neurology': 7, 'MD - Pediatrics': 15, 'Fellowship in Cleft Lip and Craniofacial Surgery': 1, 'Diploma in Cosmetology': 8, 'AFIH': 7, 'MDS - Prosthodontist And Crown Bridge': 66, 'M. D. Hom. (Practice of Medicine)': 2, 'Diploma in Emergency Medicine': 12, 'Diploma in Counselling Skills': 2, 'DHMS (Diploma in Homeopathic Medicine and Surgery)': 62, 'MD - Dermatology': 802, 'Venereology & Leprosy': 388, 'MDS - Oral and Maxillofacial Pathology': 1, 'MFDS RCS': 4, 'MRCS (UK)': 19, 'FRGUHS': 29, 'Fellowship in Dermatological Laser Surgery': 13, 'Member of the Royal College of Physicians': 4, 'UK (MRCP UK)': 4, 'MNAMS- Family Medicine': 2, 'MD - Medicine': 106, 'MS - Psychology': 21, 'Diploma In Skin Aesthetics': 5, 'MDS - Periodontology and Oral Implantology': 65, 'Certificate in Cosmetic Dentistry': 10, 'Post Graduate Certificate in Endodontics (PGCE)': 8, 'Fellow of Academy of General Education (FAGE)': 37, 'MD - Rheumatology': 3, 'MDS - Paedodontics And Preventive Dentistry': 64, 'MDS-Oral Pathology and Oral Microbiology': 11, 'FRCP': 18, 'Doctor of Science (DSc.)': 1, 'D.LITT - Diabetology': 1, 'DDV': 167, 'MDS - Conservative Dentistry & Endodontics': 141, 'FICD': 6, 'Post Graduate Diploma in Emergency Services (PGDEMS)': 13, 'Get inspired by remarkable stories of people like you': 30, 'MD - Acupuncture': 7, 'Master of Hospital Administration': 4, 'BA': 1, 'MDS - Periodontics': 59, 'PGD in Endodontics': 1, 'MDS - Pedodontics': 40, 'PhD - Orthodontics & Dentofacial Orthopaedics': 40, 'MOrth': 3, 'MS - Ayurveda': 34, 'MRCPS': 7, 'P.G Diploma in Aesthetic Dentistry': 1, 'MD - Tuberculosis & Respiratory Diseases/Medicine': 5, 'MS - General Surgery': 55, 'Diploma in Health Administration': 13, 'MD - Skin & VD': 37, 'FAMS - Fellowship of the Academy Medicine': 5, 'MD - Internal Medicine': 95, 'DNB - Internal Medicine': 17, 'FRCS - General Surgery': 18, 'PhD - Homoeopathy': 3, 'Certificate in Dental Implants': 38, 'MDS - Orthodontics and Dentofacial Orthopaedics': 58, 'DNB - Family Medicine': 18, 'MS - Pediatric': 1, 'Member of the Royal Society for the Promotion of Health (UK) (MRSH)': 3, 'Post Graduate Diploma in Endocrinology': 5, 'MDS - Prosthodontics': 91, 'M.Sc.- Clinical Nutrition and Dietetics': 1, 'MSc - Psychotherapy And Counselling': 6, 'MS (Shalyatantra)': 1, 'MSc - Yoga': 6, 'DLO': 22, 'Post Graduate Diploma in Advanced Implantology': 1, 'MD - Alternate Medicine': 24, 'Post Graduate Diploma in Counselling & Psychotherapy': 1, 'MS - Counselling & Psychotherapy': 4, 'PhD - Alternative Medicine': 1, 'Fellowship in Oral implantlogy': 24, 'Diploma in Personal Counselling Skills (DPCS)': 1, 'DNB - Dermatology': 16, 'GCEH': 2, 'Certification in Personal Counsling': 1, 'Post Graduate Diploma in Healthcare Management(PGDHM)': 6, 'Fellowship in Lasers & Cosmetology': 2, 'Fellowship In Anti-Aging And Aesthetic Medicine': 2, 'Diploma in Practical Dermatology': 7, 'Fellow Hair Transplant Surgery': 4, 'Fellowship in Lasers & Advanced Dermatology': 1, 'DNB - Paediatrics': 6, 'MRCPCH (UK)': 3, 'MDS - Oral Medicine and Radiology': 31, 'Diploma in Obesity managemnt': 1, 'Certificate Course In Therapeutic Yoga': 1, 'DNB - Nephrology': 6, 'Certification in Aesthetic Dentistry': 14, 'MRCP': 1, 'Fellowship In Laryngology Bronchoesophagology': 3, 'FAGE': 4, 'Diploma in Medical Radio-Diagnosis': 4, 'Certification in Full Mouth Rehabilitation': 9, 'Diploma in Acupuncture': 12, 'Diploma in Naturopathy & Yogic Science (DNYS)': 4, 'Fellowship in Minimal Access Surgery': 3, 'DGO': 21, 'Diplomate in Oral Implantology': 2, 'Masters in Oral Implantology': 1, 'Implant Externship Program': 2, 'Fellowship in Implantology': 6, 'M.S. (Ayurved) Stri Roga & Prasuti Tantra': 3, 'MS - Ayurvedic Gynecology & Obstetrics': 2, 'MD - Pathology': 3, 'Fellowship in Rheumatology': 6, 'MBA': 9, 'D.Y.A': 6, 'DVD': 57, 'Diploma in Public Health': 4, 'PhD- Ayurveda': 15, 'DM - Critical Care Medicine': 2, 'Post Graduate Course in Diabetology': 9, 'DNB - Otorhinolaryngology': 60, 'BSAM': 10, 'Certificate Course in Sports and Fitness Nutrition': 2, 'Diploma in Advanced Skin and Hair Treatments': 1, 'Doctor of Medicine (Alternate Medicine)': 2, 'Certificate in Cosmetology': 3, 'MD - Skin': 20, 'VD & Leprosy': 20, 'MDS - Public Health Dentistry': 6, 'Post Graduate Diploma In Yoga': 8, 'Diploma in ENT': 8, 'MA': 2, 'DNHE': 14, 'Diploma in Endoscopy': 1, 'Diploma in Anesthesiology': 10, 'MRCGP': 12, 'MDS - Orthodontics': 90, 'MD - Microbiology': 4, 'Post-Graduate Certificate in Oral Implantology (PGCOI)': 14, 'DO': 5, 'Diploma in Naturopathy & Yoga (NDDY)': 4, 'DNB - Dermatology & Venereology': 114, 'Diploma in Dermatology & Venerology': 5, 'DPM (Psychiatry)': 5, 'M.D. (Psychiatry)': 7, 'MD - Pharmacology': 8, 'Diploma in Diabetology': 6, 'Fellowship in Diabetology(Royal Liverpool University Hospital': 1, 'UK)': 10, 'Diploma in Family Medicine (DFM)': 12, 'Post Graduate Diploma in Clinical Research (PGDCR)': 12, 'F.A.G.E': 1, 'Diploma In Clinical Panchakarma': 1, 'Diploma in Child Health (DCH)': 31, 'DNB - Pediatrics': 4, 'DAA - Diploma in Allergy Asthma and Immunology': 5, 'MS - Endocrinology & Diabetes': 1, 'DM - Cardiology': 21, 'FNB - Infectious Disease': 1, 'DNB - General Medicine': 65, 'Diploma in Tuberculosis and Chest Diseases (DTCD)': 12, 'Division of Clinical Psychology (DCP)': 2, 'MSc - Master of Oral Implantology (MOI)': 4, 'MD - Oncology': 3, 'FCPS - Dermatology': 16, 'Certificate in Child Health (CCH)': 26, 'Masters in Counselling and Psychotherapy': 4, 'Diploma in Rheumatology': 1, 'MCP(UCLA-USA)': 1, 'PhD - Neuropsychology': 1, 'Fellowship in ENT': 1, 'Diploma In Naturopathy (ND)': 6, 'PG Diploma in Sexual Medicine': 1, 'Diploma in Medical Law and Ethics (PGDMLE)': 4, 'MRCP (UK)': 23, 'MBA (Health Care)': 4, 'Diplomate of American board of hair restoration surgery': 1, 'Post Graduate Diploma in Diabetes': 4, 'MNAMS - Plastic Surgery': 1, 'Certified in Hair Transplantation': 2, 'PG Diploma In Clinical Cosmetology (PGDCC)': 17, 'DORL (ENT)': 6, 'IDCC (ISCCM)': 1, 'MD - Family Medicine': 7, 'Master of Public Health (MPH)': 6, 'Diploma in Cardiology': 7, 'Fellowship In Cosmetic Dermatology': 9, 'MD - Anaesthesiology': 6, 'Ayurvedic panchkarma': 3, 'Post Graduate Diploma in Dermotology (PGDD)': 2, 'Certificate of Oral Implantology': 22, 'Certification in Laser Dentistry': 7, \"Dip' NMD\": 1, 'PGMHA': 2, 'Diploma in Hospital Management': 6, 'Certificate Course in Management of Thyroid Disorder': 4, 'Fellowship in Diabetology(Boston School of Medicine': 1, 'USA)': 6, 'PGDHHM': 7, 'Post Graduate Diploma in Hospital & Healthcare Management': 5, 'FCSI': 1, 'FSCAI': 3, 'Master of Clinical Dentistry': 1, 'Certified In Panchkarma': 3, 'Certification In Yoga': 3, 'Paanchabhautic Ayurveda Certificate': 1, 'Diploma in Traditional Chinese Medicine': 1, 'Diploma of Clinical Hypnotherapy': 2, 'Fellowship in Diabetology': 38, 'Diploma in Laser Dentistry': 6, 'Diploma in Preventive & Promotive Healthcare': 3, 'Integrated Clinical Hypnotherapy': 2, 'Master of Oral Laser Applications': 1, 'MSc - Psychology': 3, 'Post Graduate Diploma in Family Medicine (PGDFM)': 2, 'MD - Ayurvedic Pharmacology': 2, 'Certificate Endodontics & Pedodontics': 2, 'Certified Inman Aligner': 1, '39 years experience': 1, 'Cert. (Prosthodontics)': 1, 'MD - Ayurvedic Obstetrics and Gynecology': 1, 'Diploma in Hospital Administration': 10, 'MCh - Urology': 5, 'DNB - Urology/Genito - Urinary Surgery': 4, 'FRCP - Endocrinology': 1, 'LCEH': 22, 'Nutrition Certification': 4, 'Doctor of Homeopathic Medicine (HMD)': 7, 'Diploma in Implant Dentistry': 2, 'Fellowship in Cosmetology': 10, 'MD - Community Medicine': 7, 'P.G.Hom.(London)': 1, 'fellowship in medical cosmetology': 1, 'germany': 1, 'Certified Advance Course In Endodontics': 5, 'Diplomate of National Board Exam': 1, 'Diploma in Implanthology': 6, 'ECFMG (USA)': 2, 'Fellowship In Dermatosurgery': 10, 'Fellowship in Pediatric Dermatology': 6, 'CGO': 27, 'Diploma in Trichology - Cosmetology': 10, 'Diploma in Weight Loss': 1, 'EducationDiploma in Naturopathy and Yoga': 1, 'P.G Diploma in Diabetes Management': 2, 'Post Graduate Diploma in Maternity and Child Health (PGDMCH)': 7, 'Fellowship SIB': 1, 'DAA': 3, 'DNB - Peripheral Vascular Surgery': 1, 'FRACS': 1, 'Diploma in Aesthetic Medicine': 8, 'MCIP': 2, 'PGDCFS': 1, 'PGDFOS': 1, 'Diploma in Journalism': 1, 'MD - Homoeopathic Philosophy': 2, 'MS - Counselling and Psychotherapy': 11, 'MCh - Oncology': 2, 'MNAMS - General Surgery': 4, 'Diploma in Geriatric Medicine': 3, 'M C P S': 1, 'Fellowship In Infectious Disease': 1, 'M Derm': 1, 'FCAH (Fellow ship course in Advance Homoepath)': 3, 'MD - Pulmonary Medicine': 4, 'BPTh/BPT': 2, 'PGNAHI': 2, 'CSD': 4, 'MSc': 10, 'PG in Diabetology': 10, 'FCPS Skin & VD': 3, 'M. D. IN KAYACHIKISTA': 4, 'Diploma in Psychiatry': 1, 'Diploma in Panchkarma Chikitsa': 1, 'Fellowship and Diplomate in Implantology from ICOI (USA)': 11, 'MCh - Plastic Surgery': 3, 'Fellowship in Cleft Lip & Palate': 2, 'MD - Diabetology': 7, 'Post Doctoral Fellowship in Diabetology': 1, 'MD - Cardiology': 6, 'MBA (HCS)': 4, 'FFDRCSI': 3, 'Fellowship in Applied Nutrition(FAN)': 2, 'PhD - Clinical Neuroscience (Pediatrics)': 1, 'Professional Diploma in Clinical Research (PDCR)': 1, 'FICOI': 9, 'MD - Physician': 29, 'BNYS': 1, 'Advanced Certificate Course in Aesthetic Dentistry': 3, 'Professional Implantology Training Course (PITC)': 3, 'FAGE- FELLOW': 1, 'Comprehensive Course in Modern Endodontics': 3, 'Indian Diploma Critical Care Medicine (IDCCM)': 3, 'Fellowship in Aesthetic Dentistry (FAD)': 4, 'Fellowship in Rhinology and Endoscopic Skull Base Surgery': 2, 'Fellowship in Otology and Neurotology': 1, 'Fellow of International Congress of Oral Implantologist': 2, 'Post MD SR AIIMS': 2, 'Fellowship in Head & Neck Oncology Surgery': 12, 'Certificate in Dental Implantology': 2, 'Certificate in Orthodontics': 2, 'Bachelor of Chiropractic': 1, 'Diploma in Venereology': 3, 'Certificate in Invisible Braces': 3, 'Certification in Clear Aligners': 3, 'Certification in “Preventing Chronic Pain: A Human Systems Approach”': 1, 'Certification in “Vital Signs: Understanding What the Body Is Telling Us”': 1, 'Diploma in Medical Trichology': 1, 'B.Sc': 18, 'MBA - Healthcare Administration': 1, 'MRCPsych': 1, 'Diploma in Medical Cosmetology and Aesthetic Medicine': 1, 'PG Diploma In Health & Hospital Management': 2, 'PG DIPLOMA IN MEDICAL TOURISM': 1, 'Fellowship in LASERs & Aesthetics': 2, 'Diploma in Orthopaedics': 5, 'DNB - General Surgery': 4, 'MS - Paediatrics Surgery': 2, 'DNB - Pediatric Surgery': 1, 'One Year Certificate course in Hospital Management': 1, 'Certified Course in Yoga': 3, 'DICOI': 4, 'MBA - Hospital Management': 11, 'G.A.M.S': 3, 'MS - Ophthalmology': 6, 'Fellowship in Implant and Esthetic Dentistry': 2, 'AOC in Aesthetic Dentistry': 1, 'PGDE (Cosmetic & Esthetic Dentist)': 3, 'Invisalign Training Course': 5, 'Post Graduate Diploma in Clinical Nutrition & Dietetics': 1, 'Masters Diploma in Acupressure': 2, 'MDS- Oral Pathology': 7, 'Fellowship in Breast Surgery': 1, 'Fellowship in Non-Invasive Cardiology (FIC)': 4, 'MAMS': 4, 'FCPS - Mid. & Gynae': 4, 'CVD': 2, 'Diploma in Clinical Nutrition': 2, 'MS - Ayurvedic General Surgery': 2, 'MD - Yoga and Rehab': 3, 'Certification in Infectious Diseases': 1, 'Diploma in Tropical Medicine Health': 2, 'Fellowship in Skull Base Surgery': 3, 'TFO (USA)': 1, 'PG in Diabetology (USA)': 3, 'MDS - Orthodontics and Orofacial Orthopaedics': 3, 'M.Med in Family Medicine': 2, 'DIACH(Greece)': 1, 'Certificate Course in Advanced Homoeopathy (C.C.A.H)': 10, 'FCCM': 4, 'FCCP - Pulmonary Medicine': 10, 'Diploma of the Faculty of Family Planning (DFFP)': 5, 'Diploma in Sports Therapy': 1, 'Post graduate diploma in Hospital Management': 3, 'Certification for Professional Chemical Peel Workshop': 2, 'Certificate in Aesthetic Medicine': 4, 'BUMS': 1, 'Masters in Clinical Dermatology': 6, 'PGCC - Rheumatology': 1, 'MD - Opthalmology': 1, 'MD - Kayachikitsalaya': 1, 'MS - Implantolgy': 1, 'Implantology ICOI(USA)': 1, 'Diploma in Diet and Nutrition': 11, 'PGDHA': 4, 'Certificate Course in Tuberculosis & Chest Diseases': 1, 'Advanced Training Program in Diabetes Care': 1, 'PhD in Liberal Studies in Diabetology (Trinity College)': 1, 'CCEDM': 4, 'CCMTD': 3, 'CCDR': 1, 'MDS - Implantology': 1, 'MD - Obstetrics & Gynaecology': 13, 'MD-DVL': 4, 'Diploma in Beauty Therapy': 1, 'Certificate Course In Cosmetic Dermatology & Lasers': 3, 'PG Diploma in Trichology': 2, 'Certificate in Botox': 1, 'Fillers': 1, 'Threadlifts': 1, 'Advanced Certification in Clinical Diabetology': 2, 'SCE Dermatology (RCP': 1, 'Post Graduate Diploma in Orthodontics': 4, 'CCD (Diabetology)': 1, 'MCh - Cardio Thoracic and Vascular Surgery': 1, 'DM - Gastroenterology': 7, 'FCPS - General Surgery': 5, 'DM - Rheumatology': 1, 'Fellowship in Dermatology': 2, 'Training in Facial Aesthetics': 1, 'Certificate in Health Management': 1, 'MD - Homeopathy Psychiatry': 3, 'PGCAD': 2, 'MRCP (Paed)': 1, 'Diplomate American Academy of Aesthetic Medicne': 1, 'MS - Urology': 1, 'MCh - Urology/Genito-Urinary Surgery': 1, 'PG Diploma In Emergency Trauma Care': 3, 'Post Graduate Diploma in Diabetology (PGDD)(Middlesex University': 1, 'Fellowship in Orthopaedic Rehabilitation (FOR)': 1, 'MIDA': 2, 'Certificate Course in Dental Lasers': 1, 'Certificate Course in Implantology': 4, 'DM - Endocrinology': 3, 'PGCR': 4, 'Diploma in Diabetes/Endocrinology (Middlesex University)': 1, 'MD - Paediatrics': 2, 'MD - (Dermatology & STD)': 3, 'Diploma in Clinical Pathology': 1, 'PG Diploma in Preventive and Promotive Health Care (PGD PPHC)': 2, 'Fellowship in Medical Cosmetology (FMC)': 3, 'MDS - Endodontics': 9, 'MCh - Neuro Surgery': 3, 'Fellowship in Cosmetic Surgery': 2, 'DNB - Ophthalmology': 4, 'Fellowship in Vitreo-Retina': 1, 'MS - Orthopaedics': 6, 'MNAMS (Membership of the National Academy)': 8, 'Post Graduate Diploma in Medicological Systems (PGDMS)': 2, 'Fellow of the Royal Australasian College of Surgeons': 1, 'FRACS (General Surgery)': 1, 'Fellowship in Ayurvedic Medicine': 1, 'DM - Oncology': 3, 'DHMS': 4, 'Fellowship in Endocrinology': 2, 'Diabetes & Metabolism': 2, 'Fellow of American College of Endocrinology(FACE)': 1, 'PG Diploma in Child Health': 1, 'POST GRADUATE IN HOMOEOPATHY': 1, 'Certified in Orthodontics': 2, 'Certified BPS Dentist': 3, 'Fellowship in Advanced Endoscopic Sinus Surgery': 4, 'Degree in Dental Implant': 1, 'Advanced Endotontic Course On Root Canal': 3, 'Master In Counselling Psychology': 1, 'Diploma in Diabetology (Mumbai University)': 1, 'D.Sc': 2, 'Certification Course In Diabetes': 3, 'Fellowship in Clinical Cardiology': 2, 'Post Graduate Certificate in Advanced Oral Implantology': 3, 'Ph.D Panchakarma': 1, 'M.Ch': 3, 'FICS': 3, 'FRCS': 4, 'PG Diploma in Panchakarma': 3, 'F.C.I.P': 1, 'MDS - Oral & Maxillofacial Pathology and Microbiology': 1, 'M.Ch - Orthopaedics': 2, 'Fellowship in Joint Replacement': 2, 'Fellowship in Diabetology(Royal Liverpool Academy': 2, 'FCD - Diabetology': 7, 'PhD - Microbiology': 1, 'DEMS': 2, 'Member of Royal College of Emergency Medicine(MRCEM)': 1, 'Masters in Emergency Medicine': 1, 'International Certificate in Implant Dentistry': 1, 'Current Concepts in American Dentistry Advances in Implantology and Oral Rehabilitation': 3, 'MSc - Forensic Odontology': 2, 'MBA - Hospital Administration': 1, 'MCh - Surgical Gastroenterology/G.I. Surgery': 4, 'DNB - Infectious Disease': 1, 'PGDMLS': 5, 'MBA - HealthCare Management': 2, 'M.H.Sc-Diabetology': 4, 'CCEBDM': 6, 'Certificate Course in Nutrition and Dietetics': 1, 'PhD - Acupuncture': 2, 'BEMS': 6, 'Fellowship in Gastroenterology': 2, 'DNB - Oral & Maxillofacial Surgery': 1, 'MD- Dravya Guna': 3, 'Fellow of Advanced Micro ear Surgery': 1, 'MDS- Periodontist & Implantalogist': 2, 'Fellowship in Head & Neck Surgery': 4, 'Fellowship Training in Intensive Care Medicine': 1, 'Fellow of Indian College of Cardiology (FICC)': 1, 'MD - Anatomy': 3, 'Fellowship in Child and Adolescent Psychiatry': 1, 'Post Graduate Diploma in Periodontics and Implantology': 1, 'Fellowship Program in Forensic Odontology': 1, 'Fellowship In Phonosurgery': 3, 'MA - Psychology': 2, 'Post Graduate Course in Rheumatology': 1, 'MD - Venereology': 1, 'MD - Repertory': 1, 'DNB - Obstetrics & Gynecology': 3, 'Postgraduate Diploma Clinical Cardiology (PGDCC)': 9, 'Fellowship in Cardiac Rehabilitation': 2, 'Certificate Course in Oral Implantology': 1, 'MPH': 4, 'Post Graduate Diploma in Holistic Healthcare': 1, 'Graduate Diploma in Family Medicine': 2, 'Singapore': 2, 'D.Ortho Fellow Arthroscopy & Arthroplasty(AUST)': 1, 'DNB - Orthopedics/Orthopedic Surgery': 3, 'MNAMS - DERMATOLOGY': 3, 'Basic Life Support (BLS)': 3, 'ACLS': 2, 'Advanced Trauma Life Support (ATLS)': 2, 'Diploma In Pharmacy': 3, 'Advance Diploma in Nutrition and Dietetics': 2, 'Certificate in Yoga & Meditation': 2, 'DM - Nephrology': 7, 'Diploma in Nutrition and Health Education': 3, 'MSc - Clinical Dermatology': 6, 'Advanced Certificate in Endodontics and Esthetics': 1, 'Advanced Certificate Course in Dental Implants': 4, 'B.Ac': 1, 'FACC': 3, 'Certificate Course in Positive Psychology': 1, 'Clinical Nutritionist certifcate': 1, 'M.Sc - Counselling and Family Therapy': 1, 'D. Dermatology (Ay.)': 1, 'Master of Family Medicine': 2, 'MS - Obstetrics & Gynaecology': 2, 'MDS- Root Canal Specialist': 1, 'FCPS (ENT)': 1, 'Certificate in Implantology': 1, 'FCPS - Oto-Rhino-Laryngology': 6, 'Certificate in Medical Cosmetology and Aesthetics': 1, 'MCh - Head and Neck Oncology': 4, 'DDVCPS': 1, 'Diploma in Medical Cosmetology': 7, 'FNB - Critical Care Medicine': 1, 'European Diploma in Intensive Care Medicine (EDIC)': 2, 'CCST - Internal Medicine': 1, 'CCST - Diabetes & Endocrinology': 2, 'M.D. (E.H)': 1, 'MDS - Preventive & Community Dentistry': 1, 'Diploma in Homoeopathy and Biochemistry': 1, 'Diploma in Hair Restoration Surgery': 2, 'Fellowship In Pediatric Otolaryngology': 2, 'Fellowship in Diabetology(The University of Liverpool': 1, 'Diploma in Industrial Hygiene': 2, 'Diploma in Educational Psychology': 1, 'Certificate in Food and Nutrition': 6, 'Diploma in Clinical Dermatology (UK)': 3, 'F.S.R.H': 1, 'FCPS - Medicine': 2, 'MD - Nephrology': 1, 'MCh - Surgical Oncology': 2, 'Diploma in Gynaecology & Obstetrics': 1, 'Fellow of the American Academy of Dermatology (FAAD)': 10, 'MDS - Prosthodontist & Oral Implantologist': 7, 'MD - Homeo Organon': 2, 'MFGDP - Membership of the Faculty of General Dental Practitioners': 1, 'Membership of the Faculty of Dental Surgeons(MFDS)': 2, 'DNB - Respiratory Diseases': 3, 'BIMS': 1, 'MCPS': 2, 'Certificate in Sports Nutrition': 1, 'Post Graduate Diploma in Medical Cosmetology (PGDMC)': 2, 'Certificate in Pediatric Otolaryngology - Head and Neck Surgery': 1, 'Diploma in Aesthetic Dermatology': 1, 'MD - Infectious Diseases': 1, 'Certificate Course of One Year in Dental Implants': 1, 'Certificate Course in Advance Implantology': 1, 'Certificate Course in Evidence Based Diabetes Management (CCEBDM)': 7, 'Certificate Course in Gestational Diabetes (CCGDM)': 3, 'MD - Physical Medicine & Rehabilitation': 1, 'Diploma in Physical Medicine & Rehabilitation': 1, 'Fellowship in Diabetology & Endocrinology': 1, 'CCT - Endocrinology and Diabetes Mellitus': 2, 'Certified Sinus lift surgeon': 1, 'Diploma in Skin Polishing Technology': 1, 'Diploma in Slimming & Laser Treatments': 1, 'Certificate in Clinical Cosmetology': 1, 'PCAD (USA)': 1, 'MD - Acupressure': 2, 'PhD - Diabetes': 1, 'Fellowship in Medical Cosmetology': 3, 'Diploma in Cosmetic Dentistry': 2, 'FRCS - Otolaryngology': 7, 'DNB - Cardiology': 2, 'Distance Fellowship in Diabetes Management': 1, 'MBA - Healthcare Services': 2, 'Post Graduate Diploma in Diabetology (PGDD)(Johns Hopkins University School of Medicine': 1, 'Fellowship in Diabetology(Johns Hopkins University School of Medicine': 3, 'DMD - Doctor of Dental Medicine': 1, 'Post Graduate Diploma in Diabetology (PGDD)(Cardiff University': 1, 'ACDMC': 1, 'Diploma in Acupressure Therapy': 1, 'Advanced Certificate Course In Diabetes': 5, 'Post graduate certificate In sports Medicine': 1, 'Clinical Cardiology Certification': 1, 'FDS Surgical Oral Oncology': 1, 'Diploma in Ultra Sonology': 1, 'MD (HOM) - Paeditrics': 2, 'Clinical Fellowship in Rhinology': 1, 'MD - Ophthalmology': 1, 'MDS - Oral Pathalogy & Microbiology': 1, 'LLB': 2, 'Fellow in Dermato - Surgery': 1, 'Advance Fellowship in Laser & Dermatosurgery': 1, 'PhD - Psychology': 1, 'MD - Tuberculosis & Respiratory Diseases / Pulmonary Medicine': 4, 'MDS - Oral Medicine': 5, 'PG Certificate Course In Diabetes Education(PGDCE)': 3, 'PGD Yoga': 2, 'MA (Yoga Shastra)': 1, 'Diploma in Yoga Shikshaka': 1, \"Yoga Instructor's Course\": 7, 'D.H.M': 1, 'MD - Physiology': 2, 'F.A.M': 2, 'Fellowship in laryngology': 2, 'Ph. D - ENT': 2, 'Certificate in Laser and Dermatology': 1, 'Diploma in Skin & Vinereal Disease': 1, 'Diploma of Nutrition & Diet Planning': 2, 'Diploma in Diabetes': 4, 'PG - Echocardiography': 1, 'DM - Pulmonary Medicine & Critical Care Medicine': 1, 'European Diploma in Respiratory Medicine': 1, 'Post Graduate Diploma in Diabetic Education': 1, 'Weight Management Consultant Certificate': 1, 'Fellowship (Endoscopic Sinus Surgery)': 1, 'MD - TB & Chest': 2, 'FRACP (Rheumatology)': 2, 'F.C.P.S (Dermatology)': 3, 'Post Graduate Diploma in Health Sciences (PGDHSc)': 1, 'Master of Health Sciences (MHSc)': 3, 'M. SC in YOGA': 1, 'Diploma in Naturopathy & Yogic Science (DNYT)': 1, 'DYSc.': 2, 'Post Graduate in Clinical Psychology': 1, 'Certificate Course in Panchakarma': 2, 'Certificate Course in Nadi Sutra': 1, 'Post Graduate Certificate In Hiv And Std Manegement': 1, 'Fellow Indian Academy Of Clinical Medicine': 1, 'Advance Course In Osteoporosis': 1, 'EULAR certificate for Rheumatic Diseases': 1, 'MD - Radio Diagnosis/Radiology': 1, 'CCT - Dermatology': 1, 'Diploma in ABLS (USA)': 1, 'FPFA': 4, 'MDS - Preventive and Public Health Dentistry': 2, 'Certificate course in Reiki': 1, 'Certificate in Nutrition and Health in Hospitalized': 1, 'Certificate in Guidance and Counselling': 1, 'Post graduate diploma in Health Management': 1, 'PGDPC (Post Graduation Diploma In Psychological Counselling)': 7, 'MD - Transfusion Medicine': 1, 'MD - Bio-Chemistry': 1, 'PGD ND': 3, 'MBS (H)': 1, 'FIAMS': 4, 'Certified in Pedodontics': 1, 'FICS - ENT': 1, 'FRHS': 1, 'M.Sc - Biochemistry': 1, 'Fellow of the Royal College of Surgeons of Ireland': 1, 'Fundamental in Oral Implantology': 1, 'Doctorate of Medicine in Electro Homoeopathy(MDEH)': 1, 'D.D': 2, 'FCCS': 3, 'DSM ( Siddha Medicine)': 1, 'D.Ac': 1, 'MD - Social & Preventive Medicine / Community Medicine': 1, 'PGCE(Endodontics)': 1, 'MS - Ayurvedic Ophthalmology': 1, 'MNAMS - Nephrology': 1, 'DAFPRS Fellowship in Aesthetic Surgery': 1, 'Fellowship in Pediatric Endocrinology': 1, 'Diploma in Urology': 1, 'FRCPCH': 1, 'M Phil Psychology': 1, 'PDCC - Hand': 1, 'PG in Laser Dentistry': 1, 'Diploma in Obesity & Pain management': 2, 'Post Graduate Diploma in Health': 1, 'Family Welfare and Population': 1, 'DIH': 2, 'Doctor of Medicine': 3, 'M.D. Panchakarma': 1, 'M.Sc. Yoga and Naturopathy': 1, 'Certificate in Botox and Fillers': 1, 'MD - Pain Management': 1, 'FICA': 3, 'Diploma in Dietetics': 1, 'Health and Nutrition (DDHN)': 1, 'DVL': 4, 'Diplomate in Neuromuscular Functional Orthodontics And Gathology': 1, 'FIMSA': 2, 'MSc - Physiology': 1, 'PG Diploma Clinical Research': 1, 'Diploma in Dietetics & Public Health Nutrition (DDPHN)': 1, 'Robert Turner Diabetes Research Training': 1, 'WHO/IDF/EASD Cambridge Diabetes Training': 1, 'MS - Otrohinolaryngology': 2, 'AMI Essentials- Applied Workshop for Aesthetic Procedures': 1, 'Advanced Course in Cosmetology and Aesthetic Medicine': 2, 'Fellowship in Micro Ear surgery': 1, 'Fellowship in Snoring Surgery': 1, 'Diploma in Industrial Health': 1, 'MSc - Psychotherapy': 1, 'Certification of Life Coach': 1, 'PG - Homeo': 4, 'M.A - Sanskrit': 1, 'DNB - Endocrinology': 1, 'Diabetes': 1, 'Metabolism': 1, 'Certified Yoga and Pranic healing Therapist': 1, 'Certified National Diabetes Educator': 1, 'Bachelor of Acupuncture': 1, 'Certified Analytical Hypnotherapist': 1, 'Diploma in Physiotherapy': 1, 'Certificate in Medical Cosmetology': 1, 'MD - Radiotherapy': 1, 'Certificate course in SUJOK Therapy': 1, 'Fellowship In Clinical Cosmetology': 2, 'Cochlear Implant Surgery': 2, 'Fellowship Cochlear Implant Training': 1, 'Post Graduate Diploma in Psychological Counseling': 2, 'Post Graduate Diploma in Diabetology (PGDD)(Madras Medical College)': 4, 'Diploma in Skin Treatments (UK)': 1, 'Certification of Aesthetic Dentistry & Periodontics': 1, 'MCh - Burns & Plastic Surgery': 1, 'EULAR Certificate in Rheumatology': 1, 'FICO (UK)': 1, 'PhD - Dermatology & Venereology': 2, 'DNB - Pulmonary Medicine': 3, 'Post Graduate Certificate Course In Aesthetic Dentistry': 1, 'FACP': 1, 'Member of the Royal College of General Practitioners UK (MRCGP)': 2, 'MD - Geriatrics': 1, 'MD AYURVED AND YOG': 1, 'Training Certificate in Hair Transplant': 1, 'Certificate Course in Gestational Diabetes Mellitus': 2, 'P.G. Diploma in Yoga & Meditation': 1, 'MD-Ayurvedic Vachaspati': 2, 'Post Graduate Diploma in Sports Medicine': 1, 'MSc. - Dermatology Skills and Treatment (University of Hertfordshire)': 1, 'MSc - Applied Psychology': 2, 'FRCSEd': 1, 'MSc - Endocrinology(UK)': 1, 'MCh - Cardio Thoracic Surgery': 1, 'Masters in Surgery (MS)': 1, 'MD - (Medicine - Endocrinology)': 1, 'MCEM': 1, 'DFM (UK)': 1, 'DIPLOMA IN TB AND CHEST DISEASES': 1, 'Certification in Nutrition and Weight Management': 1, 'DAT(Diploma in Accupressure and foot Reflexology)': 1, 'MASLP': 1, 'Diploma in Radio Therapy': 1, 'FDSRCS - Fellowship in Dental Surgery': 4, 'Fellowship in ClearPath Aligners': 1, 'FAMS - Dermatology': 1, 'Diploma In Anatomy Physiology': 1, 'PDCC - Pediatric Endocrinology': 1, 'Diploma in Counselling and Psychotherapy': 1, 'MD - CCM': 1, 'Ph.D(Doctor of Philosophy)': 1, 'PG Diploma in Value Education and Spirtuality': 1, 'Certified Implantologist': 1, 'Fellowship in Surgical Oncology (Head & Neck)': 1, 'Continuing Education Certificate Program on Temporomandibular Joint Disorder and Orofacial Pain': 1, 'Post Graduate in Homeopathy(london)': 1, 'DNB - Radiation Oncology': 1, 'MDS - Operative Dentistry': 3, 'DTCD(Diploma in TB and Chest Dieseas)': 1, 'Member Of The National Academy Of Medical Sciences': 1, 'DNB - Radiotherapy': 1, 'Post Graduate Diploma in Diabetology (PGDD)(University of Leicester': 3, 'DRCOG': 3, 'FDS Endodontics': 1, 'Certified in Advanced Orthodontics': 1, 'certification in smile designing': 1, 'Yoga Teachers Training Course': 2, 'PhD - Endodontics': 1, 'Fellowship in TMJ Surgery': 1, 'Certificate in Pulmonology': 1, 'MRCOG(UK)': 3, 'Fellowship in Diabetes (UK)': 2, 'DNB -Chest': 1, 'Certificate in Acupuncture': 1, 'Doctor of Dental Surgery (DDS)': 1, 'Dip Otolaryngology and Head and neck Surgery': 1, 'Diploma in Laparoscopy': 2, 'FRCS - General Surgery (Upper GI)': 1, 'Diploma in Clinical Cosmetology': 1, 'FACP (USA)': 1, 'Fellowship Program in Oral Implantology and LASER Dentistry': 1, 'Diplomate from the American Board of Internal Medicine': 1, 'Fellowship Program in Aesthetic Dentistry and Occlusion': 1, 'Fellowship in Lifestyle Medicine': 1, 'Integrated therapy in Cancer': 1, 'Basic Course in Palliative Care': 1, 'Fellowship Course in Homoeopathic Dermatology': 2, 'Certificate Course in Orthodontics': 1, 'FWFO': 1, 'MD- Ayurveda Rasashastra': 2, 'PG Dip (Medical Education)': 1, 'Implant Training Course- Nobel Biocare': 1, 'MASTERS IN MEDICAL SCIENCE AND TECHNOLOGY': 1, 'MRCP - General Medicine': 1, 'Training in Surgical Oncology': 1, 'DipFM': 1, 'Certificate Course in Kshar Sutra Surgery': 1, 'MA - Clinical Psychology': 1, 'FCCP': 2, 'Diploma of The Australian Institute of Dermatology': 1, 'PG Diploma in Endocrinology': 2, 'FESC': 1, 'BSc - Dietitics / Nutrition': 2, 'Diploma in Dietatics & Clinical Nutrition': 1, 'Fellowship in Cosmetology and Dermatosurgery': 1, 'DVL - Dermatology & Venereology': 1, 'DMS': 1, 'Master of Clinical Embryology': 1, 'B.Sc - Zoology (Hons.)': 1, 'Post Graduate Diploma in Emergency Medical Services': 2, 'Fellowship in Emergency Medicine': 1, 'Advanced Surgical Training In Implants': 1, 'DHM': 2, 'Post Graduate Diploma In Aesthetic & Restorative Dentistry': 1, 'PG in Clinical Nutrition and Dietetics': 1, 'Certificate of Completion of Specialist Training- Transplant Surgery (CCST-TS)': 1, 'Fellowship In Interventional Cardiology': 1, 'MS - MS.Medicine': 1, 'Fellowship in Nephrology': 1, 'Certified in Inhalational Sedation': 1, 'MSc. - Food Service Management & Dietetics': 1, 'Diploma in Diabetes Management Certificate Program': 1, 'DOMS': 1, 'Diploma in Ayurvedic Medicine (DAM)': 1, 'post graduate diploma in health Sciences in diabetology': 1, 'Certified in Ayurveda Approach to Diabetes mellitus': 1, 'Certified in Ayurveda Beauty care': 1, 'Diploma in International Academy of Aesthestic Medicine': 1, 'Masters Of Physiotheraphy': 1, 'Fellowship In Critical Care': 1, 'PG Diploma in Conservative': 1, 'Endodontics and Aesthetic Dentistry': 1, 'Advanced Retreatment Course in RCT': 1, 'Certified Course in Oral Surgery': 1, 'Certification in Prosthodontics & Periodontology': 1, 'Certified Advanced Course in Wisdom Tooth Extraction': 1, 'Specialized Training in Otology': 2, 'Advanced Endoscopy Training': 1, 'Advance Course on Diagnosis of Allergy and Immunotherapy': 1, 'MD - Dental Laser': 1, 'MD - Aerospace Medicine': 1, 'Post Graduate Diploma in Medical Law and Ethics': 1, 'Msc Clinical Research & Regulatory Affairs': 1, 'M.D. (Ayu.)': 1, 'Panchkarma': 1, 'Consultant Rheumatologist (Ayu.)': 1, 'PhD - Medicine': 1, 'DM - Medical Oncology': 1, 'MD - Practice Of Medicine': 1, 'Fellowship IN FUE Hair Transplant Technique': 1, 'PG Diploma in Human Rights': 1, 'MD - Panchakarma': 1, 'Fellowship in Sexual Medicine': 1, 'MDS - Community Dentistry': 1, 'Fellowship in Neuro-Otology and Skull Base Surgery (USA)': 1, 'Master of Arts - Yoga': 1, 'Diploma in Opthalmology': 1, 'M.Phil - Psychology': 1, 'DEHM': 1, 'DPH & H': 1, 'Fellowship in Paediatric gastroenterology & Hepatology': 1, 'Fellowship In Transplant Hepatology': 1, 'PG in Diabetology(Johns Hopkins University School of Medicine': 1, 'DNB - Neurology': 2, 'DM - Pulmonary Medicine': 1, 'Diploma in Dermatology (Alt)': 1, 'MDS - Oral Pathology & Bacteriology': 1, 'FDIAB': 1, 'PGDHSc': 1, 'D-Pharm': 1, 'Fellowship in Diabetes Management': 1, 'FRCP - Internal Medicine': 1, 'FAIS': 1, 'FIAGES': 1, 'MD / MS - Obstetrics & Gynaecology': 1}\n"
     ]
    }
   ],
   "source": [
    "print(Qualification)"
   ]
  },
  {
   "cell_type": "code",
   "execution_count": 32,
   "metadata": {},
   "outputs": [],
   "source": [
    "max_qua = sorted(Qualification.items(),key=lambda x:x[1],reverse=True)[:10]\n",
    "final_qualification =[]\n",
    "for tup in max_qua:\n",
    "    final_qualification.append(tup[0])\n",
    "for title in final_qualification:\n",
    "    df[title]=0\n",
    "#Separating into columns    \n",
    "for x,y in zip(df[\"Qualification\"].values,np.array([idx for idx in range(len(df))])):\n",
    "    for fq in x:\n",
    "        fq = fq.strip()\n",
    "        if fq in final_qualification:\n",
    "            df[fq][y] = 1"
   ]
  },
  {
   "cell_type": "code",
   "execution_count": 33,
   "metadata": {},
   "outputs": [
    {
     "data": {
      "text/html": [
       "<div>\n",
       "<style scoped>\n",
       "    .dataframe tbody tr th:only-of-type {\n",
       "        vertical-align: middle;\n",
       "    }\n",
       "\n",
       "    .dataframe tbody tr th {\n",
       "        vertical-align: top;\n",
       "    }\n",
       "\n",
       "    .dataframe thead th {\n",
       "        text-align: right;\n",
       "    }\n",
       "</style>\n",
       "<table border=\"1\" class=\"dataframe\">\n",
       "  <thead>\n",
       "    <tr style=\"text-align: right;\">\n",
       "      <th></th>\n",
       "      <th>Qualification</th>\n",
       "      <th>Rating</th>\n",
       "      <th>Profile</th>\n",
       "      <th>Fees</th>\n",
       "      <th>Source</th>\n",
       "      <th>Experience (Yrs)</th>\n",
       "      <th>Locality</th>\n",
       "      <th>City</th>\n",
       "      <th>Feedback</th>\n",
       "      <th>MBBS</th>\n",
       "      <th>BDS</th>\n",
       "      <th>BAMS</th>\n",
       "      <th>BHMS</th>\n",
       "      <th>MD - Dermatology</th>\n",
       "      <th>MS - ENT</th>\n",
       "      <th>Venereology &amp; Leprosy</th>\n",
       "      <th>MD - General Medicine</th>\n",
       "      <th>Diploma in Otorhinolaryngology (DLO)</th>\n",
       "      <th>MD - Homeopathy</th>\n",
       "    </tr>\n",
       "  </thead>\n",
       "  <tbody>\n",
       "    <tr>\n",
       "      <th>0</th>\n",
       "      <td>[BHMS,  MD - Homeopathy]</td>\n",
       "      <td>10</td>\n",
       "      <td>Homeopath</td>\n",
       "      <td>100.0</td>\n",
       "      <td>train</td>\n",
       "      <td>24</td>\n",
       "      <td>Kakkanad</td>\n",
       "      <td>Ernakulam</td>\n",
       "      <td>16</td>\n",
       "      <td>0</td>\n",
       "      <td>0</td>\n",
       "      <td>0</td>\n",
       "      <td>1</td>\n",
       "      <td>0</td>\n",
       "      <td>0</td>\n",
       "      <td>0</td>\n",
       "      <td>0</td>\n",
       "      <td>0</td>\n",
       "      <td>1</td>\n",
       "    </tr>\n",
       "    <tr>\n",
       "      <th>1</th>\n",
       "      <td>[BAMS,  MD - Ayurveda Medicine]</td>\n",
       "      <td>10</td>\n",
       "      <td>Ayurveda</td>\n",
       "      <td>350.0</td>\n",
       "      <td>train</td>\n",
       "      <td>12</td>\n",
       "      <td>Whitefield</td>\n",
       "      <td>Bangalore</td>\n",
       "      <td>76</td>\n",
       "      <td>0</td>\n",
       "      <td>0</td>\n",
       "      <td>1</td>\n",
       "      <td>0</td>\n",
       "      <td>0</td>\n",
       "      <td>0</td>\n",
       "      <td>0</td>\n",
       "      <td>0</td>\n",
       "      <td>0</td>\n",
       "      <td>0</td>\n",
       "    </tr>\n",
       "    <tr>\n",
       "      <th>2</th>\n",
       "      <td>[MBBS,  MS - Otorhinolaryngology]</td>\n",
       "      <td>0</td>\n",
       "      <td>ENT Specialist</td>\n",
       "      <td>300.0</td>\n",
       "      <td>train</td>\n",
       "      <td>9</td>\n",
       "      <td>Mathikere - BEL</td>\n",
       "      <td>Bangalore</td>\n",
       "      <td>0</td>\n",
       "      <td>1</td>\n",
       "      <td>0</td>\n",
       "      <td>0</td>\n",
       "      <td>0</td>\n",
       "      <td>0</td>\n",
       "      <td>0</td>\n",
       "      <td>0</td>\n",
       "      <td>0</td>\n",
       "      <td>0</td>\n",
       "      <td>0</td>\n",
       "    </tr>\n",
       "    <tr>\n",
       "      <th>3</th>\n",
       "      <td>[BSc - Zoology,  BAMS]</td>\n",
       "      <td>0</td>\n",
       "      <td>Ayurveda</td>\n",
       "      <td>250.0</td>\n",
       "      <td>train</td>\n",
       "      <td>12</td>\n",
       "      <td>Bannerghatta Road</td>\n",
       "      <td>Bangalore</td>\n",
       "      <td>0</td>\n",
       "      <td>0</td>\n",
       "      <td>0</td>\n",
       "      <td>1</td>\n",
       "      <td>0</td>\n",
       "      <td>0</td>\n",
       "      <td>0</td>\n",
       "      <td>0</td>\n",
       "      <td>0</td>\n",
       "      <td>0</td>\n",
       "      <td>0</td>\n",
       "    </tr>\n",
       "    <tr>\n",
       "      <th>4</th>\n",
       "      <td>[BAMS]</td>\n",
       "      <td>10</td>\n",
       "      <td>Ayurveda</td>\n",
       "      <td>250.0</td>\n",
       "      <td>train</td>\n",
       "      <td>20</td>\n",
       "      <td>Keelkattalai</td>\n",
       "      <td>Chennai</td>\n",
       "      <td>4</td>\n",
       "      <td>0</td>\n",
       "      <td>0</td>\n",
       "      <td>1</td>\n",
       "      <td>0</td>\n",
       "      <td>0</td>\n",
       "      <td>0</td>\n",
       "      <td>0</td>\n",
       "      <td>0</td>\n",
       "      <td>0</td>\n",
       "      <td>0</td>\n",
       "    </tr>\n",
       "    <tr>\n",
       "      <th>5</th>\n",
       "      <td>[BAMS]</td>\n",
       "      <td>0</td>\n",
       "      <td>Ayurveda</td>\n",
       "      <td>100.0</td>\n",
       "      <td>train</td>\n",
       "      <td>8</td>\n",
       "      <td>Porur</td>\n",
       "      <td>Chennai</td>\n",
       "      <td>0</td>\n",
       "      <td>0</td>\n",
       "      <td>0</td>\n",
       "      <td>1</td>\n",
       "      <td>0</td>\n",
       "      <td>0</td>\n",
       "      <td>0</td>\n",
       "      <td>0</td>\n",
       "      <td>0</td>\n",
       "      <td>0</td>\n",
       "      <td>0</td>\n",
       "    </tr>\n",
       "    <tr>\n",
       "      <th>6</th>\n",
       "      <td>[BHMS]</td>\n",
       "      <td>0</td>\n",
       "      <td>Homeopath</td>\n",
       "      <td>200.0</td>\n",
       "      <td>train</td>\n",
       "      <td>42</td>\n",
       "      <td>Karol Bagh</td>\n",
       "      <td>Delhi</td>\n",
       "      <td>0</td>\n",
       "      <td>0</td>\n",
       "      <td>0</td>\n",
       "      <td>0</td>\n",
       "      <td>1</td>\n",
       "      <td>0</td>\n",
       "      <td>0</td>\n",
       "      <td>0</td>\n",
       "      <td>0</td>\n",
       "      <td>0</td>\n",
       "      <td>0</td>\n",
       "    </tr>\n",
       "    <tr>\n",
       "      <th>7</th>\n",
       "      <td>[BDS]</td>\n",
       "      <td>10</td>\n",
       "      <td>Dentist</td>\n",
       "      <td>200.0</td>\n",
       "      <td>train</td>\n",
       "      <td>10</td>\n",
       "      <td>Arekere</td>\n",
       "      <td>Bangalore</td>\n",
       "      <td>0</td>\n",
       "      <td>0</td>\n",
       "      <td>1</td>\n",
       "      <td>0</td>\n",
       "      <td>0</td>\n",
       "      <td>0</td>\n",
       "      <td>0</td>\n",
       "      <td>0</td>\n",
       "      <td>0</td>\n",
       "      <td>0</td>\n",
       "      <td>0</td>\n",
       "    </tr>\n",
       "    <tr>\n",
       "      <th>8</th>\n",
       "      <td>[MBBS,  MD - General Medicine]</td>\n",
       "      <td>0</td>\n",
       "      <td>General Medicine</td>\n",
       "      <td>100.0</td>\n",
       "      <td>train</td>\n",
       "      <td>14</td>\n",
       "      <td>Old City</td>\n",
       "      <td>Hyderabad</td>\n",
       "      <td>0</td>\n",
       "      <td>1</td>\n",
       "      <td>0</td>\n",
       "      <td>0</td>\n",
       "      <td>0</td>\n",
       "      <td>0</td>\n",
       "      <td>0</td>\n",
       "      <td>0</td>\n",
       "      <td>1</td>\n",
       "      <td>0</td>\n",
       "      <td>0</td>\n",
       "    </tr>\n",
       "    <tr>\n",
       "      <th>9</th>\n",
       "      <td>[BSc,  BDS]</td>\n",
       "      <td>0</td>\n",
       "      <td>Dentist</td>\n",
       "      <td>100.0</td>\n",
       "      <td>train</td>\n",
       "      <td>23</td>\n",
       "      <td>Athani</td>\n",
       "      <td>Ernakulam</td>\n",
       "      <td>0</td>\n",
       "      <td>0</td>\n",
       "      <td>1</td>\n",
       "      <td>0</td>\n",
       "      <td>0</td>\n",
       "      <td>0</td>\n",
       "      <td>0</td>\n",
       "      <td>0</td>\n",
       "      <td>0</td>\n",
       "      <td>0</td>\n",
       "      <td>0</td>\n",
       "    </tr>\n",
       "    <tr>\n",
       "      <th>10</th>\n",
       "      <td>[MBBS,  MS,  DNB - ENT]</td>\n",
       "      <td>0</td>\n",
       "      <td>ENT Specialist</td>\n",
       "      <td>700.0</td>\n",
       "      <td>train</td>\n",
       "      <td>5</td>\n",
       "      <td>Thousand Lights</td>\n",
       "      <td>Chennai</td>\n",
       "      <td>0</td>\n",
       "      <td>1</td>\n",
       "      <td>0</td>\n",
       "      <td>0</td>\n",
       "      <td>0</td>\n",
       "      <td>0</td>\n",
       "      <td>0</td>\n",
       "      <td>0</td>\n",
       "      <td>0</td>\n",
       "      <td>0</td>\n",
       "      <td>0</td>\n",
       "    </tr>\n",
       "    <tr>\n",
       "      <th>11</th>\n",
       "      <td>[BAMS]</td>\n",
       "      <td>0</td>\n",
       "      <td>Ayurveda</td>\n",
       "      <td>100.0</td>\n",
       "      <td>train</td>\n",
       "      <td>7</td>\n",
       "      <td>Somajiguda</td>\n",
       "      <td>Hyderabad</td>\n",
       "      <td>0</td>\n",
       "      <td>0</td>\n",
       "      <td>0</td>\n",
       "      <td>1</td>\n",
       "      <td>0</td>\n",
       "      <td>0</td>\n",
       "      <td>0</td>\n",
       "      <td>0</td>\n",
       "      <td>0</td>\n",
       "      <td>0</td>\n",
       "      <td>0</td>\n",
       "    </tr>\n",
       "    <tr>\n",
       "      <th>12</th>\n",
       "      <td>[BDS,  MDS]</td>\n",
       "      <td>10</td>\n",
       "      <td>Dentist</td>\n",
       "      <td>200.0</td>\n",
       "      <td>train</td>\n",
       "      <td>9</td>\n",
       "      <td>Coimbatore Racecourse</td>\n",
       "      <td>Coimbatore</td>\n",
       "      <td>14</td>\n",
       "      <td>0</td>\n",
       "      <td>1</td>\n",
       "      <td>0</td>\n",
       "      <td>0</td>\n",
       "      <td>0</td>\n",
       "      <td>0</td>\n",
       "      <td>0</td>\n",
       "      <td>0</td>\n",
       "      <td>0</td>\n",
       "      <td>0</td>\n",
       "    </tr>\n",
       "    <tr>\n",
       "      <th>13</th>\n",
       "      <td>[BDS,  MDS - Oral &amp; Maxillofacial Surgery]</td>\n",
       "      <td>0</td>\n",
       "      <td>Dentist</td>\n",
       "      <td>350.0</td>\n",
       "      <td>train</td>\n",
       "      <td>21</td>\n",
       "      <td>Jubilee Hills</td>\n",
       "      <td>Hyderabad</td>\n",
       "      <td>0</td>\n",
       "      <td>0</td>\n",
       "      <td>1</td>\n",
       "      <td>0</td>\n",
       "      <td>0</td>\n",
       "      <td>0</td>\n",
       "      <td>0</td>\n",
       "      <td>0</td>\n",
       "      <td>0</td>\n",
       "      <td>0</td>\n",
       "      <td>0</td>\n",
       "    </tr>\n",
       "    <tr>\n",
       "      <th>14</th>\n",
       "      <td>[MBBS,  Diploma in Otorhinolaryngology (DLO), ...</td>\n",
       "      <td>0</td>\n",
       "      <td>ENT Specialist</td>\n",
       "      <td>500.0</td>\n",
       "      <td>train</td>\n",
       "      <td>12</td>\n",
       "      <td>Kondli</td>\n",
       "      <td>Delhi</td>\n",
       "      <td>0</td>\n",
       "      <td>1</td>\n",
       "      <td>0</td>\n",
       "      <td>0</td>\n",
       "      <td>0</td>\n",
       "      <td>0</td>\n",
       "      <td>0</td>\n",
       "      <td>0</td>\n",
       "      <td>0</td>\n",
       "      <td>1</td>\n",
       "      <td>0</td>\n",
       "    </tr>\n",
       "    <tr>\n",
       "      <th>15</th>\n",
       "      <td>[MBBS,  MD - General Medicine]</td>\n",
       "      <td>0</td>\n",
       "      <td>General Medicine</td>\n",
       "      <td>200.0</td>\n",
       "      <td>train</td>\n",
       "      <td>10</td>\n",
       "      <td>Saroor Nagar</td>\n",
       "      <td>Hyderabad</td>\n",
       "      <td>0</td>\n",
       "      <td>1</td>\n",
       "      <td>0</td>\n",
       "      <td>0</td>\n",
       "      <td>0</td>\n",
       "      <td>0</td>\n",
       "      <td>0</td>\n",
       "      <td>0</td>\n",
       "      <td>1</td>\n",
       "      <td>0</td>\n",
       "      <td>0</td>\n",
       "    </tr>\n",
       "    <tr>\n",
       "      <th>16</th>\n",
       "      <td>[MBBS,  Diploma in Otorhinolaryngology (DLO)]</td>\n",
       "      <td>0</td>\n",
       "      <td>ENT Specialist</td>\n",
       "      <td>100.0</td>\n",
       "      <td>train</td>\n",
       "      <td>24</td>\n",
       "      <td>Tambaram West</td>\n",
       "      <td>Chennai</td>\n",
       "      <td>0</td>\n",
       "      <td>1</td>\n",
       "      <td>0</td>\n",
       "      <td>0</td>\n",
       "      <td>0</td>\n",
       "      <td>0</td>\n",
       "      <td>0</td>\n",
       "      <td>0</td>\n",
       "      <td>0</td>\n",
       "      <td>1</td>\n",
       "      <td>0</td>\n",
       "    </tr>\n",
       "    <tr>\n",
       "      <th>17</th>\n",
       "      <td>[MBBS,  MF- Homeopathy]</td>\n",
       "      <td>0</td>\n",
       "      <td>Homeopath</td>\n",
       "      <td>300.0</td>\n",
       "      <td>train</td>\n",
       "      <td>5</td>\n",
       "      <td>Purasawakkam</td>\n",
       "      <td>Chennai</td>\n",
       "      <td>0</td>\n",
       "      <td>1</td>\n",
       "      <td>0</td>\n",
       "      <td>0</td>\n",
       "      <td>0</td>\n",
       "      <td>0</td>\n",
       "      <td>0</td>\n",
       "      <td>0</td>\n",
       "      <td>0</td>\n",
       "      <td>0</td>\n",
       "      <td>0</td>\n",
       "    </tr>\n",
       "    <tr>\n",
       "      <th>18</th>\n",
       "      <td>[MBBS,  MS - ENT]</td>\n",
       "      <td>8</td>\n",
       "      <td>ENT Specialist</td>\n",
       "      <td>400.0</td>\n",
       "      <td>train</td>\n",
       "      <td>19</td>\n",
       "      <td>KPHB</td>\n",
       "      <td>Hyderabad</td>\n",
       "      <td>8</td>\n",
       "      <td>1</td>\n",
       "      <td>0</td>\n",
       "      <td>0</td>\n",
       "      <td>0</td>\n",
       "      <td>0</td>\n",
       "      <td>1</td>\n",
       "      <td>0</td>\n",
       "      <td>0</td>\n",
       "      <td>0</td>\n",
       "      <td>0</td>\n",
       "    </tr>\n",
       "    <tr>\n",
       "      <th>19</th>\n",
       "      <td>[MBBS]</td>\n",
       "      <td>10</td>\n",
       "      <td>General Medicine</td>\n",
       "      <td>150.0</td>\n",
       "      <td>train</td>\n",
       "      <td>19</td>\n",
       "      <td>HSR Layout</td>\n",
       "      <td>Bangalore</td>\n",
       "      <td>4</td>\n",
       "      <td>1</td>\n",
       "      <td>0</td>\n",
       "      <td>0</td>\n",
       "      <td>0</td>\n",
       "      <td>0</td>\n",
       "      <td>0</td>\n",
       "      <td>0</td>\n",
       "      <td>0</td>\n",
       "      <td>0</td>\n",
       "      <td>0</td>\n",
       "    </tr>\n",
       "  </tbody>\n",
       "</table>\n",
       "</div>"
      ],
      "text/plain": [
       "                                        Qualification Rating  \\\n",
       "0                            [BHMS,  MD - Homeopathy]     10   \n",
       "1                     [BAMS,  MD - Ayurveda Medicine]     10   \n",
       "2                   [MBBS,  MS - Otorhinolaryngology]      0   \n",
       "3                              [BSc - Zoology,  BAMS]      0   \n",
       "4                                              [BAMS]     10   \n",
       "5                                              [BAMS]      0   \n",
       "6                                              [BHMS]      0   \n",
       "7                                               [BDS]     10   \n",
       "8                      [MBBS,  MD - General Medicine]      0   \n",
       "9                                         [BSc,  BDS]      0   \n",
       "10                            [MBBS,  MS,  DNB - ENT]      0   \n",
       "11                                             [BAMS]      0   \n",
       "12                                        [BDS,  MDS]     10   \n",
       "13         [BDS,  MDS - Oral & Maxillofacial Surgery]      0   \n",
       "14  [MBBS,  Diploma in Otorhinolaryngology (DLO), ...      0   \n",
       "15                     [MBBS,  MD - General Medicine]      0   \n",
       "16      [MBBS,  Diploma in Otorhinolaryngology (DLO)]      0   \n",
       "17                            [MBBS,  MF- Homeopathy]      0   \n",
       "18                                  [MBBS,  MS - ENT]      8   \n",
       "19                                             [MBBS]     10   \n",
       "\n",
       "             Profile   Fees Source  Experience (Yrs)               Locality  \\\n",
       "0          Homeopath  100.0  train                24               Kakkanad   \n",
       "1           Ayurveda  350.0  train                12             Whitefield   \n",
       "2     ENT Specialist  300.0  train                 9        Mathikere - BEL   \n",
       "3           Ayurveda  250.0  train                12      Bannerghatta Road   \n",
       "4           Ayurveda  250.0  train                20           Keelkattalai   \n",
       "5           Ayurveda  100.0  train                 8                  Porur   \n",
       "6          Homeopath  200.0  train                42             Karol Bagh   \n",
       "7            Dentist  200.0  train                10                Arekere   \n",
       "8   General Medicine  100.0  train                14               Old City   \n",
       "9            Dentist  100.0  train                23                 Athani   \n",
       "10    ENT Specialist  700.0  train                 5        Thousand Lights   \n",
       "11          Ayurveda  100.0  train                 7             Somajiguda   \n",
       "12           Dentist  200.0  train                 9  Coimbatore Racecourse   \n",
       "13           Dentist  350.0  train                21          Jubilee Hills   \n",
       "14    ENT Specialist  500.0  train                12                 Kondli   \n",
       "15  General Medicine  200.0  train                10           Saroor Nagar   \n",
       "16    ENT Specialist  100.0  train                24          Tambaram West   \n",
       "17         Homeopath  300.0  train                 5           Purasawakkam   \n",
       "18    ENT Specialist  400.0  train                19                   KPHB   \n",
       "19  General Medicine  150.0  train                19             HSR Layout   \n",
       "\n",
       "           City  Feedback  MBBS  BDS  BAMS  BHMS  MD - Dermatology  MS - ENT  \\\n",
       "0     Ernakulam        16     0    0     0     1                 0         0   \n",
       "1     Bangalore        76     0    0     1     0                 0         0   \n",
       "2     Bangalore         0     1    0     0     0                 0         0   \n",
       "3     Bangalore         0     0    0     1     0                 0         0   \n",
       "4       Chennai         4     0    0     1     0                 0         0   \n",
       "5       Chennai         0     0    0     1     0                 0         0   \n",
       "6         Delhi         0     0    0     0     1                 0         0   \n",
       "7     Bangalore         0     0    1     0     0                 0         0   \n",
       "8     Hyderabad         0     1    0     0     0                 0         0   \n",
       "9     Ernakulam         0     0    1     0     0                 0         0   \n",
       "10      Chennai         0     1    0     0     0                 0         0   \n",
       "11    Hyderabad         0     0    0     1     0                 0         0   \n",
       "12   Coimbatore        14     0    1     0     0                 0         0   \n",
       "13    Hyderabad         0     0    1     0     0                 0         0   \n",
       "14        Delhi         0     1    0     0     0                 0         0   \n",
       "15    Hyderabad         0     1    0     0     0                 0         0   \n",
       "16      Chennai         0     1    0     0     0                 0         0   \n",
       "17      Chennai         0     1    0     0     0                 0         0   \n",
       "18    Hyderabad         8     1    0     0     0                 0         1   \n",
       "19    Bangalore         4     1    0     0     0                 0         0   \n",
       "\n",
       "    Venereology & Leprosy  MD - General Medicine  \\\n",
       "0                       0                      0   \n",
       "1                       0                      0   \n",
       "2                       0                      0   \n",
       "3                       0                      0   \n",
       "4                       0                      0   \n",
       "5                       0                      0   \n",
       "6                       0                      0   \n",
       "7                       0                      0   \n",
       "8                       0                      1   \n",
       "9                       0                      0   \n",
       "10                      0                      0   \n",
       "11                      0                      0   \n",
       "12                      0                      0   \n",
       "13                      0                      0   \n",
       "14                      0                      0   \n",
       "15                      0                      1   \n",
       "16                      0                      0   \n",
       "17                      0                      0   \n",
       "18                      0                      0   \n",
       "19                      0                      0   \n",
       "\n",
       "    Diploma in Otorhinolaryngology (DLO)  MD - Homeopathy  \n",
       "0                                      0                1  \n",
       "1                                      0                0  \n",
       "2                                      0                0  \n",
       "3                                      0                0  \n",
       "4                                      0                0  \n",
       "5                                      0                0  \n",
       "6                                      0                0  \n",
       "7                                      0                0  \n",
       "8                                      0                0  \n",
       "9                                      0                0  \n",
       "10                                     0                0  \n",
       "11                                     0                0  \n",
       "12                                     0                0  \n",
       "13                                     0                0  \n",
       "14                                     1                0  \n",
       "15                                     0                0  \n",
       "16                                     1                0  \n",
       "17                                     0                0  \n",
       "18                                     0                0  \n",
       "19                                     0                0  "
      ]
     },
     "execution_count": 33,
     "metadata": {},
     "output_type": "execute_result"
    }
   ],
   "source": [
    "df.head(20)"
   ]
  },
  {
   "cell_type": "code",
   "execution_count": 34,
   "metadata": {},
   "outputs": [],
   "source": [
    "#Dropping qualification column\n",
    "df.drop(['Qualification'],axis=1,inplace=True)"
   ]
  },
  {
   "cell_type": "code",
   "execution_count": 35,
   "metadata": {},
   "outputs": [
    {
     "name": "stdout",
     "output_type": "stream",
     "text": [
      "<class 'pandas.core.frame.DataFrame'>\n",
      "RangeIndex: 7948 entries, 0 to 7947\n",
      "Data columns (total 18 columns):\n",
      " #   Column                                Non-Null Count  Dtype   \n",
      "---  ------                                --------------  -----   \n",
      " 0   Rating                                7948 non-null   category\n",
      " 1   Profile                               7948 non-null   object  \n",
      " 2   Fees                                  5961 non-null   float64 \n",
      " 3   Source                                7948 non-null   object  \n",
      " 4   Experience (Yrs)                      7948 non-null   int32   \n",
      " 5   Locality                              7948 non-null   object  \n",
      " 6   City                                  7948 non-null   object  \n",
      " 7   Feedback                              7948 non-null   int64   \n",
      " 8   MBBS                                  7948 non-null   int64   \n",
      " 9   BDS                                   7948 non-null   int64   \n",
      " 10  BAMS                                  7948 non-null   int64   \n",
      " 11  BHMS                                  7948 non-null   int64   \n",
      " 12  MD - Dermatology                      7948 non-null   int64   \n",
      " 13  MS - ENT                              7948 non-null   int64   \n",
      " 14  Venereology & Leprosy                 7948 non-null   int64   \n",
      " 15  MD - General Medicine                 7948 non-null   int64   \n",
      " 16  Diploma in Otorhinolaryngology (DLO)  7948 non-null   int64   \n",
      " 17  MD - Homeopathy                       7948 non-null   int64   \n",
      "dtypes: category(1), float64(1), int32(1), int64(11), object(4)\n",
      "memory usage: 1.0+ MB\n"
     ]
    }
   ],
   "source": [
    "#information about Dataframe\n",
    "df.info()"
   ]
  },
  {
   "cell_type": "markdown",
   "metadata": {},
   "source": [
    "## Summary Statistics"
   ]
  },
  {
   "cell_type": "code",
   "execution_count": 36,
   "metadata": {},
   "outputs": [
    {
     "data": {
      "text/html": [
       "<div>\n",
       "<style scoped>\n",
       "    .dataframe tbody tr th:only-of-type {\n",
       "        vertical-align: middle;\n",
       "    }\n",
       "\n",
       "    .dataframe tbody tr th {\n",
       "        vertical-align: top;\n",
       "    }\n",
       "\n",
       "    .dataframe thead th {\n",
       "        text-align: right;\n",
       "    }\n",
       "</style>\n",
       "<table border=\"1\" class=\"dataframe\">\n",
       "  <thead>\n",
       "    <tr style=\"text-align: right;\">\n",
       "      <th></th>\n",
       "      <th>Fees</th>\n",
       "      <th>Experience (Yrs)</th>\n",
       "      <th>Feedback</th>\n",
       "      <th>MBBS</th>\n",
       "      <th>BDS</th>\n",
       "      <th>BAMS</th>\n",
       "      <th>BHMS</th>\n",
       "      <th>MD - Dermatology</th>\n",
       "      <th>MS - ENT</th>\n",
       "      <th>Venereology &amp; Leprosy</th>\n",
       "      <th>MD - General Medicine</th>\n",
       "      <th>Diploma in Otorhinolaryngology (DLO)</th>\n",
       "      <th>MD - Homeopathy</th>\n",
       "    </tr>\n",
       "  </thead>\n",
       "  <tbody>\n",
       "    <tr>\n",
       "      <th>count</th>\n",
       "      <td>5961.000000</td>\n",
       "      <td>7948.000000</td>\n",
       "      <td>7948.000000</td>\n",
       "      <td>7948.000000</td>\n",
       "      <td>7948.000000</td>\n",
       "      <td>7948.000000</td>\n",
       "      <td>7948.000000</td>\n",
       "      <td>7948.000000</td>\n",
       "      <td>7948.000000</td>\n",
       "      <td>7948.000000</td>\n",
       "      <td>7948.000000</td>\n",
       "      <td>7948.000000</td>\n",
       "      <td>7948.000000</td>\n",
       "    </tr>\n",
       "    <tr>\n",
       "      <th>mean</th>\n",
       "      <td>307.944640</td>\n",
       "      <td>17.446653</td>\n",
       "      <td>10.881354</td>\n",
       "      <td>0.476095</td>\n",
       "      <td>0.225214</td>\n",
       "      <td>0.126447</td>\n",
       "      <td>0.125315</td>\n",
       "      <td>0.100654</td>\n",
       "      <td>0.067816</td>\n",
       "      <td>0.048188</td>\n",
       "      <td>0.048314</td>\n",
       "      <td>0.042023</td>\n",
       "      <td>0.030574</td>\n",
       "    </tr>\n",
       "    <tr>\n",
       "      <th>std</th>\n",
       "      <td>190.920373</td>\n",
       "      <td>11.201217</td>\n",
       "      <td>52.602432</td>\n",
       "      <td>0.499460</td>\n",
       "      <td>0.417749</td>\n",
       "      <td>0.332373</td>\n",
       "      <td>0.331096</td>\n",
       "      <td>0.300889</td>\n",
       "      <td>0.251445</td>\n",
       "      <td>0.214177</td>\n",
       "      <td>0.214442</td>\n",
       "      <td>0.200655</td>\n",
       "      <td>0.172171</td>\n",
       "    </tr>\n",
       "    <tr>\n",
       "      <th>min</th>\n",
       "      <td>5.000000</td>\n",
       "      <td>0.000000</td>\n",
       "      <td>0.000000</td>\n",
       "      <td>0.000000</td>\n",
       "      <td>0.000000</td>\n",
       "      <td>0.000000</td>\n",
       "      <td>0.000000</td>\n",
       "      <td>0.000000</td>\n",
       "      <td>0.000000</td>\n",
       "      <td>0.000000</td>\n",
       "      <td>0.000000</td>\n",
       "      <td>0.000000</td>\n",
       "      <td>0.000000</td>\n",
       "    </tr>\n",
       "    <tr>\n",
       "      <th>25%</th>\n",
       "      <td>150.000000</td>\n",
       "      <td>9.000000</td>\n",
       "      <td>0.000000</td>\n",
       "      <td>0.000000</td>\n",
       "      <td>0.000000</td>\n",
       "      <td>0.000000</td>\n",
       "      <td>0.000000</td>\n",
       "      <td>0.000000</td>\n",
       "      <td>0.000000</td>\n",
       "      <td>0.000000</td>\n",
       "      <td>0.000000</td>\n",
       "      <td>0.000000</td>\n",
       "      <td>0.000000</td>\n",
       "    </tr>\n",
       "    <tr>\n",
       "      <th>50%</th>\n",
       "      <td>300.000000</td>\n",
       "      <td>15.000000</td>\n",
       "      <td>0.000000</td>\n",
       "      <td>0.000000</td>\n",
       "      <td>0.000000</td>\n",
       "      <td>0.000000</td>\n",
       "      <td>0.000000</td>\n",
       "      <td>0.000000</td>\n",
       "      <td>0.000000</td>\n",
       "      <td>0.000000</td>\n",
       "      <td>0.000000</td>\n",
       "      <td>0.000000</td>\n",
       "      <td>0.000000</td>\n",
       "    </tr>\n",
       "    <tr>\n",
       "      <th>75%</th>\n",
       "      <td>500.000000</td>\n",
       "      <td>23.000000</td>\n",
       "      <td>1.000000</td>\n",
       "      <td>1.000000</td>\n",
       "      <td>0.000000</td>\n",
       "      <td>0.000000</td>\n",
       "      <td>0.000000</td>\n",
       "      <td>0.000000</td>\n",
       "      <td>0.000000</td>\n",
       "      <td>0.000000</td>\n",
       "      <td>0.000000</td>\n",
       "      <td>0.000000</td>\n",
       "      <td>0.000000</td>\n",
       "    </tr>\n",
       "    <tr>\n",
       "      <th>max</th>\n",
       "      <td>950.000000</td>\n",
       "      <td>66.000000</td>\n",
       "      <td>1987.000000</td>\n",
       "      <td>1.000000</td>\n",
       "      <td>1.000000</td>\n",
       "      <td>1.000000</td>\n",
       "      <td>1.000000</td>\n",
       "      <td>1.000000</td>\n",
       "      <td>1.000000</td>\n",
       "      <td>1.000000</td>\n",
       "      <td>1.000000</td>\n",
       "      <td>1.000000</td>\n",
       "      <td>1.000000</td>\n",
       "    </tr>\n",
       "  </tbody>\n",
       "</table>\n",
       "</div>"
      ],
      "text/plain": [
       "              Fees  Experience (Yrs)     Feedback         MBBS          BDS  \\\n",
       "count  5961.000000       7948.000000  7948.000000  7948.000000  7948.000000   \n",
       "mean    307.944640         17.446653    10.881354     0.476095     0.225214   \n",
       "std     190.920373         11.201217    52.602432     0.499460     0.417749   \n",
       "min       5.000000          0.000000     0.000000     0.000000     0.000000   \n",
       "25%     150.000000          9.000000     0.000000     0.000000     0.000000   \n",
       "50%     300.000000         15.000000     0.000000     0.000000     0.000000   \n",
       "75%     500.000000         23.000000     1.000000     1.000000     0.000000   \n",
       "max     950.000000         66.000000  1987.000000     1.000000     1.000000   \n",
       "\n",
       "              BAMS         BHMS  MD - Dermatology     MS - ENT  \\\n",
       "count  7948.000000  7948.000000       7948.000000  7948.000000   \n",
       "mean      0.126447     0.125315          0.100654     0.067816   \n",
       "std       0.332373     0.331096          0.300889     0.251445   \n",
       "min       0.000000     0.000000          0.000000     0.000000   \n",
       "25%       0.000000     0.000000          0.000000     0.000000   \n",
       "50%       0.000000     0.000000          0.000000     0.000000   \n",
       "75%       0.000000     0.000000          0.000000     0.000000   \n",
       "max       1.000000     1.000000          1.000000     1.000000   \n",
       "\n",
       "       Venereology & Leprosy  MD - General Medicine  \\\n",
       "count            7948.000000            7948.000000   \n",
       "mean                0.048188               0.048314   \n",
       "std                 0.214177               0.214442   \n",
       "min                 0.000000               0.000000   \n",
       "25%                 0.000000               0.000000   \n",
       "50%                 0.000000               0.000000   \n",
       "75%                 0.000000               0.000000   \n",
       "max                 1.000000               1.000000   \n",
       "\n",
       "       Diploma in Otorhinolaryngology (DLO)  MD - Homeopathy  \n",
       "count                           7948.000000      7948.000000  \n",
       "mean                               0.042023         0.030574  \n",
       "std                                0.200655         0.172171  \n",
       "min                                0.000000         0.000000  \n",
       "25%                                0.000000         0.000000  \n",
       "50%                                0.000000         0.000000  \n",
       "75%                                0.000000         0.000000  \n",
       "max                                1.000000         1.000000  "
      ]
     },
     "execution_count": 36,
     "metadata": {},
     "output_type": "execute_result"
    }
   ],
   "source": [
    "df.describe()"
   ]
  },
  {
   "cell_type": "markdown",
   "metadata": {},
   "source": [
    "Observation :"
   ]
  },
  {
   "cell_type": "markdown",
   "metadata": {},
   "source": [
    "All columns don't have null value except Fees because it has test data."
   ]
  },
  {
   "cell_type": "code",
   "execution_count": 37,
   "metadata": {},
   "outputs": [
    {
     "data": {
      "text/plain": [
       "Index(['Rating', 'Profile', 'Fees', 'Source', 'Experience (Yrs)', 'Locality',\n",
       "       'City', 'Feedback', 'MBBS', 'BDS', 'BAMS', 'BHMS', 'MD - Dermatology',\n",
       "       'MS - ENT', 'Venereology & Leprosy', 'MD - General Medicine',\n",
       "       'Diploma in Otorhinolaryngology (DLO)', 'MD - Homeopathy'],\n",
       "      dtype='object')"
      ]
     },
     "execution_count": 37,
     "metadata": {},
     "output_type": "execute_result"
    }
   ],
   "source": [
    "df.columns"
   ]
  },
  {
   "cell_type": "code",
   "execution_count": 38,
   "metadata": {},
   "outputs": [],
   "source": [
    "#Changing column position\n",
    "df=df[['Profile', 'Experience (Yrs)', 'Rating', 'Locality',\n",
    "       'City', 'Feedback', 'MBBS', 'BDS', 'BAMS', 'BHMS',\n",
    "       'MD - Dermatology', 'MS - ENT', 'Venereology & Leprosy',\n",
    "       'MD - General Medicine', 'Diploma in Otorhinolaryngology (DLO)',\n",
    "       'MD - Homeopathy', 'Source', 'Fees']]"
   ]
  },
  {
   "cell_type": "markdown",
   "metadata": {},
   "source": [
    "# Splitting Data"
   ]
  },
  {
   "cell_type": "code",
   "execution_count": 40,
   "metadata": {},
   "outputs": [],
   "source": [
    "#Seperating train and test data\n",
    "train=df.loc[df['Source']=='train']\n",
    "test=df.loc[df['Source']=='test']"
   ]
  },
  {
   "cell_type": "code",
   "execution_count": 41,
   "metadata": {},
   "outputs": [],
   "source": [
    "#Dropping source and fees column\n",
    "train.drop(['Source'],axis=1,inplace=True)\n",
    "test.drop(['Source','Fees'],axis=1,inplace=True)"
   ]
  },
  {
   "cell_type": "markdown",
   "metadata": {},
   "source": [
    "# Visualization"
   ]
  },
  {
   "cell_type": "markdown",
   "metadata": {},
   "source": [
    "## Univariate Analysis"
   ]
  },
  {
   "cell_type": "code",
   "execution_count": 43,
   "metadata": {},
   "outputs": [
    {
     "data": {
      "text/plain": [
       "<matplotlib.axes._subplots.AxesSubplot at 0x19572e80610>"
      ]
     },
     "execution_count": 43,
     "metadata": {},
     "output_type": "execute_result"
    },
    {
     "data": {
      "image/png": "[encoded data removed]",
      "text/plain": [
       "<Figure size 720x360 with 1 Axes>"
      ]
     },
     "metadata": {
      "needs_background": "light"
     },
     "output_type": "display_data"
    }
   ],
   "source": [
    "#Visualization of Profile count\n",
    "plt.figure(figsize=(10,5))\n",
    "sns.countplot(x='Profile',data=train)"
   ]
  },
  {
   "cell_type": "markdown",
   "metadata": {},
   "source": [
    "Observation :"
   ]
  },
  {
   "cell_type": "markdown",
   "metadata": {},
   "source": [
    "Dentist profile has maximum count, followed by General Medicine, Dermatologists profile."
   ]
  },
  {
   "cell_type": "markdown",
   "metadata": {},
   "source": [
    "ENT profile has minimum number of count."
   ]
  },
  {
   "cell_type": "code",
   "execution_count": 44,
   "metadata": {},
   "outputs": [
    {
     "data": {
      "text/plain": [
       "<matplotlib.axes._subplots.AxesSubplot at 0x1956ddda6a0>"
      ]
     },
     "execution_count": 44,
     "metadata": {},
     "output_type": "execute_result"
    },
    {
     "data": {
      "image/png": "[encoded data removed]",
      "text/plain": [
       "<Figure size 1080x360 with 1 Axes>"
      ]
     },
     "metadata": {
      "needs_background": "light"
     },
     "output_type": "display_data"
    }
   ],
   "source": [
    "#Visualization of City count\n",
    "plt.figure(figsize=(15,5))\n",
    "sns.countplot(x='City',data=train)"
   ]
  },
  {
   "cell_type": "markdown",
   "metadata": {},
   "source": [
    "Observation :"
   ]
  },
  {
   "cell_type": "markdown",
   "metadata": {},
   "source": [
    "Bangalore, Delhi and Mumbai has maximum number of doctors."
   ]
  },
  {
   "cell_type": "markdown",
   "metadata": {},
   "source": [
    "Thiruvanathapuram has minimum number of doctors."
   ]
  },
  {
   "cell_type": "markdown",
   "metadata": {},
   "source": [
    "We have some unknown places in the data."
   ]
  },
  {
   "cell_type": "code",
   "execution_count": 45,
   "metadata": {},
   "outputs": [
    {
     "data": {
      "text/plain": [
       "array([[<matplotlib.axes._subplots.AxesSubplot object at 0x0000019573675C40>,\n",
       "        <matplotlib.axes._subplots.AxesSubplot object at 0x00000195734DB400>,\n",
       "        <matplotlib.axes._subplots.AxesSubplot object at 0x0000019573505850>,\n",
       "        <matplotlib.axes._subplots.AxesSubplot object at 0x000001957352ECA0>],\n",
       "       [<matplotlib.axes._subplots.AxesSubplot object at 0x0000019573563160>,\n",
       "        <matplotlib.axes._subplots.AxesSubplot object at 0x000001957358D520>,\n",
       "        <matplotlib.axes._subplots.AxesSubplot object at 0x000001957358D610>,\n",
       "        <matplotlib.axes._subplots.AxesSubplot object at 0x00000195735B9AF0>],\n",
       "       [<matplotlib.axes._subplots.AxesSubplot object at 0x000001957361E370>,\n",
       "        <matplotlib.axes._subplots.AxesSubplot object at 0x00000195737BA7C0>,\n",
       "        <matplotlib.axes._subplots.AxesSubplot object at 0x00000195737E6C70>,\n",
       "        <matplotlib.axes._subplots.AxesSubplot object at 0x0000019573813160>],\n",
       "       [<matplotlib.axes._subplots.AxesSubplot object at 0x000001957384D580>,\n",
       "        <matplotlib.axes._subplots.AxesSubplot object at 0x0000019573878940>,\n",
       "        <matplotlib.axes._subplots.AxesSubplot object at 0x000001957389BF40>,\n",
       "        <matplotlib.axes._subplots.AxesSubplot object at 0x00000195738D43D0>]],\n",
       "      dtype=object)"
      ]
     },
     "execution_count": 45,
     "metadata": {},
     "output_type": "execute_result"
    },
    {
     "data": {
      "image/png": "[encoded data removed]",
      "text/plain": [
       "<Figure size 1440x1440 with 16 Axes>"
      ]
     },
     "metadata": {
      "needs_background": "light"
     },
     "output_type": "display_data"
    }
   ],
   "source": [
    "#Visualization of histogram for all columns except object datatype column\n",
    "train.hist(figsize=(20,20),grid=True,bins=30)"
   ]
  },
  {
   "cell_type": "markdown",
   "metadata": {},
   "source": [
    "Observation :"
   ]
  },
  {
   "cell_type": "markdown",
   "metadata": {},
   "source": [
    "Experience data is slightly right skewed."
   ]
  },
  {
   "cell_type": "markdown",
   "metadata": {},
   "source": [
    "Rating is left skewed."
   ]
  },
  {
   "cell_type": "markdown",
   "metadata": {},
   "source": [
    "Other data have discrete values."
   ]
  },
  {
   "cell_type": "markdown",
   "metadata": {},
   "source": [
    "## Bivariate Analysis"
   ]
  },
  {
   "cell_type": "code",
   "execution_count": 47,
   "metadata": {},
   "outputs": [
    {
     "data": {
      "text/plain": [
       "<matplotlib.axes._subplots.AxesSubplot at 0x195745f8b50>"
      ]
     },
     "execution_count": 47,
     "metadata": {},
     "output_type": "execute_result"
    },
    {
     "data": {
      "image/png": "[encoded data removed]",
      "text/plain": [
       "<Figure size 720x360 with 1 Axes>"
      ]
     },
     "metadata": {
      "needs_background": "light"
     },
     "output_type": "display_data"
    }
   ],
   "source": [
    "#Barplot visualization between Profile and Fees\n",
    "plt.figure(figsize=(10,5))\n",
    "sns.barplot(x='Profile', y='Fees', data=train)"
   ]
  },
  {
   "cell_type": "markdown",
   "metadata": {},
   "source": [
    "Observation :"
   ]
  },
  {
   "cell_type": "markdown",
   "metadata": {},
   "source": [
    "Dermatologists and ENT Specialist are getting fees around 400 Rupees, which is higher compare to other profile. "
   ]
  },
  {
   "cell_type": "markdown",
   "metadata": {},
   "source": [
    "Dentist and Ayurvedha are getting fees around 250 Rupees, which is lower compare to other profile."
   ]
  },
  {
   "cell_type": "code",
   "execution_count": 48,
   "metadata": {},
   "outputs": [
    {
     "data": {
      "text/plain": [
       "<matplotlib.axes._subplots.AxesSubplot at 0x195746b6f40>"
      ]
     },
     "execution_count": 48,
     "metadata": {},
     "output_type": "execute_result"
    },
    {
     "data": {
      "image/png": "[encoded data removed]",
      "text/plain": [
       "<Figure size 936x360 with 1 Axes>"
      ]
     },
     "metadata": {
      "needs_background": "light"
     },
     "output_type": "display_data"
    }
   ],
   "source": [
    "#Barplot visualization between City and Fees\n",
    "plt.figure(figsize=(13,5))\n",
    "sns.barplot(x='City', y='Fees', data=train)"
   ]
  },
  {
   "cell_type": "markdown",
   "metadata": {},
   "source": [
    "Observation :"
   ]
  },
  {
   "cell_type": "markdown",
   "metadata": {},
   "source": [
    "Delhi doctors getting fees around 450 which is higher compare to other cities, followed by bangalore, Mumbai and Hyderbad."
   ]
  },
  {
   "cell_type": "markdown",
   "metadata": {},
   "source": [
    "Coimbatore doctors getting around 150 which is lower compare to other cities."
   ]
  },
  {
   "cell_type": "code",
   "execution_count": 49,
   "metadata": {},
   "outputs": [
    {
     "data": {
      "text/plain": [
       "<matplotlib.axes._subplots.AxesSubplot at 0x195746c46a0>"
      ]
     },
     "execution_count": 49,
     "metadata": {},
     "output_type": "execute_result"
    },
    {
     "data": {
      "image/png": "[encoded data removed]",
      "text/plain": [
       "<Figure size 432x288 with 1 Axes>"
      ]
     },
     "metadata": {
      "needs_background": "light"
     },
     "output_type": "display_data"
    }
   ],
   "source": [
    "#Scatterplot visualization between Rating and Fees\n",
    "sns.scatterplot(x='Rating', y='Fees', data=train)"
   ]
  },
  {
   "cell_type": "markdown",
   "metadata": {},
   "source": [
    "Observation :"
   ]
  },
  {
   "cell_type": "markdown",
   "metadata": {},
   "source": [
    "Fees is higher when rating is around 50%."
   ]
  },
  {
   "cell_type": "code",
   "execution_count": 50,
   "metadata": {},
   "outputs": [
    {
     "data": {
      "text/plain": [
       "<matplotlib.axes._subplots.AxesSubplot at 0x19575dc42b0>"
      ]
     },
     "execution_count": 50,
     "metadata": {},
     "output_type": "execute_result"
    },
    {
     "data": {
      "image/png": "[encoded data removed]",
      "text/plain": [
       "<Figure size 432x288 with 1 Axes>"
      ]
     },
     "metadata": {
      "needs_background": "light"
     },
     "output_type": "display_data"
    }
   ],
   "source": [
    "#Lineplot visualization between Experience and Fees\n",
    "sns.lineplot(x='Experience (Yrs)', y='Fees', data=train)"
   ]
  },
  {
   "cell_type": "markdown",
   "metadata": {},
   "source": [
    "Observation :"
   ]
  },
  {
   "cell_type": "markdown",
   "metadata": {},
   "source": [
    "Doctor who has experience around 30 to 35 are getting higher fees."
   ]
  },
  {
   "cell_type": "markdown",
   "metadata": {},
   "source": [
    "Doctor who has experience around 45 to 50 are getting lower fees."
   ]
  },
  {
   "cell_type": "markdown",
   "metadata": {},
   "source": [
    "# Correlation"
   ]
  },
  {
   "cell_type": "code",
   "execution_count": 51,
   "metadata": {},
   "outputs": [
    {
     "data": {
      "text/plain": [
       "<matplotlib.axes._subplots.AxesSubplot at 0x19573b9d5b0>"
      ]
     },
     "execution_count": 51,
     "metadata": {},
     "output_type": "execute_result"
    },
    {
     "data": {
      "image/png": "[encoded data removed]",
      "text/plain": [
       "<Figure size 1080x864 with 2 Axes>"
      ]
     },
     "metadata": {
      "needs_background": "light"
     },
     "output_type": "display_data"
    }
   ],
   "source": [
    "#Checking correlation using heatmap\n",
    "corr=train.corr()\n",
    "plt.figure(figsize=(15,12))\n",
    "sns.heatmap(corr,annot=True)"
   ]
  },
  {
   "cell_type": "code",
   "execution_count": 52,
   "metadata": {},
   "outputs": [
    {
     "data": {
      "text/plain": [
       "Text(0.5, 1.0, 'Fees correlation')"
      ]
     },
     "execution_count": 52,
     "metadata": {},
     "output_type": "execute_result"
    },
    {
     "data": {
      "image/png": "[encoded data removed]",
      "text/plain": [
       "<Figure size 1080x360 with 1 Axes>"
      ]
     },
     "metadata": {
      "needs_background": "light"
     },
     "output_type": "display_data"
    }
   ],
   "source": [
    "#Checking correlation using barplot\n",
    "plt.figure(figsize=(15,5))\n",
    "train.drop('Fees', axis=1).corrwith(train['Fees']).plot(kind='bar', grid=True)\n",
    "plt.xticks(rotation=90)\n",
    "plt.title(\"Fees correlation\")"
   ]
  },
  {
   "cell_type": "markdown",
   "metadata": {},
   "source": [
    "Observation:"
   ]
  },
  {
   "cell_type": "markdown",
   "metadata": {},
   "source": [
    "Mostly all the columns are positively correlated, except BDS, BAMS, BHMS."
   ]
  },
  {
   "cell_type": "markdown",
   "metadata": {},
   "source": [
    "MBBS has high positive correlation."
   ]
  },
  {
   "cell_type": "markdown",
   "metadata": {},
   "source": [
    "# Label Encoding"
   ]
  },
  {
   "cell_type": "code",
   "execution_count": 53,
   "metadata": {},
   "outputs": [],
   "source": [
    "#Transforming categorical data into numerical data for train data\n",
    "from sklearn.preprocessing import LabelEncoder\n",
    "encoder=LabelEncoder()\n",
    "lab_col=['Locality']\n",
    "for lab in lab_col:\n",
    "    train[lab]=encoder.fit_transform(train[lab])"
   ]
  },
  {
   "cell_type": "code",
   "execution_count": 54,
   "metadata": {},
   "outputs": [],
   "source": [
    "#Transforming categorical data into numerical data for test data\n",
    "from sklearn.preprocessing import LabelEncoder\n",
    "encoder=LabelEncoder()\n",
    "lab_col=['Locality']\n",
    "for lab in lab_col:\n",
    "    test[lab]=encoder.fit_transform(test[lab])"
   ]
  },
  {
   "cell_type": "code",
   "execution_count": 56,
   "metadata": {},
   "outputs": [],
   "source": [
    "# Get dummies for City and Profile in train data\n",
    "train = pd.get_dummies(train,columns=[\"City\",\"Profile\"],prefix=[\"City\",\"Profile\"])"
   ]
  },
  {
   "cell_type": "code",
   "execution_count": 57,
   "metadata": {},
   "outputs": [],
   "source": [
    "# Get dummies for City and Profile in test data\n",
    "test = pd.get_dummies(test,columns=[\"City\",\"Profile\"],prefix=[\"City\",\"Profile\"])"
   ]
  },
  {
   "cell_type": "code",
   "execution_count": 58,
   "metadata": {},
   "outputs": [
    {
     "data": {
      "text/html": [
       "<div>\n",
       "<style scoped>\n",
       "    .dataframe tbody tr th:only-of-type {\n",
       "        vertical-align: middle;\n",
       "    }\n",
       "\n",
       "    .dataframe tbody tr th {\n",
       "        vertical-align: top;\n",
       "    }\n",
       "\n",
       "    .dataframe thead th {\n",
       "        text-align: right;\n",
       "    }\n",
       "</style>\n",
       "<table border=\"1\" class=\"dataframe\">\n",
       "  <thead>\n",
       "    <tr style=\"text-align: right;\">\n",
       "      <th></th>\n",
       "      <th>Experience (Yrs)</th>\n",
       "      <th>Rating</th>\n",
       "      <th>Locality</th>\n",
       "      <th>Feedback</th>\n",
       "      <th>MBBS</th>\n",
       "      <th>BDS</th>\n",
       "      <th>BAMS</th>\n",
       "      <th>BHMS</th>\n",
       "      <th>MD - Dermatology</th>\n",
       "      <th>MS - ENT</th>\n",
       "      <th>...</th>\n",
       "      <th>City_ Hyderabad</th>\n",
       "      <th>City_ Mumbai</th>\n",
       "      <th>City_ Thiruvananthapuram</th>\n",
       "      <th>City_ Unknown</th>\n",
       "      <th>Profile_Ayurveda</th>\n",
       "      <th>Profile_Dentist</th>\n",
       "      <th>Profile_Dermatologists</th>\n",
       "      <th>Profile_ENT Specialist</th>\n",
       "      <th>Profile_General Medicine</th>\n",
       "      <th>Profile_Homeopath</th>\n",
       "    </tr>\n",
       "  </thead>\n",
       "  <tbody>\n",
       "    <tr>\n",
       "      <th>0</th>\n",
       "      <td>24</td>\n",
       "      <td>10</td>\n",
       "      <td>297</td>\n",
       "      <td>16</td>\n",
       "      <td>0</td>\n",
       "      <td>0</td>\n",
       "      <td>0</td>\n",
       "      <td>1</td>\n",
       "      <td>0</td>\n",
       "      <td>0</td>\n",
       "      <td>...</td>\n",
       "      <td>0</td>\n",
       "      <td>0</td>\n",
       "      <td>0</td>\n",
       "      <td>0</td>\n",
       "      <td>0</td>\n",
       "      <td>0</td>\n",
       "      <td>0</td>\n",
       "      <td>0</td>\n",
       "      <td>0</td>\n",
       "      <td>1</td>\n",
       "    </tr>\n",
       "    <tr>\n",
       "      <th>1</th>\n",
       "      <td>12</td>\n",
       "      <td>10</td>\n",
       "      <td>857</td>\n",
       "      <td>76</td>\n",
       "      <td>0</td>\n",
       "      <td>0</td>\n",
       "      <td>1</td>\n",
       "      <td>0</td>\n",
       "      <td>0</td>\n",
       "      <td>0</td>\n",
       "      <td>...</td>\n",
       "      <td>0</td>\n",
       "      <td>0</td>\n",
       "      <td>0</td>\n",
       "      <td>0</td>\n",
       "      <td>1</td>\n",
       "      <td>0</td>\n",
       "      <td>0</td>\n",
       "      <td>0</td>\n",
       "      <td>0</td>\n",
       "      <td>0</td>\n",
       "    </tr>\n",
       "    <tr>\n",
       "      <th>2</th>\n",
       "      <td>9</td>\n",
       "      <td>0</td>\n",
       "      <td>453</td>\n",
       "      <td>0</td>\n",
       "      <td>1</td>\n",
       "      <td>0</td>\n",
       "      <td>0</td>\n",
       "      <td>0</td>\n",
       "      <td>0</td>\n",
       "      <td>0</td>\n",
       "      <td>...</td>\n",
       "      <td>0</td>\n",
       "      <td>0</td>\n",
       "      <td>0</td>\n",
       "      <td>0</td>\n",
       "      <td>0</td>\n",
       "      <td>0</td>\n",
       "      <td>0</td>\n",
       "      <td>1</td>\n",
       "      <td>0</td>\n",
       "      <td>0</td>\n",
       "    </tr>\n",
       "    <tr>\n",
       "      <th>3</th>\n",
       "      <td>12</td>\n",
       "      <td>0</td>\n",
       "      <td>69</td>\n",
       "      <td>0</td>\n",
       "      <td>0</td>\n",
       "      <td>0</td>\n",
       "      <td>1</td>\n",
       "      <td>0</td>\n",
       "      <td>0</td>\n",
       "      <td>0</td>\n",
       "      <td>...</td>\n",
       "      <td>0</td>\n",
       "      <td>0</td>\n",
       "      <td>0</td>\n",
       "      <td>0</td>\n",
       "      <td>1</td>\n",
       "      <td>0</td>\n",
       "      <td>0</td>\n",
       "      <td>0</td>\n",
       "      <td>0</td>\n",
       "      <td>0</td>\n",
       "    </tr>\n",
       "    <tr>\n",
       "      <th>4</th>\n",
       "      <td>20</td>\n",
       "      <td>10</td>\n",
       "      <td>336</td>\n",
       "      <td>4</td>\n",
       "      <td>0</td>\n",
       "      <td>0</td>\n",
       "      <td>1</td>\n",
       "      <td>0</td>\n",
       "      <td>0</td>\n",
       "      <td>0</td>\n",
       "      <td>...</td>\n",
       "      <td>0</td>\n",
       "      <td>0</td>\n",
       "      <td>0</td>\n",
       "      <td>0</td>\n",
       "      <td>1</td>\n",
       "      <td>0</td>\n",
       "      <td>0</td>\n",
       "      <td>0</td>\n",
       "      <td>0</td>\n",
       "      <td>0</td>\n",
       "    </tr>\n",
       "  </tbody>\n",
       "</table>\n",
       "<p>5 rows × 30 columns</p>\n",
       "</div>"
      ],
      "text/plain": [
       "   Experience (Yrs) Rating  Locality  Feedback  MBBS  BDS  BAMS  BHMS  \\\n",
       "0                24     10       297        16     0    0     0     1   \n",
       "1                12     10       857        76     0    0     1     0   \n",
       "2                 9      0       453         0     1    0     0     0   \n",
       "3                12      0        69         0     0    0     1     0   \n",
       "4                20     10       336         4     0    0     1     0   \n",
       "\n",
       "   MD - Dermatology  MS - ENT  ...  City_ Hyderabad  City_ Mumbai  \\\n",
       "0                 0         0  ...                0             0   \n",
       "1                 0         0  ...                0             0   \n",
       "2                 0         0  ...                0             0   \n",
       "3                 0         0  ...                0             0   \n",
       "4                 0         0  ...                0             0   \n",
       "\n",
       "   City_ Thiruvananthapuram  City_ Unknown  Profile_Ayurveda  Profile_Dentist  \\\n",
       "0                         0              0                 0                0   \n",
       "1                         0              0                 1                0   \n",
       "2                         0              0                 0                0   \n",
       "3                         0              0                 1                0   \n",
       "4                         0              0                 1                0   \n",
       "\n",
       "   Profile_Dermatologists  Profile_ENT Specialist  Profile_General Medicine  \\\n",
       "0                       0                       0                         0   \n",
       "1                       0                       0                         0   \n",
       "2                       0                       1                         0   \n",
       "3                       0                       0                         0   \n",
       "4                       0                       0                         0   \n",
       "\n",
       "   Profile_Homeopath  \n",
       "0                  1  \n",
       "1                  0  \n",
       "2                  0  \n",
       "3                  0  \n",
       "4                  0  \n",
       "\n",
       "[5 rows x 30 columns]"
      ]
     },
     "execution_count": 58,
     "metadata": {},
     "output_type": "execute_result"
    }
   ],
   "source": [
    "train.head()"
   ]
  },
  {
   "cell_type": "markdown",
   "metadata": {},
   "source": [
    "## Outliers"
   ]
  },
  {
   "cell_type": "code",
   "execution_count": 61,
   "metadata": {},
   "outputs": [
    {
     "data": {
      "text/plain": [
       "Experience (Yrs)                           AxesSubplot(0.125,0.816017;0.227941x0.0639831)\n",
       "Locality                                AxesSubplot(0.398529,0.816017;0.227941x0.0639831)\n",
       "Feedback                                AxesSubplot(0.672059,0.816017;0.227941x0.0639831)\n",
       "MBBS                                       AxesSubplot(0.125,0.739237;0.227941x0.0639831)\n",
       "BDS                                     AxesSubplot(0.398529,0.739237;0.227941x0.0639831)\n",
       "BAMS                                    AxesSubplot(0.672059,0.739237;0.227941x0.0639831)\n",
       "BHMS                                       AxesSubplot(0.125,0.662458;0.227941x0.0639831)\n",
       "MD - Dermatology                        AxesSubplot(0.398529,0.662458;0.227941x0.0639831)\n",
       "MS - ENT                                AxesSubplot(0.672059,0.662458;0.227941x0.0639831)\n",
       "Venereology & Leprosy                      AxesSubplot(0.125,0.585678;0.227941x0.0639831)\n",
       "MD - General Medicine                   AxesSubplot(0.398529,0.585678;0.227941x0.0639831)\n",
       "Diploma in Otorhinolaryngology (DLO)    AxesSubplot(0.672059,0.585678;0.227941x0.0639831)\n",
       "MD - Homeopathy                            AxesSubplot(0.125,0.508898;0.227941x0.0639831)\n",
       "Fees                                    AxesSubplot(0.398529,0.508898;0.227941x0.0639831)\n",
       "City_ Bangalore                         AxesSubplot(0.672059,0.508898;0.227941x0.0639831)\n",
       "City_ Chennai                              AxesSubplot(0.125,0.432119;0.227941x0.0639831)\n",
       "City_ Coimbatore                        AxesSubplot(0.398529,0.432119;0.227941x0.0639831)\n",
       "City_ Delhi                             AxesSubplot(0.672059,0.432119;0.227941x0.0639831)\n",
       "City_ Ernakulam                            AxesSubplot(0.125,0.355339;0.227941x0.0639831)\n",
       "City_ Hyderabad                         AxesSubplot(0.398529,0.355339;0.227941x0.0639831)\n",
       "City_ Mumbai                            AxesSubplot(0.672059,0.355339;0.227941x0.0639831)\n",
       "City_ Thiruvananthapuram                   AxesSubplot(0.125,0.278559;0.227941x0.0639831)\n",
       "City_ Unknown                           AxesSubplot(0.398529,0.278559;0.227941x0.0639831)\n",
       "Profile_Ayurveda                        AxesSubplot(0.672059,0.278559;0.227941x0.0639831)\n",
       "Profile_Dentist                             AxesSubplot(0.125,0.20178;0.227941x0.0639831)\n",
       "Profile_Dermatologists                   AxesSubplot(0.398529,0.20178;0.227941x0.0639831)\n",
       "Profile_ENT Specialist                   AxesSubplot(0.672059,0.20178;0.227941x0.0639831)\n",
       "Profile_General Medicine                      AxesSubplot(0.125,0.125;0.227941x0.0639831)\n",
       "Profile_Homeopath                          AxesSubplot(0.398529,0.125;0.227941x0.0639831)\n",
       "dtype: object"
      ]
     },
     "execution_count": 61,
     "metadata": {},
     "output_type": "execute_result"
    },
    {
     "data": {
      "image/png": "[encoded data removed]",
      "text/plain": [
       "<Figure size 1440x1800 with 30 Axes>"
      ]
     },
     "metadata": {
      "needs_background": "light"
     },
     "output_type": "display_data"
    }
   ],
   "source": [
    "#Visualization of outliers using boxplot\n",
    "train.plot(figsize=(20,25),kind='box',layout=(10,3),subplots=True)"
   ]
  },
  {
   "cell_type": "markdown",
   "metadata": {},
   "source": [
    "Observation :"
   ]
  },
  {
   "cell_type": "markdown",
   "metadata": {},
   "source": [
    "Experience and Feedback have more outliers, other qualification columns have less number of outliers"
   ]
  },
  {
   "cell_type": "code",
   "execution_count": 62,
   "metadata": {},
   "outputs": [],
   "source": [
    "new_df=train.copy()"
   ]
  },
  {
   "cell_type": "code",
   "execution_count": null,
   "metadata": {},
   "outputs": [],
   "source": [
    "train.skew()"
   ]
  },
  {
   "cell_type": "markdown",
   "metadata": {},
   "source": [
    "## Reducing Skewness in train data"
   ]
  },
  {
   "cell_type": "code",
   "execution_count": 63,
   "metadata": {},
   "outputs": [],
   "source": [
    "#Reducing Skewness using square root method\n",
    "for col in new_df.skew().index:\n",
    "    if col in new_df.describe().columns:\n",
    "        if new_df[col].skew()>0.55:\n",
    "            new_df[col] = np.sqrt(new_df[col])\n",
    "        if new_df[col].skew()<-0.55:\n",
    "            new_df[col] = np.cbrt(new_df[col])"
   ]
  },
  {
   "cell_type": "code",
   "execution_count": 65,
   "metadata": {},
   "outputs": [
    {
     "data": {
      "text/plain": [
       "Experience (Yrs)                         0.082582\n",
       "Rating                                   0.240670\n",
       "Locality                                 0.109326\n",
       "Feedback                                 3.838429\n",
       "MBBS                                     0.118000\n",
       "BDS                                      1.293695\n",
       "BAMS                                     2.229777\n",
       "BHMS                                     2.261706\n",
       "MD - Dermatology                         2.639954\n",
       "MS - ENT                                 3.403459\n",
       "Venereology & Leprosy                    4.171950\n",
       "MD - General Medicine                    4.239699\n",
       "Diploma in Otorhinolaryngology (DLO)     4.581912\n",
       "MD - Homeopathy                          5.475409\n",
       "Fees                                     0.245176\n",
       "City_ Bangalore                          1.416677\n",
       "City_ Chennai                            2.035059\n",
       "City_ Coimbatore                         4.816241\n",
       "City_ Delhi                              1.509849\n",
       "City_ Ernakulam                          6.000437\n",
       "City_ Hyderabad                          1.860027\n",
       "City_ Mumbai                             1.465681\n",
       "City_ Thiruvananthapuram                 8.146287\n",
       "City_ Unknown                           15.046180\n",
       "Profile_Ayurveda                         2.176749\n",
       "Profile_Dentist                          1.254545\n",
       "Profile_Dermatologists                   1.725211\n",
       "Profile_ENT Specialist                   2.308676\n",
       "Profile_General Medicine                 1.525779\n",
       "Profile_Homeopath                        2.058645\n",
       "dtype: float64"
      ]
     },
     "execution_count": 65,
     "metadata": {},
     "output_type": "execute_result"
    }
   ],
   "source": [
    "new_df.skew()"
   ]
  },
  {
   "cell_type": "markdown",
   "metadata": {},
   "source": [
    "Observation :"
   ]
  },
  {
   "cell_type": "markdown",
   "metadata": {},
   "source": [
    "Skewness are reduced in some columns."
   ]
  },
  {
   "cell_type": "markdown",
   "metadata": {},
   "source": [
    "## Removing Skewness in test data"
   ]
  },
  {
   "cell_type": "code",
   "execution_count": 66,
   "metadata": {},
   "outputs": [],
   "source": [
    "#Reducing Skewness using square root method\n",
    "for col in test.skew().index:\n",
    "    if col in test.describe().columns:\n",
    "        if test[col].skew()>0.55:\n",
    "            test[col] = np.sqrt(test[col])\n",
    "        if test[col].skew()<-0.55:\n",
    "            test[col] = np.cbrt(test[col])"
   ]
  },
  {
   "cell_type": "code",
   "execution_count": 67,
   "metadata": {},
   "outputs": [
    {
     "data": {
      "text/plain": [
       "Experience (Yrs)                         0.046070\n",
       "Rating                                   0.218225\n",
       "Locality                                 0.036802\n",
       "Feedback                                 3.789060\n",
       "MBBS                                     0.029215\n",
       "BDS                                      1.385625\n",
       "BAMS                                     2.307450\n",
       "BHMS                                     2.272114\n",
       "MD - Dermatology                         2.703626\n",
       "MS - ENT                                 3.551243\n",
       "Venereology & Leprosy                    4.376544\n",
       "MD - General Medicine                    4.141139\n",
       "Diploma in Otorhinolaryngology (DLO)     4.522393\n",
       "MD - Homeopathy                          5.396718\n",
       "City_ Bangalore                          1.414921\n",
       "City_ Chennai                            2.024439\n",
       "City_ Coimbatore                         5.045856\n",
       "City_ Delhi                              1.426066\n",
       "City_ Ernakulam                          6.203118\n",
       "City_ Hyderabad                          1.781316\n",
       "City_ Mumbai                             1.534586\n",
       "City_ Thiruvananthapuram                10.680036\n",
       "City_ Unknown                           18.129143\n",
       "Profile_Ayurveda                         2.251349\n",
       "Profile_Dentist                          1.339264\n",
       "Profile_Dermatologists                   1.752626\n",
       "Profile_ENT Specialist                   2.365989\n",
       "Profile_General Medicine                 1.328775\n",
       "Profile_Homeopath                        2.083705\n",
       "dtype: float64"
      ]
     },
     "execution_count": 67,
     "metadata": {},
     "output_type": "execute_result"
    }
   ],
   "source": [
    "test.skew()"
   ]
  },
  {
   "cell_type": "markdown",
   "metadata": {},
   "source": [
    "## Saving Data to Excel"
   ]
  },
  {
   "cell_type": "code",
   "execution_count": 68,
   "metadata": {},
   "outputs": [],
   "source": [
    "new_df.to_excel(\"Doctor_train_final.xlsx\",index=False)\n",
    "test.to_excel(\"Doctor_test_final.xlsx\",index=False)"
   ]
  },
  {
   "cell_type": "markdown",
   "metadata": {},
   "source": [
    "### Assigning input and target data"
   ]
  },
  {
   "cell_type": "code",
   "execution_count": 69,
   "metadata": {},
   "outputs": [],
   "source": [
    "#Assigning input and target data\n",
    "X=new_df.drop(['Fees'],axis=1)\n",
    "Y=new_df['Fees']"
   ]
  },
  {
   "cell_type": "code",
   "execution_count": 70,
   "metadata": {},
   "outputs": [
    {
     "data": {
      "text/html": [
       "<div>\n",
       "<style scoped>\n",
       "    .dataframe tbody tr th:only-of-type {\n",
       "        vertical-align: middle;\n",
       "    }\n",
       "\n",
       "    .dataframe tbody tr th {\n",
       "        vertical-align: top;\n",
       "    }\n",
       "\n",
       "    .dataframe thead th {\n",
       "        text-align: right;\n",
       "    }\n",
       "</style>\n",
       "<table border=\"1\" class=\"dataframe\">\n",
       "  <thead>\n",
       "    <tr style=\"text-align: right;\">\n",
       "      <th></th>\n",
       "      <th>Experience (Yrs)</th>\n",
       "      <th>Rating</th>\n",
       "      <th>Locality</th>\n",
       "      <th>Feedback</th>\n",
       "      <th>MBBS</th>\n",
       "      <th>BDS</th>\n",
       "      <th>BAMS</th>\n",
       "      <th>BHMS</th>\n",
       "      <th>MD - Dermatology</th>\n",
       "      <th>MS - ENT</th>\n",
       "      <th>...</th>\n",
       "      <th>City_ Hyderabad</th>\n",
       "      <th>City_ Mumbai</th>\n",
       "      <th>City_ Thiruvananthapuram</th>\n",
       "      <th>City_ Unknown</th>\n",
       "      <th>Profile_Ayurveda</th>\n",
       "      <th>Profile_Dentist</th>\n",
       "      <th>Profile_Dermatologists</th>\n",
       "      <th>Profile_ENT Specialist</th>\n",
       "      <th>Profile_General Medicine</th>\n",
       "      <th>Profile_Homeopath</th>\n",
       "    </tr>\n",
       "  </thead>\n",
       "  <tbody>\n",
       "    <tr>\n",
       "      <th>0</th>\n",
       "      <td>4.898979</td>\n",
       "      <td>10</td>\n",
       "      <td>297</td>\n",
       "      <td>4.000000</td>\n",
       "      <td>0</td>\n",
       "      <td>0.0</td>\n",
       "      <td>0.0</td>\n",
       "      <td>1.0</td>\n",
       "      <td>0.0</td>\n",
       "      <td>0.0</td>\n",
       "      <td>...</td>\n",
       "      <td>0.0</td>\n",
       "      <td>0.0</td>\n",
       "      <td>0.0</td>\n",
       "      <td>0.0</td>\n",
       "      <td>0.0</td>\n",
       "      <td>0.0</td>\n",
       "      <td>0.0</td>\n",
       "      <td>0.0</td>\n",
       "      <td>0.0</td>\n",
       "      <td>1.0</td>\n",
       "    </tr>\n",
       "    <tr>\n",
       "      <th>1</th>\n",
       "      <td>3.464102</td>\n",
       "      <td>10</td>\n",
       "      <td>857</td>\n",
       "      <td>8.717798</td>\n",
       "      <td>0</td>\n",
       "      <td>0.0</td>\n",
       "      <td>1.0</td>\n",
       "      <td>0.0</td>\n",
       "      <td>0.0</td>\n",
       "      <td>0.0</td>\n",
       "      <td>...</td>\n",
       "      <td>0.0</td>\n",
       "      <td>0.0</td>\n",
       "      <td>0.0</td>\n",
       "      <td>0.0</td>\n",
       "      <td>1.0</td>\n",
       "      <td>0.0</td>\n",
       "      <td>0.0</td>\n",
       "      <td>0.0</td>\n",
       "      <td>0.0</td>\n",
       "      <td>0.0</td>\n",
       "    </tr>\n",
       "    <tr>\n",
       "      <th>2</th>\n",
       "      <td>3.000000</td>\n",
       "      <td>0</td>\n",
       "      <td>453</td>\n",
       "      <td>0.000000</td>\n",
       "      <td>1</td>\n",
       "      <td>0.0</td>\n",
       "      <td>0.0</td>\n",
       "      <td>0.0</td>\n",
       "      <td>0.0</td>\n",
       "      <td>0.0</td>\n",
       "      <td>...</td>\n",
       "      <td>0.0</td>\n",
       "      <td>0.0</td>\n",
       "      <td>0.0</td>\n",
       "      <td>0.0</td>\n",
       "      <td>0.0</td>\n",
       "      <td>0.0</td>\n",
       "      <td>0.0</td>\n",
       "      <td>1.0</td>\n",
       "      <td>0.0</td>\n",
       "      <td>0.0</td>\n",
       "    </tr>\n",
       "    <tr>\n",
       "      <th>3</th>\n",
       "      <td>3.464102</td>\n",
       "      <td>0</td>\n",
       "      <td>69</td>\n",
       "      <td>0.000000</td>\n",
       "      <td>0</td>\n",
       "      <td>0.0</td>\n",
       "      <td>1.0</td>\n",
       "      <td>0.0</td>\n",
       "      <td>0.0</td>\n",
       "      <td>0.0</td>\n",
       "      <td>...</td>\n",
       "      <td>0.0</td>\n",
       "      <td>0.0</td>\n",
       "      <td>0.0</td>\n",
       "      <td>0.0</td>\n",
       "      <td>1.0</td>\n",
       "      <td>0.0</td>\n",
       "      <td>0.0</td>\n",
       "      <td>0.0</td>\n",
       "      <td>0.0</td>\n",
       "      <td>0.0</td>\n",
       "    </tr>\n",
       "    <tr>\n",
       "      <th>4</th>\n",
       "      <td>4.472136</td>\n",
       "      <td>10</td>\n",
       "      <td>336</td>\n",
       "      <td>2.000000</td>\n",
       "      <td>0</td>\n",
       "      <td>0.0</td>\n",
       "      <td>1.0</td>\n",
       "      <td>0.0</td>\n",
       "      <td>0.0</td>\n",
       "      <td>0.0</td>\n",
       "      <td>...</td>\n",
       "      <td>0.0</td>\n",
       "      <td>0.0</td>\n",
       "      <td>0.0</td>\n",
       "      <td>0.0</td>\n",
       "      <td>1.0</td>\n",
       "      <td>0.0</td>\n",
       "      <td>0.0</td>\n",
       "      <td>0.0</td>\n",
       "      <td>0.0</td>\n",
       "      <td>0.0</td>\n",
       "    </tr>\n",
       "  </tbody>\n",
       "</table>\n",
       "<p>5 rows × 29 columns</p>\n",
       "</div>"
      ],
      "text/plain": [
       "   Experience (Yrs) Rating  Locality  Feedback  MBBS  BDS  BAMS  BHMS  \\\n",
       "0          4.898979     10       297  4.000000     0  0.0   0.0   1.0   \n",
       "1          3.464102     10       857  8.717798     0  0.0   1.0   0.0   \n",
       "2          3.000000      0       453  0.000000     1  0.0   0.0   0.0   \n",
       "3          3.464102      0        69  0.000000     0  0.0   1.0   0.0   \n",
       "4          4.472136     10       336  2.000000     0  0.0   1.0   0.0   \n",
       "\n",
       "   MD - Dermatology  MS - ENT  ...  City_ Hyderabad  City_ Mumbai  \\\n",
       "0               0.0       0.0  ...              0.0           0.0   \n",
       "1               0.0       0.0  ...              0.0           0.0   \n",
       "2               0.0       0.0  ...              0.0           0.0   \n",
       "3               0.0       0.0  ...              0.0           0.0   \n",
       "4               0.0       0.0  ...              0.0           0.0   \n",
       "\n",
       "   City_ Thiruvananthapuram  City_ Unknown  Profile_Ayurveda  Profile_Dentist  \\\n",
       "0                       0.0            0.0               0.0              0.0   \n",
       "1                       0.0            0.0               1.0              0.0   \n",
       "2                       0.0            0.0               0.0              0.0   \n",
       "3                       0.0            0.0               1.0              0.0   \n",
       "4                       0.0            0.0               1.0              0.0   \n",
       "\n",
       "   Profile_Dermatologists  Profile_ENT Specialist  Profile_General Medicine  \\\n",
       "0                     0.0                     0.0                       0.0   \n",
       "1                     0.0                     0.0                       0.0   \n",
       "2                     0.0                     1.0                       0.0   \n",
       "3                     0.0                     0.0                       0.0   \n",
       "4                     0.0                     0.0                       0.0   \n",
       "\n",
       "   Profile_Homeopath  \n",
       "0                1.0  \n",
       "1                0.0  \n",
       "2                0.0  \n",
       "3                0.0  \n",
       "4                0.0  \n",
       "\n",
       "[5 rows x 29 columns]"
      ]
     },
     "execution_count": 70,
     "metadata": {},
     "output_type": "execute_result"
    }
   ],
   "source": [
    "X.head()"
   ]
  },
  {
   "cell_type": "code",
   "execution_count": 71,
   "metadata": {},
   "outputs": [
    {
     "data": {
      "text/plain": [
       "0    10.000000\n",
       "1    18.708287\n",
       "2    17.320508\n",
       "3    15.811388\n",
       "4    15.811388\n",
       "Name: Fees, dtype: float64"
      ]
     },
     "execution_count": 71,
     "metadata": {},
     "output_type": "execute_result"
    }
   ],
   "source": [
    "Y.head()"
   ]
  },
  {
   "cell_type": "markdown",
   "metadata": {},
   "source": [
    "## Scaling"
   ]
  },
  {
   "cell_type": "code",
   "execution_count": 72,
   "metadata": {},
   "outputs": [],
   "source": [
    "# from sklearn.preprocessing import OrdinalEncoder\n",
    "# sc=OrdinalEncoder()\n",
    "# ScaledX=sc.fit_transform(X)\n",
    "from sklearn.preprocessing import StandardScaler\n",
    "sc=StandardScaler()\n",
    "ScaledX=sc.fit_transform(X)"
   ]
  },
  {
   "cell_type": "markdown",
   "metadata": {},
   "source": [
    "### Root Mean Squared Log Error"
   ]
  },
  {
   "cell_type": "code",
   "execution_count": 73,
   "metadata": {},
   "outputs": [],
   "source": [
    "#We are using root mean squared log error\n",
    "#1 - RMSLE\n",
    "def score(y_pred,y):\n",
    "    y_pred = np.log(y_pred)\n",
    "    y = np.log(y)\n",
    "    return 1 - ((np.sum((y_pred-y)**2))/len(y))**1/2"
   ]
  },
  {
   "cell_type": "markdown",
   "metadata": {},
   "source": [
    "## Predicting Models"
   ]
  },
  {
   "cell_type": "code",
   "execution_count": 74,
   "metadata": {},
   "outputs": [],
   "source": [
    "#importing libraries for models\n",
    "from sklearn.model_selection import cross_val_score, train_test_split\n",
    "from sklearn.linear_model import LinearRegression, BayesianRidge\n",
    "from sklearn.neighbors import KNeighborsRegressor\n",
    "from sklearn.tree import DecisionTreeRegressor\n",
    "from sklearn.ensemble import RandomForestRegressor, GradientBoostingRegressor\n",
    "from sklearn.svm import SVR\n",
    "from sklearn.metrics import r2_score, mean_squared_error, mean_absolute_error \n",
    "\n"
   ]
  },
  {
   "cell_type": "code",
   "execution_count": 76,
   "metadata": {},
   "outputs": [
    {
     "name": "stdout",
     "output_type": "stream",
     "text": [
      "best RMSLE : 0.9108498045959487 found on the random state 1, best model is DecisionTreeRegressor()\n",
      "************************************************************************************************************\n",
      "best RMSLE : 0.9455250888526081 found on the random state 1, best model is KNeighborsRegressor()\n",
      "************************************************************************************************************\n",
      "best RMSLE : 0.9521520680216372 found on the random state 1, best model is RandomForestRegressor()\n",
      "************************************************************************************************************\n",
      "best RMSLE : 0.9545207206911547 found on the random state 1, best model is GradientBoostingRegressor()\n",
      "************************************************************************************************************\n",
      "best RMSLE : 0.9552895021467337 found on the random state 2, best model is GradientBoostingRegressor()\n",
      "************************************************************************************************************\n",
      "best RMSLE : 0.9558272707971129 found on the random state 9, best model is GradientBoostingRegressor()\n",
      "************************************************************************************************************\n",
      "best RMSLE : 0.9569954140413964 found on the random state 15, best model is GradientBoostingRegressor()\n",
      "************************************************************************************************************\n",
      "best RMSLE : 0.9573032239671108 found on the random state 154, best model is GradientBoostingRegressor()\n",
      "************************************************************************************************************\n",
      "-----best RMSLE : 0.9573032239671108 found on the random state 154, best model is SVR()----\n"
     ]
    }
   ],
   "source": [
    "from sklearn.metrics import make_scorer\n",
    "best_rstate=0\n",
    "accu=0\n",
    "best_model=[]\n",
    "best_scorer=0\n",
    "mod=[DecisionTreeRegressor(),KNeighborsRegressor(),RandomForestRegressor(),GradientBoostingRegressor(),SVR()]\n",
    "for i in range(1,200):\n",
    "    x_train,x_test,y_train,y_test=train_test_split(ScaledX,Y,test_size=0.2,random_state=i)\n",
    "    for m in mod:\n",
    "        m.fit(x_train,y_train)\n",
    "        y_pred = m.predict(x_test)\n",
    "        tempaccu=score(y_pred,y_test)\n",
    "        #scorer = make_scorer(score,greater_is_better=True)\n",
    "        if tempaccu>accu:\n",
    "            accu=tempaccu\n",
    "            best_rstate=i\n",
    "            #best_scorer=scorer\n",
    "            best_model=m\n",
    "            print(f\"best RMSLE : {accu} found on the random state {best_rstate}, best model is {m}\")\n",
    "            print('************************************************************************************************************')\n",
    "            \n",
    "print(f\"-----best RMSLE : {accu} found on the random state {best_rstate}, best model is {m}----\")"
   ]
  },
  {
   "cell_type": "markdown",
   "metadata": {},
   "source": [
    "### Train Test Split Method"
   ]
  },
  {
   "cell_type": "code",
   "execution_count": 77,
   "metadata": {},
   "outputs": [],
   "source": [
    "x_train,x_test,y_train,y_test=train_test_split(ScaledX,Y,test_size=0.2, random_state=126)"
   ]
  },
  {
   "cell_type": "markdown",
   "metadata": {},
   "source": [
    "## HyperTuning using GridSearchCV"
   ]
  },
  {
   "cell_type": "code",
   "execution_count": 78,
   "metadata": {},
   "outputs": [
    {
     "name": "stdout",
     "output_type": "stream",
     "text": [
      "best score is  0.945920894383389\n",
      "best estimator is  SVR(C=1)\n",
      "best param is  {'C': 1, 'kernel': 'rbf'}\n"
     ]
    }
   ],
   "source": [
    "#Grid Search CV for SVR\n",
    "from sklearn.model_selection import GridSearchCV\n",
    "from sklearn.metrics import make_scorer\n",
    "\n",
    "parameters = {\"C\":[0.1,1,10],\"kernel\":[\"linear\",\"rbf\",\"poly\"]}\n",
    "scorer = make_scorer(score,greater_is_better=True)\n",
    "\n",
    "GCV = GridSearchCV(SVR(),param_grid=parameters,scoring=scorer,n_jobs=-1,cv=5)\n",
    "GCV.fit(x_train,y_train)\n",
    "GCV_pred = GCV.predict(sc.transform(x_test))\n",
    "\n",
    "print(\"best score is \",score(GCV_pred,y_test))\n",
    "print(\"best estimator is \",GCV.best_estimator_)\n",
    "print(\"best param is \",GCV.best_params_)"
   ]
  },
  {
   "cell_type": "markdown",
   "metadata": {},
   "source": [
    "## Best SVR Model"
   ]
  },
  {
   "cell_type": "code",
   "execution_count": 79,
   "metadata": {},
   "outputs": [
    {
     "name": "stdout",
     "output_type": "stream",
     "text": [
      " Best Score is  0.9509470459510355\n"
     ]
    }
   ],
   "source": [
    "#Best parameter for SVR\n",
    "SV=SVR(C=10)\n",
    "SV.fit(x_train,y_train)\n",
    "SV_pred=SV.predict(x_test)\n",
    "print(\" Best Score is \",score(y_test, SV_pred))"
   ]
  },
  {
   "cell_type": "markdown",
   "metadata": {},
   "source": [
    "# Saving Model"
   ]
  },
  {
   "cell_type": "code",
   "execution_count": 80,
   "metadata": {},
   "outputs": [],
   "source": [
    "#save the model \n",
    "import pickle\n",
    "\n",
    "\n",
    "filename='Doctor Consulation Fee Model.pkl'\n",
    "pickle.dump(SV,open(filename,'wb'))\n"
   ]
  },
  {
   "cell_type": "markdown",
   "metadata": {},
   "source": [
    "# Checking test data"
   ]
  },
  {
   "cell_type": "code",
   "execution_count": 81,
   "metadata": {},
   "outputs": [
    {
     "data": {
      "text/html": [
       "<div>\n",
       "<style scoped>\n",
       "    .dataframe tbody tr th:only-of-type {\n",
       "        vertical-align: middle;\n",
       "    }\n",
       "\n",
       "    .dataframe tbody tr th {\n",
       "        vertical-align: top;\n",
       "    }\n",
       "\n",
       "    .dataframe thead th {\n",
       "        text-align: right;\n",
       "    }\n",
       "</style>\n",
       "<table border=\"1\" class=\"dataframe\">\n",
       "  <thead>\n",
       "    <tr style=\"text-align: right;\">\n",
       "      <th></th>\n",
       "      <th>Experience (Yrs)</th>\n",
       "      <th>Rating</th>\n",
       "      <th>Locality</th>\n",
       "      <th>Feedback</th>\n",
       "      <th>MBBS</th>\n",
       "      <th>BDS</th>\n",
       "      <th>BAMS</th>\n",
       "      <th>BHMS</th>\n",
       "      <th>MD - Dermatology</th>\n",
       "      <th>MS - ENT</th>\n",
       "      <th>...</th>\n",
       "      <th>City_ Hyderabad</th>\n",
       "      <th>City_ Mumbai</th>\n",
       "      <th>City_ Thiruvananthapuram</th>\n",
       "      <th>City_ Unknown</th>\n",
       "      <th>Profile_Ayurveda</th>\n",
       "      <th>Profile_Dentist</th>\n",
       "      <th>Profile_Dermatologists</th>\n",
       "      <th>Profile_ENT Specialist</th>\n",
       "      <th>Profile_General Medicine</th>\n",
       "      <th>Profile_Homeopath</th>\n",
       "    </tr>\n",
       "  </thead>\n",
       "  <tbody>\n",
       "    <tr>\n",
       "      <th>0</th>\n",
       "      <td>5.916080</td>\n",
       "      <td>0</td>\n",
       "      <td>142</td>\n",
       "      <td>0.0</td>\n",
       "      <td>1</td>\n",
       "      <td>0</td>\n",
       "      <td>0</td>\n",
       "      <td>0</td>\n",
       "      <td>0</td>\n",
       "      <td>0</td>\n",
       "      <td>...</td>\n",
       "      <td>0</td>\n",
       "      <td>1</td>\n",
       "      <td>0</td>\n",
       "      <td>0</td>\n",
       "      <td>0</td>\n",
       "      <td>0</td>\n",
       "      <td>0</td>\n",
       "      <td>0</td>\n",
       "      <td>1</td>\n",
       "      <td>0</td>\n",
       "    </tr>\n",
       "    <tr>\n",
       "      <th>1</th>\n",
       "      <td>5.567764</td>\n",
       "      <td>0</td>\n",
       "      <td>578</td>\n",
       "      <td>0.0</td>\n",
       "      <td>1</td>\n",
       "      <td>0</td>\n",
       "      <td>0</td>\n",
       "      <td>0</td>\n",
       "      <td>0</td>\n",
       "      <td>0</td>\n",
       "      <td>...</td>\n",
       "      <td>1</td>\n",
       "      <td>0</td>\n",
       "      <td>0</td>\n",
       "      <td>0</td>\n",
       "      <td>0</td>\n",
       "      <td>0</td>\n",
       "      <td>0</td>\n",
       "      <td>1</td>\n",
       "      <td>0</td>\n",
       "      <td>0</td>\n",
       "    </tr>\n",
       "    <tr>\n",
       "      <th>2</th>\n",
       "      <td>6.324555</td>\n",
       "      <td>7</td>\n",
       "      <td>212</td>\n",
       "      <td>2.0</td>\n",
       "      <td>1</td>\n",
       "      <td>0</td>\n",
       "      <td>0</td>\n",
       "      <td>0</td>\n",
       "      <td>0</td>\n",
       "      <td>0</td>\n",
       "      <td>...</td>\n",
       "      <td>0</td>\n",
       "      <td>0</td>\n",
       "      <td>0</td>\n",
       "      <td>0</td>\n",
       "      <td>0</td>\n",
       "      <td>0</td>\n",
       "      <td>1</td>\n",
       "      <td>0</td>\n",
       "      <td>0</td>\n",
       "      <td>0</td>\n",
       "    </tr>\n",
       "    <tr>\n",
       "      <th>3</th>\n",
       "      <td>0.000000</td>\n",
       "      <td>0</td>\n",
       "      <td>373</td>\n",
       "      <td>0.0</td>\n",
       "      <td>0</td>\n",
       "      <td>0</td>\n",
       "      <td>1</td>\n",
       "      <td>0</td>\n",
       "      <td>0</td>\n",
       "      <td>0</td>\n",
       "      <td>...</td>\n",
       "      <td>0</td>\n",
       "      <td>0</td>\n",
       "      <td>0</td>\n",
       "      <td>0</td>\n",
       "      <td>1</td>\n",
       "      <td>0</td>\n",
       "      <td>0</td>\n",
       "      <td>0</td>\n",
       "      <td>0</td>\n",
       "      <td>0</td>\n",
       "    </tr>\n",
       "    <tr>\n",
       "      <th>4</th>\n",
       "      <td>4.000000</td>\n",
       "      <td>10</td>\n",
       "      <td>231</td>\n",
       "      <td>0.0</td>\n",
       "      <td>0</td>\n",
       "      <td>1</td>\n",
       "      <td>0</td>\n",
       "      <td>0</td>\n",
       "      <td>0</td>\n",
       "      <td>0</td>\n",
       "      <td>...</td>\n",
       "      <td>0</td>\n",
       "      <td>0</td>\n",
       "      <td>0</td>\n",
       "      <td>0</td>\n",
       "      <td>0</td>\n",
       "      <td>1</td>\n",
       "      <td>0</td>\n",
       "      <td>0</td>\n",
       "      <td>0</td>\n",
       "      <td>0</td>\n",
       "    </tr>\n",
       "  </tbody>\n",
       "</table>\n",
       "<p>5 rows × 29 columns</p>\n",
       "</div>"
      ],
      "text/plain": [
       "   Experience (Yrs)  Rating  Locality  Feedback  MBBS  BDS  BAMS  BHMS  \\\n",
       "0          5.916080       0       142       0.0     1    0     0     0   \n",
       "1          5.567764       0       578       0.0     1    0     0     0   \n",
       "2          6.324555       7       212       2.0     1    0     0     0   \n",
       "3          0.000000       0       373       0.0     0    0     1     0   \n",
       "4          4.000000      10       231       0.0     0    1     0     0   \n",
       "\n",
       "   MD - Dermatology  MS - ENT  ...  City_ Hyderabad  City_ Mumbai  \\\n",
       "0                 0         0  ...                0             1   \n",
       "1                 0         0  ...                1             0   \n",
       "2                 0         0  ...                0             0   \n",
       "3                 0         0  ...                0             0   \n",
       "4                 0         0  ...                0             0   \n",
       "\n",
       "   City_ Thiruvananthapuram  City_ Unknown  Profile_Ayurveda  Profile_Dentist  \\\n",
       "0                         0              0                 0                0   \n",
       "1                         0              0                 0                0   \n",
       "2                         0              0                 0                0   \n",
       "3                         0              0                 1                0   \n",
       "4                         0              0                 0                1   \n",
       "\n",
       "   Profile_Dermatologists  Profile_ENT Specialist  Profile_General Medicine  \\\n",
       "0                       0                       0                         1   \n",
       "1                       0                       1                         0   \n",
       "2                       1                       0                         0   \n",
       "3                       0                       0                         0   \n",
       "4                       0                       0                         0   \n",
       "\n",
       "   Profile_Homeopath  \n",
       "0                  0  \n",
       "1                  0  \n",
       "2                  0  \n",
       "3                  0  \n",
       "4                  0  \n",
       "\n",
       "[5 rows x 29 columns]"
      ]
     },
     "execution_count": 81,
     "metadata": {},
     "output_type": "execute_result"
    }
   ],
   "source": [
    "testing=pd.read_excel('Doctor_test_final.xlsx')\n",
    "testing.head()"
   ]
  },
  {
   "cell_type": "code",
   "execution_count": 82,
   "metadata": {},
   "outputs": [
    {
     "data": {
      "text/plain": [
       "Experience (Yrs)                        0\n",
       "Rating                                  0\n",
       "Locality                                0\n",
       "Feedback                                0\n",
       "MBBS                                    0\n",
       "BDS                                     0\n",
       "BAMS                                    0\n",
       "BHMS                                    0\n",
       "MD - Dermatology                        0\n",
       "MS - ENT                                0\n",
       "Venereology & Leprosy                   0\n",
       "MD - General Medicine                   0\n",
       "Diploma in Otorhinolaryngology (DLO)    0\n",
       "MD - Homeopathy                         0\n",
       "City_ Bangalore                         0\n",
       "City_ Chennai                           0\n",
       "City_ Coimbatore                        0\n",
       "City_ Delhi                             0\n",
       "City_ Ernakulam                         0\n",
       "City_ Hyderabad                         0\n",
       "City_ Mumbai                            0\n",
       "City_ Thiruvananthapuram                0\n",
       "City_ Unknown                           0\n",
       "Profile_Ayurveda                        0\n",
       "Profile_Dentist                         0\n",
       "Profile_Dermatologists                  0\n",
       "Profile_ENT Specialist                  0\n",
       "Profile_General Medicine                0\n",
       "Profile_Homeopath                       0\n",
       "dtype: int64"
      ]
     },
     "execution_count": 82,
     "metadata": {},
     "output_type": "execute_result"
    }
   ],
   "source": [
    "testing.isnull().sum()"
   ]
  },
  {
   "cell_type": "code",
   "execution_count": 83,
   "metadata": {},
   "outputs": [],
   "source": [
    "#Load the model\n",
    "fitted_model=pickle.load(open('Doctor Consulation Fee Model.pkl','rb'))"
   ]
  },
  {
   "cell_type": "code",
   "execution_count": 84,
   "metadata": {},
   "outputs": [
    {
     "data": {
      "text/plain": [
       "SVR(C=10)"
      ]
     },
     "execution_count": 84,
     "metadata": {},
     "output_type": "execute_result"
    }
   ],
   "source": [
    "fitted_model"
   ]
  },
  {
   "cell_type": "code",
   "execution_count": 85,
   "metadata": {},
   "outputs": [],
   "source": [
    "#Prediction over test data\n",
    "predictions=fitted_model.predict(testing)"
   ]
  },
  {
   "cell_type": "code",
   "execution_count": 86,
   "metadata": {},
   "outputs": [
    {
     "data": {
      "text/plain": [
       "array([14.50313283, 14.50313283, 14.50313283, ..., 14.50313283,\n",
       "       14.50313283, 14.50313283])"
      ]
     },
     "execution_count": 86,
     "metadata": {},
     "output_type": "execute_result"
    }
   ],
   "source": [
    "predictions"
   ]
  },
  {
   "cell_type": "markdown",
   "metadata": {},
   "source": [
    "# Conclusion"
   ]
  },
  {
   "cell_type": "markdown",
   "metadata": {},
   "source": [
    "Did exploratory data analysis by removing columns, seperated Qualification column with most common degree, calculating missing recovered data, label encoding."
   ]
  },
  {
   "cell_type": "markdown",
   "metadata": {},
   "source": [
    "Visualized data by univariate and bivariate analysis"
   ]
  },
  {
   "cell_type": "markdown",
   "metadata": {},
   "source": [
    "Checked correlation and visualized using heatmap and barplot."
   ]
  },
  {
   "cell_type": "markdown",
   "metadata": {},
   "source": [
    "Scaled the data using standard scaler method"
   ]
  },
  {
   "cell_type": "markdown",
   "metadata": {},
   "source": [
    "SVR is the best model for Doctor Consultation Fee Prediction."
   ]
  },
  {
   "cell_type": "markdown",
   "metadata": {},
   "source": [
    "Performed Hyperparameter tuning for SVR."
   ]
  },
  {
   "cell_type": "markdown",
   "metadata": {},
   "source": [
    "Final score for Doctor Consultation Fee prediction using Root Mean Squared Log Error :"
   ]
  },
  {
   "cell_type": "markdown",
   "metadata": {},
   "source": [
    "          *   Best Score is  0.95"
   ]
  }
 ],
 "metadata": {
  "kernelspec": {
   "display_name": "Python 3",
   "language": "python",
   "name": "python3"
  },
  "language_info": {
   "codemirror_mode": {
    "name": "ipython",
    "version": 3
   },
   "file_extension": ".py",
   "mimetype": "text/x-python",
   "name": "python",
   "nbconvert_exporter": "python",
   "pygments_lexer": "ipython3",
   "version": "3.8.3"
  }
 },
 "nbformat": 4,
 "nbformat_minor": 4
}
