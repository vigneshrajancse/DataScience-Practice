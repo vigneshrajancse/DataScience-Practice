{
 "cells": [
  {
   "cell_type": "markdown",
   "metadata": {},
   "source": [
    "#                                                COVID-19 "
   ]
  },
  {
   "cell_type": "code",
   "execution_count": 762,
   "metadata": {},
   "outputs": [],
   "source": [
    "#importing important libraries\n",
    "import pandas as pd\n",
    "import matplotlib.pyplot as plt\n",
    "import seaborn as sns\n",
    "import numpy as np\n",
    "import warnings\n",
    "warnings.filterwarnings('ignore')"
   ]
  },
  {
   "cell_type": "code",
   "execution_count": 763,
   "metadata": {},
   "outputs": [
    {
     "data": {
      "text/html": [
       "<div>\n",
       "<style scoped>\n",
       "    .dataframe tbody tr th:only-of-type {\n",
       "        vertical-align: middle;\n",
       "    }\n",
       "\n",
       "    .dataframe tbody tr th {\n",
       "        vertical-align: top;\n",
       "    }\n",
       "\n",
       "    .dataframe thead th {\n",
       "        text-align: right;\n",
       "    }\n",
       "</style>\n",
       "<table border=\"1\" class=\"dataframe\">\n",
       "  <thead>\n",
       "    <tr style=\"text-align: right;\">\n",
       "      <th></th>\n",
       "      <th>Province_State</th>\n",
       "      <th>Country_Region</th>\n",
       "      <th>Last_Update</th>\n",
       "      <th>Lat</th>\n",
       "      <th>Long_</th>\n",
       "      <th>Confirmed</th>\n",
       "      <th>Deaths</th>\n",
       "      <th>Recovered</th>\n",
       "      <th>Active</th>\n",
       "      <th>FIPS</th>\n",
       "      <th>Incident_Rate</th>\n",
       "      <th>People_Tested</th>\n",
       "      <th>People_Hospitalized</th>\n",
       "      <th>Mortality_Rate</th>\n",
       "      <th>UID</th>\n",
       "      <th>ISO3</th>\n",
       "      <th>Testing_Rate</th>\n",
       "      <th>Hospitalization_Rate</th>\n",
       "    </tr>\n",
       "  </thead>\n",
       "  <tbody>\n",
       "    <tr>\n",
       "      <th>0</th>\n",
       "      <td>Alabama</td>\n",
       "      <td>US</td>\n",
       "      <td>2020-05-21 02:32:54</td>\n",
       "      <td>32.3182</td>\n",
       "      <td>-86.9023</td>\n",
       "      <td>13052</td>\n",
       "      <td>522</td>\n",
       "      <td>NaN</td>\n",
       "      <td>12530.0</td>\n",
       "      <td>1</td>\n",
       "      <td>266.194321</td>\n",
       "      <td>164450.0</td>\n",
       "      <td>1493.0</td>\n",
       "      <td>3.999387</td>\n",
       "      <td>84000001</td>\n",
       "      <td>USA</td>\n",
       "      <td>3353.942386</td>\n",
       "      <td>11.438860</td>\n",
       "    </tr>\n",
       "    <tr>\n",
       "      <th>1</th>\n",
       "      <td>Alaska</td>\n",
       "      <td>US</td>\n",
       "      <td>2020-05-21 02:32:54</td>\n",
       "      <td>61.3707</td>\n",
       "      <td>-152.4044</td>\n",
       "      <td>401</td>\n",
       "      <td>10</td>\n",
       "      <td>352.0</td>\n",
       "      <td>39.0</td>\n",
       "      <td>2</td>\n",
       "      <td>54.815493</td>\n",
       "      <td>37045.0</td>\n",
       "      <td>NaN</td>\n",
       "      <td>2.493766</td>\n",
       "      <td>84000002</td>\n",
       "      <td>USA</td>\n",
       "      <td>5063.940017</td>\n",
       "      <td>NaN</td>\n",
       "    </tr>\n",
       "    <tr>\n",
       "      <th>2</th>\n",
       "      <td>American Samoa</td>\n",
       "      <td>US</td>\n",
       "      <td>2020-05-21 02:32:54</td>\n",
       "      <td>-14.2710</td>\n",
       "      <td>-170.1320</td>\n",
       "      <td>0</td>\n",
       "      <td>0</td>\n",
       "      <td>NaN</td>\n",
       "      <td>0.0</td>\n",
       "      <td>60</td>\n",
       "      <td>0.000000</td>\n",
       "      <td>124.0</td>\n",
       "      <td>NaN</td>\n",
       "      <td>NaN</td>\n",
       "      <td>16</td>\n",
       "      <td>ASM</td>\n",
       "      <td>222.857246</td>\n",
       "      <td>NaN</td>\n",
       "    </tr>\n",
       "    <tr>\n",
       "      <th>3</th>\n",
       "      <td>Arizona</td>\n",
       "      <td>US</td>\n",
       "      <td>2020-05-21 02:32:54</td>\n",
       "      <td>33.7298</td>\n",
       "      <td>-111.4312</td>\n",
       "      <td>14906</td>\n",
       "      <td>747</td>\n",
       "      <td>3773.0</td>\n",
       "      <td>10386.0</td>\n",
       "      <td>4</td>\n",
       "      <td>204.788838</td>\n",
       "      <td>165435.0</td>\n",
       "      <td>1792.0</td>\n",
       "      <td>5.011405</td>\n",
       "      <td>84000004</td>\n",
       "      <td>USA</td>\n",
       "      <td>2272.859351</td>\n",
       "      <td>12.022005</td>\n",
       "    </tr>\n",
       "    <tr>\n",
       "      <th>4</th>\n",
       "      <td>Arkansas</td>\n",
       "      <td>US</td>\n",
       "      <td>2020-05-21 02:32:54</td>\n",
       "      <td>34.9697</td>\n",
       "      <td>-92.3731</td>\n",
       "      <td>5003</td>\n",
       "      <td>107</td>\n",
       "      <td>3852.0</td>\n",
       "      <td>1044.0</td>\n",
       "      <td>5</td>\n",
       "      <td>165.782801</td>\n",
       "      <td>96258.0</td>\n",
       "      <td>535.0</td>\n",
       "      <td>2.138717</td>\n",
       "      <td>84000005</td>\n",
       "      <td>USA</td>\n",
       "      <td>3189.670370</td>\n",
       "      <td>10.693584</td>\n",
       "    </tr>\n",
       "  </tbody>\n",
       "</table>\n",
       "</div>"
      ],
      "text/plain": [
       "   Province_State Country_Region          Last_Update      Lat     Long_  \\\n",
       "0         Alabama             US  2020-05-21 02:32:54  32.3182  -86.9023   \n",
       "1          Alaska             US  2020-05-21 02:32:54  61.3707 -152.4044   \n",
       "2  American Samoa             US  2020-05-21 02:32:54 -14.2710 -170.1320   \n",
       "3         Arizona             US  2020-05-21 02:32:54  33.7298 -111.4312   \n",
       "4        Arkansas             US  2020-05-21 02:32:54  34.9697  -92.3731   \n",
       "\n",
       "   Confirmed  Deaths  Recovered   Active  FIPS  Incident_Rate  People_Tested  \\\n",
       "0      13052     522        NaN  12530.0     1     266.194321       164450.0   \n",
       "1        401      10      352.0     39.0     2      54.815493        37045.0   \n",
       "2          0       0        NaN      0.0    60       0.000000          124.0   \n",
       "3      14906     747     3773.0  10386.0     4     204.788838       165435.0   \n",
       "4       5003     107     3852.0   1044.0     5     165.782801        96258.0   \n",
       "\n",
       "   People_Hospitalized  Mortality_Rate       UID ISO3  Testing_Rate  \\\n",
       "0               1493.0        3.999387  84000001  USA   3353.942386   \n",
       "1                  NaN        2.493766  84000002  USA   5063.940017   \n",
       "2                  NaN             NaN        16  ASM    222.857246   \n",
       "3               1792.0        5.011405  84000004  USA   2272.859351   \n",
       "4                535.0        2.138717  84000005  USA   3189.670370   \n",
       "\n",
       "   Hospitalization_Rate  \n",
       "0             11.438860  \n",
       "1                   NaN  \n",
       "2                   NaN  \n",
       "3             12.022005  \n",
       "4             10.693584  "
      ]
     },
     "execution_count": 763,
     "metadata": {},
     "output_type": "execute_result"
    }
   ],
   "source": [
    "#importing csv data\n",
    "df=pd.read_csv('Covid - 19.csv')\n",
    "df.head()"
   ]
  },
  {
   "cell_type": "code",
   "execution_count": 764,
   "metadata": {},
   "outputs": [
    {
     "name": "stdout",
     "output_type": "stream",
     "text": [
      "<class 'pandas.core.frame.DataFrame'>\n",
      "RangeIndex: 58 entries, 0 to 57\n",
      "Data columns (total 18 columns):\n",
      " #   Column                Non-Null Count  Dtype  \n",
      "---  ------                --------------  -----  \n",
      " 0   Province_State        58 non-null     object \n",
      " 1   Country_Region        58 non-null     object \n",
      " 2   Last_Update           58 non-null     object \n",
      " 3   Lat                   56 non-null     float64\n",
      " 4   Long_                 56 non-null     float64\n",
      " 5   Confirmed             58 non-null     int64  \n",
      " 6   Deaths                58 non-null     int64  \n",
      " 7   Recovered             42 non-null     float64\n",
      " 8   Active                58 non-null     float64\n",
      " 9   FIPS                  58 non-null     int64  \n",
      " 10  Incident_Rate         56 non-null     float64\n",
      " 11  People_Tested         56 non-null     float64\n",
      " 12  People_Hospitalized   33 non-null     float64\n",
      " 13  Mortality_Rate        57 non-null     float64\n",
      " 14  UID                   58 non-null     int64  \n",
      " 15  ISO3                  58 non-null     object \n",
      " 16  Testing_Rate          56 non-null     float64\n",
      " 17  Hospitalization_Rate  33 non-null     float64\n",
      "dtypes: float64(10), int64(4), object(4)\n",
      "memory usage: 8.3+ KB\n"
     ]
    }
   ],
   "source": [
    "#Information about data\n",
    "df.info()"
   ]
  },
  {
   "cell_type": "markdown",
   "metadata": {},
   "source": [
    "Observation : "
   ]
  },
  {
   "cell_type": "markdown",
   "metadata": {},
   "source": [
    "Data have object, float64 and int64 data types."
   ]
  },
  {
   "cell_type": "code",
   "execution_count": 765,
   "metadata": {},
   "outputs": [
    {
     "data": {
      "text/plain": [
       "{dtype('int64'): Index(['Confirmed', 'Deaths', 'FIPS', 'UID'], dtype='object'),\n",
       " dtype('float64'): Index(['Lat', 'Long_', 'Recovered', 'Active', 'Incident_Rate', 'People_Tested',\n",
       "        'People_Hospitalized', 'Mortality_Rate', 'Testing_Rate',\n",
       "        'Hospitalization_Rate'],\n",
       "       dtype='object'),\n",
       " dtype('O'): Index(['Province_State', 'Country_Region', 'Last_Update', 'ISO3'], dtype='object')}"
      ]
     },
     "execution_count": 765,
     "metadata": {},
     "output_type": "execute_result"
    }
   ],
   "source": [
    "#Data Seperated based on data type\n",
    "df.columns.to_series().groupby(df.dtypes).groups"
   ]
  },
  {
   "cell_type": "markdown",
   "metadata": {},
   "source": [
    "# Summary Statistics"
   ]
  },
  {
   "cell_type": "code",
   "execution_count": 766,
   "metadata": {},
   "outputs": [
    {
     "data": {
      "text/html": [
       "<div>\n",
       "<style scoped>\n",
       "    .dataframe tbody tr th:only-of-type {\n",
       "        vertical-align: middle;\n",
       "    }\n",
       "\n",
       "    .dataframe tbody tr th {\n",
       "        vertical-align: top;\n",
       "    }\n",
       "\n",
       "    .dataframe thead th {\n",
       "        text-align: right;\n",
       "    }\n",
       "</style>\n",
       "<table border=\"1\" class=\"dataframe\">\n",
       "  <thead>\n",
       "    <tr style=\"text-align: right;\">\n",
       "      <th></th>\n",
       "      <th>Lat</th>\n",
       "      <th>Long_</th>\n",
       "      <th>Confirmed</th>\n",
       "      <th>Deaths</th>\n",
       "      <th>Recovered</th>\n",
       "      <th>Active</th>\n",
       "      <th>FIPS</th>\n",
       "      <th>Incident_Rate</th>\n",
       "      <th>People_Tested</th>\n",
       "      <th>People_Hospitalized</th>\n",
       "      <th>Mortality_Rate</th>\n",
       "      <th>UID</th>\n",
       "      <th>Testing_Rate</th>\n",
       "      <th>Hospitalization_Rate</th>\n",
       "    </tr>\n",
       "  </thead>\n",
       "  <tbody>\n",
       "    <tr>\n",
       "      <th>count</th>\n",
       "      <td>56.000000</td>\n",
       "      <td>56.000000</td>\n",
       "      <td>58.000000</td>\n",
       "      <td>58.000000</td>\n",
       "      <td>42.000000</td>\n",
       "      <td>58.000000</td>\n",
       "      <td>58.000000</td>\n",
       "      <td>56.000000</td>\n",
       "      <td>5.600000e+01</td>\n",
       "      <td>33.000000</td>\n",
       "      <td>57.000000</td>\n",
       "      <td>5.800000e+01</td>\n",
       "      <td>56.000000</td>\n",
       "      <td>33.000000</td>\n",
       "    </tr>\n",
       "    <tr>\n",
       "      <th>mean</th>\n",
       "      <td>36.840089</td>\n",
       "      <td>-85.206614</td>\n",
       "      <td>26756.086207</td>\n",
       "      <td>1611.017241</td>\n",
       "      <td>7007.428571</td>\n",
       "      <td>20070.724138</td>\n",
       "      <td>3288.086207</td>\n",
       "      <td>396.230806</td>\n",
       "      <td>2.258534e+05</td>\n",
       "      <td>4897.454545</td>\n",
       "      <td>4.458248</td>\n",
       "      <td>7.676194e+07</td>\n",
       "      <td>3894.186870</td>\n",
       "      <td>14.342541</td>\n",
       "    </tr>\n",
       "    <tr>\n",
       "      <th>std</th>\n",
       "      <td>10.887035</td>\n",
       "      <td>49.754449</td>\n",
       "      <td>52562.031122</td>\n",
       "      <td>4084.750891</td>\n",
       "      <td>11674.490020</td>\n",
       "      <td>41294.705318</td>\n",
       "      <td>17408.350591</td>\n",
       "      <td>402.682539</td>\n",
       "      <td>2.987834e+05</td>\n",
       "      <td>13185.628145</td>\n",
       "      <td>2.135002</td>\n",
       "      <td>2.378302e+07</td>\n",
       "      <td>1933.169297</td>\n",
       "      <td>5.047403</td>\n",
       "    </tr>\n",
       "    <tr>\n",
       "      <th>min</th>\n",
       "      <td>-14.271000</td>\n",
       "      <td>-170.132000</td>\n",
       "      <td>0.000000</td>\n",
       "      <td>0.000000</td>\n",
       "      <td>13.000000</td>\n",
       "      <td>0.000000</td>\n",
       "      <td>1.000000</td>\n",
       "      <td>0.000000</td>\n",
       "      <td>1.240000e+02</td>\n",
       "      <td>65.000000</td>\n",
       "      <td>0.000000</td>\n",
       "      <td>1.600000e+01</td>\n",
       "      <td>97.702058</td>\n",
       "      <td>6.778043</td>\n",
       "    </tr>\n",
       "    <tr>\n",
       "      <th>25%</th>\n",
       "      <td>34.594600</td>\n",
       "      <td>-101.165775</td>\n",
       "      <td>2596.000000</td>\n",
       "      <td>74.000000</td>\n",
       "      <td>970.000000</td>\n",
       "      <td>812.500000</td>\n",
       "      <td>18.250000</td>\n",
       "      <td>148.521021</td>\n",
       "      <td>4.608100e+04</td>\n",
       "      <td>535.000000</td>\n",
       "      <td>3.072626</td>\n",
       "      <td>8.400001e+07</td>\n",
       "      <td>2712.800274</td>\n",
       "      <td>10.000000</td>\n",
       "    </tr>\n",
       "    <tr>\n",
       "      <th>50%</th>\n",
       "      <td>39.061850</td>\n",
       "      <td>-87.944200</td>\n",
       "      <td>10148.500000</td>\n",
       "      <td>385.000000</td>\n",
       "      <td>3008.000000</td>\n",
       "      <td>5644.500000</td>\n",
       "      <td>32.500000</td>\n",
       "      <td>250.477287</td>\n",
       "      <td>1.386545e+05</td>\n",
       "      <td>1493.000000</td>\n",
       "      <td>4.403318</td>\n",
       "      <td>8.400003e+07</td>\n",
       "      <td>3469.782532</td>\n",
       "      <td>13.598326</td>\n",
       "    </tr>\n",
       "    <tr>\n",
       "      <th>75%</th>\n",
       "      <td>42.361650</td>\n",
       "      <td>-76.970625</td>\n",
       "      <td>29395.500000</td>\n",
       "      <td>1394.250000</td>\n",
       "      <td>7326.750000</td>\n",
       "      <td>19291.250000</td>\n",
       "      <td>47.750000</td>\n",
       "      <td>477.888542</td>\n",
       "      <td>2.796948e+05</td>\n",
       "      <td>4389.000000</td>\n",
       "      <td>5.466238</td>\n",
       "      <td>8.400004e+07</td>\n",
       "      <td>4763.649736</td>\n",
       "      <td>17.658649</td>\n",
       "    </tr>\n",
       "    <tr>\n",
       "      <th>max</th>\n",
       "      <td>61.370700</td>\n",
       "      <td>145.673900</td>\n",
       "      <td>354370.000000</td>\n",
       "      <td>28636.000000</td>\n",
       "      <td>61886.000000</td>\n",
       "      <td>263848.000000</td>\n",
       "      <td>99999.000000</td>\n",
       "      <td>1821.620216</td>\n",
       "      <td>1.505836e+06</td>\n",
       "      <td>76410.000000</td>\n",
       "      <td>9.545549</td>\n",
       "      <td>8.410000e+07</td>\n",
       "      <td>11377.424693</td>\n",
       "      <td>28.054438</td>\n",
       "    </tr>\n",
       "  </tbody>\n",
       "</table>\n",
       "</div>"
      ],
      "text/plain": [
       "             Lat       Long_      Confirmed        Deaths     Recovered  \\\n",
       "count  56.000000   56.000000      58.000000     58.000000     42.000000   \n",
       "mean   36.840089  -85.206614   26756.086207   1611.017241   7007.428571   \n",
       "std    10.887035   49.754449   52562.031122   4084.750891  11674.490020   \n",
       "min   -14.271000 -170.132000       0.000000      0.000000     13.000000   \n",
       "25%    34.594600 -101.165775    2596.000000     74.000000    970.000000   \n",
       "50%    39.061850  -87.944200   10148.500000    385.000000   3008.000000   \n",
       "75%    42.361650  -76.970625   29395.500000   1394.250000   7326.750000   \n",
       "max    61.370700  145.673900  354370.000000  28636.000000  61886.000000   \n",
       "\n",
       "              Active          FIPS  Incident_Rate  People_Tested  \\\n",
       "count      58.000000     58.000000      56.000000   5.600000e+01   \n",
       "mean    20070.724138   3288.086207     396.230806   2.258534e+05   \n",
       "std     41294.705318  17408.350591     402.682539   2.987834e+05   \n",
       "min         0.000000      1.000000       0.000000   1.240000e+02   \n",
       "25%       812.500000     18.250000     148.521021   4.608100e+04   \n",
       "50%      5644.500000     32.500000     250.477287   1.386545e+05   \n",
       "75%     19291.250000     47.750000     477.888542   2.796948e+05   \n",
       "max    263848.000000  99999.000000    1821.620216   1.505836e+06   \n",
       "\n",
       "       People_Hospitalized  Mortality_Rate           UID  Testing_Rate  \\\n",
       "count            33.000000       57.000000  5.800000e+01     56.000000   \n",
       "mean           4897.454545        4.458248  7.676194e+07   3894.186870   \n",
       "std           13185.628145        2.135002  2.378302e+07   1933.169297   \n",
       "min              65.000000        0.000000  1.600000e+01     97.702058   \n",
       "25%             535.000000        3.072626  8.400001e+07   2712.800274   \n",
       "50%            1493.000000        4.403318  8.400003e+07   3469.782532   \n",
       "75%            4389.000000        5.466238  8.400004e+07   4763.649736   \n",
       "max           76410.000000        9.545549  8.410000e+07  11377.424693   \n",
       "\n",
       "       Hospitalization_Rate  \n",
       "count             33.000000  \n",
       "mean              14.342541  \n",
       "std                5.047403  \n",
       "min                6.778043  \n",
       "25%               10.000000  \n",
       "50%               13.598326  \n",
       "75%               17.658649  \n",
       "max               28.054438  "
      ]
     },
     "execution_count": 766,
     "metadata": {},
     "output_type": "execute_result"
    }
   ],
   "source": [
    "df.describe()"
   ]
  },
  {
   "cell_type": "markdown",
   "metadata": {},
   "source": [
    "Observation :"
   ]
  },
  {
   "cell_type": "markdown",
   "metadata": {},
   "source": [
    "There are some missing data in Lat, Long, Recovered, Incident Rate,People tested,, People Hospitalized, Moratlity Rate, Testing_Rate and Hospitalization_Rate."
   ]
  },
  {
   "cell_type": "markdown",
   "metadata": {},
   "source": [
    "# EDA"
   ]
  },
  {
   "cell_type": "code",
   "execution_count": 767,
   "metadata": {},
   "outputs": [
    {
     "data": {
      "text/plain": [
       "Province_State           0\n",
       "Country_Region           0\n",
       "Last_Update              0\n",
       "Lat                      2\n",
       "Long_                    2\n",
       "Confirmed                0\n",
       "Deaths                   0\n",
       "Recovered               16\n",
       "Active                   0\n",
       "FIPS                     0\n",
       "Incident_Rate            2\n",
       "People_Tested            2\n",
       "People_Hospitalized     25\n",
       "Mortality_Rate           1\n",
       "UID                      0\n",
       "ISO3                     0\n",
       "Testing_Rate             2\n",
       "Hospitalization_Rate    25\n",
       "dtype: int64"
      ]
     },
     "execution_count": 767,
     "metadata": {},
     "output_type": "execute_result"
    }
   ],
   "source": [
    "#checking nan values\n",
    "df.isnull().sum()"
   ]
  },
  {
   "cell_type": "code",
   "execution_count": 768,
   "metadata": {
    "scrolled": true
   },
   "outputs": [
    {
     "data": {
      "text/html": [
       "<div>\n",
       "<style scoped>\n",
       "    .dataframe tbody tr th:only-of-type {\n",
       "        vertical-align: middle;\n",
       "    }\n",
       "\n",
       "    .dataframe tbody tr th {\n",
       "        vertical-align: top;\n",
       "    }\n",
       "\n",
       "    .dataframe thead th {\n",
       "        text-align: right;\n",
       "    }\n",
       "</style>\n",
       "<table border=\"1\" class=\"dataframe\">\n",
       "  <thead>\n",
       "    <tr style=\"text-align: right;\">\n",
       "      <th></th>\n",
       "      <th>Province_State</th>\n",
       "      <th>Country_Region</th>\n",
       "      <th>Last_Update</th>\n",
       "      <th>Lat</th>\n",
       "      <th>Long_</th>\n",
       "      <th>Confirmed</th>\n",
       "      <th>Deaths</th>\n",
       "      <th>Recovered</th>\n",
       "      <th>Active</th>\n",
       "      <th>FIPS</th>\n",
       "      <th>Incident_Rate</th>\n",
       "      <th>People_Tested</th>\n",
       "      <th>People_Hospitalized</th>\n",
       "      <th>Mortality_Rate</th>\n",
       "      <th>UID</th>\n",
       "      <th>ISO3</th>\n",
       "      <th>Testing_Rate</th>\n",
       "      <th>Hospitalization_Rate</th>\n",
       "    </tr>\n",
       "  </thead>\n",
       "  <tbody>\n",
       "    <tr>\n",
       "      <th>0</th>\n",
       "      <td>Alabama</td>\n",
       "      <td>US</td>\n",
       "      <td>2020-05-21 02:32:54</td>\n",
       "      <td>32.3182</td>\n",
       "      <td>-86.9023</td>\n",
       "      <td>13052</td>\n",
       "      <td>522</td>\n",
       "      <td>NaN</td>\n",
       "      <td>12530.0</td>\n",
       "      <td>1</td>\n",
       "      <td>266.194321</td>\n",
       "      <td>164450.0</td>\n",
       "      <td>1493.0</td>\n",
       "      <td>3.999387</td>\n",
       "      <td>84000001</td>\n",
       "      <td>USA</td>\n",
       "      <td>3353.942386</td>\n",
       "      <td>11.438860</td>\n",
       "    </tr>\n",
       "    <tr>\n",
       "      <th>1</th>\n",
       "      <td>Alaska</td>\n",
       "      <td>US</td>\n",
       "      <td>2020-05-21 02:32:54</td>\n",
       "      <td>61.3707</td>\n",
       "      <td>-152.4044</td>\n",
       "      <td>401</td>\n",
       "      <td>10</td>\n",
       "      <td>352.0</td>\n",
       "      <td>39.0</td>\n",
       "      <td>2</td>\n",
       "      <td>54.815493</td>\n",
       "      <td>37045.0</td>\n",
       "      <td>NaN</td>\n",
       "      <td>2.493766</td>\n",
       "      <td>84000002</td>\n",
       "      <td>USA</td>\n",
       "      <td>5063.940017</td>\n",
       "      <td>NaN</td>\n",
       "    </tr>\n",
       "    <tr>\n",
       "      <th>2</th>\n",
       "      <td>American Samoa</td>\n",
       "      <td>US</td>\n",
       "      <td>2020-05-21 02:32:54</td>\n",
       "      <td>-14.2710</td>\n",
       "      <td>-170.1320</td>\n",
       "      <td>0</td>\n",
       "      <td>0</td>\n",
       "      <td>NaN</td>\n",
       "      <td>0.0</td>\n",
       "      <td>60</td>\n",
       "      <td>0.000000</td>\n",
       "      <td>124.0</td>\n",
       "      <td>NaN</td>\n",
       "      <td>NaN</td>\n",
       "      <td>16</td>\n",
       "      <td>ASM</td>\n",
       "      <td>222.857246</td>\n",
       "      <td>NaN</td>\n",
       "    </tr>\n",
       "    <tr>\n",
       "      <th>5</th>\n",
       "      <td>California</td>\n",
       "      <td>US</td>\n",
       "      <td>2020-05-21 02:32:54</td>\n",
       "      <td>36.1162</td>\n",
       "      <td>-119.6816</td>\n",
       "      <td>85997</td>\n",
       "      <td>3497</td>\n",
       "      <td>NaN</td>\n",
       "      <td>82500.0</td>\n",
       "      <td>6</td>\n",
       "      <td>217.646575</td>\n",
       "      <td>1380120.0</td>\n",
       "      <td>NaN</td>\n",
       "      <td>4.066421</td>\n",
       "      <td>84000006</td>\n",
       "      <td>USA</td>\n",
       "      <td>3492.893832</td>\n",
       "      <td>NaN</td>\n",
       "    </tr>\n",
       "    <tr>\n",
       "      <th>8</th>\n",
       "      <td>Delaware</td>\n",
       "      <td>US</td>\n",
       "      <td>2020-05-21 02:32:54</td>\n",
       "      <td>39.3185</td>\n",
       "      <td>-75.5071</td>\n",
       "      <td>8194</td>\n",
       "      <td>310</td>\n",
       "      <td>3965.0</td>\n",
       "      <td>3919.0</td>\n",
       "      <td>10</td>\n",
       "      <td>841.476990</td>\n",
       "      <td>45412.0</td>\n",
       "      <td>NaN</td>\n",
       "      <td>3.783256</td>\n",
       "      <td>84000010</td>\n",
       "      <td>USA</td>\n",
       "      <td>4663.552976</td>\n",
       "      <td>NaN</td>\n",
       "    </tr>\n",
       "    <tr>\n",
       "      <th>9</th>\n",
       "      <td>Diamond Princess</td>\n",
       "      <td>US</td>\n",
       "      <td>2020-05-21 02:32:54</td>\n",
       "      <td>NaN</td>\n",
       "      <td>NaN</td>\n",
       "      <td>49</td>\n",
       "      <td>0</td>\n",
       "      <td>NaN</td>\n",
       "      <td>49.0</td>\n",
       "      <td>88888</td>\n",
       "      <td>NaN</td>\n",
       "      <td>NaN</td>\n",
       "      <td>NaN</td>\n",
       "      <td>0.000000</td>\n",
       "      <td>84088888</td>\n",
       "      <td>USA</td>\n",
       "      <td>NaN</td>\n",
       "      <td>NaN</td>\n",
       "    </tr>\n",
       "    <tr>\n",
       "      <th>10</th>\n",
       "      <td>District of Columbia</td>\n",
       "      <td>US</td>\n",
       "      <td>2020-05-21 02:32:54</td>\n",
       "      <td>38.8974</td>\n",
       "      <td>-77.0268</td>\n",
       "      <td>7551</td>\n",
       "      <td>407</td>\n",
       "      <td>1059.0</td>\n",
       "      <td>6085.0</td>\n",
       "      <td>11</td>\n",
       "      <td>1069.927127</td>\n",
       "      <td>40419.0</td>\n",
       "      <td>NaN</td>\n",
       "      <td>5.390015</td>\n",
       "      <td>84000011</td>\n",
       "      <td>USA</td>\n",
       "      <td>5727.106946</td>\n",
       "      <td>NaN</td>\n",
       "    </tr>\n",
       "    <tr>\n",
       "      <th>11</th>\n",
       "      <td>Florida</td>\n",
       "      <td>US</td>\n",
       "      <td>2020-05-21 02:32:54</td>\n",
       "      <td>27.7663</td>\n",
       "      <td>-81.6868</td>\n",
       "      <td>47471</td>\n",
       "      <td>2096</td>\n",
       "      <td>NaN</td>\n",
       "      <td>45375.0</td>\n",
       "      <td>12</td>\n",
       "      <td>221.024217</td>\n",
       "      <td>771348.0</td>\n",
       "      <td>8934.0</td>\n",
       "      <td>4.415327</td>\n",
       "      <td>84000012</td>\n",
       "      <td>USA</td>\n",
       "      <td>3591.383953</td>\n",
       "      <td>18.819911</td>\n",
       "    </tr>\n",
       "    <tr>\n",
       "      <th>12</th>\n",
       "      <td>Georgia</td>\n",
       "      <td>US</td>\n",
       "      <td>2020-05-21 02:32:54</td>\n",
       "      <td>33.0406</td>\n",
       "      <td>-83.6431</td>\n",
       "      <td>39801</td>\n",
       "      <td>1697</td>\n",
       "      <td>NaN</td>\n",
       "      <td>38104.0</td>\n",
       "      <td>13</td>\n",
       "      <td>374.864974</td>\n",
       "      <td>402940.0</td>\n",
       "      <td>7107.0</td>\n",
       "      <td>4.263712</td>\n",
       "      <td>84000013</td>\n",
       "      <td>USA</td>\n",
       "      <td>3795.082856</td>\n",
       "      <td>17.856335</td>\n",
       "    </tr>\n",
       "    <tr>\n",
       "      <th>13</th>\n",
       "      <td>Grand Princess</td>\n",
       "      <td>US</td>\n",
       "      <td>2020-05-21 02:32:54</td>\n",
       "      <td>NaN</td>\n",
       "      <td>NaN</td>\n",
       "      <td>103</td>\n",
       "      <td>3</td>\n",
       "      <td>NaN</td>\n",
       "      <td>100.0</td>\n",
       "      <td>99999</td>\n",
       "      <td>NaN</td>\n",
       "      <td>NaN</td>\n",
       "      <td>NaN</td>\n",
       "      <td>2.912621</td>\n",
       "      <td>84099999</td>\n",
       "      <td>USA</td>\n",
       "      <td>NaN</td>\n",
       "      <td>NaN</td>\n",
       "    </tr>\n",
       "    <tr>\n",
       "      <th>14</th>\n",
       "      <td>Guam</td>\n",
       "      <td>US</td>\n",
       "      <td>2020-05-21 02:32:54</td>\n",
       "      <td>13.4443</td>\n",
       "      <td>144.7937</td>\n",
       "      <td>154</td>\n",
       "      <td>5</td>\n",
       "      <td>125.0</td>\n",
       "      <td>24.0</td>\n",
       "      <td>66</td>\n",
       "      <td>93.771502</td>\n",
       "      <td>4972.0</td>\n",
       "      <td>NaN</td>\n",
       "      <td>3.246753</td>\n",
       "      <td>316</td>\n",
       "      <td>GUM</td>\n",
       "      <td>3027.479921</td>\n",
       "      <td>NaN</td>\n",
       "    </tr>\n",
       "    <tr>\n",
       "      <th>17</th>\n",
       "      <td>Illinois</td>\n",
       "      <td>US</td>\n",
       "      <td>2020-05-21 02:32:54</td>\n",
       "      <td>40.3495</td>\n",
       "      <td>-88.9861</td>\n",
       "      <td>100418</td>\n",
       "      <td>4525</td>\n",
       "      <td>NaN</td>\n",
       "      <td>95893.0</td>\n",
       "      <td>17</td>\n",
       "      <td>792.451219</td>\n",
       "      <td>642713.0</td>\n",
       "      <td>NaN</td>\n",
       "      <td>4.506164</td>\n",
       "      <td>84000017</td>\n",
       "      <td>USA</td>\n",
       "      <td>5071.986102</td>\n",
       "      <td>NaN</td>\n",
       "    </tr>\n",
       "    <tr>\n",
       "      <th>18</th>\n",
       "      <td>Indiana</td>\n",
       "      <td>US</td>\n",
       "      <td>2020-05-21 02:32:54</td>\n",
       "      <td>39.8494</td>\n",
       "      <td>-86.2583</td>\n",
       "      <td>29274</td>\n",
       "      <td>1864</td>\n",
       "      <td>NaN</td>\n",
       "      <td>27410.0</td>\n",
       "      <td>18</td>\n",
       "      <td>434.834339</td>\n",
       "      <td>195738.0</td>\n",
       "      <td>4389.0</td>\n",
       "      <td>6.367425</td>\n",
       "      <td>84000018</td>\n",
       "      <td>USA</td>\n",
       "      <td>2907.481174</td>\n",
       "      <td>14.992826</td>\n",
       "    </tr>\n",
       "    <tr>\n",
       "      <th>19</th>\n",
       "      <td>Iowa</td>\n",
       "      <td>US</td>\n",
       "      <td>2020-05-21 02:32:54</td>\n",
       "      <td>42.0115</td>\n",
       "      <td>-93.2105</td>\n",
       "      <td>15620</td>\n",
       "      <td>393</td>\n",
       "      <td>8362.0</td>\n",
       "      <td>6865.0</td>\n",
       "      <td>19</td>\n",
       "      <td>495.076179</td>\n",
       "      <td>110748.0</td>\n",
       "      <td>NaN</td>\n",
       "      <td>2.516005</td>\n",
       "      <td>84000019</td>\n",
       "      <td>USA</td>\n",
       "      <td>3510.159838</td>\n",
       "      <td>NaN</td>\n",
       "    </tr>\n",
       "    <tr>\n",
       "      <th>22</th>\n",
       "      <td>Louisiana</td>\n",
       "      <td>US</td>\n",
       "      <td>2020-05-21 02:32:54</td>\n",
       "      <td>31.1695</td>\n",
       "      <td>-91.8678</td>\n",
       "      <td>35316</td>\n",
       "      <td>2608</td>\n",
       "      <td>26249.0</td>\n",
       "      <td>6459.0</td>\n",
       "      <td>22</td>\n",
       "      <td>759.680898</td>\n",
       "      <td>285970.0</td>\n",
       "      <td>NaN</td>\n",
       "      <td>7.384755</td>\n",
       "      <td>84000022</td>\n",
       "      <td>USA</td>\n",
       "      <td>6151.487891</td>\n",
       "      <td>NaN</td>\n",
       "    </tr>\n",
       "    <tr>\n",
       "      <th>25</th>\n",
       "      <td>Massachusetts</td>\n",
       "      <td>US</td>\n",
       "      <td>2020-05-21 02:32:54</td>\n",
       "      <td>42.2302</td>\n",
       "      <td>-71.5301</td>\n",
       "      <td>88970</td>\n",
       "      <td>6066</td>\n",
       "      <td>NaN</td>\n",
       "      <td>82904.0</td>\n",
       "      <td>25</td>\n",
       "      <td>1290.822797</td>\n",
       "      <td>489953.0</td>\n",
       "      <td>8897.0</td>\n",
       "      <td>6.818029</td>\n",
       "      <td>84000025</td>\n",
       "      <td>USA</td>\n",
       "      <td>7108.491647</td>\n",
       "      <td>10.000000</td>\n",
       "    </tr>\n",
       "    <tr>\n",
       "      <th>26</th>\n",
       "      <td>Michigan</td>\n",
       "      <td>US</td>\n",
       "      <td>2020-05-21 02:32:54</td>\n",
       "      <td>43.3266</td>\n",
       "      <td>-84.5361</td>\n",
       "      <td>53009</td>\n",
       "      <td>5060</td>\n",
       "      <td>28234.0</td>\n",
       "      <td>19715.0</td>\n",
       "      <td>26</td>\n",
       "      <td>530.787614</td>\n",
       "      <td>437072.0</td>\n",
       "      <td>NaN</td>\n",
       "      <td>9.545549</td>\n",
       "      <td>84000026</td>\n",
       "      <td>USA</td>\n",
       "      <td>4376.471997</td>\n",
       "      <td>NaN</td>\n",
       "    </tr>\n",
       "    <tr>\n",
       "      <th>29</th>\n",
       "      <td>Missouri</td>\n",
       "      <td>US</td>\n",
       "      <td>2020-05-21 02:32:54</td>\n",
       "      <td>38.4561</td>\n",
       "      <td>-92.2884</td>\n",
       "      <td>11528</td>\n",
       "      <td>640</td>\n",
       "      <td>NaN</td>\n",
       "      <td>10888.0</td>\n",
       "      <td>29</td>\n",
       "      <td>187.831124</td>\n",
       "      <td>161984.0</td>\n",
       "      <td>NaN</td>\n",
       "      <td>5.551700</td>\n",
       "      <td>84000029</td>\n",
       "      <td>USA</td>\n",
       "      <td>2639.281471</td>\n",
       "      <td>NaN</td>\n",
       "    </tr>\n",
       "    <tr>\n",
       "      <th>31</th>\n",
       "      <td>Nebraska</td>\n",
       "      <td>US</td>\n",
       "      <td>2020-05-21 02:32:54</td>\n",
       "      <td>41.1254</td>\n",
       "      <td>-98.2681</td>\n",
       "      <td>11122</td>\n",
       "      <td>138</td>\n",
       "      <td>NaN</td>\n",
       "      <td>10984.0</td>\n",
       "      <td>31</td>\n",
       "      <td>574.956266</td>\n",
       "      <td>72135.0</td>\n",
       "      <td>NaN</td>\n",
       "      <td>1.240784</td>\n",
       "      <td>84000031</td>\n",
       "      <td>USA</td>\n",
       "      <td>3729.047853</td>\n",
       "      <td>NaN</td>\n",
       "    </tr>\n",
       "    <tr>\n",
       "      <th>32</th>\n",
       "      <td>Nevada</td>\n",
       "      <td>US</td>\n",
       "      <td>2020-05-21 02:32:54</td>\n",
       "      <td>38.3135</td>\n",
       "      <td>-117.0554</td>\n",
       "      <td>7388</td>\n",
       "      <td>377</td>\n",
       "      <td>336.0</td>\n",
       "      <td>6675.0</td>\n",
       "      <td>32</td>\n",
       "      <td>239.857981</td>\n",
       "      <td>91171.0</td>\n",
       "      <td>NaN</td>\n",
       "      <td>5.102870</td>\n",
       "      <td>84000032</td>\n",
       "      <td>USA</td>\n",
       "      <td>2959.947483</td>\n",
       "      <td>NaN</td>\n",
       "    </tr>\n",
       "    <tr>\n",
       "      <th>34</th>\n",
       "      <td>New Jersey</td>\n",
       "      <td>US</td>\n",
       "      <td>2020-05-21 02:32:54</td>\n",
       "      <td>40.2989</td>\n",
       "      <td>-74.5210</td>\n",
       "      <td>150776</td>\n",
       "      <td>10749</td>\n",
       "      <td>23945.0</td>\n",
       "      <td>116082.0</td>\n",
       "      <td>34</td>\n",
       "      <td>1697.509285</td>\n",
       "      <td>531343.0</td>\n",
       "      <td>NaN</td>\n",
       "      <td>7.129119</td>\n",
       "      <td>84000034</td>\n",
       "      <td>USA</td>\n",
       "      <td>5982.117023</td>\n",
       "      <td>NaN</td>\n",
       "    </tr>\n",
       "    <tr>\n",
       "      <th>37</th>\n",
       "      <td>North Carolina</td>\n",
       "      <td>US</td>\n",
       "      <td>2020-05-21 02:32:54</td>\n",
       "      <td>35.6301</td>\n",
       "      <td>-79.8064</td>\n",
       "      <td>20262</td>\n",
       "      <td>726</td>\n",
       "      <td>11637.0</td>\n",
       "      <td>7899.0</td>\n",
       "      <td>37</td>\n",
       "      <td>193.190672</td>\n",
       "      <td>277603.0</td>\n",
       "      <td>NaN</td>\n",
       "      <td>3.583062</td>\n",
       "      <td>84000037</td>\n",
       "      <td>USA</td>\n",
       "      <td>2646.841883</td>\n",
       "      <td>NaN</td>\n",
       "    </tr>\n",
       "    <tr>\n",
       "      <th>39</th>\n",
       "      <td>Northern Mariana Islands</td>\n",
       "      <td>US</td>\n",
       "      <td>2020-05-21 02:32:54</td>\n",
       "      <td>15.0979</td>\n",
       "      <td>145.6739</td>\n",
       "      <td>21</td>\n",
       "      <td>2</td>\n",
       "      <td>13.0</td>\n",
       "      <td>6.0</td>\n",
       "      <td>69</td>\n",
       "      <td>38.082112</td>\n",
       "      <td>3817.0</td>\n",
       "      <td>NaN</td>\n",
       "      <td>9.523810</td>\n",
       "      <td>580</td>\n",
       "      <td>MNP</td>\n",
       "      <td>6921.877267</td>\n",
       "      <td>NaN</td>\n",
       "    </tr>\n",
       "    <tr>\n",
       "      <th>40</th>\n",
       "      <td>Ohio</td>\n",
       "      <td>US</td>\n",
       "      <td>2020-05-21 02:32:54</td>\n",
       "      <td>40.3888</td>\n",
       "      <td>-82.7649</td>\n",
       "      <td>29436</td>\n",
       "      <td>1781</td>\n",
       "      <td>NaN</td>\n",
       "      <td>27655.0</td>\n",
       "      <td>39</td>\n",
       "      <td>251.824349</td>\n",
       "      <td>289528.0</td>\n",
       "      <td>5198.0</td>\n",
       "      <td>6.050414</td>\n",
       "      <td>84000039</td>\n",
       "      <td>USA</td>\n",
       "      <td>2476.905835</td>\n",
       "      <td>17.658649</td>\n",
       "    </tr>\n",
       "    <tr>\n",
       "      <th>43</th>\n",
       "      <td>Pennsylvania</td>\n",
       "      <td>US</td>\n",
       "      <td>2020-05-21 02:32:54</td>\n",
       "      <td>40.5908</td>\n",
       "      <td>-77.2098</td>\n",
       "      <td>68126</td>\n",
       "      <td>4770</td>\n",
       "      <td>NaN</td>\n",
       "      <td>63356.0</td>\n",
       "      <td>42</td>\n",
       "      <td>532.151684</td>\n",
       "      <td>349700.0</td>\n",
       "      <td>NaN</td>\n",
       "      <td>7.001732</td>\n",
       "      <td>84000042</td>\n",
       "      <td>USA</td>\n",
       "      <td>2731.606784</td>\n",
       "      <td>NaN</td>\n",
       "    </tr>\n",
       "    <tr>\n",
       "      <th>44</th>\n",
       "      <td>Puerto Rico</td>\n",
       "      <td>US</td>\n",
       "      <td>2020-05-21 02:32:54</td>\n",
       "      <td>18.2208</td>\n",
       "      <td>-66.5901</td>\n",
       "      <td>2866</td>\n",
       "      <td>125</td>\n",
       "      <td>NaN</td>\n",
       "      <td>2741.0</td>\n",
       "      <td>72</td>\n",
       "      <td>97.702058</td>\n",
       "      <td>2866.0</td>\n",
       "      <td>NaN</td>\n",
       "      <td>4.361479</td>\n",
       "      <td>630</td>\n",
       "      <td>PRI</td>\n",
       "      <td>97.702058</td>\n",
       "      <td>NaN</td>\n",
       "    </tr>\n",
       "    <tr>\n",
       "      <th>49</th>\n",
       "      <td>Texas</td>\n",
       "      <td>US</td>\n",
       "      <td>2020-05-21 02:32:54</td>\n",
       "      <td>31.0545</td>\n",
       "      <td>-97.5635</td>\n",
       "      <td>51673</td>\n",
       "      <td>1426</td>\n",
       "      <td>30341.0</td>\n",
       "      <td>19906.0</td>\n",
       "      <td>48</td>\n",
       "      <td>178.208070</td>\n",
       "      <td>770241.0</td>\n",
       "      <td>NaN</td>\n",
       "      <td>2.759662</td>\n",
       "      <td>84000048</td>\n",
       "      <td>USA</td>\n",
       "      <td>2656.380746</td>\n",
       "      <td>NaN</td>\n",
       "    </tr>\n",
       "    <tr>\n",
       "      <th>51</th>\n",
       "      <td>Vermont</td>\n",
       "      <td>US</td>\n",
       "      <td>2020-05-21 02:32:54</td>\n",
       "      <td>44.0459</td>\n",
       "      <td>-72.7107</td>\n",
       "      <td>944</td>\n",
       "      <td>54</td>\n",
       "      <td>824.0</td>\n",
       "      <td>66.0</td>\n",
       "      <td>50</td>\n",
       "      <td>151.284718</td>\n",
       "      <td>25058.0</td>\n",
       "      <td>NaN</td>\n",
       "      <td>5.720339</td>\n",
       "      <td>84000050</td>\n",
       "      <td>USA</td>\n",
       "      <td>4015.775919</td>\n",
       "      <td>NaN</td>\n",
       "    </tr>\n",
       "    <tr>\n",
       "      <th>52</th>\n",
       "      <td>Virgin Islands</td>\n",
       "      <td>US</td>\n",
       "      <td>2020-05-21 02:32:54</td>\n",
       "      <td>18.3358</td>\n",
       "      <td>-64.8963</td>\n",
       "      <td>69</td>\n",
       "      <td>6</td>\n",
       "      <td>61.0</td>\n",
       "      <td>2.0</td>\n",
       "      <td>78</td>\n",
       "      <td>64.324869</td>\n",
       "      <td>1383.0</td>\n",
       "      <td>NaN</td>\n",
       "      <td>8.695652</td>\n",
       "      <td>850</td>\n",
       "      <td>VIR</td>\n",
       "      <td>1289.294104</td>\n",
       "      <td>NaN</td>\n",
       "    </tr>\n",
       "    <tr>\n",
       "      <th>54</th>\n",
       "      <td>Washington</td>\n",
       "      <td>US</td>\n",
       "      <td>2020-05-21 02:32:54</td>\n",
       "      <td>47.4009</td>\n",
       "      <td>-121.4905</td>\n",
       "      <td>18971</td>\n",
       "      <td>1037</td>\n",
       "      <td>NaN</td>\n",
       "      <td>17934.0</td>\n",
       "      <td>53</td>\n",
       "      <td>249.130224</td>\n",
       "      <td>293120.0</td>\n",
       "      <td>NaN</td>\n",
       "      <td>5.466238</td>\n",
       "      <td>84000053</td>\n",
       "      <td>USA</td>\n",
       "      <td>3849.298999</td>\n",
       "      <td>NaN</td>\n",
       "    </tr>\n",
       "    <tr>\n",
       "      <th>55</th>\n",
       "      <td>West Virginia</td>\n",
       "      <td>US</td>\n",
       "      <td>2020-05-21 02:32:54</td>\n",
       "      <td>38.4912</td>\n",
       "      <td>-80.9545</td>\n",
       "      <td>1567</td>\n",
       "      <td>69</td>\n",
       "      <td>950.0</td>\n",
       "      <td>548.0</td>\n",
       "      <td>54</td>\n",
       "      <td>87.437024</td>\n",
       "      <td>80641.0</td>\n",
       "      <td>NaN</td>\n",
       "      <td>4.403318</td>\n",
       "      <td>84000054</td>\n",
       "      <td>USA</td>\n",
       "      <td>4499.686689</td>\n",
       "      <td>NaN</td>\n",
       "    </tr>\n",
       "  </tbody>\n",
       "</table>\n",
       "</div>"
      ],
      "text/plain": [
       "              Province_State Country_Region          Last_Update      Lat  \\\n",
       "0                    Alabama             US  2020-05-21 02:32:54  32.3182   \n",
       "1                     Alaska             US  2020-05-21 02:32:54  61.3707   \n",
       "2             American Samoa             US  2020-05-21 02:32:54 -14.2710   \n",
       "5                 California             US  2020-05-21 02:32:54  36.1162   \n",
       "8                   Delaware             US  2020-05-21 02:32:54  39.3185   \n",
       "9           Diamond Princess             US  2020-05-21 02:32:54      NaN   \n",
       "10      District of Columbia             US  2020-05-21 02:32:54  38.8974   \n",
       "11                   Florida             US  2020-05-21 02:32:54  27.7663   \n",
       "12                   Georgia             US  2020-05-21 02:32:54  33.0406   \n",
       "13            Grand Princess             US  2020-05-21 02:32:54      NaN   \n",
       "14                      Guam             US  2020-05-21 02:32:54  13.4443   \n",
       "17                  Illinois             US  2020-05-21 02:32:54  40.3495   \n",
       "18                   Indiana             US  2020-05-21 02:32:54  39.8494   \n",
       "19                      Iowa             US  2020-05-21 02:32:54  42.0115   \n",
       "22                 Louisiana             US  2020-05-21 02:32:54  31.1695   \n",
       "25             Massachusetts             US  2020-05-21 02:32:54  42.2302   \n",
       "26                  Michigan             US  2020-05-21 02:32:54  43.3266   \n",
       "29                  Missouri             US  2020-05-21 02:32:54  38.4561   \n",
       "31                  Nebraska             US  2020-05-21 02:32:54  41.1254   \n",
       "32                    Nevada             US  2020-05-21 02:32:54  38.3135   \n",
       "34                New Jersey             US  2020-05-21 02:32:54  40.2989   \n",
       "37            North Carolina             US  2020-05-21 02:32:54  35.6301   \n",
       "39  Northern Mariana Islands             US  2020-05-21 02:32:54  15.0979   \n",
       "40                      Ohio             US  2020-05-21 02:32:54  40.3888   \n",
       "43              Pennsylvania             US  2020-05-21 02:32:54  40.5908   \n",
       "44               Puerto Rico             US  2020-05-21 02:32:54  18.2208   \n",
       "49                     Texas             US  2020-05-21 02:32:54  31.0545   \n",
       "51                   Vermont             US  2020-05-21 02:32:54  44.0459   \n",
       "52            Virgin Islands             US  2020-05-21 02:32:54  18.3358   \n",
       "54                Washington             US  2020-05-21 02:32:54  47.4009   \n",
       "55             West Virginia             US  2020-05-21 02:32:54  38.4912   \n",
       "\n",
       "       Long_  Confirmed  Deaths  Recovered    Active   FIPS  Incident_Rate  \\\n",
       "0   -86.9023      13052     522        NaN   12530.0      1     266.194321   \n",
       "1  -152.4044        401      10      352.0      39.0      2      54.815493   \n",
       "2  -170.1320          0       0        NaN       0.0     60       0.000000   \n",
       "5  -119.6816      85997    3497        NaN   82500.0      6     217.646575   \n",
       "8   -75.5071       8194     310     3965.0    3919.0     10     841.476990   \n",
       "9        NaN         49       0        NaN      49.0  88888            NaN   \n",
       "10  -77.0268       7551     407     1059.0    6085.0     11    1069.927127   \n",
       "11  -81.6868      47471    2096        NaN   45375.0     12     221.024217   \n",
       "12  -83.6431      39801    1697        NaN   38104.0     13     374.864974   \n",
       "13       NaN        103       3        NaN     100.0  99999            NaN   \n",
       "14  144.7937        154       5      125.0      24.0     66      93.771502   \n",
       "17  -88.9861     100418    4525        NaN   95893.0     17     792.451219   \n",
       "18  -86.2583      29274    1864        NaN   27410.0     18     434.834339   \n",
       "19  -93.2105      15620     393     8362.0    6865.0     19     495.076179   \n",
       "22  -91.8678      35316    2608    26249.0    6459.0     22     759.680898   \n",
       "25  -71.5301      88970    6066        NaN   82904.0     25    1290.822797   \n",
       "26  -84.5361      53009    5060    28234.0   19715.0     26     530.787614   \n",
       "29  -92.2884      11528     640        NaN   10888.0     29     187.831124   \n",
       "31  -98.2681      11122     138        NaN   10984.0     31     574.956266   \n",
       "32 -117.0554       7388     377      336.0    6675.0     32     239.857981   \n",
       "34  -74.5210     150776   10749    23945.0  116082.0     34    1697.509285   \n",
       "37  -79.8064      20262     726    11637.0    7899.0     37     193.190672   \n",
       "39  145.6739         21       2       13.0       6.0     69      38.082112   \n",
       "40  -82.7649      29436    1781        NaN   27655.0     39     251.824349   \n",
       "43  -77.2098      68126    4770        NaN   63356.0     42     532.151684   \n",
       "44  -66.5901       2866     125        NaN    2741.0     72      97.702058   \n",
       "49  -97.5635      51673    1426    30341.0   19906.0     48     178.208070   \n",
       "51  -72.7107        944      54      824.0      66.0     50     151.284718   \n",
       "52  -64.8963         69       6       61.0       2.0     78      64.324869   \n",
       "54 -121.4905      18971    1037        NaN   17934.0     53     249.130224   \n",
       "55  -80.9545       1567      69      950.0     548.0     54      87.437024   \n",
       "\n",
       "    People_Tested  People_Hospitalized  Mortality_Rate       UID ISO3  \\\n",
       "0        164450.0               1493.0        3.999387  84000001  USA   \n",
       "1         37045.0                  NaN        2.493766  84000002  USA   \n",
       "2           124.0                  NaN             NaN        16  ASM   \n",
       "5       1380120.0                  NaN        4.066421  84000006  USA   \n",
       "8         45412.0                  NaN        3.783256  84000010  USA   \n",
       "9             NaN                  NaN        0.000000  84088888  USA   \n",
       "10        40419.0                  NaN        5.390015  84000011  USA   \n",
       "11       771348.0               8934.0        4.415327  84000012  USA   \n",
       "12       402940.0               7107.0        4.263712  84000013  USA   \n",
       "13            NaN                  NaN        2.912621  84099999  USA   \n",
       "14         4972.0                  NaN        3.246753       316  GUM   \n",
       "17       642713.0                  NaN        4.506164  84000017  USA   \n",
       "18       195738.0               4389.0        6.367425  84000018  USA   \n",
       "19       110748.0                  NaN        2.516005  84000019  USA   \n",
       "22       285970.0                  NaN        7.384755  84000022  USA   \n",
       "25       489953.0               8897.0        6.818029  84000025  USA   \n",
       "26       437072.0                  NaN        9.545549  84000026  USA   \n",
       "29       161984.0                  NaN        5.551700  84000029  USA   \n",
       "31        72135.0                  NaN        1.240784  84000031  USA   \n",
       "32        91171.0                  NaN        5.102870  84000032  USA   \n",
       "34       531343.0                  NaN        7.129119  84000034  USA   \n",
       "37       277603.0                  NaN        3.583062  84000037  USA   \n",
       "39         3817.0                  NaN        9.523810       580  MNP   \n",
       "40       289528.0               5198.0        6.050414  84000039  USA   \n",
       "43       349700.0                  NaN        7.001732  84000042  USA   \n",
       "44         2866.0                  NaN        4.361479       630  PRI   \n",
       "49       770241.0                  NaN        2.759662  84000048  USA   \n",
       "51        25058.0                  NaN        5.720339  84000050  USA   \n",
       "52         1383.0                  NaN        8.695652       850  VIR   \n",
       "54       293120.0                  NaN        5.466238  84000053  USA   \n",
       "55        80641.0                  NaN        4.403318  84000054  USA   \n",
       "\n",
       "    Testing_Rate  Hospitalization_Rate  \n",
       "0    3353.942386             11.438860  \n",
       "1    5063.940017                   NaN  \n",
       "2     222.857246                   NaN  \n",
       "5    3492.893832                   NaN  \n",
       "8    4663.552976                   NaN  \n",
       "9            NaN                   NaN  \n",
       "10   5727.106946                   NaN  \n",
       "11   3591.383953             18.819911  \n",
       "12   3795.082856             17.856335  \n",
       "13           NaN                   NaN  \n",
       "14   3027.479921                   NaN  \n",
       "17   5071.986102                   NaN  \n",
       "18   2907.481174             14.992826  \n",
       "19   3510.159838                   NaN  \n",
       "22   6151.487891                   NaN  \n",
       "25   7108.491647             10.000000  \n",
       "26   4376.471997                   NaN  \n",
       "29   2639.281471                   NaN  \n",
       "31   3729.047853                   NaN  \n",
       "32   2959.947483                   NaN  \n",
       "34   5982.117023                   NaN  \n",
       "37   2646.841883                   NaN  \n",
       "39   6921.877267                   NaN  \n",
       "40   2476.905835             17.658649  \n",
       "43   2731.606784                   NaN  \n",
       "44     97.702058                   NaN  \n",
       "49   2656.380746                   NaN  \n",
       "51   4015.775919                   NaN  \n",
       "52   1289.294104                   NaN  \n",
       "54   3849.298999                   NaN  \n",
       "55   4499.686689                   NaN  "
      ]
     },
     "execution_count": 768,
     "metadata": {},
     "output_type": "execute_result"
    }
   ],
   "source": [
    "#checking nan values in each row\n",
    "df[pd.isnull(df).any(axis = 1)]"
   ]
  },
  {
   "cell_type": "markdown",
   "metadata": {},
   "source": [
    "To find recovered cases :"
   ]
  },
  {
   "cell_type": "markdown",
   "metadata": {},
   "source": [
    "Recovered=  Confirmed - Deaths - Active"
   ]
  },
  {
   "cell_type": "code",
   "execution_count": 769,
   "metadata": {},
   "outputs": [],
   "source": [
    "#Adding new column in df\n",
    "df['Recovered_new']= df['Confirmed']-df['Deaths']-df['Active']"
   ]
  },
  {
   "cell_type": "code",
   "execution_count": 770,
   "metadata": {},
   "outputs": [
    {
     "data": {
      "text/html": [
       "<div>\n",
       "<style scoped>\n",
       "    .dataframe tbody tr th:only-of-type {\n",
       "        vertical-align: middle;\n",
       "    }\n",
       "\n",
       "    .dataframe tbody tr th {\n",
       "        vertical-align: top;\n",
       "    }\n",
       "\n",
       "    .dataframe thead th {\n",
       "        text-align: right;\n",
       "    }\n",
       "</style>\n",
       "<table border=\"1\" class=\"dataframe\">\n",
       "  <thead>\n",
       "    <tr style=\"text-align: right;\">\n",
       "      <th></th>\n",
       "      <th>Province_State</th>\n",
       "      <th>Country_Region</th>\n",
       "      <th>Last_Update</th>\n",
       "      <th>Lat</th>\n",
       "      <th>Long_</th>\n",
       "      <th>Confirmed</th>\n",
       "      <th>Deaths</th>\n",
       "      <th>Recovered</th>\n",
       "      <th>Active</th>\n",
       "      <th>FIPS</th>\n",
       "      <th>Incident_Rate</th>\n",
       "      <th>People_Tested</th>\n",
       "      <th>People_Hospitalized</th>\n",
       "      <th>Mortality_Rate</th>\n",
       "      <th>UID</th>\n",
       "      <th>ISO3</th>\n",
       "      <th>Testing_Rate</th>\n",
       "      <th>Hospitalization_Rate</th>\n",
       "      <th>Recovered_new</th>\n",
       "    </tr>\n",
       "  </thead>\n",
       "  <tbody>\n",
       "    <tr>\n",
       "      <th>0</th>\n",
       "      <td>Alabama</td>\n",
       "      <td>US</td>\n",
       "      <td>2020-05-21 02:32:54</td>\n",
       "      <td>32.3182</td>\n",
       "      <td>-86.9023</td>\n",
       "      <td>13052</td>\n",
       "      <td>522</td>\n",
       "      <td>NaN</td>\n",
       "      <td>12530.0</td>\n",
       "      <td>1</td>\n",
       "      <td>266.194321</td>\n",
       "      <td>164450.0</td>\n",
       "      <td>1493.0</td>\n",
       "      <td>3.999387</td>\n",
       "      <td>84000001</td>\n",
       "      <td>USA</td>\n",
       "      <td>3353.942386</td>\n",
       "      <td>11.438860</td>\n",
       "      <td>0.0</td>\n",
       "    </tr>\n",
       "    <tr>\n",
       "      <th>1</th>\n",
       "      <td>Alaska</td>\n",
       "      <td>US</td>\n",
       "      <td>2020-05-21 02:32:54</td>\n",
       "      <td>61.3707</td>\n",
       "      <td>-152.4044</td>\n",
       "      <td>401</td>\n",
       "      <td>10</td>\n",
       "      <td>352.0</td>\n",
       "      <td>39.0</td>\n",
       "      <td>2</td>\n",
       "      <td>54.815493</td>\n",
       "      <td>37045.0</td>\n",
       "      <td>NaN</td>\n",
       "      <td>2.493766</td>\n",
       "      <td>84000002</td>\n",
       "      <td>USA</td>\n",
       "      <td>5063.940017</td>\n",
       "      <td>NaN</td>\n",
       "      <td>352.0</td>\n",
       "    </tr>\n",
       "    <tr>\n",
       "      <th>2</th>\n",
       "      <td>American Samoa</td>\n",
       "      <td>US</td>\n",
       "      <td>2020-05-21 02:32:54</td>\n",
       "      <td>-14.2710</td>\n",
       "      <td>-170.1320</td>\n",
       "      <td>0</td>\n",
       "      <td>0</td>\n",
       "      <td>NaN</td>\n",
       "      <td>0.0</td>\n",
       "      <td>60</td>\n",
       "      <td>0.000000</td>\n",
       "      <td>124.0</td>\n",
       "      <td>NaN</td>\n",
       "      <td>NaN</td>\n",
       "      <td>16</td>\n",
       "      <td>ASM</td>\n",
       "      <td>222.857246</td>\n",
       "      <td>NaN</td>\n",
       "      <td>0.0</td>\n",
       "    </tr>\n",
       "    <tr>\n",
       "      <th>3</th>\n",
       "      <td>Arizona</td>\n",
       "      <td>US</td>\n",
       "      <td>2020-05-21 02:32:54</td>\n",
       "      <td>33.7298</td>\n",
       "      <td>-111.4312</td>\n",
       "      <td>14906</td>\n",
       "      <td>747</td>\n",
       "      <td>3773.0</td>\n",
       "      <td>10386.0</td>\n",
       "      <td>4</td>\n",
       "      <td>204.788838</td>\n",
       "      <td>165435.0</td>\n",
       "      <td>1792.0</td>\n",
       "      <td>5.011405</td>\n",
       "      <td>84000004</td>\n",
       "      <td>USA</td>\n",
       "      <td>2272.859351</td>\n",
       "      <td>12.022005</td>\n",
       "      <td>3773.0</td>\n",
       "    </tr>\n",
       "    <tr>\n",
       "      <th>4</th>\n",
       "      <td>Arkansas</td>\n",
       "      <td>US</td>\n",
       "      <td>2020-05-21 02:32:54</td>\n",
       "      <td>34.9697</td>\n",
       "      <td>-92.3731</td>\n",
       "      <td>5003</td>\n",
       "      <td>107</td>\n",
       "      <td>3852.0</td>\n",
       "      <td>1044.0</td>\n",
       "      <td>5</td>\n",
       "      <td>165.782801</td>\n",
       "      <td>96258.0</td>\n",
       "      <td>535.0</td>\n",
       "      <td>2.138717</td>\n",
       "      <td>84000005</td>\n",
       "      <td>USA</td>\n",
       "      <td>3189.670370</td>\n",
       "      <td>10.693584</td>\n",
       "      <td>3852.0</td>\n",
       "    </tr>\n",
       "    <tr>\n",
       "      <th>5</th>\n",
       "      <td>California</td>\n",
       "      <td>US</td>\n",
       "      <td>2020-05-21 02:32:54</td>\n",
       "      <td>36.1162</td>\n",
       "      <td>-119.6816</td>\n",
       "      <td>85997</td>\n",
       "      <td>3497</td>\n",
       "      <td>NaN</td>\n",
       "      <td>82500.0</td>\n",
       "      <td>6</td>\n",
       "      <td>217.646575</td>\n",
       "      <td>1380120.0</td>\n",
       "      <td>NaN</td>\n",
       "      <td>4.066421</td>\n",
       "      <td>84000006</td>\n",
       "      <td>USA</td>\n",
       "      <td>3492.893832</td>\n",
       "      <td>NaN</td>\n",
       "      <td>0.0</td>\n",
       "    </tr>\n",
       "    <tr>\n",
       "      <th>6</th>\n",
       "      <td>Colorado</td>\n",
       "      <td>US</td>\n",
       "      <td>2020-05-21 02:32:54</td>\n",
       "      <td>39.0598</td>\n",
       "      <td>-105.3111</td>\n",
       "      <td>22797</td>\n",
       "      <td>1299</td>\n",
       "      <td>3478.0</td>\n",
       "      <td>18020.0</td>\n",
       "      <td>8</td>\n",
       "      <td>395.868121</td>\n",
       "      <td>131837.0</td>\n",
       "      <td>3955.0</td>\n",
       "      <td>5.698118</td>\n",
       "      <td>84000008</td>\n",
       "      <td>USA</td>\n",
       "      <td>2289.339188</td>\n",
       "      <td>17.348774</td>\n",
       "      <td>3478.0</td>\n",
       "    </tr>\n",
       "    <tr>\n",
       "      <th>7</th>\n",
       "      <td>Connecticut</td>\n",
       "      <td>US</td>\n",
       "      <td>2020-05-21 02:32:54</td>\n",
       "      <td>41.5978</td>\n",
       "      <td>-72.7554</td>\n",
       "      <td>39017</td>\n",
       "      <td>3529</td>\n",
       "      <td>6264.0</td>\n",
       "      <td>29224.0</td>\n",
       "      <td>9</td>\n",
       "      <td>1094.357902</td>\n",
       "      <td>190718.0</td>\n",
       "      <td>10946.0</td>\n",
       "      <td>9.044775</td>\n",
       "      <td>84000009</td>\n",
       "      <td>USA</td>\n",
       "      <td>5349.302875</td>\n",
       "      <td>28.054438</td>\n",
       "      <td>6264.0</td>\n",
       "    </tr>\n",
       "    <tr>\n",
       "      <th>8</th>\n",
       "      <td>Delaware</td>\n",
       "      <td>US</td>\n",
       "      <td>2020-05-21 02:32:54</td>\n",
       "      <td>39.3185</td>\n",
       "      <td>-75.5071</td>\n",
       "      <td>8194</td>\n",
       "      <td>310</td>\n",
       "      <td>3965.0</td>\n",
       "      <td>3919.0</td>\n",
       "      <td>10</td>\n",
       "      <td>841.476990</td>\n",
       "      <td>45412.0</td>\n",
       "      <td>NaN</td>\n",
       "      <td>3.783256</td>\n",
       "      <td>84000010</td>\n",
       "      <td>USA</td>\n",
       "      <td>4663.552976</td>\n",
       "      <td>NaN</td>\n",
       "      <td>3965.0</td>\n",
       "    </tr>\n",
       "    <tr>\n",
       "      <th>9</th>\n",
       "      <td>Diamond Princess</td>\n",
       "      <td>US</td>\n",
       "      <td>2020-05-21 02:32:54</td>\n",
       "      <td>NaN</td>\n",
       "      <td>NaN</td>\n",
       "      <td>49</td>\n",
       "      <td>0</td>\n",
       "      <td>NaN</td>\n",
       "      <td>49.0</td>\n",
       "      <td>88888</td>\n",
       "      <td>NaN</td>\n",
       "      <td>NaN</td>\n",
       "      <td>NaN</td>\n",
       "      <td>0.000000</td>\n",
       "      <td>84088888</td>\n",
       "      <td>USA</td>\n",
       "      <td>NaN</td>\n",
       "      <td>NaN</td>\n",
       "      <td>0.0</td>\n",
       "    </tr>\n",
       "  </tbody>\n",
       "</table>\n",
       "</div>"
      ],
      "text/plain": [
       "     Province_State Country_Region          Last_Update      Lat     Long_  \\\n",
       "0           Alabama             US  2020-05-21 02:32:54  32.3182  -86.9023   \n",
       "1            Alaska             US  2020-05-21 02:32:54  61.3707 -152.4044   \n",
       "2    American Samoa             US  2020-05-21 02:32:54 -14.2710 -170.1320   \n",
       "3           Arizona             US  2020-05-21 02:32:54  33.7298 -111.4312   \n",
       "4          Arkansas             US  2020-05-21 02:32:54  34.9697  -92.3731   \n",
       "5        California             US  2020-05-21 02:32:54  36.1162 -119.6816   \n",
       "6          Colorado             US  2020-05-21 02:32:54  39.0598 -105.3111   \n",
       "7       Connecticut             US  2020-05-21 02:32:54  41.5978  -72.7554   \n",
       "8          Delaware             US  2020-05-21 02:32:54  39.3185  -75.5071   \n",
       "9  Diamond Princess             US  2020-05-21 02:32:54      NaN       NaN   \n",
       "\n",
       "   Confirmed  Deaths  Recovered   Active   FIPS  Incident_Rate  People_Tested  \\\n",
       "0      13052     522        NaN  12530.0      1     266.194321       164450.0   \n",
       "1        401      10      352.0     39.0      2      54.815493        37045.0   \n",
       "2          0       0        NaN      0.0     60       0.000000          124.0   \n",
       "3      14906     747     3773.0  10386.0      4     204.788838       165435.0   \n",
       "4       5003     107     3852.0   1044.0      5     165.782801        96258.0   \n",
       "5      85997    3497        NaN  82500.0      6     217.646575      1380120.0   \n",
       "6      22797    1299     3478.0  18020.0      8     395.868121       131837.0   \n",
       "7      39017    3529     6264.0  29224.0      9    1094.357902       190718.0   \n",
       "8       8194     310     3965.0   3919.0     10     841.476990        45412.0   \n",
       "9         49       0        NaN     49.0  88888            NaN            NaN   \n",
       "\n",
       "   People_Hospitalized  Mortality_Rate       UID ISO3  Testing_Rate  \\\n",
       "0               1493.0        3.999387  84000001  USA   3353.942386   \n",
       "1                  NaN        2.493766  84000002  USA   5063.940017   \n",
       "2                  NaN             NaN        16  ASM    222.857246   \n",
       "3               1792.0        5.011405  84000004  USA   2272.859351   \n",
       "4                535.0        2.138717  84000005  USA   3189.670370   \n",
       "5                  NaN        4.066421  84000006  USA   3492.893832   \n",
       "6               3955.0        5.698118  84000008  USA   2289.339188   \n",
       "7              10946.0        9.044775  84000009  USA   5349.302875   \n",
       "8                  NaN        3.783256  84000010  USA   4663.552976   \n",
       "9                  NaN        0.000000  84088888  USA           NaN   \n",
       "\n",
       "   Hospitalization_Rate  Recovered_new  \n",
       "0             11.438860            0.0  \n",
       "1                   NaN          352.0  \n",
       "2                   NaN            0.0  \n",
       "3             12.022005         3773.0  \n",
       "4             10.693584         3852.0  \n",
       "5                   NaN            0.0  \n",
       "6             17.348774         3478.0  \n",
       "7             28.054438         6264.0  \n",
       "8                   NaN         3965.0  \n",
       "9                   NaN            0.0  "
      ]
     },
     "execution_count": 770,
     "metadata": {},
     "output_type": "execute_result"
    }
   ],
   "source": [
    "df.head(10)"
   ]
  },
  {
   "cell_type": "code",
   "execution_count": 771,
   "metadata": {},
   "outputs": [
    {
     "data": {
      "text/plain": [
       "Index(['Province_State', 'Country_Region', 'Last_Update', 'Lat', 'Long_',\n",
       "       'Confirmed', 'Deaths', 'Recovered', 'Active', 'FIPS', 'Incident_Rate',\n",
       "       'People_Tested', 'People_Hospitalized', 'Mortality_Rate', 'UID', 'ISO3',\n",
       "       'Testing_Rate', 'Hospitalization_Rate', 'Recovered_new'],\n",
       "      dtype='object')"
      ]
     },
     "execution_count": 771,
     "metadata": {},
     "output_type": "execute_result"
    }
   ],
   "source": [
    "df.columns"
   ]
  },
  {
   "cell_type": "code",
   "execution_count": 772,
   "metadata": {},
   "outputs": [],
   "source": [
    "#Dropping recovered column\n",
    "df.drop('Recovered',axis=1,inplace=True)"
   ]
  },
  {
   "cell_type": "code",
   "execution_count": 773,
   "metadata": {},
   "outputs": [],
   "source": [
    "#Rearranging columns\n",
    "df=df[['Province_State', 'Country_Region', 'Last_Update', 'Lat', 'Long_',\n",
    "       'Confirmed','Recovered_new', 'Deaths', 'Active', 'FIPS', 'Incident_Rate',\n",
    "       'People_Tested', 'People_Hospitalized', 'Mortality_Rate', 'UID', 'ISO3',\n",
    "       'Testing_Rate', 'Hospitalization_Rate']]"
   ]
  },
  {
   "cell_type": "code",
   "execution_count": 774,
   "metadata": {},
   "outputs": [
    {
     "data": {
      "text/html": [
       "<div>\n",
       "<style scoped>\n",
       "    .dataframe tbody tr th:only-of-type {\n",
       "        vertical-align: middle;\n",
       "    }\n",
       "\n",
       "    .dataframe tbody tr th {\n",
       "        vertical-align: top;\n",
       "    }\n",
       "\n",
       "    .dataframe thead th {\n",
       "        text-align: right;\n",
       "    }\n",
       "</style>\n",
       "<table border=\"1\" class=\"dataframe\">\n",
       "  <thead>\n",
       "    <tr style=\"text-align: right;\">\n",
       "      <th></th>\n",
       "      <th>Province_State</th>\n",
       "      <th>Country_Region</th>\n",
       "      <th>Last_Update</th>\n",
       "      <th>Lat</th>\n",
       "      <th>Long_</th>\n",
       "      <th>Confirmed</th>\n",
       "      <th>Recovered_new</th>\n",
       "      <th>Deaths</th>\n",
       "      <th>Active</th>\n",
       "      <th>FIPS</th>\n",
       "      <th>Incident_Rate</th>\n",
       "      <th>People_Tested</th>\n",
       "      <th>People_Hospitalized</th>\n",
       "      <th>Mortality_Rate</th>\n",
       "      <th>UID</th>\n",
       "      <th>ISO3</th>\n",
       "      <th>Testing_Rate</th>\n",
       "      <th>Hospitalization_Rate</th>\n",
       "    </tr>\n",
       "  </thead>\n",
       "  <tbody>\n",
       "    <tr>\n",
       "      <th>1</th>\n",
       "      <td>Alaska</td>\n",
       "      <td>US</td>\n",
       "      <td>2020-05-21 02:32:54</td>\n",
       "      <td>61.3707</td>\n",
       "      <td>-152.4044</td>\n",
       "      <td>401</td>\n",
       "      <td>352.0</td>\n",
       "      <td>10</td>\n",
       "      <td>39.0</td>\n",
       "      <td>2</td>\n",
       "      <td>54.815493</td>\n",
       "      <td>37045.0</td>\n",
       "      <td>NaN</td>\n",
       "      <td>2.493766</td>\n",
       "      <td>84000002</td>\n",
       "      <td>USA</td>\n",
       "      <td>5063.940017</td>\n",
       "      <td>NaN</td>\n",
       "    </tr>\n",
       "    <tr>\n",
       "      <th>2</th>\n",
       "      <td>American Samoa</td>\n",
       "      <td>US</td>\n",
       "      <td>2020-05-21 02:32:54</td>\n",
       "      <td>-14.2710</td>\n",
       "      <td>-170.1320</td>\n",
       "      <td>0</td>\n",
       "      <td>0.0</td>\n",
       "      <td>0</td>\n",
       "      <td>0.0</td>\n",
       "      <td>60</td>\n",
       "      <td>0.000000</td>\n",
       "      <td>124.0</td>\n",
       "      <td>NaN</td>\n",
       "      <td>NaN</td>\n",
       "      <td>16</td>\n",
       "      <td>ASM</td>\n",
       "      <td>222.857246</td>\n",
       "      <td>NaN</td>\n",
       "    </tr>\n",
       "    <tr>\n",
       "      <th>5</th>\n",
       "      <td>California</td>\n",
       "      <td>US</td>\n",
       "      <td>2020-05-21 02:32:54</td>\n",
       "      <td>36.1162</td>\n",
       "      <td>-119.6816</td>\n",
       "      <td>85997</td>\n",
       "      <td>0.0</td>\n",
       "      <td>3497</td>\n",
       "      <td>82500.0</td>\n",
       "      <td>6</td>\n",
       "      <td>217.646575</td>\n",
       "      <td>1380120.0</td>\n",
       "      <td>NaN</td>\n",
       "      <td>4.066421</td>\n",
       "      <td>84000006</td>\n",
       "      <td>USA</td>\n",
       "      <td>3492.893832</td>\n",
       "      <td>NaN</td>\n",
       "    </tr>\n",
       "    <tr>\n",
       "      <th>8</th>\n",
       "      <td>Delaware</td>\n",
       "      <td>US</td>\n",
       "      <td>2020-05-21 02:32:54</td>\n",
       "      <td>39.3185</td>\n",
       "      <td>-75.5071</td>\n",
       "      <td>8194</td>\n",
       "      <td>3965.0</td>\n",
       "      <td>310</td>\n",
       "      <td>3919.0</td>\n",
       "      <td>10</td>\n",
       "      <td>841.476990</td>\n",
       "      <td>45412.0</td>\n",
       "      <td>NaN</td>\n",
       "      <td>3.783256</td>\n",
       "      <td>84000010</td>\n",
       "      <td>USA</td>\n",
       "      <td>4663.552976</td>\n",
       "      <td>NaN</td>\n",
       "    </tr>\n",
       "    <tr>\n",
       "      <th>9</th>\n",
       "      <td>Diamond Princess</td>\n",
       "      <td>US</td>\n",
       "      <td>2020-05-21 02:32:54</td>\n",
       "      <td>NaN</td>\n",
       "      <td>NaN</td>\n",
       "      <td>49</td>\n",
       "      <td>0.0</td>\n",
       "      <td>0</td>\n",
       "      <td>49.0</td>\n",
       "      <td>88888</td>\n",
       "      <td>NaN</td>\n",
       "      <td>NaN</td>\n",
       "      <td>NaN</td>\n",
       "      <td>0.000000</td>\n",
       "      <td>84088888</td>\n",
       "      <td>USA</td>\n",
       "      <td>NaN</td>\n",
       "      <td>NaN</td>\n",
       "    </tr>\n",
       "    <tr>\n",
       "      <th>10</th>\n",
       "      <td>District of Columbia</td>\n",
       "      <td>US</td>\n",
       "      <td>2020-05-21 02:32:54</td>\n",
       "      <td>38.8974</td>\n",
       "      <td>-77.0268</td>\n",
       "      <td>7551</td>\n",
       "      <td>1059.0</td>\n",
       "      <td>407</td>\n",
       "      <td>6085.0</td>\n",
       "      <td>11</td>\n",
       "      <td>1069.927127</td>\n",
       "      <td>40419.0</td>\n",
       "      <td>NaN</td>\n",
       "      <td>5.390015</td>\n",
       "      <td>84000011</td>\n",
       "      <td>USA</td>\n",
       "      <td>5727.106946</td>\n",
       "      <td>NaN</td>\n",
       "    </tr>\n",
       "    <tr>\n",
       "      <th>13</th>\n",
       "      <td>Grand Princess</td>\n",
       "      <td>US</td>\n",
       "      <td>2020-05-21 02:32:54</td>\n",
       "      <td>NaN</td>\n",
       "      <td>NaN</td>\n",
       "      <td>103</td>\n",
       "      <td>0.0</td>\n",
       "      <td>3</td>\n",
       "      <td>100.0</td>\n",
       "      <td>99999</td>\n",
       "      <td>NaN</td>\n",
       "      <td>NaN</td>\n",
       "      <td>NaN</td>\n",
       "      <td>2.912621</td>\n",
       "      <td>84099999</td>\n",
       "      <td>USA</td>\n",
       "      <td>NaN</td>\n",
       "      <td>NaN</td>\n",
       "    </tr>\n",
       "    <tr>\n",
       "      <th>14</th>\n",
       "      <td>Guam</td>\n",
       "      <td>US</td>\n",
       "      <td>2020-05-21 02:32:54</td>\n",
       "      <td>13.4443</td>\n",
       "      <td>144.7937</td>\n",
       "      <td>154</td>\n",
       "      <td>125.0</td>\n",
       "      <td>5</td>\n",
       "      <td>24.0</td>\n",
       "      <td>66</td>\n",
       "      <td>93.771502</td>\n",
       "      <td>4972.0</td>\n",
       "      <td>NaN</td>\n",
       "      <td>3.246753</td>\n",
       "      <td>316</td>\n",
       "      <td>GUM</td>\n",
       "      <td>3027.479921</td>\n",
       "      <td>NaN</td>\n",
       "    </tr>\n",
       "    <tr>\n",
       "      <th>17</th>\n",
       "      <td>Illinois</td>\n",
       "      <td>US</td>\n",
       "      <td>2020-05-21 02:32:54</td>\n",
       "      <td>40.3495</td>\n",
       "      <td>-88.9861</td>\n",
       "      <td>100418</td>\n",
       "      <td>0.0</td>\n",
       "      <td>4525</td>\n",
       "      <td>95893.0</td>\n",
       "      <td>17</td>\n",
       "      <td>792.451219</td>\n",
       "      <td>642713.0</td>\n",
       "      <td>NaN</td>\n",
       "      <td>4.506164</td>\n",
       "      <td>84000017</td>\n",
       "      <td>USA</td>\n",
       "      <td>5071.986102</td>\n",
       "      <td>NaN</td>\n",
       "    </tr>\n",
       "    <tr>\n",
       "      <th>19</th>\n",
       "      <td>Iowa</td>\n",
       "      <td>US</td>\n",
       "      <td>2020-05-21 02:32:54</td>\n",
       "      <td>42.0115</td>\n",
       "      <td>-93.2105</td>\n",
       "      <td>15620</td>\n",
       "      <td>8362.0</td>\n",
       "      <td>393</td>\n",
       "      <td>6865.0</td>\n",
       "      <td>19</td>\n",
       "      <td>495.076179</td>\n",
       "      <td>110748.0</td>\n",
       "      <td>NaN</td>\n",
       "      <td>2.516005</td>\n",
       "      <td>84000019</td>\n",
       "      <td>USA</td>\n",
       "      <td>3510.159838</td>\n",
       "      <td>NaN</td>\n",
       "    </tr>\n",
       "    <tr>\n",
       "      <th>22</th>\n",
       "      <td>Louisiana</td>\n",
       "      <td>US</td>\n",
       "      <td>2020-05-21 02:32:54</td>\n",
       "      <td>31.1695</td>\n",
       "      <td>-91.8678</td>\n",
       "      <td>35316</td>\n",
       "      <td>26249.0</td>\n",
       "      <td>2608</td>\n",
       "      <td>6459.0</td>\n",
       "      <td>22</td>\n",
       "      <td>759.680898</td>\n",
       "      <td>285970.0</td>\n",
       "      <td>NaN</td>\n",
       "      <td>7.384755</td>\n",
       "      <td>84000022</td>\n",
       "      <td>USA</td>\n",
       "      <td>6151.487891</td>\n",
       "      <td>NaN</td>\n",
       "    </tr>\n",
       "    <tr>\n",
       "      <th>26</th>\n",
       "      <td>Michigan</td>\n",
       "      <td>US</td>\n",
       "      <td>2020-05-21 02:32:54</td>\n",
       "      <td>43.3266</td>\n",
       "      <td>-84.5361</td>\n",
       "      <td>53009</td>\n",
       "      <td>28234.0</td>\n",
       "      <td>5060</td>\n",
       "      <td>19715.0</td>\n",
       "      <td>26</td>\n",
       "      <td>530.787614</td>\n",
       "      <td>437072.0</td>\n",
       "      <td>NaN</td>\n",
       "      <td>9.545549</td>\n",
       "      <td>84000026</td>\n",
       "      <td>USA</td>\n",
       "      <td>4376.471997</td>\n",
       "      <td>NaN</td>\n",
       "    </tr>\n",
       "    <tr>\n",
       "      <th>29</th>\n",
       "      <td>Missouri</td>\n",
       "      <td>US</td>\n",
       "      <td>2020-05-21 02:32:54</td>\n",
       "      <td>38.4561</td>\n",
       "      <td>-92.2884</td>\n",
       "      <td>11528</td>\n",
       "      <td>0.0</td>\n",
       "      <td>640</td>\n",
       "      <td>10888.0</td>\n",
       "      <td>29</td>\n",
       "      <td>187.831124</td>\n",
       "      <td>161984.0</td>\n",
       "      <td>NaN</td>\n",
       "      <td>5.551700</td>\n",
       "      <td>84000029</td>\n",
       "      <td>USA</td>\n",
       "      <td>2639.281471</td>\n",
       "      <td>NaN</td>\n",
       "    </tr>\n",
       "    <tr>\n",
       "      <th>31</th>\n",
       "      <td>Nebraska</td>\n",
       "      <td>US</td>\n",
       "      <td>2020-05-21 02:32:54</td>\n",
       "      <td>41.1254</td>\n",
       "      <td>-98.2681</td>\n",
       "      <td>11122</td>\n",
       "      <td>0.0</td>\n",
       "      <td>138</td>\n",
       "      <td>10984.0</td>\n",
       "      <td>31</td>\n",
       "      <td>574.956266</td>\n",
       "      <td>72135.0</td>\n",
       "      <td>NaN</td>\n",
       "      <td>1.240784</td>\n",
       "      <td>84000031</td>\n",
       "      <td>USA</td>\n",
       "      <td>3729.047853</td>\n",
       "      <td>NaN</td>\n",
       "    </tr>\n",
       "    <tr>\n",
       "      <th>32</th>\n",
       "      <td>Nevada</td>\n",
       "      <td>US</td>\n",
       "      <td>2020-05-21 02:32:54</td>\n",
       "      <td>38.3135</td>\n",
       "      <td>-117.0554</td>\n",
       "      <td>7388</td>\n",
       "      <td>336.0</td>\n",
       "      <td>377</td>\n",
       "      <td>6675.0</td>\n",
       "      <td>32</td>\n",
       "      <td>239.857981</td>\n",
       "      <td>91171.0</td>\n",
       "      <td>NaN</td>\n",
       "      <td>5.102870</td>\n",
       "      <td>84000032</td>\n",
       "      <td>USA</td>\n",
       "      <td>2959.947483</td>\n",
       "      <td>NaN</td>\n",
       "    </tr>\n",
       "    <tr>\n",
       "      <th>34</th>\n",
       "      <td>New Jersey</td>\n",
       "      <td>US</td>\n",
       "      <td>2020-05-21 02:32:54</td>\n",
       "      <td>40.2989</td>\n",
       "      <td>-74.5210</td>\n",
       "      <td>150776</td>\n",
       "      <td>23945.0</td>\n",
       "      <td>10749</td>\n",
       "      <td>116082.0</td>\n",
       "      <td>34</td>\n",
       "      <td>1697.509285</td>\n",
       "      <td>531343.0</td>\n",
       "      <td>NaN</td>\n",
       "      <td>7.129119</td>\n",
       "      <td>84000034</td>\n",
       "      <td>USA</td>\n",
       "      <td>5982.117023</td>\n",
       "      <td>NaN</td>\n",
       "    </tr>\n",
       "    <tr>\n",
       "      <th>37</th>\n",
       "      <td>North Carolina</td>\n",
       "      <td>US</td>\n",
       "      <td>2020-05-21 02:32:54</td>\n",
       "      <td>35.6301</td>\n",
       "      <td>-79.8064</td>\n",
       "      <td>20262</td>\n",
       "      <td>11637.0</td>\n",
       "      <td>726</td>\n",
       "      <td>7899.0</td>\n",
       "      <td>37</td>\n",
       "      <td>193.190672</td>\n",
       "      <td>277603.0</td>\n",
       "      <td>NaN</td>\n",
       "      <td>3.583062</td>\n",
       "      <td>84000037</td>\n",
       "      <td>USA</td>\n",
       "      <td>2646.841883</td>\n",
       "      <td>NaN</td>\n",
       "    </tr>\n",
       "    <tr>\n",
       "      <th>39</th>\n",
       "      <td>Northern Mariana Islands</td>\n",
       "      <td>US</td>\n",
       "      <td>2020-05-21 02:32:54</td>\n",
       "      <td>15.0979</td>\n",
       "      <td>145.6739</td>\n",
       "      <td>21</td>\n",
       "      <td>13.0</td>\n",
       "      <td>2</td>\n",
       "      <td>6.0</td>\n",
       "      <td>69</td>\n",
       "      <td>38.082112</td>\n",
       "      <td>3817.0</td>\n",
       "      <td>NaN</td>\n",
       "      <td>9.523810</td>\n",
       "      <td>580</td>\n",
       "      <td>MNP</td>\n",
       "      <td>6921.877267</td>\n",
       "      <td>NaN</td>\n",
       "    </tr>\n",
       "    <tr>\n",
       "      <th>43</th>\n",
       "      <td>Pennsylvania</td>\n",
       "      <td>US</td>\n",
       "      <td>2020-05-21 02:32:54</td>\n",
       "      <td>40.5908</td>\n",
       "      <td>-77.2098</td>\n",
       "      <td>68126</td>\n",
       "      <td>0.0</td>\n",
       "      <td>4770</td>\n",
       "      <td>63356.0</td>\n",
       "      <td>42</td>\n",
       "      <td>532.151684</td>\n",
       "      <td>349700.0</td>\n",
       "      <td>NaN</td>\n",
       "      <td>7.001732</td>\n",
       "      <td>84000042</td>\n",
       "      <td>USA</td>\n",
       "      <td>2731.606784</td>\n",
       "      <td>NaN</td>\n",
       "    </tr>\n",
       "    <tr>\n",
       "      <th>44</th>\n",
       "      <td>Puerto Rico</td>\n",
       "      <td>US</td>\n",
       "      <td>2020-05-21 02:32:54</td>\n",
       "      <td>18.2208</td>\n",
       "      <td>-66.5901</td>\n",
       "      <td>2866</td>\n",
       "      <td>0.0</td>\n",
       "      <td>125</td>\n",
       "      <td>2741.0</td>\n",
       "      <td>72</td>\n",
       "      <td>97.702058</td>\n",
       "      <td>2866.0</td>\n",
       "      <td>NaN</td>\n",
       "      <td>4.361479</td>\n",
       "      <td>630</td>\n",
       "      <td>PRI</td>\n",
       "      <td>97.702058</td>\n",
       "      <td>NaN</td>\n",
       "    </tr>\n",
       "    <tr>\n",
       "      <th>49</th>\n",
       "      <td>Texas</td>\n",
       "      <td>US</td>\n",
       "      <td>2020-05-21 02:32:54</td>\n",
       "      <td>31.0545</td>\n",
       "      <td>-97.5635</td>\n",
       "      <td>51673</td>\n",
       "      <td>30341.0</td>\n",
       "      <td>1426</td>\n",
       "      <td>19906.0</td>\n",
       "      <td>48</td>\n",
       "      <td>178.208070</td>\n",
       "      <td>770241.0</td>\n",
       "      <td>NaN</td>\n",
       "      <td>2.759662</td>\n",
       "      <td>84000048</td>\n",
       "      <td>USA</td>\n",
       "      <td>2656.380746</td>\n",
       "      <td>NaN</td>\n",
       "    </tr>\n",
       "    <tr>\n",
       "      <th>51</th>\n",
       "      <td>Vermont</td>\n",
       "      <td>US</td>\n",
       "      <td>2020-05-21 02:32:54</td>\n",
       "      <td>44.0459</td>\n",
       "      <td>-72.7107</td>\n",
       "      <td>944</td>\n",
       "      <td>824.0</td>\n",
       "      <td>54</td>\n",
       "      <td>66.0</td>\n",
       "      <td>50</td>\n",
       "      <td>151.284718</td>\n",
       "      <td>25058.0</td>\n",
       "      <td>NaN</td>\n",
       "      <td>5.720339</td>\n",
       "      <td>84000050</td>\n",
       "      <td>USA</td>\n",
       "      <td>4015.775919</td>\n",
       "      <td>NaN</td>\n",
       "    </tr>\n",
       "    <tr>\n",
       "      <th>52</th>\n",
       "      <td>Virgin Islands</td>\n",
       "      <td>US</td>\n",
       "      <td>2020-05-21 02:32:54</td>\n",
       "      <td>18.3358</td>\n",
       "      <td>-64.8963</td>\n",
       "      <td>69</td>\n",
       "      <td>61.0</td>\n",
       "      <td>6</td>\n",
       "      <td>2.0</td>\n",
       "      <td>78</td>\n",
       "      <td>64.324869</td>\n",
       "      <td>1383.0</td>\n",
       "      <td>NaN</td>\n",
       "      <td>8.695652</td>\n",
       "      <td>850</td>\n",
       "      <td>VIR</td>\n",
       "      <td>1289.294104</td>\n",
       "      <td>NaN</td>\n",
       "    </tr>\n",
       "    <tr>\n",
       "      <th>54</th>\n",
       "      <td>Washington</td>\n",
       "      <td>US</td>\n",
       "      <td>2020-05-21 02:32:54</td>\n",
       "      <td>47.4009</td>\n",
       "      <td>-121.4905</td>\n",
       "      <td>18971</td>\n",
       "      <td>0.0</td>\n",
       "      <td>1037</td>\n",
       "      <td>17934.0</td>\n",
       "      <td>53</td>\n",
       "      <td>249.130224</td>\n",
       "      <td>293120.0</td>\n",
       "      <td>NaN</td>\n",
       "      <td>5.466238</td>\n",
       "      <td>84000053</td>\n",
       "      <td>USA</td>\n",
       "      <td>3849.298999</td>\n",
       "      <td>NaN</td>\n",
       "    </tr>\n",
       "    <tr>\n",
       "      <th>55</th>\n",
       "      <td>West Virginia</td>\n",
       "      <td>US</td>\n",
       "      <td>2020-05-21 02:32:54</td>\n",
       "      <td>38.4912</td>\n",
       "      <td>-80.9545</td>\n",
       "      <td>1567</td>\n",
       "      <td>950.0</td>\n",
       "      <td>69</td>\n",
       "      <td>548.0</td>\n",
       "      <td>54</td>\n",
       "      <td>87.437024</td>\n",
       "      <td>80641.0</td>\n",
       "      <td>NaN</td>\n",
       "      <td>4.403318</td>\n",
       "      <td>84000054</td>\n",
       "      <td>USA</td>\n",
       "      <td>4499.686689</td>\n",
       "      <td>NaN</td>\n",
       "    </tr>\n",
       "  </tbody>\n",
       "</table>\n",
       "</div>"
      ],
      "text/plain": [
       "              Province_State Country_Region          Last_Update      Lat  \\\n",
       "1                     Alaska             US  2020-05-21 02:32:54  61.3707   \n",
       "2             American Samoa             US  2020-05-21 02:32:54 -14.2710   \n",
       "5                 California             US  2020-05-21 02:32:54  36.1162   \n",
       "8                   Delaware             US  2020-05-21 02:32:54  39.3185   \n",
       "9           Diamond Princess             US  2020-05-21 02:32:54      NaN   \n",
       "10      District of Columbia             US  2020-05-21 02:32:54  38.8974   \n",
       "13            Grand Princess             US  2020-05-21 02:32:54      NaN   \n",
       "14                      Guam             US  2020-05-21 02:32:54  13.4443   \n",
       "17                  Illinois             US  2020-05-21 02:32:54  40.3495   \n",
       "19                      Iowa             US  2020-05-21 02:32:54  42.0115   \n",
       "22                 Louisiana             US  2020-05-21 02:32:54  31.1695   \n",
       "26                  Michigan             US  2020-05-21 02:32:54  43.3266   \n",
       "29                  Missouri             US  2020-05-21 02:32:54  38.4561   \n",
       "31                  Nebraska             US  2020-05-21 02:32:54  41.1254   \n",
       "32                    Nevada             US  2020-05-21 02:32:54  38.3135   \n",
       "34                New Jersey             US  2020-05-21 02:32:54  40.2989   \n",
       "37            North Carolina             US  2020-05-21 02:32:54  35.6301   \n",
       "39  Northern Mariana Islands             US  2020-05-21 02:32:54  15.0979   \n",
       "43              Pennsylvania             US  2020-05-21 02:32:54  40.5908   \n",
       "44               Puerto Rico             US  2020-05-21 02:32:54  18.2208   \n",
       "49                     Texas             US  2020-05-21 02:32:54  31.0545   \n",
       "51                   Vermont             US  2020-05-21 02:32:54  44.0459   \n",
       "52            Virgin Islands             US  2020-05-21 02:32:54  18.3358   \n",
       "54                Washington             US  2020-05-21 02:32:54  47.4009   \n",
       "55             West Virginia             US  2020-05-21 02:32:54  38.4912   \n",
       "\n",
       "       Long_  Confirmed  Recovered_new  Deaths    Active   FIPS  \\\n",
       "1  -152.4044        401          352.0      10      39.0      2   \n",
       "2  -170.1320          0            0.0       0       0.0     60   \n",
       "5  -119.6816      85997            0.0    3497   82500.0      6   \n",
       "8   -75.5071       8194         3965.0     310    3919.0     10   \n",
       "9        NaN         49            0.0       0      49.0  88888   \n",
       "10  -77.0268       7551         1059.0     407    6085.0     11   \n",
       "13       NaN        103            0.0       3     100.0  99999   \n",
       "14  144.7937        154          125.0       5      24.0     66   \n",
       "17  -88.9861     100418            0.0    4525   95893.0     17   \n",
       "19  -93.2105      15620         8362.0     393    6865.0     19   \n",
       "22  -91.8678      35316        26249.0    2608    6459.0     22   \n",
       "26  -84.5361      53009        28234.0    5060   19715.0     26   \n",
       "29  -92.2884      11528            0.0     640   10888.0     29   \n",
       "31  -98.2681      11122            0.0     138   10984.0     31   \n",
       "32 -117.0554       7388          336.0     377    6675.0     32   \n",
       "34  -74.5210     150776        23945.0   10749  116082.0     34   \n",
       "37  -79.8064      20262        11637.0     726    7899.0     37   \n",
       "39  145.6739         21           13.0       2       6.0     69   \n",
       "43  -77.2098      68126            0.0    4770   63356.0     42   \n",
       "44  -66.5901       2866            0.0     125    2741.0     72   \n",
       "49  -97.5635      51673        30341.0    1426   19906.0     48   \n",
       "51  -72.7107        944          824.0      54      66.0     50   \n",
       "52  -64.8963         69           61.0       6       2.0     78   \n",
       "54 -121.4905      18971            0.0    1037   17934.0     53   \n",
       "55  -80.9545       1567          950.0      69     548.0     54   \n",
       "\n",
       "    Incident_Rate  People_Tested  People_Hospitalized  Mortality_Rate  \\\n",
       "1       54.815493        37045.0                  NaN        2.493766   \n",
       "2        0.000000          124.0                  NaN             NaN   \n",
       "5      217.646575      1380120.0                  NaN        4.066421   \n",
       "8      841.476990        45412.0                  NaN        3.783256   \n",
       "9             NaN            NaN                  NaN        0.000000   \n",
       "10    1069.927127        40419.0                  NaN        5.390015   \n",
       "13            NaN            NaN                  NaN        2.912621   \n",
       "14      93.771502         4972.0                  NaN        3.246753   \n",
       "17     792.451219       642713.0                  NaN        4.506164   \n",
       "19     495.076179       110748.0                  NaN        2.516005   \n",
       "22     759.680898       285970.0                  NaN        7.384755   \n",
       "26     530.787614       437072.0                  NaN        9.545549   \n",
       "29     187.831124       161984.0                  NaN        5.551700   \n",
       "31     574.956266        72135.0                  NaN        1.240784   \n",
       "32     239.857981        91171.0                  NaN        5.102870   \n",
       "34    1697.509285       531343.0                  NaN        7.129119   \n",
       "37     193.190672       277603.0                  NaN        3.583062   \n",
       "39      38.082112         3817.0                  NaN        9.523810   \n",
       "43     532.151684       349700.0                  NaN        7.001732   \n",
       "44      97.702058         2866.0                  NaN        4.361479   \n",
       "49     178.208070       770241.0                  NaN        2.759662   \n",
       "51     151.284718        25058.0                  NaN        5.720339   \n",
       "52      64.324869         1383.0                  NaN        8.695652   \n",
       "54     249.130224       293120.0                  NaN        5.466238   \n",
       "55      87.437024        80641.0                  NaN        4.403318   \n",
       "\n",
       "         UID ISO3  Testing_Rate  Hospitalization_Rate  \n",
       "1   84000002  USA   5063.940017                   NaN  \n",
       "2         16  ASM    222.857246                   NaN  \n",
       "5   84000006  USA   3492.893832                   NaN  \n",
       "8   84000010  USA   4663.552976                   NaN  \n",
       "9   84088888  USA           NaN                   NaN  \n",
       "10  84000011  USA   5727.106946                   NaN  \n",
       "13  84099999  USA           NaN                   NaN  \n",
       "14       316  GUM   3027.479921                   NaN  \n",
       "17  84000017  USA   5071.986102                   NaN  \n",
       "19  84000019  USA   3510.159838                   NaN  \n",
       "22  84000022  USA   6151.487891                   NaN  \n",
       "26  84000026  USA   4376.471997                   NaN  \n",
       "29  84000029  USA   2639.281471                   NaN  \n",
       "31  84000031  USA   3729.047853                   NaN  \n",
       "32  84000032  USA   2959.947483                   NaN  \n",
       "34  84000034  USA   5982.117023                   NaN  \n",
       "37  84000037  USA   2646.841883                   NaN  \n",
       "39       580  MNP   6921.877267                   NaN  \n",
       "43  84000042  USA   2731.606784                   NaN  \n",
       "44       630  PRI     97.702058                   NaN  \n",
       "49  84000048  USA   2656.380746                   NaN  \n",
       "51  84000050  USA   4015.775919                   NaN  \n",
       "52       850  VIR   1289.294104                   NaN  \n",
       "54  84000053  USA   3849.298999                   NaN  \n",
       "55  84000054  USA   4499.686689                   NaN  "
      ]
     },
     "execution_count": 774,
     "metadata": {},
     "output_type": "execute_result"
    }
   ],
   "source": [
    "#checking nan values in each row\n",
    "df[pd.isnull(df).any(axis = 1)]"
   ]
  },
  {
   "cell_type": "code",
   "execution_count": 775,
   "metadata": {},
   "outputs": [],
   "source": [
    "#Removing Two rows from dataframe\n",
    "df.drop(df[df['Province_State'] == 'Diamond Princess'].index, inplace = True) \n",
    "df.drop(df[df['Province_State'] == 'Grand Princess'].index, inplace = True) "
   ]
  },
  {
   "cell_type": "markdown",
   "metadata": {},
   "source": [
    "Reason :"
   ]
  },
  {
   "cell_type": "markdown",
   "metadata": {},
   "source": [
    "Removed above two rows because we don't have total population data, so we cannot calculate incident rate and people tested data also missing, so  we cannot calulate testing rate."
   ]
  },
  {
   "cell_type": "code",
   "execution_count": 776,
   "metadata": {},
   "outputs": [
    {
     "data": {
      "text/plain": [
       "Province_State           0\n",
       "Country_Region           0\n",
       "Last_Update              0\n",
       "Lat                      0\n",
       "Long_                    0\n",
       "Confirmed                0\n",
       "Recovered_new            0\n",
       "Deaths                   0\n",
       "Active                   0\n",
       "FIPS                     0\n",
       "Incident_Rate            0\n",
       "People_Tested            0\n",
       "People_Hospitalized     23\n",
       "Mortality_Rate           1\n",
       "UID                      0\n",
       "ISO3                     0\n",
       "Testing_Rate             0\n",
       "Hospitalization_Rate    23\n",
       "dtype: int64"
      ]
     },
     "execution_count": 776,
     "metadata": {},
     "output_type": "execute_result"
    }
   ],
   "source": [
    "df.isnull().sum()"
   ]
  },
  {
   "cell_type": "code",
   "execution_count": 777,
   "metadata": {},
   "outputs": [],
   "source": [
    "#filling nan values for Moratlity Rate\n",
    "df['Mortality_Rate'] = df['Mortality_Rate'].fillna(0)"
   ]
  },
  {
   "cell_type": "markdown",
   "metadata": {},
   "source": [
    "Reason :"
   ]
  },
  {
   "cell_type": "markdown",
   "metadata": {},
   "source": [
    "American Samoa don't have confirmed case and death, so moratality rate will be zero."
   ]
  },
  {
   "cell_type": "markdown",
   "metadata": {},
   "source": [
    "### Removing Columns"
   ]
  },
  {
   "cell_type": "code",
   "execution_count": 778,
   "metadata": {},
   "outputs": [],
   "source": [
    "#droping column People_Hospitalized and Hospitalization_Rate\n",
    "df.drop(['People_Hospitalized','Hospitalization_Rate'],axis=1,inplace=True)"
   ]
  },
  {
   "cell_type": "markdown",
   "metadata": {},
   "source": [
    "Reason :`"
   ]
  },
  {
   "cell_type": "markdown",
   "metadata": {},
   "source": [
    "People_Hospitalized and Hospitalization_Rate don't have cumulative data in covid tracking project, so they are removed."
   ]
  },
  {
   "cell_type": "code",
   "execution_count": 779,
   "metadata": {},
   "outputs": [
    {
     "data": {
      "text/html": [
       "<div>\n",
       "<style scoped>\n",
       "    .dataframe tbody tr th:only-of-type {\n",
       "        vertical-align: middle;\n",
       "    }\n",
       "\n",
       "    .dataframe tbody tr th {\n",
       "        vertical-align: top;\n",
       "    }\n",
       "\n",
       "    .dataframe thead th {\n",
       "        text-align: right;\n",
       "    }\n",
       "</style>\n",
       "<table border=\"1\" class=\"dataframe\">\n",
       "  <thead>\n",
       "    <tr style=\"text-align: right;\">\n",
       "      <th></th>\n",
       "      <th>Province_State</th>\n",
       "      <th>Country_Region</th>\n",
       "      <th>Last_Update</th>\n",
       "      <th>Lat</th>\n",
       "      <th>Long_</th>\n",
       "      <th>Confirmed</th>\n",
       "      <th>Recovered_new</th>\n",
       "      <th>Deaths</th>\n",
       "      <th>Active</th>\n",
       "      <th>FIPS</th>\n",
       "      <th>Incident_Rate</th>\n",
       "      <th>People_Tested</th>\n",
       "      <th>Mortality_Rate</th>\n",
       "      <th>UID</th>\n",
       "      <th>ISO3</th>\n",
       "      <th>Testing_Rate</th>\n",
       "    </tr>\n",
       "  </thead>\n",
       "  <tbody>\n",
       "    <tr>\n",
       "      <th>0</th>\n",
       "      <td>Alabama</td>\n",
       "      <td>US</td>\n",
       "      <td>2020-05-21 02:32:54</td>\n",
       "      <td>32.3182</td>\n",
       "      <td>-86.9023</td>\n",
       "      <td>13052</td>\n",
       "      <td>0.0</td>\n",
       "      <td>522</td>\n",
       "      <td>12530.0</td>\n",
       "      <td>1</td>\n",
       "      <td>266.194321</td>\n",
       "      <td>164450.0</td>\n",
       "      <td>3.999387</td>\n",
       "      <td>84000001</td>\n",
       "      <td>USA</td>\n",
       "      <td>3353.942386</td>\n",
       "    </tr>\n",
       "    <tr>\n",
       "      <th>1</th>\n",
       "      <td>Alaska</td>\n",
       "      <td>US</td>\n",
       "      <td>2020-05-21 02:32:54</td>\n",
       "      <td>61.3707</td>\n",
       "      <td>-152.4044</td>\n",
       "      <td>401</td>\n",
       "      <td>352.0</td>\n",
       "      <td>10</td>\n",
       "      <td>39.0</td>\n",
       "      <td>2</td>\n",
       "      <td>54.815493</td>\n",
       "      <td>37045.0</td>\n",
       "      <td>2.493766</td>\n",
       "      <td>84000002</td>\n",
       "      <td>USA</td>\n",
       "      <td>5063.940017</td>\n",
       "    </tr>\n",
       "    <tr>\n",
       "      <th>2</th>\n",
       "      <td>American Samoa</td>\n",
       "      <td>US</td>\n",
       "      <td>2020-05-21 02:32:54</td>\n",
       "      <td>-14.2710</td>\n",
       "      <td>-170.1320</td>\n",
       "      <td>0</td>\n",
       "      <td>0.0</td>\n",
       "      <td>0</td>\n",
       "      <td>0.0</td>\n",
       "      <td>60</td>\n",
       "      <td>0.000000</td>\n",
       "      <td>124.0</td>\n",
       "      <td>0.000000</td>\n",
       "      <td>16</td>\n",
       "      <td>ASM</td>\n",
       "      <td>222.857246</td>\n",
       "    </tr>\n",
       "    <tr>\n",
       "      <th>3</th>\n",
       "      <td>Arizona</td>\n",
       "      <td>US</td>\n",
       "      <td>2020-05-21 02:32:54</td>\n",
       "      <td>33.7298</td>\n",
       "      <td>-111.4312</td>\n",
       "      <td>14906</td>\n",
       "      <td>3773.0</td>\n",
       "      <td>747</td>\n",
       "      <td>10386.0</td>\n",
       "      <td>4</td>\n",
       "      <td>204.788838</td>\n",
       "      <td>165435.0</td>\n",
       "      <td>5.011405</td>\n",
       "      <td>84000004</td>\n",
       "      <td>USA</td>\n",
       "      <td>2272.859351</td>\n",
       "    </tr>\n",
       "    <tr>\n",
       "      <th>4</th>\n",
       "      <td>Arkansas</td>\n",
       "      <td>US</td>\n",
       "      <td>2020-05-21 02:32:54</td>\n",
       "      <td>34.9697</td>\n",
       "      <td>-92.3731</td>\n",
       "      <td>5003</td>\n",
       "      <td>3852.0</td>\n",
       "      <td>107</td>\n",
       "      <td>1044.0</td>\n",
       "      <td>5</td>\n",
       "      <td>165.782801</td>\n",
       "      <td>96258.0</td>\n",
       "      <td>2.138717</td>\n",
       "      <td>84000005</td>\n",
       "      <td>USA</td>\n",
       "      <td>3189.670370</td>\n",
       "    </tr>\n",
       "  </tbody>\n",
       "</table>\n",
       "</div>"
      ],
      "text/plain": [
       "   Province_State Country_Region          Last_Update      Lat     Long_  \\\n",
       "0         Alabama             US  2020-05-21 02:32:54  32.3182  -86.9023   \n",
       "1          Alaska             US  2020-05-21 02:32:54  61.3707 -152.4044   \n",
       "2  American Samoa             US  2020-05-21 02:32:54 -14.2710 -170.1320   \n",
       "3         Arizona             US  2020-05-21 02:32:54  33.7298 -111.4312   \n",
       "4        Arkansas             US  2020-05-21 02:32:54  34.9697  -92.3731   \n",
       "\n",
       "   Confirmed  Recovered_new  Deaths   Active  FIPS  Incident_Rate  \\\n",
       "0      13052            0.0     522  12530.0     1     266.194321   \n",
       "1        401          352.0      10     39.0     2      54.815493   \n",
       "2          0            0.0       0      0.0    60       0.000000   \n",
       "3      14906         3773.0     747  10386.0     4     204.788838   \n",
       "4       5003         3852.0     107   1044.0     5     165.782801   \n",
       "\n",
       "   People_Tested  Mortality_Rate       UID ISO3  Testing_Rate  \n",
       "0       164450.0        3.999387  84000001  USA   3353.942386  \n",
       "1        37045.0        2.493766  84000002  USA   5063.940017  \n",
       "2          124.0        0.000000        16  ASM    222.857246  \n",
       "3       165435.0        5.011405  84000004  USA   2272.859351  \n",
       "4        96258.0        2.138717  84000005  USA   3189.670370  "
      ]
     },
     "execution_count": 779,
     "metadata": {},
     "output_type": "execute_result"
    }
   ],
   "source": [
    "df.head()"
   ]
  },
  {
   "cell_type": "code",
   "execution_count": 780,
   "metadata": {},
   "outputs": [
    {
     "name": "stdout",
     "output_type": "stream",
     "text": [
      "New Mexico                  1\n",
      "New York                    1\n",
      "Wyoming                     1\n",
      "District of Columbia        1\n",
      "Puerto Rico                 1\n",
      "Colorado                    1\n",
      "South Dakota                1\n",
      "Rhode Island                1\n",
      "Arizona                     1\n",
      "Maine                       1\n",
      "Pennsylvania                1\n",
      "Iowa                        1\n",
      "Virgin Islands              1\n",
      "Florida                     1\n",
      "Minnesota                   1\n",
      "Kansas                      1\n",
      "Washington                  1\n",
      "Connecticut                 1\n",
      "Guam                        1\n",
      "South Carolina              1\n",
      "Alaska                      1\n",
      "Louisiana                   1\n",
      "Montana                     1\n",
      "Alabama                     1\n",
      "Virginia                    1\n",
      "Nevada                      1\n",
      "Nebraska                    1\n",
      "American Samoa              1\n",
      "Utah                        1\n",
      "Kentucky                    1\n",
      "Oklahoma                    1\n",
      "Arkansas                    1\n",
      "North Carolina              1\n",
      "Michigan                    1\n",
      "Georgia                     1\n",
      "Massachusetts               1\n",
      "New Hampshire               1\n",
      "Missouri                    1\n",
      "Vermont                     1\n",
      "Texas                       1\n",
      "Oregon                      1\n",
      "Tennessee                   1\n",
      "Wisconsin                   1\n",
      "Delaware                    1\n",
      "Mississippi                 1\n",
      "North Dakota                1\n",
      "Hawaii                      1\n",
      "Indiana                     1\n",
      "New Jersey                  1\n",
      "Illinois                    1\n",
      "Idaho                       1\n",
      "Maryland                    1\n",
      "California                  1\n",
      "West Virginia               1\n",
      "Northern Mariana Islands    1\n",
      "Ohio                        1\n",
      "Name: Province_State, dtype: int64\n",
      "------------------------------------------------------------------------------------\n",
      "US    56\n",
      "Name: Country_Region, dtype: int64\n",
      "------------------------------------------------------------------------------------\n",
      "2020-05-21 02:32:54    56\n",
      "Name: Last_Update, dtype: int64\n",
      "------------------------------------------------------------------------------------\n",
      "USA    51\n",
      "MNP     1\n",
      "PRI     1\n",
      "ASM     1\n",
      "GUM     1\n",
      "VIR     1\n",
      "Name: ISO3, dtype: int64\n",
      "------------------------------------------------------------------------------------\n"
     ]
    }
   ],
   "source": [
    "#Finding unique values in objects\n",
    "obj_col=['Province_State', 'Country_Region', 'Last_Update', 'ISO3']\n",
    "for oc in obj_col:\n",
    "    print(df[oc].value_counts())\n",
    "    print('------------------------------------------------------------------------------------')"
   ]
  },
  {
   "cell_type": "markdown",
   "metadata": {},
   "source": [
    "Observation:"
   ]
  },
  {
   "cell_type": "markdown",
   "metadata": {},
   "source": [
    "Province State has different unique values."
   ]
  },
  {
   "cell_type": "markdown",
   "metadata": {},
   "source": [
    "Country_Region is US for all rows."
   ]
  },
  {
   "cell_type": "markdown",
   "metadata": {},
   "source": [
    "ISO has US for most of the rows."
   ]
  },
  {
   "cell_type": "markdown",
   "metadata": {},
   "source": [
    "Last Update has constant value for all rows."
   ]
  },
  {
   "cell_type": "code",
   "execution_count": 781,
   "metadata": {},
   "outputs": [],
   "source": [
    "#Dropping Last Update, Country_Region, UID\n",
    "df.drop(['Country_Region', 'UID', 'FIPS'],axis=1,inplace=True)"
   ]
  },
  {
   "cell_type": "code",
   "execution_count": 782,
   "metadata": {},
   "outputs": [
    {
     "data": {
      "text/html": [
       "<div>\n",
       "<style scoped>\n",
       "    .dataframe tbody tr th:only-of-type {\n",
       "        vertical-align: middle;\n",
       "    }\n",
       "\n",
       "    .dataframe tbody tr th {\n",
       "        vertical-align: top;\n",
       "    }\n",
       "\n",
       "    .dataframe thead th {\n",
       "        text-align: right;\n",
       "    }\n",
       "</style>\n",
       "<table border=\"1\" class=\"dataframe\">\n",
       "  <thead>\n",
       "    <tr style=\"text-align: right;\">\n",
       "      <th></th>\n",
       "      <th>Province_State</th>\n",
       "      <th>Last_Update</th>\n",
       "      <th>Lat</th>\n",
       "      <th>Long_</th>\n",
       "      <th>Confirmed</th>\n",
       "      <th>Recovered_new</th>\n",
       "      <th>Deaths</th>\n",
       "      <th>Active</th>\n",
       "      <th>Incident_Rate</th>\n",
       "      <th>People_Tested</th>\n",
       "      <th>Mortality_Rate</th>\n",
       "      <th>ISO3</th>\n",
       "      <th>Testing_Rate</th>\n",
       "    </tr>\n",
       "  </thead>\n",
       "  <tbody>\n",
       "    <tr>\n",
       "      <th>0</th>\n",
       "      <td>Alabama</td>\n",
       "      <td>2020-05-21 02:32:54</td>\n",
       "      <td>32.3182</td>\n",
       "      <td>-86.9023</td>\n",
       "      <td>13052</td>\n",
       "      <td>0.0</td>\n",
       "      <td>522</td>\n",
       "      <td>12530.0</td>\n",
       "      <td>266.194321</td>\n",
       "      <td>164450.0</td>\n",
       "      <td>3.999387</td>\n",
       "      <td>USA</td>\n",
       "      <td>3353.942386</td>\n",
       "    </tr>\n",
       "    <tr>\n",
       "      <th>1</th>\n",
       "      <td>Alaska</td>\n",
       "      <td>2020-05-21 02:32:54</td>\n",
       "      <td>61.3707</td>\n",
       "      <td>-152.4044</td>\n",
       "      <td>401</td>\n",
       "      <td>352.0</td>\n",
       "      <td>10</td>\n",
       "      <td>39.0</td>\n",
       "      <td>54.815493</td>\n",
       "      <td>37045.0</td>\n",
       "      <td>2.493766</td>\n",
       "      <td>USA</td>\n",
       "      <td>5063.940017</td>\n",
       "    </tr>\n",
       "    <tr>\n",
       "      <th>2</th>\n",
       "      <td>American Samoa</td>\n",
       "      <td>2020-05-21 02:32:54</td>\n",
       "      <td>-14.2710</td>\n",
       "      <td>-170.1320</td>\n",
       "      <td>0</td>\n",
       "      <td>0.0</td>\n",
       "      <td>0</td>\n",
       "      <td>0.0</td>\n",
       "      <td>0.000000</td>\n",
       "      <td>124.0</td>\n",
       "      <td>0.000000</td>\n",
       "      <td>ASM</td>\n",
       "      <td>222.857246</td>\n",
       "    </tr>\n",
       "    <tr>\n",
       "      <th>3</th>\n",
       "      <td>Arizona</td>\n",
       "      <td>2020-05-21 02:32:54</td>\n",
       "      <td>33.7298</td>\n",
       "      <td>-111.4312</td>\n",
       "      <td>14906</td>\n",
       "      <td>3773.0</td>\n",
       "      <td>747</td>\n",
       "      <td>10386.0</td>\n",
       "      <td>204.788838</td>\n",
       "      <td>165435.0</td>\n",
       "      <td>5.011405</td>\n",
       "      <td>USA</td>\n",
       "      <td>2272.859351</td>\n",
       "    </tr>\n",
       "    <tr>\n",
       "      <th>4</th>\n",
       "      <td>Arkansas</td>\n",
       "      <td>2020-05-21 02:32:54</td>\n",
       "      <td>34.9697</td>\n",
       "      <td>-92.3731</td>\n",
       "      <td>5003</td>\n",
       "      <td>3852.0</td>\n",
       "      <td>107</td>\n",
       "      <td>1044.0</td>\n",
       "      <td>165.782801</td>\n",
       "      <td>96258.0</td>\n",
       "      <td>2.138717</td>\n",
       "      <td>USA</td>\n",
       "      <td>3189.670370</td>\n",
       "    </tr>\n",
       "  </tbody>\n",
       "</table>\n",
       "</div>"
      ],
      "text/plain": [
       "   Province_State          Last_Update      Lat     Long_  Confirmed  \\\n",
       "0         Alabama  2020-05-21 02:32:54  32.3182  -86.9023      13052   \n",
       "1          Alaska  2020-05-21 02:32:54  61.3707 -152.4044        401   \n",
       "2  American Samoa  2020-05-21 02:32:54 -14.2710 -170.1320          0   \n",
       "3         Arizona  2020-05-21 02:32:54  33.7298 -111.4312      14906   \n",
       "4        Arkansas  2020-05-21 02:32:54  34.9697  -92.3731       5003   \n",
       "\n",
       "   Recovered_new  Deaths   Active  Incident_Rate  People_Tested  \\\n",
       "0            0.0     522  12530.0     266.194321       164450.0   \n",
       "1          352.0      10     39.0      54.815493        37045.0   \n",
       "2            0.0       0      0.0       0.000000          124.0   \n",
       "3         3773.0     747  10386.0     204.788838       165435.0   \n",
       "4         3852.0     107   1044.0     165.782801        96258.0   \n",
       "\n",
       "   Mortality_Rate ISO3  Testing_Rate  \n",
       "0        3.999387  USA   3353.942386  \n",
       "1        2.493766  USA   5063.940017  \n",
       "2        0.000000  ASM    222.857246  \n",
       "3        5.011405  USA   2272.859351  \n",
       "4        2.138717  USA   3189.670370  "
      ]
     },
     "execution_count": 782,
     "metadata": {},
     "output_type": "execute_result"
    }
   ],
   "source": [
    "df.head()"
   ]
  },
  {
   "cell_type": "markdown",
   "metadata": {},
   "source": [
    "# Visualization"
   ]
  },
  {
   "cell_type": "markdown",
   "metadata": {},
   "source": [
    "### Univariate Analysis"
   ]
  },
  {
   "cell_type": "code",
   "execution_count": 783,
   "metadata": {},
   "outputs": [
    {
     "data": {
      "text/plain": [
       "array([[<matplotlib.axes._subplots.AxesSubplot object at 0x000002C58565CE50>,\n",
       "        <matplotlib.axes._subplots.AxesSubplot object at 0x000002C584C7DB80>,\n",
       "        <matplotlib.axes._subplots.AxesSubplot object at 0x000002C584D0C3D0>],\n",
       "       [<matplotlib.axes._subplots.AxesSubplot object at 0x000002C584D31A90>,\n",
       "        <matplotlib.axes._subplots.AxesSubplot object at 0x000002C584D63250>,\n",
       "        <matplotlib.axes._subplots.AxesSubplot object at 0x000002C584D89910>],\n",
       "       [<matplotlib.axes._subplots.AxesSubplot object at 0x000002C584D89A00>,\n",
       "        <matplotlib.axes._subplots.AxesSubplot object at 0x000002C584DBB220>,\n",
       "        <matplotlib.axes._subplots.AxesSubplot object at 0x000002C584E08130>],\n",
       "       [<matplotlib.axes._subplots.AxesSubplot object at 0x000002C584E38880>,\n",
       "        <matplotlib.axes._subplots.AxesSubplot object at 0x000002C584E6C070>,\n",
       "        <matplotlib.axes._subplots.AxesSubplot object at 0x000002C584E87880>]],\n",
       "      dtype=object)"
      ]
     },
     "execution_count": 783,
     "metadata": {},
     "output_type": "execute_result"
    },
    {
     "data": {
      "image/png": "[encoded data removed]",
      "text/plain": [
       "<Figure size 1440x1440 with 12 Axes>"
      ]
     },
     "metadata": {
      "needs_background": "light"
     },
     "output_type": "display_data"
    }
   ],
   "source": [
    "#Visualization of Recovered cases\n",
    "df.hist(figsize=(20,20),grid=True,bins=30)"
   ]
  },
  {
   "cell_type": "markdown",
   "metadata": {},
   "source": [
    "Observation : "
   ]
  },
  {
   "cell_type": "markdown",
   "metadata": {},
   "source": [
    "Confirmed, Deaths, Revovered and Active are right skewed."
   ]
  },
  {
   "cell_type": "markdown",
   "metadata": {},
   "source": [
    "FIPS is unique identifier for every province state, so it has large distribution."
   ]
  },
  {
   "cell_type": "markdown",
   "metadata": {},
   "source": [
    "Moratality rate has slight normal distribution."
   ]
  },
  {
   "cell_type": "markdown",
   "metadata": {},
   "source": [
    "Testing rate is slightly right skewed."
   ]
  },
  {
   "cell_type": "markdown",
   "metadata": {},
   "source": [
    "### Bivariate Analysis"
   ]
  },
  {
   "cell_type": "code",
   "execution_count": 784,
   "metadata": {},
   "outputs": [
    {
     "data": {
      "text/plain": [
       "<matplotlib.axes._subplots.AxesSubplot at 0x2c5ffa09df0>"
      ]
     },
     "execution_count": 784,
     "metadata": {},
     "output_type": "execute_result"
    },
    {
     "data": {
      "image/png": "[encoded data removed]",
      "text/plain": [
       "<Figure size 720x360 with 2 Axes>"
      ]
     },
     "metadata": {
      "needs_background": "light"
     },
     "output_type": "display_data"
    }
   ],
   "source": [
    "corr_test=df.corr()\n",
    "plt.figure(figsize=(10,5))\n",
    "sns.heatmap(corr_test,annot=True)"
   ]
  },
  {
   "cell_type": "code",
   "execution_count": 785,
   "metadata": {},
   "outputs": [
    {
     "data": {
      "text/plain": [
       "<matplotlib.axes._subplots.AxesSubplot at 0x2c5facd1ca0>"
      ]
     },
     "execution_count": 785,
     "metadata": {},
     "output_type": "execute_result"
    },
    {
     "data": {
      "image/png": "[encoded data removed]",
      "text/plain": [
       "<Figure size 432x288 with 1 Axes>"
      ]
     },
     "metadata": {
      "needs_background": "light"
     },
     "output_type": "display_data"
    }
   ],
   "source": [
    "#Visualization of Confirmed and Incident Rate\n",
    "sns.scatterplot(x='Confirmed',y='Incident_Rate', data =df)"
   ]
  },
  {
   "cell_type": "markdown",
   "metadata": {},
   "source": [
    "Observation :`"
   ]
  },
  {
   "cell_type": "markdown",
   "metadata": {},
   "source": [
    "As confirmed cases increases, incident rate also increasing."
   ]
  },
  {
   "cell_type": "code",
   "execution_count": 786,
   "metadata": {},
   "outputs": [
    {
     "data": {
      "text/plain": [
       "<matplotlib.axes._subplots.AxesSubplot at 0x2c5854db940>"
      ]
     },
     "execution_count": 786,
     "metadata": {},
     "output_type": "execute_result"
    },
    {
     "data": {
      "image/png": "[encoded data removed]",
      "text/plain": [
       "<Figure size 432x288 with 1 Axes>"
      ]
     },
     "metadata": {
      "needs_background": "light"
     },
     "output_type": "display_data"
    }
   ],
   "source": [
    "#Visualization of Deaths and Mortality Rate\n",
    "sns.scatterplot(x='Deaths',y='Mortality_Rate', data =df)"
   ]
  },
  {
   "cell_type": "markdown",
   "metadata": {},
   "source": [
    "Observation :`"
   ]
  },
  {
   "cell_type": "markdown",
   "metadata": {},
   "source": [
    "Moratality rate is high when number of deaths are low."
   ]
  },
  {
   "cell_type": "code",
   "execution_count": 787,
   "metadata": {},
   "outputs": [
    {
     "data": {
      "text/plain": [
       "<matplotlib.axes._subplots.AxesSubplot at 0x2c58552c310>"
      ]
     },
     "execution_count": 787,
     "metadata": {},
     "output_type": "execute_result"
    },
    {
     "data": {
      "image/png": "[encoded data removed]",
      "text/plain": [
       "<Figure size 432x288 with 1 Axes>"
      ]
     },
     "metadata": {
      "needs_background": "light"
     },
     "output_type": "display_data"
    }
   ],
   "source": [
    "#Visualization of Testing Rate and Incident Rate\n",
    "sns.scatterplot(x='Testing_Rate',y='Incident_Rate', data =df)"
   ]
  },
  {
   "cell_type": "markdown",
   "metadata": {},
   "source": [
    "Observation :"
   ]
  },
  {
   "cell_type": "markdown",
   "metadata": {},
   "source": [
    "As Testing rate increases, Incident rate also increasing."
   ]
  },
  {
   "cell_type": "code",
   "execution_count": 788,
   "metadata": {},
   "outputs": [
    {
     "data": {
      "text/plain": [
       "<matplotlib.axes._subplots.AxesSubplot at 0x2c58550d7f0>"
      ]
     },
     "execution_count": 788,
     "metadata": {},
     "output_type": "execute_result"
    },
    {
     "data": {
      "image/png": "[encoded data removed]",
      "text/plain": [
       "<Figure size 432x288 with 1 Axes>"
      ]
     },
     "metadata": {
      "needs_background": "light"
     },
     "output_type": "display_data"
    }
   ],
   "source": [
    "#Visualization of Confirmed and Incident Rate\n",
    "sns.lineplot(x='Deaths',y='Incident_Rate', data =df)"
   ]
  },
  {
   "cell_type": "markdown",
   "metadata": {},
   "source": [
    "When death count is increasing, Incident rate also increases."
   ]
  },
  {
   "cell_type": "code",
   "execution_count": 789,
   "metadata": {},
   "outputs": [
    {
     "data": {
      "image/png": "[encoded data removed]",
      "text/plain": [
       "<Figure size 1440x360 with 1 Axes>"
      ]
     },
     "metadata": {
      "needs_background": "light"
     },
     "output_type": "display_data"
    }
   ],
   "source": [
    "plt.figure(figsize=(20,5))\n",
    "t=sns.barplot(x='Province_State',y='Confirmed',data=df.sort_values(by='Confirmed', ascending=False))\n",
    "plt.setp(t.get_xticklabels(), rotation=90)\n",
    "plt.show()"
   ]
  },
  {
   "cell_type": "markdown",
   "metadata": {},
   "source": [
    "Observation : "
   ]
  },
  {
   "cell_type": "markdown",
   "metadata": {},
   "source": [
    "New York has maximum confirmed Covid cases."
   ]
  },
  {
   "cell_type": "markdown",
   "metadata": {},
   "source": [
    "American Samoa has no confirmed Covid Cases."
   ]
  },
  {
   "cell_type": "code",
   "execution_count": 790,
   "metadata": {},
   "outputs": [
    {
     "data": {
      "image/png": "[encoded data removed]",
      "text/plain": [
       "<Figure size 1440x360 with 1 Axes>"
      ]
     },
     "metadata": {
      "needs_background": "light"
     },
     "output_type": "display_data"
    }
   ],
   "source": [
    "plt.figure(figsize=(20,5))\n",
    "t=sns.barplot(x='Province_State',y='Active',data=df.sort_values(by='Active', ascending=False))\n",
    "plt.setp(t.get_xticklabels(), rotation=90)\n",
    "plt.show()"
   ]
  },
  {
   "cell_type": "markdown",
   "metadata": {},
   "source": [
    "Observation :"
   ]
  },
  {
   "cell_type": "markdown",
   "metadata": {},
   "source": [
    "New York and New Jersey have maximum Active cases."
   ]
  },
  {
   "cell_type": "code",
   "execution_count": 791,
   "metadata": {},
   "outputs": [
    {
     "data": {
      "image/png": "[encoded data removed]",
      "text/plain": [
       "<Figure size 1440x360 with 1 Axes>"
      ]
     },
     "metadata": {
      "needs_background": "light"
     },
     "output_type": "display_data"
    }
   ],
   "source": [
    "plt.figure(figsize=(20,5))\n",
    "t=sns.barplot(x='Province_State',y='Deaths',data=df.sort_values(by='Deaths', ascending=False))\n",
    "plt.setp(t.get_xticklabels(), rotation=90)\n",
    "plt.show()"
   ]
  },
  {
   "cell_type": "markdown",
   "metadata": {},
   "source": [
    "Observation :"
   ]
  },
  {
   "cell_type": "markdown",
   "metadata": {},
   "source": [
    "New York and New Jersey have maximum deaths."
   ]
  },
  {
   "cell_type": "code",
   "execution_count": 792,
   "metadata": {},
   "outputs": [
    {
     "data": {
      "image/png": "[encoded data removed]",
      "text/plain": [
       "<Figure size 1440x360 with 1 Axes>"
      ]
     },
     "metadata": {
      "needs_background": "light"
     },
     "output_type": "display_data"
    }
   ],
   "source": [
    "plt.figure(figsize=(20,5))\n",
    "t=sns.barplot(x='Province_State',y='Recovered_new',data=df.sort_values(by='Recovered_new', ascending=False))\n",
    "plt.setp(t.get_xticklabels(), rotation=90)\n",
    "plt.show()"
   ]
  },
  {
   "cell_type": "markdown",
   "metadata": {},
   "source": [
    "Observation :"
   ]
  },
  {
   "cell_type": "markdown",
   "metadata": {},
   "source": [
    "New York, Texas and Michigan have maximum recovered cases."
   ]
  },
  {
   "cell_type": "code",
   "execution_count": 793,
   "metadata": {},
   "outputs": [],
   "source": [
    "confirmed = df.groupby('Last_Update').sum()['Confirmed'].reset_index()\n",
    "deaths = df.groupby('Last_Update').sum()['Deaths'].reset_index()\n",
    "recovered = df.groupby('Last_Update').sum()['Recovered_new'].reset_index()"
   ]
  },
  {
   "cell_type": "code",
   "execution_count": 794,
   "metadata": {},
   "outputs": [
    {
     "data": {
      "application/vnd.plotly.v1+json": {
       "config": {
        "plotlyServerURL": "https://plot.ly"
       },
       "data": [
        {
         "line": {
          "color": "blue",
          "width": 20
         },
         "mode": "lines+markers",
         "name": "Confirmed",
         "type": "scatter",
         "x": [
          "2020-05-21 02:32:54"
         ],
         "y": [
          1551701
         ]
        },
        {
         "line": {
          "color": "Red",
          "width": 20
         },
         "mode": "lines+markers",
         "name": "Deaths",
         "type": "scatter",
         "x": [
          "2020-05-21 02:32:54"
         ],
         "y": [
          93436
         ]
        },
        {
         "line": {
          "color": "Green",
          "width": 20
         },
         "mode": "lines+markers",
         "name": "Recovered",
         "type": "scatter",
         "x": [
          "2020-05-21 02:32:54"
         ],
         "y": [
          294312
         ]
        }
       ],
       "layout": {
        "template": {
         "data": {
          "bar": [
           {
            "error_x": {
             "color": "#2a3f5f"
            },
            "error_y": {
             "color": "#2a3f5f"
            },
            "marker": {
             "line": {
              "color": "#E5ECF6",
              "width": 0.5
             }
            },
            "type": "bar"
           }
          ],
          "barpolar": [
           {
            "marker": {
             "line": {
              "color": "#E5ECF6",
              "width": 0.5
             }
            },
            "type": "barpolar"
           }
          ],
          "carpet": [
           {
            "aaxis": {
             "endlinecolor": "#2a3f5f",
             "gridcolor": "white",
             "linecolor": "white",
             "minorgridcolor": "white",
             "startlinecolor": "#2a3f5f"
            },
            "baxis": {
             "endlinecolor": "#2a3f5f",
             "gridcolor": "white",
             "linecolor": "white",
             "minorgridcolor": "white",
             "startlinecolor": "#2a3f5f"
            },
            "type": "carpet"
           }
          ],
          "choropleth": [
           {
            "colorbar": {
             "outlinewidth": 0,
             "ticks": ""
            },
            "type": "choropleth"
           }
          ],
          "contour": [
           {
            "colorbar": {
             "outlinewidth": 0,
             "ticks": ""
            },
            "colorscale": [
             [
              0,
              "#0d0887"
             ],
             [
              0.1111111111111111,
              "#46039f"
             ],
             [
              0.2222222222222222,
              "#7201a8"
             ],
             [
              0.3333333333333333,
              "#9c179e"
             ],
             [
              0.4444444444444444,
              "#bd3786"
             ],
             [
              0.5555555555555556,
              "#d8576b"
             ],
             [
              0.6666666666666666,
              "#ed7953"
             ],
             [
              0.7777777777777778,
              "#fb9f3a"
             ],
             [
              0.8888888888888888,
              "#fdca26"
             ],
             [
              1,
              "#f0f921"
             ]
            ],
            "type": "contour"
           }
          ],
          "contourcarpet": [
           {
            "colorbar": {
             "outlinewidth": 0,
             "ticks": ""
            },
            "type": "contourcarpet"
           }
          ],
          "heatmap": [
           {
            "colorbar": {
             "outlinewidth": 0,
             "ticks": ""
            },
            "colorscale": [
             [
              0,
              "#0d0887"
             ],
             [
              0.1111111111111111,
              "#46039f"
             ],
             [
              0.2222222222222222,
              "#7201a8"
             ],
             [
              0.3333333333333333,
              "#9c179e"
             ],
             [
              0.4444444444444444,
              "#bd3786"
             ],
             [
              0.5555555555555556,
              "#d8576b"
             ],
             [
              0.6666666666666666,
              "#ed7953"
             ],
             [
              0.7777777777777778,
              "#fb9f3a"
             ],
             [
              0.8888888888888888,
              "#fdca26"
             ],
             [
              1,
              "#f0f921"
             ]
            ],
            "type": "heatmap"
           }
          ],
          "heatmapgl": [
           {
            "colorbar": {
             "outlinewidth": 0,
             "ticks": ""
            },
            "colorscale": [
             [
              0,
              "#0d0887"
             ],
             [
              0.1111111111111111,
              "#46039f"
             ],
             [
              0.2222222222222222,
              "#7201a8"
             ],
             [
              0.3333333333333333,
              "#9c179e"
             ],
             [
              0.4444444444444444,
              "#bd3786"
             ],
             [
              0.5555555555555556,
              "#d8576b"
             ],
             [
              0.6666666666666666,
              "#ed7953"
             ],
             [
              0.7777777777777778,
              "#fb9f3a"
             ],
             [
              0.8888888888888888,
              "#fdca26"
             ],
             [
              1,
              "#f0f921"
             ]
            ],
            "type": "heatmapgl"
           }
          ],
          "histogram": [
           {
            "marker": {
             "colorbar": {
              "outlinewidth": 0,
              "ticks": ""
             }
            },
            "type": "histogram"
           }
          ],
          "histogram2d": [
           {
            "colorbar": {
             "outlinewidth": 0,
             "ticks": ""
            },
            "colorscale": [
             [
              0,
              "#0d0887"
             ],
             [
              0.1111111111111111,
              "#46039f"
             ],
             [
              0.2222222222222222,
              "#7201a8"
             ],
             [
              0.3333333333333333,
              "#9c179e"
             ],
             [
              0.4444444444444444,
              "#bd3786"
             ],
             [
              0.5555555555555556,
              "#d8576b"
             ],
             [
              0.6666666666666666,
              "#ed7953"
             ],
             [
              0.7777777777777778,
              "#fb9f3a"
             ],
             [
              0.8888888888888888,
              "#fdca26"
             ],
             [
              1,
              "#f0f921"
             ]
            ],
            "type": "histogram2d"
           }
          ],
          "histogram2dcontour": [
           {
            "colorbar": {
             "outlinewidth": 0,
             "ticks": ""
            },
            "colorscale": [
             [
              0,
              "#0d0887"
             ],
             [
              0.1111111111111111,
              "#46039f"
             ],
             [
              0.2222222222222222,
              "#7201a8"
             ],
             [
              0.3333333333333333,
              "#9c179e"
             ],
             [
              0.4444444444444444,
              "#bd3786"
             ],
             [
              0.5555555555555556,
              "#d8576b"
             ],
             [
              0.6666666666666666,
              "#ed7953"
             ],
             [
              0.7777777777777778,
              "#fb9f3a"
             ],
             [
              0.8888888888888888,
              "#fdca26"
             ],
             [
              1,
              "#f0f921"
             ]
            ],
            "type": "histogram2dcontour"
           }
          ],
          "mesh3d": [
           {
            "colorbar": {
             "outlinewidth": 0,
             "ticks": ""
            },
            "type": "mesh3d"
           }
          ],
          "parcoords": [
           {
            "line": {
             "colorbar": {
              "outlinewidth": 0,
              "ticks": ""
             }
            },
            "type": "parcoords"
           }
          ],
          "pie": [
           {
            "automargin": true,
            "type": "pie"
           }
          ],
          "scatter": [
           {
            "marker": {
             "colorbar": {
              "outlinewidth": 0,
              "ticks": ""
             }
            },
            "type": "scatter"
           }
          ],
          "scatter3d": [
           {
            "line": {
             "colorbar": {
              "outlinewidth": 0,
              "ticks": ""
             }
            },
            "marker": {
             "colorbar": {
              "outlinewidth": 0,
              "ticks": ""
             }
            },
            "type": "scatter3d"
           }
          ],
          "scattercarpet": [
           {
            "marker": {
             "colorbar": {
              "outlinewidth": 0,
              "ticks": ""
             }
            },
            "type": "scattercarpet"
           }
          ],
          "scattergeo": [
           {
            "marker": {
             "colorbar": {
              "outlinewidth": 0,
              "ticks": ""
             }
            },
            "type": "scattergeo"
           }
          ],
          "scattergl": [
           {
            "marker": {
             "colorbar": {
              "outlinewidth": 0,
              "ticks": ""
             }
            },
            "type": "scattergl"
           }
          ],
          "scattermapbox": [
           {
            "marker": {
             "colorbar": {
              "outlinewidth": 0,
              "ticks": ""
             }
            },
            "type": "scattermapbox"
           }
          ],
          "scatterpolar": [
           {
            "marker": {
             "colorbar": {
              "outlinewidth": 0,
              "ticks": ""
             }
            },
            "type": "scatterpolar"
           }
          ],
          "scatterpolargl": [
           {
            "marker": {
             "colorbar": {
              "outlinewidth": 0,
              "ticks": ""
             }
            },
            "type": "scatterpolargl"
           }
          ],
          "scatterternary": [
           {
            "marker": {
             "colorbar": {
              "outlinewidth": 0,
              "ticks": ""
             }
            },
            "type": "scatterternary"
           }
          ],
          "surface": [
           {
            "colorbar": {
             "outlinewidth": 0,
             "ticks": ""
            },
            "colorscale": [
             [
              0,
              "#0d0887"
             ],
             [
              0.1111111111111111,
              "#46039f"
             ],
             [
              0.2222222222222222,
              "#7201a8"
             ],
             [
              0.3333333333333333,
              "#9c179e"
             ],
             [
              0.4444444444444444,
              "#bd3786"
             ],
             [
              0.5555555555555556,
              "#d8576b"
             ],
             [
              0.6666666666666666,
              "#ed7953"
             ],
             [
              0.7777777777777778,
              "#fb9f3a"
             ],
             [
              0.8888888888888888,
              "#fdca26"
             ],
             [
              1,
              "#f0f921"
             ]
            ],
            "type": "surface"
           }
          ],
          "table": [
           {
            "cells": {
             "fill": {
              "color": "#EBF0F8"
             },
             "line": {
              "color": "white"
             }
            },
            "header": {
             "fill": {
              "color": "#C8D4E3"
             },
             "line": {
              "color": "white"
             }
            },
            "type": "table"
           }
          ]
         },
         "layout": {
          "annotationdefaults": {
           "arrowcolor": "#2a3f5f",
           "arrowhead": 0,
           "arrowwidth": 1
          },
          "coloraxis": {
           "colorbar": {
            "outlinewidth": 0,
            "ticks": ""
           }
          },
          "colorscale": {
           "diverging": [
            [
             0,
             "#8e0152"
            ],
            [
             0.1,
             "#c51b7d"
            ],
            [
             0.2,
             "#de77ae"
            ],
            [
             0.3,
             "#f1b6da"
            ],
            [
             0.4,
             "#fde0ef"
            ],
            [
             0.5,
             "#f7f7f7"
            ],
            [
             0.6,
             "#e6f5d0"
            ],
            [
             0.7,
             "#b8e186"
            ],
            [
             0.8,
             "#7fbc41"
            ],
            [
             0.9,
             "#4d9221"
            ],
            [
             1,
             "#276419"
            ]
           ],
           "sequential": [
            [
             0,
             "#0d0887"
            ],
            [
             0.1111111111111111,
             "#46039f"
            ],
            [
             0.2222222222222222,
             "#7201a8"
            ],
            [
             0.3333333333333333,
             "#9c179e"
            ],
            [
             0.4444444444444444,
             "#bd3786"
            ],
            [
             0.5555555555555556,
             "#d8576b"
            ],
            [
             0.6666666666666666,
             "#ed7953"
            ],
            [
             0.7777777777777778,
             "#fb9f3a"
            ],
            [
             0.8888888888888888,
             "#fdca26"
            ],
            [
             1,
             "#f0f921"
            ]
           ],
           "sequentialminus": [
            [
             0,
             "#0d0887"
            ],
            [
             0.1111111111111111,
             "#46039f"
            ],
            [
             0.2222222222222222,
             "#7201a8"
            ],
            [
             0.3333333333333333,
             "#9c179e"
            ],
            [
             0.4444444444444444,
             "#bd3786"
            ],
            [
             0.5555555555555556,
             "#d8576b"
            ],
            [
             0.6666666666666666,
             "#ed7953"
            ],
            [
             0.7777777777777778,
             "#fb9f3a"
            ],
            [
             0.8888888888888888,
             "#fdca26"
            ],
            [
             1,
             "#f0f921"
            ]
           ]
          },
          "colorway": [
           "#636efa",
           "#EF553B",
           "#00cc96",
           "#ab63fa",
           "#FFA15A",
           "#19d3f3",
           "#FF6692",
           "#B6E880",
           "#FF97FF",
           "#FECB52"
          ],
          "font": {
           "color": "#2a3f5f"
          },
          "geo": {
           "bgcolor": "white",
           "lakecolor": "white",
           "landcolor": "#E5ECF6",
           "showlakes": true,
           "showland": true,
           "subunitcolor": "white"
          },
          "hoverlabel": {
           "align": "left"
          },
          "hovermode": "closest",
          "mapbox": {
           "style": "light"
          },
          "paper_bgcolor": "white",
          "plot_bgcolor": "#E5ECF6",
          "polar": {
           "angularaxis": {
            "gridcolor": "white",
            "linecolor": "white",
            "ticks": ""
           },
           "bgcolor": "#E5ECF6",
           "radialaxis": {
            "gridcolor": "white",
            "linecolor": "white",
            "ticks": ""
           }
          },
          "scene": {
           "xaxis": {
            "backgroundcolor": "#E5ECF6",
            "gridcolor": "white",
            "gridwidth": 2,
            "linecolor": "white",
            "showbackground": true,
            "ticks": "",
            "zerolinecolor": "white"
           },
           "yaxis": {
            "backgroundcolor": "#E5ECF6",
            "gridcolor": "white",
            "gridwidth": 2,
            "linecolor": "white",
            "showbackground": true,
            "ticks": "",
            "zerolinecolor": "white"
           },
           "zaxis": {
            "backgroundcolor": "#E5ECF6",
            "gridcolor": "white",
            "gridwidth": 2,
            "linecolor": "white",
            "showbackground": true,
            "ticks": "",
            "zerolinecolor": "white"
           }
          },
          "shapedefaults": {
           "line": {
            "color": "#2a3f5f"
           }
          },
          "ternary": {
           "aaxis": {
            "gridcolor": "white",
            "linecolor": "white",
            "ticks": ""
           },
           "baxis": {
            "gridcolor": "white",
            "linecolor": "white",
            "ticks": ""
           },
           "bgcolor": "#E5ECF6",
           "caxis": {
            "gridcolor": "white",
            "linecolor": "white",
            "ticks": ""
           }
          },
          "title": {
           "x": 0.05
          },
          "xaxis": {
           "automargin": true,
           "gridcolor": "white",
           "linecolor": "white",
           "ticks": "",
           "title": {
            "standoff": 15
           },
           "zerolinecolor": "white",
           "zerolinewidth": 2
          },
          "yaxis": {
           "automargin": true,
           "gridcolor": "white",
           "linecolor": "white",
           "ticks": "",
           "title": {
            "standoff": 15
           },
           "zerolinecolor": "white",
           "zerolinewidth": 2
          }
         }
        },
        "title": {
         "text": "US COVID-19 Cases"
        },
        "xaxis": {
         "tickfont": {
          "size": 14
         }
        },
        "yaxis": {
         "title": {
          "text": "Number of Cases"
         }
        }
       }
      },
      "text/html": [
       "<div>\n",
       "        \n",
       "        \n",
       "            <div id=\"da2b32cc-8b69-4638-9c7a-4adaa9d3b351\" class=\"plotly-graph-div\" style=\"height:525px; width:100%;\"></div>\n",
       "            <script type=\"text/javascript\">\n",
       "                require([\"plotly\"], function(Plotly) {\n",
       "                    window.PLOTLYENV=window.PLOTLYENV || {};\n",
       "                    \n",
       "                if (document.getElementById(\"da2b32cc-8b69-4638-9c7a-4adaa9d3b351\")) {\n",
       "                    Plotly.newPlot(\n",
       "                        'da2b32cc-8b69-4638-9c7a-4adaa9d3b351',\n",
       "                        [{\"line\": {\"color\": \"blue\", \"width\": 20}, \"mode\": \"lines+markers\", \"name\": \"Confirmed\", \"type\": \"scatter\", \"x\": [\"2020-05-21 02:32:54\"], \"y\": [1551701]}, {\"line\": {\"color\": \"Red\", \"width\": 20}, \"mode\": \"lines+markers\", \"name\": \"Deaths\", \"type\": \"scatter\", \"x\": [\"2020-05-21 02:32:54\"], \"y\": [93436]}, {\"line\": {\"color\": \"Green\", \"width\": 20}, \"mode\": \"lines+markers\", \"name\": \"Recovered\", \"type\": \"scatter\", \"x\": [\"2020-05-21 02:32:54\"], \"y\": [294312.0]}],\n",
       "                        {\"template\": {\"data\": {\"bar\": [{\"error_x\": {\"color\": \"#2a3f5f\"}, \"error_y\": {\"color\": \"#2a3f5f\"}, \"marker\": {\"line\": {\"color\": \"#E5ECF6\", \"width\": 0.5}}, \"type\": \"bar\"}], \"barpolar\": [{\"marker\": {\"line\": {\"color\": \"#E5ECF6\", \"width\": 0.5}}, \"type\": \"barpolar\"}], \"carpet\": [{\"aaxis\": {\"endlinecolor\": \"#2a3f5f\", \"gridcolor\": \"white\", \"linecolor\": \"white\", \"minorgridcolor\": \"white\", \"startlinecolor\": \"#2a3f5f\"}, \"baxis\": {\"endlinecolor\": \"#2a3f5f\", \"gridcolor\": \"white\", \"linecolor\": \"white\", \"minorgridcolor\": \"white\", \"startlinecolor\": \"#2a3f5f\"}, \"type\": \"carpet\"}], \"choropleth\": [{\"colorbar\": {\"outlinewidth\": 0, \"ticks\": \"\"}, \"type\": \"choropleth\"}], \"contour\": [{\"colorbar\": {\"outlinewidth\": 0, \"ticks\": \"\"}, \"colorscale\": [[0.0, \"#0d0887\"], [0.1111111111111111, \"#46039f\"], [0.2222222222222222, \"#7201a8\"], [0.3333333333333333, \"#9c179e\"], [0.4444444444444444, \"#bd3786\"], [0.5555555555555556, \"#d8576b\"], [0.6666666666666666, \"#ed7953\"], [0.7777777777777778, \"#fb9f3a\"], [0.8888888888888888, \"#fdca26\"], [1.0, \"#f0f921\"]], \"type\": \"contour\"}], \"contourcarpet\": [{\"colorbar\": {\"outlinewidth\": 0, \"ticks\": \"\"}, \"type\": \"contourcarpet\"}], \"heatmap\": [{\"colorbar\": {\"outlinewidth\": 0, \"ticks\": \"\"}, \"colorscale\": [[0.0, \"#0d0887\"], [0.1111111111111111, \"#46039f\"], [0.2222222222222222, \"#7201a8\"], [0.3333333333333333, \"#9c179e\"], [0.4444444444444444, \"#bd3786\"], [0.5555555555555556, \"#d8576b\"], [0.6666666666666666, \"#ed7953\"], [0.7777777777777778, \"#fb9f3a\"], [0.8888888888888888, \"#fdca26\"], [1.0, \"#f0f921\"]], \"type\": \"heatmap\"}], \"heatmapgl\": [{\"colorbar\": {\"outlinewidth\": 0, \"ticks\": \"\"}, \"colorscale\": [[0.0, \"#0d0887\"], [0.1111111111111111, \"#46039f\"], [0.2222222222222222, \"#7201a8\"], [0.3333333333333333, \"#9c179e\"], [0.4444444444444444, \"#bd3786\"], [0.5555555555555556, \"#d8576b\"], [0.6666666666666666, \"#ed7953\"], [0.7777777777777778, \"#fb9f3a\"], [0.8888888888888888, \"#fdca26\"], [1.0, \"#f0f921\"]], \"type\": \"heatmapgl\"}], \"histogram\": [{\"marker\": {\"colorbar\": {\"outlinewidth\": 0, \"ticks\": \"\"}}, \"type\": \"histogram\"}], \"histogram2d\": [{\"colorbar\": {\"outlinewidth\": 0, \"ticks\": \"\"}, \"colorscale\": [[0.0, \"#0d0887\"], [0.1111111111111111, \"#46039f\"], [0.2222222222222222, \"#7201a8\"], [0.3333333333333333, \"#9c179e\"], [0.4444444444444444, \"#bd3786\"], [0.5555555555555556, \"#d8576b\"], [0.6666666666666666, \"#ed7953\"], [0.7777777777777778, \"#fb9f3a\"], [0.8888888888888888, \"#fdca26\"], [1.0, \"#f0f921\"]], \"type\": \"histogram2d\"}], \"histogram2dcontour\": [{\"colorbar\": {\"outlinewidth\": 0, \"ticks\": \"\"}, \"colorscale\": [[0.0, \"#0d0887\"], [0.1111111111111111, \"#46039f\"], [0.2222222222222222, \"#7201a8\"], [0.3333333333333333, \"#9c179e\"], [0.4444444444444444, \"#bd3786\"], [0.5555555555555556, \"#d8576b\"], [0.6666666666666666, \"#ed7953\"], [0.7777777777777778, \"#fb9f3a\"], [0.8888888888888888, \"#fdca26\"], [1.0, \"#f0f921\"]], \"type\": \"histogram2dcontour\"}], \"mesh3d\": [{\"colorbar\": {\"outlinewidth\": 0, \"ticks\": \"\"}, \"type\": \"mesh3d\"}], \"parcoords\": [{\"line\": {\"colorbar\": {\"outlinewidth\": 0, \"ticks\": \"\"}}, \"type\": \"parcoords\"}], \"pie\": [{\"automargin\": true, \"type\": \"pie\"}], \"scatter\": [{\"marker\": {\"colorbar\": {\"outlinewidth\": 0, \"ticks\": \"\"}}, \"type\": \"scatter\"}], \"scatter3d\": [{\"line\": {\"colorbar\": {\"outlinewidth\": 0, \"ticks\": \"\"}}, \"marker\": {\"colorbar\": {\"outlinewidth\": 0, \"ticks\": \"\"}}, \"type\": \"scatter3d\"}], \"scattercarpet\": [{\"marker\": {\"colorbar\": {\"outlinewidth\": 0, \"ticks\": \"\"}}, \"type\": \"scattercarpet\"}], \"scattergeo\": [{\"marker\": {\"colorbar\": {\"outlinewidth\": 0, \"ticks\": \"\"}}, \"type\": \"scattergeo\"}], \"scattergl\": [{\"marker\": {\"colorbar\": {\"outlinewidth\": 0, \"ticks\": \"\"}}, \"type\": \"scattergl\"}], \"scattermapbox\": [{\"marker\": {\"colorbar\": {\"outlinewidth\": 0, \"ticks\": \"\"}}, \"type\": \"scattermapbox\"}], \"scatterpolar\": [{\"marker\": {\"colorbar\": {\"outlinewidth\": 0, \"ticks\": \"\"}}, \"type\": \"scatterpolar\"}], \"scatterpolargl\": [{\"marker\": {\"colorbar\": {\"outlinewidth\": 0, \"ticks\": \"\"}}, \"type\": \"scatterpolargl\"}], \"scatterternary\": [{\"marker\": {\"colorbar\": {\"outlinewidth\": 0, \"ticks\": \"\"}}, \"type\": \"scatterternary\"}], \"surface\": [{\"colorbar\": {\"outlinewidth\": 0, \"ticks\": \"\"}, \"colorscale\": [[0.0, \"#0d0887\"], [0.1111111111111111, \"#46039f\"], [0.2222222222222222, \"#7201a8\"], [0.3333333333333333, \"#9c179e\"], [0.4444444444444444, \"#bd3786\"], [0.5555555555555556, \"#d8576b\"], [0.6666666666666666, \"#ed7953\"], [0.7777777777777778, \"#fb9f3a\"], [0.8888888888888888, \"#fdca26\"], [1.0, \"#f0f921\"]], \"type\": \"surface\"}], \"table\": [{\"cells\": {\"fill\": {\"color\": \"#EBF0F8\"}, \"line\": {\"color\": \"white\"}}, \"header\": {\"fill\": {\"color\": \"#C8D4E3\"}, \"line\": {\"color\": \"white\"}}, \"type\": \"table\"}]}, \"layout\": {\"annotationdefaults\": {\"arrowcolor\": \"#2a3f5f\", \"arrowhead\": 0, \"arrowwidth\": 1}, \"coloraxis\": {\"colorbar\": {\"outlinewidth\": 0, \"ticks\": \"\"}}, \"colorscale\": {\"diverging\": [[0, \"#8e0152\"], [0.1, \"#c51b7d\"], [0.2, \"#de77ae\"], [0.3, \"#f1b6da\"], [0.4, \"#fde0ef\"], [0.5, \"#f7f7f7\"], [0.6, \"#e6f5d0\"], [0.7, \"#b8e186\"], [0.8, \"#7fbc41\"], [0.9, \"#4d9221\"], [1, \"#276419\"]], \"sequential\": [[0.0, \"#0d0887\"], [0.1111111111111111, \"#46039f\"], [0.2222222222222222, \"#7201a8\"], [0.3333333333333333, \"#9c179e\"], [0.4444444444444444, \"#bd3786\"], [0.5555555555555556, \"#d8576b\"], [0.6666666666666666, \"#ed7953\"], [0.7777777777777778, \"#fb9f3a\"], [0.8888888888888888, \"#fdca26\"], [1.0, \"#f0f921\"]], \"sequentialminus\": [[0.0, \"#0d0887\"], [0.1111111111111111, \"#46039f\"], [0.2222222222222222, \"#7201a8\"], [0.3333333333333333, \"#9c179e\"], [0.4444444444444444, \"#bd3786\"], [0.5555555555555556, \"#d8576b\"], [0.6666666666666666, \"#ed7953\"], [0.7777777777777778, \"#fb9f3a\"], [0.8888888888888888, \"#fdca26\"], [1.0, \"#f0f921\"]]}, \"colorway\": [\"#636efa\", \"#EF553B\", \"#00cc96\", \"#ab63fa\", \"#FFA15A\", \"#19d3f3\", \"#FF6692\", \"#B6E880\", \"#FF97FF\", \"#FECB52\"], \"font\": {\"color\": \"#2a3f5f\"}, \"geo\": {\"bgcolor\": \"white\", \"lakecolor\": \"white\", \"landcolor\": \"#E5ECF6\", \"showlakes\": true, \"showland\": true, \"subunitcolor\": \"white\"}, \"hoverlabel\": {\"align\": \"left\"}, \"hovermode\": \"closest\", \"mapbox\": {\"style\": \"light\"}, \"paper_bgcolor\": \"white\", \"plot_bgcolor\": \"#E5ECF6\", \"polar\": {\"angularaxis\": {\"gridcolor\": \"white\", \"linecolor\": \"white\", \"ticks\": \"\"}, \"bgcolor\": \"#E5ECF6\", \"radialaxis\": {\"gridcolor\": \"white\", \"linecolor\": \"white\", \"ticks\": \"\"}}, \"scene\": {\"xaxis\": {\"backgroundcolor\": \"#E5ECF6\", \"gridcolor\": \"white\", \"gridwidth\": 2, \"linecolor\": \"white\", \"showbackground\": true, \"ticks\": \"\", \"zerolinecolor\": \"white\"}, \"yaxis\": {\"backgroundcolor\": \"#E5ECF6\", \"gridcolor\": \"white\", \"gridwidth\": 2, \"linecolor\": \"white\", \"showbackground\": true, \"ticks\": \"\", \"zerolinecolor\": \"white\"}, \"zaxis\": {\"backgroundcolor\": \"#E5ECF6\", \"gridcolor\": \"white\", \"gridwidth\": 2, \"linecolor\": \"white\", \"showbackground\": true, \"ticks\": \"\", \"zerolinecolor\": \"white\"}}, \"shapedefaults\": {\"line\": {\"color\": \"#2a3f5f\"}}, \"ternary\": {\"aaxis\": {\"gridcolor\": \"white\", \"linecolor\": \"white\", \"ticks\": \"\"}, \"baxis\": {\"gridcolor\": \"white\", \"linecolor\": \"white\", \"ticks\": \"\"}, \"bgcolor\": \"#E5ECF6\", \"caxis\": {\"gridcolor\": \"white\", \"linecolor\": \"white\", \"ticks\": \"\"}}, \"title\": {\"x\": 0.05}, \"xaxis\": {\"automargin\": true, \"gridcolor\": \"white\", \"linecolor\": \"white\", \"ticks\": \"\", \"title\": {\"standoff\": 15}, \"zerolinecolor\": \"white\", \"zerolinewidth\": 2}, \"yaxis\": {\"automargin\": true, \"gridcolor\": \"white\", \"linecolor\": \"white\", \"ticks\": \"\", \"title\": {\"standoff\": 15}, \"zerolinecolor\": \"white\", \"zerolinewidth\": 2}}}, \"title\": {\"text\": \"US COVID-19 Cases\"}, \"xaxis\": {\"tickfont\": {\"size\": 14}}, \"yaxis\": {\"title\": {\"text\": \"Number of Cases\"}}},\n",
       "                        {\"responsive\": true}\n",
       "                    ).then(function(){\n",
       "                            \n",
       "var gd = document.getElementById('da2b32cc-8b69-4638-9c7a-4adaa9d3b351');\n",
       "var x = new MutationObserver(function (mutations, observer) {{\n",
       "        var display = window.getComputedStyle(gd).display;\n",
       "        if (!display || display === 'none') {{\n",
       "            console.log([gd, 'removed!']);\n",
       "            Plotly.purge(gd);\n",
       "            observer.disconnect();\n",
       "        }}\n",
       "}});\n",
       "\n",
       "// Listen for the removal of the full notebook cells\n",
       "var notebookContainer = gd.closest('#notebook-container');\n",
       "if (notebookContainer) {{\n",
       "    x.observe(notebookContainer, {childList: true});\n",
       "}}\n",
       "\n",
       "// Listen for the clearing of the current output cell\n",
       "var outputEl = gd.closest('.output');\n",
       "if (outputEl) {{\n",
       "    x.observe(outputEl, {childList: true});\n",
       "}}\n",
       "\n",
       "                        })\n",
       "                };\n",
       "                });\n",
       "            </script>\n",
       "        </div>"
      ]
     },
     "metadata": {},
     "output_type": "display_data"
    }
   ],
   "source": [
    "import plotly.graph_objs as go\n",
    "\n",
    "fig = go.Figure()\n",
    "#Plotting datewise confirmed cases\n",
    "fig.add_trace(go.Scatter(x=confirmed['Last_Update'], y=confirmed['Confirmed'], mode='lines+markers', name='Confirmed',line=dict(color='blue', width=20)))\n",
    "fig.add_trace(go.Scatter(x=deaths['Last_Update'], y=deaths['Deaths'], mode='lines+markers', name='Deaths', line=dict(color='Red', width=20)))\n",
    "fig.add_trace(go.Scatter(x=recovered['Last_Update'], y=recovered['Recovered_new'], mode='lines+markers', name='Recovered', line=dict(color='Green', width=20)))\n",
    "fig.update_layout(title='US COVID-19 Cases', xaxis_tickfont_size=14,yaxis=dict(title='Number of Cases'))\n",
    "\n",
    "fig.show()"
   ]
  },
  {
   "cell_type": "markdown",
   "metadata": {},
   "source": [
    "Observation :"
   ]
  },
  {
   "cell_type": "markdown",
   "metadata": {},
   "source": [
    "Recovered cases is more than Deaths."
   ]
  },
  {
   "cell_type": "code",
   "execution_count": 795,
   "metadata": {},
   "outputs": [],
   "source": [
    "#Dropping Last_Update column\n",
    "df.drop(['Last_Update'], axis=1, inplace=True)"
   ]
  },
  {
   "cell_type": "markdown",
   "metadata": {},
   "source": [
    "# Label Encoding"
   ]
  },
  {
   "cell_type": "code",
   "execution_count": 796,
   "metadata": {},
   "outputs": [],
   "source": [
    "#Transforming categorical data into numerical data\n",
    "from sklearn.preprocessing import LabelEncoder\n",
    "encoder=LabelEncoder()\n",
    "lab_col=['Province_State','ISO3']\n",
    "for lab in lab_col:\n",
    "    df[lab]=encoder.fit_transform(df[lab])"
   ]
  },
  {
   "cell_type": "code",
   "execution_count": 797,
   "metadata": {},
   "outputs": [
    {
     "data": {
      "text/html": [
       "<div>\n",
       "<style scoped>\n",
       "    .dataframe tbody tr th:only-of-type {\n",
       "        vertical-align: middle;\n",
       "    }\n",
       "\n",
       "    .dataframe tbody tr th {\n",
       "        vertical-align: top;\n",
       "    }\n",
       "\n",
       "    .dataframe thead th {\n",
       "        text-align: right;\n",
       "    }\n",
       "</style>\n",
       "<table border=\"1\" class=\"dataframe\">\n",
       "  <thead>\n",
       "    <tr style=\"text-align: right;\">\n",
       "      <th></th>\n",
       "      <th>Province_State</th>\n",
       "      <th>Lat</th>\n",
       "      <th>Long_</th>\n",
       "      <th>Confirmed</th>\n",
       "      <th>Recovered_new</th>\n",
       "      <th>Deaths</th>\n",
       "      <th>Active</th>\n",
       "      <th>Incident_Rate</th>\n",
       "      <th>People_Tested</th>\n",
       "      <th>Mortality_Rate</th>\n",
       "      <th>ISO3</th>\n",
       "      <th>Testing_Rate</th>\n",
       "    </tr>\n",
       "  </thead>\n",
       "  <tbody>\n",
       "    <tr>\n",
       "      <th>0</th>\n",
       "      <td>0</td>\n",
       "      <td>32.3182</td>\n",
       "      <td>-86.9023</td>\n",
       "      <td>13052</td>\n",
       "      <td>0.0</td>\n",
       "      <td>522</td>\n",
       "      <td>12530.0</td>\n",
       "      <td>266.194321</td>\n",
       "      <td>164450.0</td>\n",
       "      <td>3.999387</td>\n",
       "      <td>4</td>\n",
       "      <td>3353.942386</td>\n",
       "    </tr>\n",
       "    <tr>\n",
       "      <th>1</th>\n",
       "      <td>1</td>\n",
       "      <td>61.3707</td>\n",
       "      <td>-152.4044</td>\n",
       "      <td>401</td>\n",
       "      <td>352.0</td>\n",
       "      <td>10</td>\n",
       "      <td>39.0</td>\n",
       "      <td>54.815493</td>\n",
       "      <td>37045.0</td>\n",
       "      <td>2.493766</td>\n",
       "      <td>4</td>\n",
       "      <td>5063.940017</td>\n",
       "    </tr>\n",
       "    <tr>\n",
       "      <th>2</th>\n",
       "      <td>2</td>\n",
       "      <td>-14.2710</td>\n",
       "      <td>-170.1320</td>\n",
       "      <td>0</td>\n",
       "      <td>0.0</td>\n",
       "      <td>0</td>\n",
       "      <td>0.0</td>\n",
       "      <td>0.000000</td>\n",
       "      <td>124.0</td>\n",
       "      <td>0.000000</td>\n",
       "      <td>0</td>\n",
       "      <td>222.857246</td>\n",
       "    </tr>\n",
       "    <tr>\n",
       "      <th>3</th>\n",
       "      <td>3</td>\n",
       "      <td>33.7298</td>\n",
       "      <td>-111.4312</td>\n",
       "      <td>14906</td>\n",
       "      <td>3773.0</td>\n",
       "      <td>747</td>\n",
       "      <td>10386.0</td>\n",
       "      <td>204.788838</td>\n",
       "      <td>165435.0</td>\n",
       "      <td>5.011405</td>\n",
       "      <td>4</td>\n",
       "      <td>2272.859351</td>\n",
       "    </tr>\n",
       "    <tr>\n",
       "      <th>4</th>\n",
       "      <td>4</td>\n",
       "      <td>34.9697</td>\n",
       "      <td>-92.3731</td>\n",
       "      <td>5003</td>\n",
       "      <td>3852.0</td>\n",
       "      <td>107</td>\n",
       "      <td>1044.0</td>\n",
       "      <td>165.782801</td>\n",
       "      <td>96258.0</td>\n",
       "      <td>2.138717</td>\n",
       "      <td>4</td>\n",
       "      <td>3189.670370</td>\n",
       "    </tr>\n",
       "  </tbody>\n",
       "</table>\n",
       "</div>"
      ],
      "text/plain": [
       "   Province_State      Lat     Long_  Confirmed  Recovered_new  Deaths  \\\n",
       "0               0  32.3182  -86.9023      13052            0.0     522   \n",
       "1               1  61.3707 -152.4044        401          352.0      10   \n",
       "2               2 -14.2710 -170.1320          0            0.0       0   \n",
       "3               3  33.7298 -111.4312      14906         3773.0     747   \n",
       "4               4  34.9697  -92.3731       5003         3852.0     107   \n",
       "\n",
       "    Active  Incident_Rate  People_Tested  Mortality_Rate  ISO3  Testing_Rate  \n",
       "0  12530.0     266.194321       164450.0        3.999387     4   3353.942386  \n",
       "1     39.0      54.815493        37045.0        2.493766     4   5063.940017  \n",
       "2      0.0       0.000000          124.0        0.000000     0    222.857246  \n",
       "3  10386.0     204.788838       165435.0        5.011405     4   2272.859351  \n",
       "4   1044.0     165.782801        96258.0        2.138717     4   3189.670370  "
      ]
     },
     "execution_count": 797,
     "metadata": {},
     "output_type": "execute_result"
    }
   ],
   "source": [
    "df.head()"
   ]
  },
  {
   "cell_type": "markdown",
   "metadata": {},
   "source": [
    "## Outliers"
   ]
  },
  {
   "cell_type": "code",
   "execution_count": 798,
   "metadata": {},
   "outputs": [
    {
     "data": {
      "text/plain": [
       "Province_State        AxesSubplot(0.125,0.71587;0.168478x0.16413)\n",
       "Lat                AxesSubplot(0.327174,0.71587;0.168478x0.16413)\n",
       "Long_              AxesSubplot(0.529348,0.71587;0.168478x0.16413)\n",
       "Confirmed          AxesSubplot(0.731522,0.71587;0.168478x0.16413)\n",
       "Recovered_new        AxesSubplot(0.125,0.518913;0.168478x0.16413)\n",
       "Deaths            AxesSubplot(0.327174,0.518913;0.168478x0.16413)\n",
       "Active            AxesSubplot(0.529348,0.518913;0.168478x0.16413)\n",
       "Incident_Rate     AxesSubplot(0.731522,0.518913;0.168478x0.16413)\n",
       "People_Tested        AxesSubplot(0.125,0.321957;0.168478x0.16413)\n",
       "Mortality_Rate    AxesSubplot(0.327174,0.321957;0.168478x0.16413)\n",
       "ISO3              AxesSubplot(0.529348,0.321957;0.168478x0.16413)\n",
       "Testing_Rate      AxesSubplot(0.731522,0.321957;0.168478x0.16413)\n",
       "dtype: object"
      ]
     },
     "execution_count": 798,
     "metadata": {},
     "output_type": "execute_result"
    },
    {
     "data": {
      "image/png": "[encoded data removed]",
      "text/plain": [
       "<Figure size 1440x1800 with 16 Axes>"
      ]
     },
     "metadata": {
      "needs_background": "light"
     },
     "output_type": "display_data"
    }
   ],
   "source": [
    "#Box Plot visualization for all columns\n",
    "df.plot(figsize=(20,25),kind='box',layout=(4,4),subplots=True)"
   ]
  },
  {
   "cell_type": "markdown",
   "metadata": {},
   "source": [
    "Observation :"
   ]
  },
  {
   "cell_type": "markdown",
   "metadata": {},
   "source": [
    "All columns have outliers.`"
   ]
  },
  {
   "cell_type": "markdown",
   "metadata": {},
   "source": [
    "## Skewness"
   ]
  },
  {
   "cell_type": "code",
   "execution_count": 799,
   "metadata": {},
   "outputs": [],
   "source": [
    "new_df=df.copy()"
   ]
  },
  {
   "cell_type": "code",
   "execution_count": 800,
   "metadata": {},
   "outputs": [
    {
     "data": {
      "text/plain": [
       "Province_State    0.000000\n",
       "Lat              -2.213092\n",
       "Long_             3.509241\n",
       "Confirmed         4.646063\n",
       "Recovered_new     3.587378\n",
       "Deaths            5.404018\n",
       "Active            4.116348\n",
       "Incident_Rate     1.955650\n",
       "People_Tested     2.783163\n",
       "Mortality_Rate    0.462024\n",
       "ISO3             -4.045875\n",
       "Testing_Rate      1.291806\n",
       "dtype: float64"
      ]
     },
     "execution_count": 800,
     "metadata": {},
     "output_type": "execute_result"
    }
   ],
   "source": [
    "#Checking Skewness\n",
    "new_df.skew()"
   ]
  },
  {
   "cell_type": "code",
   "execution_count": 801,
   "metadata": {},
   "outputs": [
    {
     "data": {
      "text/plain": [
       "Province_State    0\n",
       "Lat               0\n",
       "Long_             0\n",
       "Confirmed         0\n",
       "Recovered_new     0\n",
       "Deaths            0\n",
       "Active            0\n",
       "Incident_Rate     0\n",
       "People_Tested     0\n",
       "Mortality_Rate    0\n",
       "ISO3              0\n",
       "Testing_Rate      0\n",
       "dtype: int64"
      ]
     },
     "execution_count": 801,
     "metadata": {},
     "output_type": "execute_result"
    }
   ],
   "source": [
    "new_df.isnull().sum()"
   ]
  },
  {
   "cell_type": "markdown",
   "metadata": {},
   "source": [
    "# Model  for Recovered"
   ]
  },
  {
   "cell_type": "code",
   "execution_count": 802,
   "metadata": {},
   "outputs": [],
   "source": [
    "#Input and target varialbel\n",
    "X_rec=new_df.drop(['Recovered_new'],axis=1)\n",
    "Y_rec=new_df[['Recovered_new']]"
   ]
  },
  {
   "cell_type": "code",
   "execution_count": 803,
   "metadata": {},
   "outputs": [
    {
     "data": {
      "text/html": [
       "<div>\n",
       "<style scoped>\n",
       "    .dataframe tbody tr th:only-of-type {\n",
       "        vertical-align: middle;\n",
       "    }\n",
       "\n",
       "    .dataframe tbody tr th {\n",
       "        vertical-align: top;\n",
       "    }\n",
       "\n",
       "    .dataframe thead th {\n",
       "        text-align: right;\n",
       "    }\n",
       "</style>\n",
       "<table border=\"1\" class=\"dataframe\">\n",
       "  <thead>\n",
       "    <tr style=\"text-align: right;\">\n",
       "      <th></th>\n",
       "      <th>Province_State</th>\n",
       "      <th>Lat</th>\n",
       "      <th>Long_</th>\n",
       "      <th>Confirmed</th>\n",
       "      <th>Deaths</th>\n",
       "      <th>Active</th>\n",
       "      <th>Incident_Rate</th>\n",
       "      <th>People_Tested</th>\n",
       "      <th>Mortality_Rate</th>\n",
       "      <th>ISO3</th>\n",
       "      <th>Testing_Rate</th>\n",
       "    </tr>\n",
       "  </thead>\n",
       "  <tbody>\n",
       "    <tr>\n",
       "      <th>0</th>\n",
       "      <td>0</td>\n",
       "      <td>32.3182</td>\n",
       "      <td>-86.9023</td>\n",
       "      <td>13052</td>\n",
       "      <td>522</td>\n",
       "      <td>12530.0</td>\n",
       "      <td>266.194321</td>\n",
       "      <td>164450.0</td>\n",
       "      <td>3.999387</td>\n",
       "      <td>4</td>\n",
       "      <td>3353.942386</td>\n",
       "    </tr>\n",
       "    <tr>\n",
       "      <th>1</th>\n",
       "      <td>1</td>\n",
       "      <td>61.3707</td>\n",
       "      <td>-152.4044</td>\n",
       "      <td>401</td>\n",
       "      <td>10</td>\n",
       "      <td>39.0</td>\n",
       "      <td>54.815493</td>\n",
       "      <td>37045.0</td>\n",
       "      <td>2.493766</td>\n",
       "      <td>4</td>\n",
       "      <td>5063.940017</td>\n",
       "    </tr>\n",
       "    <tr>\n",
       "      <th>2</th>\n",
       "      <td>2</td>\n",
       "      <td>-14.2710</td>\n",
       "      <td>-170.1320</td>\n",
       "      <td>0</td>\n",
       "      <td>0</td>\n",
       "      <td>0.0</td>\n",
       "      <td>0.000000</td>\n",
       "      <td>124.0</td>\n",
       "      <td>0.000000</td>\n",
       "      <td>0</td>\n",
       "      <td>222.857246</td>\n",
       "    </tr>\n",
       "    <tr>\n",
       "      <th>3</th>\n",
       "      <td>3</td>\n",
       "      <td>33.7298</td>\n",
       "      <td>-111.4312</td>\n",
       "      <td>14906</td>\n",
       "      <td>747</td>\n",
       "      <td>10386.0</td>\n",
       "      <td>204.788838</td>\n",
       "      <td>165435.0</td>\n",
       "      <td>5.011405</td>\n",
       "      <td>4</td>\n",
       "      <td>2272.859351</td>\n",
       "    </tr>\n",
       "    <tr>\n",
       "      <th>4</th>\n",
       "      <td>4</td>\n",
       "      <td>34.9697</td>\n",
       "      <td>-92.3731</td>\n",
       "      <td>5003</td>\n",
       "      <td>107</td>\n",
       "      <td>1044.0</td>\n",
       "      <td>165.782801</td>\n",
       "      <td>96258.0</td>\n",
       "      <td>2.138717</td>\n",
       "      <td>4</td>\n",
       "      <td>3189.670370</td>\n",
       "    </tr>\n",
       "  </tbody>\n",
       "</table>\n",
       "</div>"
      ],
      "text/plain": [
       "   Province_State      Lat     Long_  Confirmed  Deaths   Active  \\\n",
       "0               0  32.3182  -86.9023      13052     522  12530.0   \n",
       "1               1  61.3707 -152.4044        401      10     39.0   \n",
       "2               2 -14.2710 -170.1320          0       0      0.0   \n",
       "3               3  33.7298 -111.4312      14906     747  10386.0   \n",
       "4               4  34.9697  -92.3731       5003     107   1044.0   \n",
       "\n",
       "   Incident_Rate  People_Tested  Mortality_Rate  ISO3  Testing_Rate  \n",
       "0     266.194321       164450.0        3.999387     4   3353.942386  \n",
       "1      54.815493        37045.0        2.493766     4   5063.940017  \n",
       "2       0.000000          124.0        0.000000     0    222.857246  \n",
       "3     204.788838       165435.0        5.011405     4   2272.859351  \n",
       "4     165.782801        96258.0        2.138717     4   3189.670370  "
      ]
     },
     "execution_count": 803,
     "metadata": {},
     "output_type": "execute_result"
    }
   ],
   "source": [
    "X_rec.head()"
   ]
  },
  {
   "cell_type": "code",
   "execution_count": 804,
   "metadata": {},
   "outputs": [
    {
     "data": {
      "text/html": [
       "<div>\n",
       "<style scoped>\n",
       "    .dataframe tbody tr th:only-of-type {\n",
       "        vertical-align: middle;\n",
       "    }\n",
       "\n",
       "    .dataframe tbody tr th {\n",
       "        vertical-align: top;\n",
       "    }\n",
       "\n",
       "    .dataframe thead th {\n",
       "        text-align: right;\n",
       "    }\n",
       "</style>\n",
       "<table border=\"1\" class=\"dataframe\">\n",
       "  <thead>\n",
       "    <tr style=\"text-align: right;\">\n",
       "      <th></th>\n",
       "      <th>Recovered_new</th>\n",
       "    </tr>\n",
       "  </thead>\n",
       "  <tbody>\n",
       "    <tr>\n",
       "      <th>0</th>\n",
       "      <td>0.0</td>\n",
       "    </tr>\n",
       "    <tr>\n",
       "      <th>1</th>\n",
       "      <td>352.0</td>\n",
       "    </tr>\n",
       "    <tr>\n",
       "      <th>2</th>\n",
       "      <td>0.0</td>\n",
       "    </tr>\n",
       "    <tr>\n",
       "      <th>3</th>\n",
       "      <td>3773.0</td>\n",
       "    </tr>\n",
       "    <tr>\n",
       "      <th>4</th>\n",
       "      <td>3852.0</td>\n",
       "    </tr>\n",
       "  </tbody>\n",
       "</table>\n",
       "</div>"
      ],
      "text/plain": [
       "   Recovered_new\n",
       "0            0.0\n",
       "1          352.0\n",
       "2            0.0\n",
       "3         3773.0\n",
       "4         3852.0"
      ]
     },
     "execution_count": 804,
     "metadata": {},
     "output_type": "execute_result"
    }
   ],
   "source": [
    "Y_rec.head()"
   ]
  },
  {
   "cell_type": "code",
   "execution_count": 805,
   "metadata": {},
   "outputs": [
    {
     "name": "stdout",
     "output_type": "stream",
     "text": [
      "(56, 11)\n",
      "(56, 1)\n"
     ]
    }
   ],
   "source": [
    "print(X_rec.shape)\n",
    "print(Y_rec.shape)"
   ]
  },
  {
   "cell_type": "markdown",
   "metadata": {},
   "source": [
    "### Scaling"
   ]
  },
  {
   "cell_type": "code",
   "execution_count": 806,
   "metadata": {},
   "outputs": [],
   "source": [
    "#scaling data using Standard Scaler\n",
    "from sklearn.preprocessing import StandardScaler\n",
    "sc=StandardScaler()\n",
    "ScaledX=sc.fit_transform(X_rec)"
   ]
  },
  {
   "cell_type": "code",
   "execution_count": 807,
   "metadata": {},
   "outputs": [
    {
     "name": "stdout",
     "output_type": "stream",
     "text": [
      "best accuracy : 100.0 found on the random state 1, best model is LinearRegression()\n",
      "-----best accuracy : 100.0 found on the random state 1, best model is BayesianRidge()----\n"
     ]
    }
   ],
   "source": [
    "#importing libraries for models\n",
    "from sklearn.model_selection import cross_val_score, train_test_split\n",
    "from sklearn.linear_model import LinearRegression, BayesianRidge\n",
    "from sklearn.neighbors import KNeighborsRegressor\n",
    "from sklearn.tree import DecisionTreeRegressor\n",
    "from sklearn.ensemble import RandomForestRegressor, GradientBoostingRegressor\n",
    "from sklearn.svm import SVR\n",
    "from sklearn.metrics import r2_score, mean_squared_error, mean_absolute_error \n",
    "\n",
    "best_rstate=0\n",
    "accu=0\n",
    "best_model=[]\n",
    "mod=[LinearRegression(),DecisionTreeRegressor(),KNeighborsRegressor(),RandomForestRegressor(),GradientBoostingRegressor(),SVR(), BayesianRidge()]\n",
    "for i in range(1,200):\n",
    "    x_train,x_test,y_train,y_test=train_test_split(ScaledX,Y_rec,test_size=0.33,random_state=i)\n",
    "    for m in mod:\n",
    "        m.fit(x_train,y_train.values.ravel())\n",
    "        y_pred=m.predict(x_test)\n",
    "        tempaccu=r2_score(y_test,y_pred)\n",
    "        if tempaccu>accu:\n",
    "            accu=tempaccu\n",
    "            best_rstate=i\n",
    "            best_model=m\n",
    "            print(f\"best accuracy : {accu*100} found on the random state {best_rstate}, best model is {m}\")\n",
    "            \n",
    "print(f\"-----best accuracy : {accu*100} found on the random state {best_rstate}, best model is {m}----\")"
   ]
  },
  {
   "cell_type": "markdown",
   "metadata": {},
   "source": [
    "Observation :"
   ]
  },
  {
   "cell_type": "markdown",
   "metadata": {},
   "source": [
    "BayesianRidge is the best model but it is overfitted."
   ]
  },
  {
   "cell_type": "markdown",
   "metadata": {},
   "source": [
    "# Hyperparameter Tuning"
   ]
  },
  {
   "cell_type": "code",
   "execution_count": 808,
   "metadata": {},
   "outputs": [
    {
     "name": "stdout",
     "output_type": "stream",
     "text": [
      "r2 score is  1.0\n",
      "best score is  0.6055386654958829\n",
      "best estimator is  BayesianRidge(alpha_1=10, fit_intercept=1.99)\n",
      "best param is  {'alpha_1': 10, 'fit_intercept': 1.99}\n"
     ]
    }
   ],
   "source": [
    "#Grid Search CV for Random forest regressor\n",
    "from sklearn.model_selection import GridSearchCV\n",
    "\n",
    "x_train,x_test,y_train,y_test=train_test_split(ScaledX,Y_rec,test_size=0.33,random_state=1)\n",
    "parameters ={\n",
    "    'alpha_1': [1, 10],\n",
    "    'fit_intercept':(0,1.99)\n",
    "}\n",
    "            \n",
    "GCV=GridSearchCV(BayesianRidge(), parameters,cv=3,n_jobs=-1)\n",
    "GCV.fit(x_train,y_train.values.ravel())\n",
    "GCV_pred=GCV.predict(x_test)\n",
    "print(\"r2 score is \",r2_score(y_test,GCV_pred))\n",
    "print(\"best score is \",GCV.best_score_)\n",
    "print(\"best estimator is \",GCV.best_estimator_)\n",
    "print(\"best param is \",GCV.best_params_)"
   ]
  },
  {
   "cell_type": "code",
   "execution_count": 809,
   "metadata": {},
   "outputs": [
    {
     "name": "stdout",
     "output_type": "stream",
     "text": [
      "r2 score is  1.0\n",
      "mean squared error is  9.149909500345828e-20\n",
      "mean absolute error is  2.2706253251894132e-10\n"
     ]
    }
   ],
   "source": [
    "#Best parameter for Random forest regressor\n",
    "BR=BayesianRidge(alpha_1=10)\n",
    "BR.fit(x_train,y_train.values.ravel())\n",
    "BR_pred=BR.predict(x_test)\n",
    "print(\"r2 score is \",r2_score(y_test,BR_pred))\n",
    "print(\"mean squared error is \",mean_squared_error(y_test,BR_pred))\n",
    "print(\"mean absolute error is \",mean_absolute_error(y_test,BR_pred))"
   ]
  },
  {
   "cell_type": "code",
   "execution_count": 810,
   "metadata": {},
   "outputs": [
    {
     "name": "stdout",
     "output_type": "stream",
     "text": [
      "The CV score is 1.0\n"
     ]
    }
   ],
   "source": [
    "#Final CV score and accuracy score\n",
    "lssscore_selected=cross_val_score(BR,ScaledX,Y_rec,cv=5).mean()\n",
    "print(\"The CV score is\",lssscore_selected)"
   ]
  },
  {
   "cell_type": "code",
   "execution_count": 811,
   "metadata": {},
   "outputs": [
    {
     "data": {
      "text/plain": [
       "<matplotlib.collections.PathCollection at 0x2c58942d9a0>"
      ]
     },
     "execution_count": 811,
     "metadata": {},
     "output_type": "execute_result"
    },
    {
     "data": {
      "image/png": "[encoded data removed]",
      "text/plain": [
       "<Figure size 432x288 with 1 Axes>"
      ]
     },
     "metadata": {
      "needs_background": "light"
     },
     "output_type": "display_data"
    }
   ],
   "source": [
    "#Scatter Plot\n",
    "plt.scatter(x=y_test,y=BR_pred)"
   ]
  },
  {
   "cell_type": "markdown",
   "metadata": {},
   "source": [
    "# Model for Death"
   ]
  },
  {
   "cell_type": "code",
   "execution_count": 812,
   "metadata": {},
   "outputs": [],
   "source": [
    "#Input and target varialbel\n",
    "X_death=new_df.drop(['Deaths'],axis=1)\n",
    "Y_death=new_df[['Deaths']]"
   ]
  },
  {
   "cell_type": "code",
   "execution_count": 813,
   "metadata": {},
   "outputs": [
    {
     "name": "stdout",
     "output_type": "stream",
     "text": [
      "(56, 11)\n",
      "(56, 1)\n"
     ]
    }
   ],
   "source": [
    "print(X_death.shape)\n",
    "print(Y_death.shape)"
   ]
  },
  {
   "cell_type": "markdown",
   "metadata": {},
   "source": [
    "### Scaling"
   ]
  },
  {
   "cell_type": "code",
   "execution_count": 814,
   "metadata": {},
   "outputs": [],
   "source": [
    "#scaling data using standard scaler\n",
    "from sklearn.preprocessing import StandardScaler\n",
    "sc=StandardScaler()\n",
    "ScaledX_death=sc.fit_transform(X_death)"
   ]
  },
  {
   "cell_type": "code",
   "execution_count": 815,
   "metadata": {},
   "outputs": [
    {
     "name": "stdout",
     "output_type": "stream",
     "text": [
      "best accuracy : 100.0 found on the random state 1, best model is LinearRegression()\n",
      "-----best accuracy : 100.0 found on the random state 1, best model is BayesianRidge()----\n"
     ]
    }
   ],
   "source": [
    "#Finding best model\n",
    "best_rstate_death=0\n",
    "accu_death=0\n",
    "best_model_death=[]\n",
    "mod_death=[LinearRegression(),DecisionTreeRegressor(),KNeighborsRegressor(),RandomForestRegressor(),GradientBoostingRegressor(),SVR(), BayesianRidge()]\n",
    "for i in range(1,200):\n",
    "    x_train_death,x_test_death,y_train_death,y_test_death=train_test_split(ScaledX_death,Y_death,test_size=0.33,random_state=i)\n",
    "    for mo in mod_death:\n",
    "        mo.fit(x_train_death,y_train_death.values.ravel())\n",
    "        y_pred_death=mo.predict(x_test_death)\n",
    "        tempaccu_death=r2_score(y_test_death,y_pred_death)\n",
    "        if tempaccu_death>accu_death:\n",
    "            accu_death=tempaccu_death\n",
    "            best_rstate_death=i\n",
    "            best_model_death=mo\n",
    "            print(f\"best accuracy : {accu*100} found on the random state {best_rstate}, best model is {mo}\")\n",
    "            \n",
    "print(f\"-----best accuracy : {accu*100} found on the random state {best_rstate}, best model is {mo}----\")"
   ]
  },
  {
   "cell_type": "markdown",
   "metadata": {},
   "source": [
    "Observation :"
   ]
  },
  {
   "cell_type": "markdown",
   "metadata": {},
   "source": [
    "BayesianRidge is the best model but it is overfitted."
   ]
  },
  {
   "cell_type": "code",
   "execution_count": 816,
   "metadata": {},
   "outputs": [
    {
     "name": "stdout",
     "output_type": "stream",
     "text": [
      "r2 score is  0.9573862222460227\n",
      "best score is  0.126094673108022\n",
      "best estimator is  BayesianRidge(alpha_1=10, fit_intercept=1.99)\n",
      "best param is  {'alpha_1': 10, 'fit_intercept': 1.99}\n"
     ]
    }
   ],
   "source": [
    "#Grid Search CV for Random forest regressor\n",
    "from sklearn.model_selection import GridSearchCV\n",
    "\n",
    "x_train_death,x_test_death,y_train_death,y_test_death=train_test_split(ScaledX_death,Y_death,test_size=0.33,random_state=1)\n",
    "parameters_death ={\n",
    "    'alpha_1': [1, 10],\n",
    "    'fit_intercept':(0,1.99)\n",
    "}\n",
    "            \n",
    "GCV_death=GridSearchCV(BayesianRidge(), parameters_death,cv=3,n_jobs=-1)\n",
    "GCV_death.fit(x_train_death,y_train_death.values.ravel())\n",
    "GCV_pred_death=GCV_death.predict(x_test_death)\n",
    "print(\"r2 score is \",r2_score(y_test_death,GCV_pred_death))\n",
    "print(\"best score is \",GCV_death.best_score_)\n",
    "print(\"best estimator is \",GCV_death.best_estimator_)\n",
    "print(\"best param is \",GCV_death.best_params_)"
   ]
  },
  {
   "cell_type": "code",
   "execution_count": 819,
   "metadata": {},
   "outputs": [
    {
     "name": "stdout",
     "output_type": "stream",
     "text": [
      "r2 score is  0.9573862222460227\n"
     ]
    }
   ],
   "source": [
    "#Best parameter for Random forest regressor\n",
    "BR_death=BayesianRidge(alpha_1=10, fit_intercept=1.99)\n",
    "BR_death.fit(x_train_death,y_train_death.values.ravel())\n",
    "BR_pred_death=BR_death.predict(x_test_death)\n",
    "print(\"r2 score is \",r2_score(y_test_death,BR_pred_death))"
   ]
  },
  {
   "cell_type": "code",
   "execution_count": 838,
   "metadata": {},
   "outputs": [
    {
     "name": "stdout",
     "output_type": "stream",
     "text": [
      "The CV score is 0.8357540309465301\n"
     ]
    }
   ],
   "source": [
    "#Final CV score and accuracy score\n",
    "lssscore_selected_death=cross_val_score(BR_death,ScaledX_death,Y_death,cv=2).mean()\n",
    "print(\"The CV score is\",lssscore_selected_death)"
   ]
  },
  {
   "cell_type": "code",
   "execution_count": 839,
   "metadata": {},
   "outputs": [
    {
     "data": {
      "text/plain": [
       "<matplotlib.collections.PathCollection at 0x2c589e19f70>"
      ]
     },
     "execution_count": 839,
     "metadata": {},
     "output_type": "execute_result"
    },
    {
     "data": {
      "image/png": "[encoded data removed]",
      "text/plain": [
       "<Figure size 432x288 with 1 Axes>"
      ]
     },
     "metadata": {
      "needs_background": "light"
     },
     "output_type": "display_data"
    }
   ],
   "source": [
    "#Scatter Plot\n",
    "plt.scatter(x=y_test_death,y=BR_pred_death)"
   ]
  },
  {
   "cell_type": "markdown",
   "metadata": {},
   "source": [
    "# Saving Model"
   ]
  },
  {
   "cell_type": "code",
   "execution_count": 840,
   "metadata": {},
   "outputs": [],
   "source": [
    "#save the model \n",
    "import pickle\n",
    "\n",
    "#Regression Model\n",
    "filename='Covid Recovered.pkl'\n",
    "pickle.dump(BR,open(filename,'wb'))\n",
    "\n",
    "#Classification Model\n",
    "filename='Covid Death.pkl'\n",
    "pickle.dump(BR_death,open(filename,'wb'))"
   ]
  },
  {
   "cell_type": "markdown",
   "metadata": {},
   "source": [
    "# Conclusion"
   ]
  },
  {
   "cell_type": "markdown",
   "metadata": {},
   "source": [
    "We did exploratory data analysis by removing columns, calculating missing recovered data and label encoding."
   ]
  },
  {
   "cell_type": "markdown",
   "metadata": {},
   "source": [
    "Visualized data by univariate and bivariate analysis."
   ]
  },
  {
   "cell_type": "markdown",
   "metadata": {},
   "source": [
    "Checked correlation and visualized using heatmap."
   ]
  },
  {
   "cell_type": "markdown",
   "metadata": {},
   "source": [
    "Scaled the data using standard scaler method."
   ]
  },
  {
   "cell_type": "markdown",
   "metadata": {},
   "source": [
    "BayesianRidge is the best model for both Recovered prediction and Death Prediction."
   ]
  },
  {
   "cell_type": "markdown",
   "metadata": {},
   "source": [
    "Performed Hyperparameter tuning for BayesianRidge."
   ]
  },
  {
   "cell_type": "markdown",
   "metadata": {},
   "source": [
    "Final score for Recovered prediction :"
   ]
  },
  {
   "cell_type": "markdown",
   "metadata": {},
   "source": [
    "              *  r2 score is  1.0"
   ]
  },
  {
   "cell_type": "markdown",
   "metadata": {},
   "source": [
    "              * The CV score is 1.0"
   ]
  },
  {
   "cell_type": "markdown",
   "metadata": {},
   "source": [
    "Final score for Death Prediction :"
   ]
  },
  {
   "cell_type": "markdown",
   "metadata": {},
   "source": [
    "                *  r2 score is  0.9573862222460227"
   ]
  },
  {
   "cell_type": "markdown",
   "metadata": {},
   "source": [
    "                *  The CV score is 0.8357540309465301"
   ]
  },
  {
   "cell_type": "markdown",
   "metadata": {},
   "source": [
    "Finally, Saved both the model."
   ]
  }
 ],
 "metadata": {
  "kernelspec": {
   "display_name": "Python 3",
   "language": "python",
   "name": "python3"
  },
  "language_info": {
   "codemirror_mode": {
    "name": "ipython",
    "version": 3
   },
   "file_extension": ".py",
   "mimetype": "text/x-python",
   "name": "python",
   "nbconvert_exporter": "python",
   "pygments_lexer": "ipython3",
   "version": "3.8.3"
  }
 },
 "nbformat": 4,
 "nbformat_minor": 4
}
